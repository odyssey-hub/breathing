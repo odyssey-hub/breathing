{
 "cells": [
  {
   "cell_type": "code",
   "execution_count": 1,
   "id": "b32bedf8",
   "metadata": {
    "pycharm": {
     "name": "#%%\n"
    }
   },
   "outputs": [],
   "source": [
    "import pandas as pd\n",
    "import numpy as np\n",
    "from sklearn.model_selection import train_test_split\n",
    "from sklearn.metrics import accuracy_score\n",
    "from sklearn.preprocessing import  LabelEncoder"
   ]
  },
  {
   "cell_type": "markdown",
   "source": [
    "<h3>Загрузка датасета</h3>"
   ],
   "metadata": {
    "collapsed": false,
    "pycharm": {
     "name": "#%% md\n"
    }
   }
  },
  {
   "cell_type": "code",
   "execution_count": 69,
   "id": "2b2a53b1",
   "metadata": {
    "pycharm": {
     "name": "#%%\n"
    }
   },
   "outputs": [
    {
     "data": {
      "text/plain": "   id  BreathingType  TimeStamp_sec  FirstMarkerXCoord  FirstMarkerYCoord  \\\n0   1              0       0.058895              0.689             -1.453   \n1   1              0       0.111889              0.687             -1.452   \n2   1              0       0.158371              0.687             -1.451   \n3   1              0       0.262516              0.685             -1.450   \n4   1              0       0.295620              0.684             -1.449   \n\n   FirstMarkerZCoord  SecondMarkerXCoord  SecondMarkerYCoord  \\\n0              4.417               0.881              -1.544   \n1              4.418               0.881              -1.544   \n2              4.419               0.881              -1.544   \n3              4.420               0.882              -1.544   \n4              4.420               0.883              -1.544   \n\n   SecondMarkerZCoord  ThirdMarkerXCoord  ThirdMarkerYCoord  ThirdMarkerZCoord  \n0               4.547              0.718             -1.607              4.369  \n1               4.547              0.715             -1.607              4.371  \n2               4.545              0.714             -1.607              4.371  \n3               4.541              0.711             -1.608              4.373  \n4               4.540              0.709             -1.607              4.370  ",
      "text/html": "<div>\n<style scoped>\n    .dataframe tbody tr th:only-of-type {\n        vertical-align: middle;\n    }\n\n    .dataframe tbody tr th {\n        vertical-align: top;\n    }\n\n    .dataframe thead th {\n        text-align: right;\n    }\n</style>\n<table border=\"1\" class=\"dataframe\">\n  <thead>\n    <tr style=\"text-align: right;\">\n      <th></th>\n      <th>id</th>\n      <th>BreathingType</th>\n      <th>TimeStamp_sec</th>\n      <th>FirstMarkerXCoord</th>\n      <th>FirstMarkerYCoord</th>\n      <th>FirstMarkerZCoord</th>\n      <th>SecondMarkerXCoord</th>\n      <th>SecondMarkerYCoord</th>\n      <th>SecondMarkerZCoord</th>\n      <th>ThirdMarkerXCoord</th>\n      <th>ThirdMarkerYCoord</th>\n      <th>ThirdMarkerZCoord</th>\n    </tr>\n  </thead>\n  <tbody>\n    <tr>\n      <th>0</th>\n      <td>1</td>\n      <td>0</td>\n      <td>0.058895</td>\n      <td>0.689</td>\n      <td>-1.453</td>\n      <td>4.417</td>\n      <td>0.881</td>\n      <td>-1.544</td>\n      <td>4.547</td>\n      <td>0.718</td>\n      <td>-1.607</td>\n      <td>4.369</td>\n    </tr>\n    <tr>\n      <th>1</th>\n      <td>1</td>\n      <td>0</td>\n      <td>0.111889</td>\n      <td>0.687</td>\n      <td>-1.452</td>\n      <td>4.418</td>\n      <td>0.881</td>\n      <td>-1.544</td>\n      <td>4.547</td>\n      <td>0.715</td>\n      <td>-1.607</td>\n      <td>4.371</td>\n    </tr>\n    <tr>\n      <th>2</th>\n      <td>1</td>\n      <td>0</td>\n      <td>0.158371</td>\n      <td>0.687</td>\n      <td>-1.451</td>\n      <td>4.419</td>\n      <td>0.881</td>\n      <td>-1.544</td>\n      <td>4.545</td>\n      <td>0.714</td>\n      <td>-1.607</td>\n      <td>4.371</td>\n    </tr>\n    <tr>\n      <th>3</th>\n      <td>1</td>\n      <td>0</td>\n      <td>0.262516</td>\n      <td>0.685</td>\n      <td>-1.450</td>\n      <td>4.420</td>\n      <td>0.882</td>\n      <td>-1.544</td>\n      <td>4.541</td>\n      <td>0.711</td>\n      <td>-1.608</td>\n      <td>4.373</td>\n    </tr>\n    <tr>\n      <th>4</th>\n      <td>1</td>\n      <td>0</td>\n      <td>0.295620</td>\n      <td>0.684</td>\n      <td>-1.449</td>\n      <td>4.420</td>\n      <td>0.883</td>\n      <td>-1.544</td>\n      <td>4.540</td>\n      <td>0.709</td>\n      <td>-1.607</td>\n      <td>4.370</td>\n    </tr>\n  </tbody>\n</table>\n</div>"
     },
     "execution_count": 69,
     "metadata": {},
     "output_type": "execute_result"
    }
   ],
   "source": [
    "#загрузка датасета\n",
    "df = pd.read_csv('coords_data_numerated.csv')\n",
    "df = df.drop(columns=['Unnamed: 0', 'GSR'])\n",
    "df.head()"
   ]
  },
  {
   "cell_type": "code",
   "execution_count": 70,
   "id": "e0377807",
   "metadata": {
    "pycharm": {
     "name": "#%%\n"
    }
   },
   "outputs": [
    {
     "data": {
      "text/plain": "         id  FirstMarkerXCoord  FirstMarkerYCoord  FirstMarkerZCoord  \\\n230921  258              1.063             -1.649              3.843   \n230922  258              1.062             -1.648              3.842   \n230923  258              1.062             -1.648              3.842   \n230924  258              1.063             -1.647              3.842   \n230925  258              1.063             -1.647              3.842   \n\n        SecondMarkerXCoord  SecondMarkerYCoord  SecondMarkerZCoord  \\\n230921               1.093              -1.839               3.624   \n230922               1.094              -1.841               3.625   \n230923               1.093              -1.841               3.624   \n230924               1.094              -1.841               3.624   \n230925               1.094              -1.841               3.623   \n\n        ThirdMarkerXCoord  ThirdMarkerYCoord  ThirdMarkerZCoord  \n230921              1.030             -1.867              3.859  \n230922              1.030             -1.867              3.857  \n230923              1.030             -1.868              3.855  \n230924              1.029             -1.868              3.853  \n230925              1.030             -1.868              3.853  ",
      "text/html": "<div>\n<style scoped>\n    .dataframe tbody tr th:only-of-type {\n        vertical-align: middle;\n    }\n\n    .dataframe tbody tr th {\n        vertical-align: top;\n    }\n\n    .dataframe thead th {\n        text-align: right;\n    }\n</style>\n<table border=\"1\" class=\"dataframe\">\n  <thead>\n    <tr style=\"text-align: right;\">\n      <th></th>\n      <th>id</th>\n      <th>FirstMarkerXCoord</th>\n      <th>FirstMarkerYCoord</th>\n      <th>FirstMarkerZCoord</th>\n      <th>SecondMarkerXCoord</th>\n      <th>SecondMarkerYCoord</th>\n      <th>SecondMarkerZCoord</th>\n      <th>ThirdMarkerXCoord</th>\n      <th>ThirdMarkerYCoord</th>\n      <th>ThirdMarkerZCoord</th>\n    </tr>\n  </thead>\n  <tbody>\n    <tr>\n      <th>230921</th>\n      <td>258</td>\n      <td>1.063</td>\n      <td>-1.649</td>\n      <td>3.843</td>\n      <td>1.093</td>\n      <td>-1.839</td>\n      <td>3.624</td>\n      <td>1.030</td>\n      <td>-1.867</td>\n      <td>3.859</td>\n    </tr>\n    <tr>\n      <th>230922</th>\n      <td>258</td>\n      <td>1.062</td>\n      <td>-1.648</td>\n      <td>3.842</td>\n      <td>1.094</td>\n      <td>-1.841</td>\n      <td>3.625</td>\n      <td>1.030</td>\n      <td>-1.867</td>\n      <td>3.857</td>\n    </tr>\n    <tr>\n      <th>230923</th>\n      <td>258</td>\n      <td>1.062</td>\n      <td>-1.648</td>\n      <td>3.842</td>\n      <td>1.093</td>\n      <td>-1.841</td>\n      <td>3.624</td>\n      <td>1.030</td>\n      <td>-1.868</td>\n      <td>3.855</td>\n    </tr>\n    <tr>\n      <th>230924</th>\n      <td>258</td>\n      <td>1.063</td>\n      <td>-1.647</td>\n      <td>3.842</td>\n      <td>1.094</td>\n      <td>-1.841</td>\n      <td>3.624</td>\n      <td>1.029</td>\n      <td>-1.868</td>\n      <td>3.853</td>\n    </tr>\n    <tr>\n      <th>230925</th>\n      <td>258</td>\n      <td>1.063</td>\n      <td>-1.647</td>\n      <td>3.842</td>\n      <td>1.094</td>\n      <td>-1.841</td>\n      <td>3.623</td>\n      <td>1.030</td>\n      <td>-1.868</td>\n      <td>3.853</td>\n    </tr>\n  </tbody>\n</table>\n</div>"
     },
     "execution_count": 70,
     "metadata": {},
     "output_type": "execute_result"
    }
   ],
   "source": [
    "y = df['BreathingType']\n",
    "X = df.drop(columns=['BreathingType','TimeStamp_sec'])\n",
    "X.tail()"
   ]
  },
  {
   "cell_type": "code",
   "execution_count": 71,
   "id": "bb7a98bb",
   "metadata": {
    "pycharm": {
     "name": "#%%\n"
    }
   },
   "outputs": [
    {
     "data": {
      "text/plain": "   id    FMX    FMY    FMZ    SMX    SMY    SMZ    TMX    TMY    TMZ\n0   1  0.689 -1.453  4.417  0.881 -1.544  4.547  0.718 -1.607  4.369\n1   1  0.687 -1.452  4.418  0.881 -1.544  4.547  0.715 -1.607  4.371\n2   1  0.687 -1.451  4.419  0.881 -1.544  4.545  0.714 -1.607  4.371\n3   1  0.685 -1.450  4.420  0.882 -1.544  4.541  0.711 -1.608  4.373\n4   1  0.684 -1.449  4.420  0.883 -1.544  4.540  0.709 -1.607  4.370",
      "text/html": "<div>\n<style scoped>\n    .dataframe tbody tr th:only-of-type {\n        vertical-align: middle;\n    }\n\n    .dataframe tbody tr th {\n        vertical-align: top;\n    }\n\n    .dataframe thead th {\n        text-align: right;\n    }\n</style>\n<table border=\"1\" class=\"dataframe\">\n  <thead>\n    <tr style=\"text-align: right;\">\n      <th></th>\n      <th>id</th>\n      <th>FMX</th>\n      <th>FMY</th>\n      <th>FMZ</th>\n      <th>SMX</th>\n      <th>SMY</th>\n      <th>SMZ</th>\n      <th>TMX</th>\n      <th>TMY</th>\n      <th>TMZ</th>\n    </tr>\n  </thead>\n  <tbody>\n    <tr>\n      <th>0</th>\n      <td>1</td>\n      <td>0.689</td>\n      <td>-1.453</td>\n      <td>4.417</td>\n      <td>0.881</td>\n      <td>-1.544</td>\n      <td>4.547</td>\n      <td>0.718</td>\n      <td>-1.607</td>\n      <td>4.369</td>\n    </tr>\n    <tr>\n      <th>1</th>\n      <td>1</td>\n      <td>0.687</td>\n      <td>-1.452</td>\n      <td>4.418</td>\n      <td>0.881</td>\n      <td>-1.544</td>\n      <td>4.547</td>\n      <td>0.715</td>\n      <td>-1.607</td>\n      <td>4.371</td>\n    </tr>\n    <tr>\n      <th>2</th>\n      <td>1</td>\n      <td>0.687</td>\n      <td>-1.451</td>\n      <td>4.419</td>\n      <td>0.881</td>\n      <td>-1.544</td>\n      <td>4.545</td>\n      <td>0.714</td>\n      <td>-1.607</td>\n      <td>4.371</td>\n    </tr>\n    <tr>\n      <th>3</th>\n      <td>1</td>\n      <td>0.685</td>\n      <td>-1.450</td>\n      <td>4.420</td>\n      <td>0.882</td>\n      <td>-1.544</td>\n      <td>4.541</td>\n      <td>0.711</td>\n      <td>-1.608</td>\n      <td>4.373</td>\n    </tr>\n    <tr>\n      <th>4</th>\n      <td>1</td>\n      <td>0.684</td>\n      <td>-1.449</td>\n      <td>4.420</td>\n      <td>0.883</td>\n      <td>-1.544</td>\n      <td>4.540</td>\n      <td>0.709</td>\n      <td>-1.607</td>\n      <td>4.370</td>\n    </tr>\n  </tbody>\n</table>\n</div>"
     },
     "execution_count": 71,
     "metadata": {},
     "output_type": "execute_result"
    }
   ],
   "source": [
    "#переименование столбцов\n",
    "dict_renames = {\n",
    "    'FirstMarkerXCoord' : 'FMX',\n",
    "    'FirstMarkerYCoord' : 'FMY',\n",
    "    'FirstMarkerZCoord' : 'FMZ',\n",
    "    'SecondMarkerXCoord' :  'SMX',\n",
    "    'SecondMarkerYCoord' : 'SMY',\n",
    "    'SecondMarkerZCoord' : 'SMZ',\n",
    "    'ThirdMarkerXCoord' : 'TMX',\n",
    "    'ThirdMarkerYCoord' : 'TMY',\n",
    "    'ThirdMarkerZCoord' : 'TMZ'\n",
    "}\n",
    "X = X.rename(columns=dict_renames)\n",
    "X.head()"
   ]
  },
  {
   "cell_type": "markdown",
   "source": [
    "<h3>Предобработка датасета</h3>"
   ],
   "metadata": {
    "collapsed": false,
    "pycharm": {
     "name": "#%% md\n"
    }
   }
  },
  {
   "cell_type": "code",
   "execution_count": 72,
   "id": "4d9b11fa",
   "metadata": {
    "pycharm": {
     "name": "#%%\n"
    }
   },
   "outputs": [
    {
     "data": {
      "text/plain": "   id    FMX    FMY    FMZ    SMX    SMY    SMZ    TMX    TMY    TMZ\n0   1  0.689 -1.453  4.417  0.881 -1.544  4.547  0.718 -1.607  4.369\n1   1  0.687 -1.452  4.418  0.881 -1.544  4.547  0.715 -1.607  4.371\n2   1  0.687 -1.451  4.419  0.881 -1.544  4.545  0.714 -1.607  4.371\n3   1  0.685 -1.450  4.420  0.882 -1.544  4.541  0.711 -1.608  4.373\n4   1  0.684 -1.449  4.420  0.883 -1.544  4.540  0.709 -1.607  4.370",
      "text/html": "<div>\n<style scoped>\n    .dataframe tbody tr th:only-of-type {\n        vertical-align: middle;\n    }\n\n    .dataframe tbody tr th {\n        vertical-align: top;\n    }\n\n    .dataframe thead th {\n        text-align: right;\n    }\n</style>\n<table border=\"1\" class=\"dataframe\">\n  <thead>\n    <tr style=\"text-align: right;\">\n      <th></th>\n      <th>id</th>\n      <th>FMX</th>\n      <th>FMY</th>\n      <th>FMZ</th>\n      <th>SMX</th>\n      <th>SMY</th>\n      <th>SMZ</th>\n      <th>TMX</th>\n      <th>TMY</th>\n      <th>TMZ</th>\n    </tr>\n  </thead>\n  <tbody>\n    <tr>\n      <th>0</th>\n      <td>1</td>\n      <td>0.689</td>\n      <td>-1.453</td>\n      <td>4.417</td>\n      <td>0.881</td>\n      <td>-1.544</td>\n      <td>4.547</td>\n      <td>0.718</td>\n      <td>-1.607</td>\n      <td>4.369</td>\n    </tr>\n    <tr>\n      <th>1</th>\n      <td>1</td>\n      <td>0.687</td>\n      <td>-1.452</td>\n      <td>4.418</td>\n      <td>0.881</td>\n      <td>-1.544</td>\n      <td>4.547</td>\n      <td>0.715</td>\n      <td>-1.607</td>\n      <td>4.371</td>\n    </tr>\n    <tr>\n      <th>2</th>\n      <td>1</td>\n      <td>0.687</td>\n      <td>-1.451</td>\n      <td>4.419</td>\n      <td>0.881</td>\n      <td>-1.544</td>\n      <td>4.545</td>\n      <td>0.714</td>\n      <td>-1.607</td>\n      <td>4.371</td>\n    </tr>\n    <tr>\n      <th>3</th>\n      <td>1</td>\n      <td>0.685</td>\n      <td>-1.450</td>\n      <td>4.420</td>\n      <td>0.882</td>\n      <td>-1.544</td>\n      <td>4.541</td>\n      <td>0.711</td>\n      <td>-1.608</td>\n      <td>4.373</td>\n    </tr>\n    <tr>\n      <th>4</th>\n      <td>1</td>\n      <td>0.684</td>\n      <td>-1.449</td>\n      <td>4.420</td>\n      <td>0.883</td>\n      <td>-1.544</td>\n      <td>4.540</td>\n      <td>0.709</td>\n      <td>-1.607</td>\n      <td>4.370</td>\n    </tr>\n  </tbody>\n</table>\n</div>"
     },
     "execution_count": 72,
     "metadata": {},
     "output_type": "execute_result"
    }
   ],
   "source": [
    "#удаление лишних временных рядов\n",
    "X = X[X['id'] != 27]\n",
    "X = X[X['id'] != 24]\n",
    "X = X.reset_index(drop=True)\n",
    "X.head()"
   ]
  },
  {
   "cell_type": "code",
   "execution_count": 73,
   "id": "09e69142",
   "metadata": {
    "pycharm": {
     "name": "#%%\n"
    }
   },
   "outputs": [],
   "source": [
    "#приведение к одинаковому количеству точек для временных рядов\n",
    "numeric_cols = X.drop(columns=['id'])\n",
    "X2 = X.iloc[0:0]\n",
    "for i in range(1, 259):\n",
    "    if i in [24, 27]:\n",
    "        continue\n",
    "    X_id = X[X['id'] == i].reset_index(drop=True)\n",
    "    for col in numeric_cols:\n",
    "        X_id = X_id[:900]\n",
    "        X_id = X_id.reset_index(drop=True)\n",
    "    X2 = pd.concat([X2, X_id], axis=0, ignore_index=True)"
   ]
  },
  {
   "cell_type": "code",
   "execution_count": 74,
   "id": "4f3ee30f",
   "metadata": {
    "pycharm": {
     "name": "#%%\n"
    }
   },
   "outputs": [],
   "source": [
    "X = X2"
   ]
  },
  {
   "cell_type": "markdown",
   "source": [
    "<h3>Вычисление новых признаков</h3>"
   ],
   "metadata": {
    "collapsed": false,
    "pycharm": {
     "name": "#%% md\n"
    }
   }
  },
  {
   "cell_type": "code",
   "execution_count": 75,
   "id": "f16e7899",
   "metadata": {
    "pycharm": {
     "name": "#%%\n"
    }
   },
   "outputs": [],
   "source": [
    "#расчет новых преобразований\n",
    "X2 = X.iloc[0:0]\n",
    "for i in range(1, 259):\n",
    "    if i in [24, 27]:\n",
    "        continue\n",
    "    X_id = X[X['id'] == i].reset_index(drop=True)\n",
    "    for col in numeric_cols:\n",
    "        X_id[col+'_roll10_mean'] = X_id[col].rolling(10).mean()\n",
    "        X_id[col+'_roll10_median'] = X_id[col].rolling(10).median()\n",
    "        X_id[col+'_change10'] = X_id[col].diff(periods=10)\n",
    "        X_id[col+'_pct10'] = X_id[col].pct_change(periods=10)\n",
    "        X_id[col+'_furier'] = np.abs(np.fft.fft(X_id[col]))\n",
    "\n",
    "        X_id = X_id[10:]\n",
    "        X_id = X_id.reset_index(drop=True)\n",
    "    X2 =  pd.concat([X2, X_id], axis=0, ignore_index=True)"
   ]
  },
  {
   "cell_type": "code",
   "execution_count": 76,
   "id": "d81b071e",
   "metadata": {
    "pycharm": {
     "name": "#%%\n"
    }
   },
   "outputs": [],
   "source": [
    "X = X2"
   ]
  },
  {
   "cell_type": "code",
   "execution_count": 62,
   "outputs": [],
   "source": [
    "# dimensions = ['X', 'Y', 'Z']\n",
    "# markers = ['F', 'S', 'T']\n",
    "# for dimension in dimensions:\n",
    "#     markers_dimension = ['FM'+dimension, 'SM'+dimension, 'TM'+dimension]\n",
    "#     X['Mean_'+dimension] = X[markers_dimension].mean(axis=1)\n",
    "#     X['Median_'+dimension] = X[markers_dimension].median(axis=1)\n",
    "#     X['Std_'+dimension] = X[markers_dimension].std(axis=1)\n",
    "# for marker in markers:\n",
    "#     markers_dimension = [marker+'MX', marker+'MY', marker+'MZ']\n",
    "#     X['Mean_'+ marker] = X[markers_dimension].mean(axis=1)\n",
    "#     X['Median_'+ marker] = X[markers_dimension].median(axis=1)\n",
    "#     X['Std_'+marker] = X[markers_dimension].std(axis=1)"
   ],
   "metadata": {
    "collapsed": false,
    "pycharm": {
     "name": "#%%\n"
    }
   }
  },
  {
   "cell_type": "markdown",
   "source": [
    "<h3>Подготовка данных для библиотеки Sktime</h3>"
   ],
   "metadata": {
    "collapsed": false,
    "pycharm": {
     "name": "#%% md\n"
    }
   }
  },
  {
   "cell_type": "code",
   "execution_count": 77,
   "id": "955a9d09",
   "metadata": {
    "pycharm": {
     "name": "#%%\n"
    }
   },
   "outputs": [],
   "source": [
    "#преобразование датасета для библиотеки sktime\n",
    "numeric_cols = X.drop(columns='id').columns\n",
    "X_3d = []\n",
    "for id in range(1, 259):\n",
    "    if id in [24, 27]:\n",
    "        continue\n",
    "    X_id = X[X['id'] == id]\n",
    "    instance_features = []\n",
    "    for col in numeric_cols:\n",
    "        lst = X_id[col].to_list()\n",
    "        instance_features.append(lst)\n",
    "    X_3d.append(instance_features)\n",
    "X_3d = np.array(X_3d)"
   ]
  },
  {
   "cell_type": "code",
   "execution_count": 78,
   "id": "f61b6144",
   "metadata": {
    "pycharm": {
     "name": "#%%\n"
    }
   },
   "outputs": [],
   "source": [
    "#преобразование датасета для библиотеки sktime\n",
    "y_3d = []\n",
    "for id in range(1, 259):\n",
    "    if id in [24, 27]:\n",
    "        continue\n",
    "    df_id = df[df['id'] == id]\n",
    "    y_3d.append(df_id['BreathingType'].iloc[0])\n",
    "y_3d = np.array(y_3d)"
   ]
  },
  {
   "cell_type": "code",
   "execution_count": 79,
   "outputs": [],
   "source": [
    "from sklearn.metrics import recall_score, accuracy_score\n",
    "from sklearn.metrics import f1_score\n",
    "from sklearn.metrics import precision_score\n",
    "from sklearn.metrics import classification_report\n",
    "#расчет метрик по тесовой выборке\n",
    "def calculate_metrics(y_test, y_pred):\n",
    "    accuracy = accuracy_score(y_test, y_pred)\n",
    "    recall = recall_score(y_test, y_pred, average='weighted')\n",
    "    precision = precision_score(y_test, y_pred, average='weighted')\n",
    "    f1 = f1_score(y_test, y_pred, average='weighted')\n",
    "    print(\"Accuracy: \", accuracy)\n",
    "    print(\"Recall: \", recall)\n",
    "    print(\"Precision: \", precision)\n",
    "    print(\"F1-score: \", f1)\n",
    "    report = classification_report(y_test, y_pred)\n",
    "    print(report)"
   ],
   "metadata": {
    "collapsed": false,
    "pycharm": {
     "name": "#%%\n"
    }
   }
  },
  {
   "cell_type": "code",
   "execution_count": 80,
   "id": "fa2498ba",
   "metadata": {
    "pycharm": {
     "name": "#%%\n"
    }
   },
   "outputs": [],
   "source": [
    "#разделение на обучающую(80%) и тестовую (20%) выборки\n",
    "X_train, X_test, y_train, y_test = train_test_split(X_3d, y_3d, test_size=0.3, random_state=42)"
   ]
  },
  {
   "cell_type": "markdown",
   "source": [
    "<h3>Тестирование моделей классификации временных рядов</h3>"
   ],
   "metadata": {
    "collapsed": false,
    "pycharm": {
     "name": "#%% md\n"
    }
   }
  },
  {
   "cell_type": "markdown",
   "source": [
    "<h4>Rocket Classifier</h4>"
   ],
   "metadata": {
    "collapsed": false,
    "pycharm": {
     "name": "#%% md\n"
    }
   }
  },
  {
   "cell_type": "code",
   "execution_count": 81,
   "id": "32027dbf",
   "metadata": {
    "pycharm": {
     "name": "#%%\n"
    }
   },
   "outputs": [],
   "source": [
    "from sktime.classification.kernel_based import RocketClassifier\n",
    "\n",
    "rocket = RocketClassifier(num_kernels=2000)"
   ]
  },
  {
   "cell_type": "code",
   "execution_count": 82,
   "outputs": [],
   "source": [
    "details = rocket.fit(X_train, y_train)"
   ],
   "metadata": {
    "collapsed": false,
    "pycharm": {
     "name": "#%%\n"
    }
   }
  },
  {
   "cell_type": "code",
   "execution_count": 83,
   "outputs": [
    {
     "name": "stdout",
     "output_type": "stream",
     "text": [
      "Accuracy:  0.5584415584415584\n",
      "Recall:  0.5584415584415584\n",
      "Precision:  0.5431719795356159\n",
      "F1-score:  0.5398292456154502\n",
      "              precision    recall  f1-score   support\n",
      "\n",
      "           0       0.60      0.80      0.69        30\n",
      "           1       0.55      0.50      0.52        24\n",
      "           2       0.47      0.30      0.37        23\n",
      "\n",
      "    accuracy                           0.56        77\n",
      "   macro avg       0.54      0.53      0.53        77\n",
      "weighted avg       0.54      0.56      0.54        77\n",
      "\n"
     ]
    }
   ],
   "source": [
    "y_pred = rocket.predict(X_test)\n",
    "calculate_metrics(y_test, y_pred)"
   ],
   "metadata": {
    "collapsed": false,
    "pycharm": {
     "name": "#%%\n"
    }
   }
  },
  {
   "cell_type": "markdown",
   "source": [
    "<h3>HIVE COTE (Hierarchical Vote Collective of Transformation-based Ensembles)</h3>"
   ],
   "metadata": {
    "collapsed": false,
    "pycharm": {
     "name": "#%% md\n"
    }
   }
  },
  {
   "cell_type": "code",
   "execution_count": 87,
   "id": "97c88666",
   "metadata": {
    "pycharm": {
     "name": "#%%\n"
    }
   },
   "outputs": [],
   "source": [
    "from sktime.classification.hybrid import HIVECOTEV2\n",
    "\n",
    "hc2 = HIVECOTEV2(time_limit_in_minutes=0.2)"
   ]
  },
  {
   "cell_type": "code",
   "execution_count": 88,
   "outputs": [],
   "source": [
    "details = hc2.fit(X_train, y_train)"
   ],
   "metadata": {
    "collapsed": false,
    "pycharm": {
     "name": "#%%\n"
    }
   }
  },
  {
   "cell_type": "code",
   "execution_count": 89,
   "id": "3e29032b",
   "metadata": {
    "pycharm": {
     "name": "#%%\n"
    }
   },
   "outputs": [
    {
     "name": "stdout",
     "output_type": "stream",
     "text": [
      "Accuracy:  0.5064935064935064\n",
      "Recall:  0.5064935064935064\n",
      "Precision:  0.5038506194266563\n",
      "F1-score:  0.5047936491258977\n",
      "              precision    recall  f1-score   support\n",
      "\n",
      "           0       0.58      0.60      0.59        30\n",
      "           1       0.48      0.50      0.49        24\n",
      "           2       0.43      0.39      0.41        23\n",
      "\n",
      "    accuracy                           0.51        77\n",
      "   macro avg       0.50      0.50      0.50        77\n",
      "weighted avg       0.50      0.51      0.50        77\n",
      "\n"
     ]
    }
   ],
   "source": [
    "y_pred = hc2.predict(X_test)\n",
    "calculate_metrics(y_test, y_pred)"
   ]
  },
  {
   "cell_type": "markdown",
   "source": [
    "<h3>Catch22 (Canonical Time-series Characteristics)</h3>"
   ],
   "metadata": {
    "collapsed": false,
    "pycharm": {
     "name": "#%% md\n"
    }
   }
  },
  {
   "cell_type": "code",
   "execution_count": 90,
   "id": "d881720b",
   "metadata": {
    "pycharm": {
     "name": "#%%\n"
    }
   },
   "outputs": [],
   "source": [
    "from sktime.classification.feature_based import Catch22Classifier\n",
    "\n",
    "\n",
    "model = Catch22Classifier()"
   ]
  },
  {
   "cell_type": "code",
   "execution_count": null,
   "outputs": [],
   "source": [
    "details = model.fit(X_train, y_train)"
   ],
   "metadata": {
    "collapsed": false,
    "pycharm": {
     "name": "#%%\n",
     "is_executing": true
    }
   }
  },
  {
   "cell_type": "code",
   "execution_count": 86,
   "outputs": [
    {
     "name": "stdout",
     "output_type": "stream",
     "text": [
      "Accuracy:  0.5974025974025974\n",
      "Recall:  0.5974025974025974\n",
      "Precision:  0.6005138237443138\n",
      "F1-score:  0.5942201275271831\n",
      "              precision    recall  f1-score   support\n",
      "\n",
      "           0       0.66      0.63      0.64        30\n",
      "           1       0.58      0.46      0.51        24\n",
      "           2       0.55      0.70      0.62        23\n",
      "\n",
      "    accuracy                           0.60        77\n",
      "   macro avg       0.60      0.60      0.59        77\n",
      "weighted avg       0.60      0.60      0.59        77\n",
      "\n"
     ]
    }
   ],
   "source": [
    "y_pred = model.predict(X_test)\n",
    "calculate_metrics(y_test, y_pred)"
   ],
   "metadata": {
    "collapsed": false,
    "pycharm": {
     "name": "#%%\n"
    }
   }
  },
  {
   "cell_type": "markdown",
   "source": [
    "<h3>DrCIF (Diverse Representation Canonical Interval Forest Classifier)</h3>"
   ],
   "metadata": {
    "collapsed": false,
    "pycharm": {
     "name": "#%% md\n"
    }
   }
  },
  {
   "cell_type": "code",
   "execution_count": 92,
   "outputs": [],
   "source": [
    "from sktime.classification.interval_based import DrCIF\n",
    "\n",
    "model = DrCIF(time_limit_in_minutes=0.2)"
   ],
   "metadata": {
    "collapsed": false,
    "pycharm": {
     "name": "#%%\n"
    }
   }
  },
  {
   "cell_type": "code",
   "execution_count": 93,
   "outputs": [],
   "source": [
    "details = model.fit(X_train, y_train)"
   ],
   "metadata": {
    "collapsed": false,
    "pycharm": {
     "name": "#%%\n"
    }
   }
  },
  {
   "cell_type": "code",
   "execution_count": 94,
   "outputs": [
    {
     "name": "stdout",
     "output_type": "stream",
     "text": [
      "Accuracy:  0.38961038961038963\n",
      "Recall:  0.38961038961038963\n",
      "Precision:  0.3977792393941462\n",
      "F1-score:  0.391522953475394\n",
      "              precision    recall  f1-score   support\n",
      "\n",
      "           0       0.54      0.47      0.50        30\n",
      "           1       0.26      0.25      0.26        24\n",
      "           2       0.36      0.43      0.39        23\n",
      "\n",
      "    accuracy                           0.39        77\n",
      "   macro avg       0.39      0.38      0.38        77\n",
      "weighted avg       0.40      0.39      0.39        77\n",
      "\n"
     ]
    }
   ],
   "source": [
    "y_pred = model.predict(X_test)\n",
    "calculate_metrics(y_test, y_pred)"
   ],
   "metadata": {
    "collapsed": false,
    "pycharm": {
     "name": "#%%\n"
    }
   }
  },
  {
   "cell_type": "markdown",
   "source": [
    "<h3>Shapelet Transform</h3>"
   ],
   "metadata": {
    "collapsed": false,
    "pycharm": {
     "name": "#%% md\n"
    }
   }
  },
  {
   "cell_type": "code",
   "execution_count": 95,
   "outputs": [],
   "source": [
    "from sktime.classification.shapelet_based import ShapeletTransformClassifier\n",
    "\n",
    "model = ShapeletTransformClassifier(time_limit_in_minutes=0.2)"
   ],
   "metadata": {
    "collapsed": false,
    "pycharm": {
     "name": "#%%\n"
    }
   }
  },
  {
   "cell_type": "code",
   "execution_count": 96,
   "outputs": [],
   "source": [
    "details = model.fit(X_train, y_train)"
   ],
   "metadata": {
    "collapsed": false,
    "pycharm": {
     "name": "#%%\n"
    }
   }
  },
  {
   "cell_type": "code",
   "execution_count": 97,
   "outputs": [
    {
     "name": "stdout",
     "output_type": "stream",
     "text": [
      "Accuracy:  0.42857142857142855\n",
      "Recall:  0.42857142857142855\n",
      "Precision:  0.4315808329601434\n",
      "F1-score:  0.42997300174747427\n",
      "              precision    recall  f1-score   support\n",
      "\n",
      "           0       0.55      0.53      0.54        30\n",
      "           1       0.32      0.33      0.33        24\n",
      "           2       0.39      0.39      0.39        23\n",
      "\n",
      "    accuracy                           0.43        77\n",
      "   macro avg       0.42      0.42      0.42        77\n",
      "weighted avg       0.43      0.43      0.43        77\n",
      "\n"
     ]
    }
   ],
   "source": [
    "y_pred = model.predict(X_test)\n",
    "calculate_metrics(y_test, y_pred)"
   ],
   "metadata": {
    "collapsed": false,
    "pycharm": {
     "name": "#%%\n"
    }
   }
  }
 ],
 "metadata": {
  "kernelspec": {
   "display_name": "Python 3 (ipykernel)",
   "language": "python",
   "name": "python3"
  },
  "language_info": {
   "codemirror_mode": {
    "name": "ipython",
    "version": 3
   },
   "file_extension": ".py",
   "mimetype": "text/x-python",
   "name": "python",
   "nbconvert_exporter": "python",
   "pygments_lexer": "ipython3",
   "version": "3.9.12"
  }
 },
 "nbformat": 4,
 "nbformat_minor": 5
}