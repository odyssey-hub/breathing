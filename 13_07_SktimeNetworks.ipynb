{
 "cells": [
  {
   "cell_type": "code",
   "execution_count": 1,
   "id": "b32bedf8",
   "metadata": {
    "pycharm": {
     "name": "#%%\n"
    }
   },
   "outputs": [],
   "source": [
    "import pandas as pd\n",
    "import numpy as np\n",
    "from sklearn.model_selection import train_test_split\n",
    "from sklearn.metrics import accuracy_score\n",
    "from sklearn.preprocessing import  LabelEncoder"
   ]
  },
  {
   "cell_type": "markdown",
   "source": [
    "<h3>Загрузка датасета</h3>"
   ],
   "metadata": {
    "collapsed": false,
    "pycharm": {
     "name": "#%% md\n"
    }
   }
  },
  {
   "cell_type": "code",
   "execution_count": 2,
   "id": "2b2a53b1",
   "metadata": {
    "pycharm": {
     "name": "#%%\n"
    }
   },
   "outputs": [
    {
     "data": {
      "text/plain": "   id  BreathingType  TimeStamp_sec  FirstMarkerXCoord  FirstMarkerYCoord  \\\n0   1              0       0.058895              0.689             -1.453   \n1   1              0       0.111889              0.687             -1.452   \n2   1              0       0.158371              0.687             -1.451   \n3   1              0       0.262516              0.685             -1.450   \n4   1              0       0.295620              0.684             -1.449   \n\n   FirstMarkerZCoord  SecondMarkerXCoord  SecondMarkerYCoord  \\\n0              4.417               0.881              -1.544   \n1              4.418               0.881              -1.544   \n2              4.419               0.881              -1.544   \n3              4.420               0.882              -1.544   \n4              4.420               0.883              -1.544   \n\n   SecondMarkerZCoord  ThirdMarkerXCoord  ThirdMarkerYCoord  ThirdMarkerZCoord  \n0               4.547              0.718             -1.607              4.369  \n1               4.547              0.715             -1.607              4.371  \n2               4.545              0.714             -1.607              4.371  \n3               4.541              0.711             -1.608              4.373  \n4               4.540              0.709             -1.607              4.370  ",
      "text/html": "<div>\n<style scoped>\n    .dataframe tbody tr th:only-of-type {\n        vertical-align: middle;\n    }\n\n    .dataframe tbody tr th {\n        vertical-align: top;\n    }\n\n    .dataframe thead th {\n        text-align: right;\n    }\n</style>\n<table border=\"1\" class=\"dataframe\">\n  <thead>\n    <tr style=\"text-align: right;\">\n      <th></th>\n      <th>id</th>\n      <th>BreathingType</th>\n      <th>TimeStamp_sec</th>\n      <th>FirstMarkerXCoord</th>\n      <th>FirstMarkerYCoord</th>\n      <th>FirstMarkerZCoord</th>\n      <th>SecondMarkerXCoord</th>\n      <th>SecondMarkerYCoord</th>\n      <th>SecondMarkerZCoord</th>\n      <th>ThirdMarkerXCoord</th>\n      <th>ThirdMarkerYCoord</th>\n      <th>ThirdMarkerZCoord</th>\n    </tr>\n  </thead>\n  <tbody>\n    <tr>\n      <th>0</th>\n      <td>1</td>\n      <td>0</td>\n      <td>0.058895</td>\n      <td>0.689</td>\n      <td>-1.453</td>\n      <td>4.417</td>\n      <td>0.881</td>\n      <td>-1.544</td>\n      <td>4.547</td>\n      <td>0.718</td>\n      <td>-1.607</td>\n      <td>4.369</td>\n    </tr>\n    <tr>\n      <th>1</th>\n      <td>1</td>\n      <td>0</td>\n      <td>0.111889</td>\n      <td>0.687</td>\n      <td>-1.452</td>\n      <td>4.418</td>\n      <td>0.881</td>\n      <td>-1.544</td>\n      <td>4.547</td>\n      <td>0.715</td>\n      <td>-1.607</td>\n      <td>4.371</td>\n    </tr>\n    <tr>\n      <th>2</th>\n      <td>1</td>\n      <td>0</td>\n      <td>0.158371</td>\n      <td>0.687</td>\n      <td>-1.451</td>\n      <td>4.419</td>\n      <td>0.881</td>\n      <td>-1.544</td>\n      <td>4.545</td>\n      <td>0.714</td>\n      <td>-1.607</td>\n      <td>4.371</td>\n    </tr>\n    <tr>\n      <th>3</th>\n      <td>1</td>\n      <td>0</td>\n      <td>0.262516</td>\n      <td>0.685</td>\n      <td>-1.450</td>\n      <td>4.420</td>\n      <td>0.882</td>\n      <td>-1.544</td>\n      <td>4.541</td>\n      <td>0.711</td>\n      <td>-1.608</td>\n      <td>4.373</td>\n    </tr>\n    <tr>\n      <th>4</th>\n      <td>1</td>\n      <td>0</td>\n      <td>0.295620</td>\n      <td>0.684</td>\n      <td>-1.449</td>\n      <td>4.420</td>\n      <td>0.883</td>\n      <td>-1.544</td>\n      <td>4.540</td>\n      <td>0.709</td>\n      <td>-1.607</td>\n      <td>4.370</td>\n    </tr>\n  </tbody>\n</table>\n</div>"
     },
     "execution_count": 2,
     "metadata": {},
     "output_type": "execute_result"
    }
   ],
   "source": [
    "#загрузка датасета\n",
    "df = pd.read_csv('coords_data_numerated.csv')\n",
    "df = df.drop(columns=['Unnamed: 0', 'GSR'])\n",
    "df.head()"
   ]
  },
  {
   "cell_type": "code",
   "execution_count": 3,
   "id": "e0377807",
   "metadata": {
    "pycharm": {
     "name": "#%%\n"
    }
   },
   "outputs": [
    {
     "data": {
      "text/plain": "         id  FirstMarkerXCoord  FirstMarkerYCoord  FirstMarkerZCoord  \\\n230921  258              1.063             -1.649              3.843   \n230922  258              1.062             -1.648              3.842   \n230923  258              1.062             -1.648              3.842   \n230924  258              1.063             -1.647              3.842   \n230925  258              1.063             -1.647              3.842   \n\n        SecondMarkerXCoord  SecondMarkerYCoord  SecondMarkerZCoord  \\\n230921               1.093              -1.839               3.624   \n230922               1.094              -1.841               3.625   \n230923               1.093              -1.841               3.624   \n230924               1.094              -1.841               3.624   \n230925               1.094              -1.841               3.623   \n\n        ThirdMarkerXCoord  ThirdMarkerYCoord  ThirdMarkerZCoord  \n230921              1.030             -1.867              3.859  \n230922              1.030             -1.867              3.857  \n230923              1.030             -1.868              3.855  \n230924              1.029             -1.868              3.853  \n230925              1.030             -1.868              3.853  ",
      "text/html": "<div>\n<style scoped>\n    .dataframe tbody tr th:only-of-type {\n        vertical-align: middle;\n    }\n\n    .dataframe tbody tr th {\n        vertical-align: top;\n    }\n\n    .dataframe thead th {\n        text-align: right;\n    }\n</style>\n<table border=\"1\" class=\"dataframe\">\n  <thead>\n    <tr style=\"text-align: right;\">\n      <th></th>\n      <th>id</th>\n      <th>FirstMarkerXCoord</th>\n      <th>FirstMarkerYCoord</th>\n      <th>FirstMarkerZCoord</th>\n      <th>SecondMarkerXCoord</th>\n      <th>SecondMarkerYCoord</th>\n      <th>SecondMarkerZCoord</th>\n      <th>ThirdMarkerXCoord</th>\n      <th>ThirdMarkerYCoord</th>\n      <th>ThirdMarkerZCoord</th>\n    </tr>\n  </thead>\n  <tbody>\n    <tr>\n      <th>230921</th>\n      <td>258</td>\n      <td>1.063</td>\n      <td>-1.649</td>\n      <td>3.843</td>\n      <td>1.093</td>\n      <td>-1.839</td>\n      <td>3.624</td>\n      <td>1.030</td>\n      <td>-1.867</td>\n      <td>3.859</td>\n    </tr>\n    <tr>\n      <th>230922</th>\n      <td>258</td>\n      <td>1.062</td>\n      <td>-1.648</td>\n      <td>3.842</td>\n      <td>1.094</td>\n      <td>-1.841</td>\n      <td>3.625</td>\n      <td>1.030</td>\n      <td>-1.867</td>\n      <td>3.857</td>\n    </tr>\n    <tr>\n      <th>230923</th>\n      <td>258</td>\n      <td>1.062</td>\n      <td>-1.648</td>\n      <td>3.842</td>\n      <td>1.093</td>\n      <td>-1.841</td>\n      <td>3.624</td>\n      <td>1.030</td>\n      <td>-1.868</td>\n      <td>3.855</td>\n    </tr>\n    <tr>\n      <th>230924</th>\n      <td>258</td>\n      <td>1.063</td>\n      <td>-1.647</td>\n      <td>3.842</td>\n      <td>1.094</td>\n      <td>-1.841</td>\n      <td>3.624</td>\n      <td>1.029</td>\n      <td>-1.868</td>\n      <td>3.853</td>\n    </tr>\n    <tr>\n      <th>230925</th>\n      <td>258</td>\n      <td>1.063</td>\n      <td>-1.647</td>\n      <td>3.842</td>\n      <td>1.094</td>\n      <td>-1.841</td>\n      <td>3.623</td>\n      <td>1.030</td>\n      <td>-1.868</td>\n      <td>3.853</td>\n    </tr>\n  </tbody>\n</table>\n</div>"
     },
     "execution_count": 3,
     "metadata": {},
     "output_type": "execute_result"
    }
   ],
   "source": [
    "y = df['BreathingType']\n",
    "X = df.drop(columns=['BreathingType','TimeStamp_sec'])\n",
    "X.tail()"
   ]
  },
  {
   "cell_type": "code",
   "execution_count": 4,
   "id": "bb7a98bb",
   "metadata": {
    "pycharm": {
     "name": "#%%\n"
    }
   },
   "outputs": [
    {
     "data": {
      "text/plain": "   id    FMX    FMY    FMZ    SMX    SMY    SMZ    TMX    TMY    TMZ\n0   1  0.689 -1.453  4.417  0.881 -1.544  4.547  0.718 -1.607  4.369\n1   1  0.687 -1.452  4.418  0.881 -1.544  4.547  0.715 -1.607  4.371\n2   1  0.687 -1.451  4.419  0.881 -1.544  4.545  0.714 -1.607  4.371\n3   1  0.685 -1.450  4.420  0.882 -1.544  4.541  0.711 -1.608  4.373\n4   1  0.684 -1.449  4.420  0.883 -1.544  4.540  0.709 -1.607  4.370",
      "text/html": "<div>\n<style scoped>\n    .dataframe tbody tr th:only-of-type {\n        vertical-align: middle;\n    }\n\n    .dataframe tbody tr th {\n        vertical-align: top;\n    }\n\n    .dataframe thead th {\n        text-align: right;\n    }\n</style>\n<table border=\"1\" class=\"dataframe\">\n  <thead>\n    <tr style=\"text-align: right;\">\n      <th></th>\n      <th>id</th>\n      <th>FMX</th>\n      <th>FMY</th>\n      <th>FMZ</th>\n      <th>SMX</th>\n      <th>SMY</th>\n      <th>SMZ</th>\n      <th>TMX</th>\n      <th>TMY</th>\n      <th>TMZ</th>\n    </tr>\n  </thead>\n  <tbody>\n    <tr>\n      <th>0</th>\n      <td>1</td>\n      <td>0.689</td>\n      <td>-1.453</td>\n      <td>4.417</td>\n      <td>0.881</td>\n      <td>-1.544</td>\n      <td>4.547</td>\n      <td>0.718</td>\n      <td>-1.607</td>\n      <td>4.369</td>\n    </tr>\n    <tr>\n      <th>1</th>\n      <td>1</td>\n      <td>0.687</td>\n      <td>-1.452</td>\n      <td>4.418</td>\n      <td>0.881</td>\n      <td>-1.544</td>\n      <td>4.547</td>\n      <td>0.715</td>\n      <td>-1.607</td>\n      <td>4.371</td>\n    </tr>\n    <tr>\n      <th>2</th>\n      <td>1</td>\n      <td>0.687</td>\n      <td>-1.451</td>\n      <td>4.419</td>\n      <td>0.881</td>\n      <td>-1.544</td>\n      <td>4.545</td>\n      <td>0.714</td>\n      <td>-1.607</td>\n      <td>4.371</td>\n    </tr>\n    <tr>\n      <th>3</th>\n      <td>1</td>\n      <td>0.685</td>\n      <td>-1.450</td>\n      <td>4.420</td>\n      <td>0.882</td>\n      <td>-1.544</td>\n      <td>4.541</td>\n      <td>0.711</td>\n      <td>-1.608</td>\n      <td>4.373</td>\n    </tr>\n    <tr>\n      <th>4</th>\n      <td>1</td>\n      <td>0.684</td>\n      <td>-1.449</td>\n      <td>4.420</td>\n      <td>0.883</td>\n      <td>-1.544</td>\n      <td>4.540</td>\n      <td>0.709</td>\n      <td>-1.607</td>\n      <td>4.370</td>\n    </tr>\n  </tbody>\n</table>\n</div>"
     },
     "execution_count": 4,
     "metadata": {},
     "output_type": "execute_result"
    }
   ],
   "source": [
    "#переименование столбцов\n",
    "dict_renames = {\n",
    "    'FirstMarkerXCoord' : 'FMX',\n",
    "    'FirstMarkerYCoord' : 'FMY',\n",
    "    'FirstMarkerZCoord' : 'FMZ',\n",
    "    'SecondMarkerXCoord' :  'SMX',\n",
    "    'SecondMarkerYCoord' : 'SMY',\n",
    "    'SecondMarkerZCoord' : 'SMZ',\n",
    "    'ThirdMarkerXCoord' : 'TMX',\n",
    "    'ThirdMarkerYCoord' : 'TMY',\n",
    "    'ThirdMarkerZCoord' : 'TMZ'\n",
    "}\n",
    "X = X.rename(columns=dict_renames)\n",
    "X.head()"
   ]
  },
  {
   "cell_type": "markdown",
   "source": [
    "<h3>Предобработка датасета</h3>"
   ],
   "metadata": {
    "collapsed": false,
    "pycharm": {
     "name": "#%% md\n"
    }
   }
  },
  {
   "cell_type": "code",
   "execution_count": 5,
   "id": "4d9b11fa",
   "metadata": {
    "pycharm": {
     "name": "#%%\n"
    }
   },
   "outputs": [
    {
     "data": {
      "text/plain": "   id    FMX    FMY    FMZ    SMX    SMY    SMZ    TMX    TMY    TMZ\n0   1  0.689 -1.453  4.417  0.881 -1.544  4.547  0.718 -1.607  4.369\n1   1  0.687 -1.452  4.418  0.881 -1.544  4.547  0.715 -1.607  4.371\n2   1  0.687 -1.451  4.419  0.881 -1.544  4.545  0.714 -1.607  4.371\n3   1  0.685 -1.450  4.420  0.882 -1.544  4.541  0.711 -1.608  4.373\n4   1  0.684 -1.449  4.420  0.883 -1.544  4.540  0.709 -1.607  4.370",
      "text/html": "<div>\n<style scoped>\n    .dataframe tbody tr th:only-of-type {\n        vertical-align: middle;\n    }\n\n    .dataframe tbody tr th {\n        vertical-align: top;\n    }\n\n    .dataframe thead th {\n        text-align: right;\n    }\n</style>\n<table border=\"1\" class=\"dataframe\">\n  <thead>\n    <tr style=\"text-align: right;\">\n      <th></th>\n      <th>id</th>\n      <th>FMX</th>\n      <th>FMY</th>\n      <th>FMZ</th>\n      <th>SMX</th>\n      <th>SMY</th>\n      <th>SMZ</th>\n      <th>TMX</th>\n      <th>TMY</th>\n      <th>TMZ</th>\n    </tr>\n  </thead>\n  <tbody>\n    <tr>\n      <th>0</th>\n      <td>1</td>\n      <td>0.689</td>\n      <td>-1.453</td>\n      <td>4.417</td>\n      <td>0.881</td>\n      <td>-1.544</td>\n      <td>4.547</td>\n      <td>0.718</td>\n      <td>-1.607</td>\n      <td>4.369</td>\n    </tr>\n    <tr>\n      <th>1</th>\n      <td>1</td>\n      <td>0.687</td>\n      <td>-1.452</td>\n      <td>4.418</td>\n      <td>0.881</td>\n      <td>-1.544</td>\n      <td>4.547</td>\n      <td>0.715</td>\n      <td>-1.607</td>\n      <td>4.371</td>\n    </tr>\n    <tr>\n      <th>2</th>\n      <td>1</td>\n      <td>0.687</td>\n      <td>-1.451</td>\n      <td>4.419</td>\n      <td>0.881</td>\n      <td>-1.544</td>\n      <td>4.545</td>\n      <td>0.714</td>\n      <td>-1.607</td>\n      <td>4.371</td>\n    </tr>\n    <tr>\n      <th>3</th>\n      <td>1</td>\n      <td>0.685</td>\n      <td>-1.450</td>\n      <td>4.420</td>\n      <td>0.882</td>\n      <td>-1.544</td>\n      <td>4.541</td>\n      <td>0.711</td>\n      <td>-1.608</td>\n      <td>4.373</td>\n    </tr>\n    <tr>\n      <th>4</th>\n      <td>1</td>\n      <td>0.684</td>\n      <td>-1.449</td>\n      <td>4.420</td>\n      <td>0.883</td>\n      <td>-1.544</td>\n      <td>4.540</td>\n      <td>0.709</td>\n      <td>-1.607</td>\n      <td>4.370</td>\n    </tr>\n  </tbody>\n</table>\n</div>"
     },
     "execution_count": 5,
     "metadata": {},
     "output_type": "execute_result"
    }
   ],
   "source": [
    "#удаление лишних временных рядов\n",
    "X = X[X['id'] != 27]\n",
    "X = X[X['id'] != 24]\n",
    "X = X.reset_index(drop=True)\n",
    "X.head()"
   ]
  },
  {
   "cell_type": "code",
   "execution_count": 6,
   "id": "09e69142",
   "metadata": {
    "pycharm": {
     "name": "#%%\n"
    }
   },
   "outputs": [],
   "source": [
    "#приведение к одинаковому количеству точек для временных рядов\n",
    "numeric_cols = X.drop(columns=['id'])\n",
    "X2 = X.iloc[0:0]\n",
    "for i in range(1, 259):\n",
    "    if i in [24, 27]:\n",
    "        continue\n",
    "    X_id = X[X['id'] == i].reset_index(drop=True)\n",
    "    for col in numeric_cols:\n",
    "        X_id = X_id[:900]\n",
    "        X_id = X_id.reset_index(drop=True)\n",
    "    X2 = pd.concat([X2, X_id], axis=0, ignore_index=True)"
   ]
  },
  {
   "cell_type": "code",
   "execution_count": 7,
   "id": "4f3ee30f",
   "metadata": {
    "pycharm": {
     "name": "#%%\n"
    }
   },
   "outputs": [],
   "source": [
    "X = X2"
   ]
  },
  {
   "cell_type": "markdown",
   "source": [
    "<h3>Вычисление новых признаков</h3>"
   ],
   "metadata": {
    "collapsed": false,
    "pycharm": {
     "name": "#%% md\n"
    }
   }
  },
  {
   "cell_type": "code",
   "execution_count": 8,
   "id": "f16e7899",
   "metadata": {
    "pycharm": {
     "name": "#%%\n"
    }
   },
   "outputs": [],
   "source": [
    "#расчет новых преобразований\n",
    "X2 = X.iloc[0:0]\n",
    "for i in range(1, 259):\n",
    "    if i in [24, 27]:\n",
    "        continue\n",
    "    X_id = X[X['id'] == i].reset_index(drop=True)\n",
    "    for col in numeric_cols:\n",
    "        X_id[col+'_roll10_mean'] = X_id[col].rolling(10).mean()\n",
    "        X_id[col+'_roll10_median'] = X_id[col].rolling(10).median()\n",
    "        X_id[col+'_change10'] = X_id[col].diff(periods=10)\n",
    "        X_id[col+'_pct10'] = X_id[col].pct_change(periods=10)\n",
    "        X_id[col+'_furier'] = np.abs(np.fft.fft(X_id[col]))\n",
    "\n",
    "        X_id = X_id[10:]\n",
    "        X_id = X_id.reset_index(drop=True)\n",
    "    X2 =  pd.concat([X2, X_id], axis=0, ignore_index=True)"
   ]
  },
  {
   "cell_type": "code",
   "execution_count": 9,
   "id": "d81b071e",
   "metadata": {
    "pycharm": {
     "name": "#%%\n"
    }
   },
   "outputs": [],
   "source": [
    "X = X2"
   ]
  },
  {
   "cell_type": "code",
   "execution_count": 11,
   "outputs": [],
   "source": [
    "# dimensions = ['X', 'Y', 'Z']\n",
    "# markers = ['F', 'S', 'T']\n",
    "# for dimension in dimensions:\n",
    "#     markers_dimension = ['FM'+dimension, 'SM'+dimension, 'TM'+dimension]\n",
    "#     X['Mean_'+dimension] = X[markers_dimension].mean(axis=1)\n",
    "#     X['Median_'+dimension] = X[markers_dimension].median(axis=1)\n",
    "#     X['Std_'+dimension] = X[markers_dimension].std(axis=1)\n",
    "# for marker in markers:\n",
    "#     markers_dimension = [marker+'MX', marker+'MY', marker+'MZ']\n",
    "#     X['Mean_'+ marker] = X[markers_dimension].mean(axis=1)\n",
    "#     X['Median_'+ marker] = X[markers_dimension].median(axis=1)\n",
    "#     X['Std_'+marker] = X[markers_dimension].std(axis=1)"
   ],
   "metadata": {
    "collapsed": false,
    "pycharm": {
     "name": "#%%\n"
    }
   }
  },
  {
   "cell_type": "markdown",
   "source": [
    "<h3>Подготовка данных для библиотеки Sktime</h3>"
   ],
   "metadata": {
    "collapsed": false,
    "pycharm": {
     "name": "#%% md\n"
    }
   }
  },
  {
   "cell_type": "code",
   "execution_count": 10,
   "id": "955a9d09",
   "metadata": {
    "pycharm": {
     "name": "#%%\n"
    }
   },
   "outputs": [],
   "source": [
    "#преобразование датасета для библиотеки sktime\n",
    "numeric_cols = X.drop(columns='id').columns\n",
    "X_3d = []\n",
    "for id in range(1, 259):\n",
    "    if id in [24, 27]:\n",
    "        continue\n",
    "    X_id = X[X['id'] == id]\n",
    "    instance_features = []\n",
    "    for col in numeric_cols:\n",
    "        lst = X_id[col].to_list()\n",
    "        instance_features.append(lst)\n",
    "    X_3d.append(instance_features)\n",
    "X_3d = np.array(X_3d)"
   ]
  },
  {
   "cell_type": "code",
   "execution_count": 11,
   "id": "f61b6144",
   "metadata": {
    "pycharm": {
     "name": "#%%\n"
    }
   },
   "outputs": [],
   "source": [
    "#преобразование датасета для библиотеки sktime\n",
    "y_3d = []\n",
    "for id in range(1, 259):\n",
    "    if id in [24, 27]:\n",
    "        continue\n",
    "    df_id = df[df['id'] == id]\n",
    "    y_3d.append(df_id['BreathingType'].iloc[0])\n",
    "y_3d = np.array(y_3d)"
   ]
  },
  {
   "cell_type": "code",
   "execution_count": 12,
   "outputs": [],
   "source": [
    "from sklearn.metrics import recall_score, accuracy_score\n",
    "from sklearn.metrics import f1_score\n",
    "from sklearn.metrics import precision_score\n",
    "from sklearn.metrics import classification_report\n",
    "#расчет метрик по тесовой выборке\n",
    "def calculate_metrics(y_test, y_pred):\n",
    "    accuracy = accuracy_score(y_test, y_pred)\n",
    "    recall = recall_score(y_test, y_pred, average='weighted')\n",
    "    precision = precision_score(y_test, y_pred, average='weighted')\n",
    "    f1 = f1_score(y_test, y_pred, average='weighted')\n",
    "    print(\"Accuracy: \", accuracy)\n",
    "    print(\"Recall: \", recall)\n",
    "    print(\"Precision: \", precision)\n",
    "    print(\"F1-score: \", f1)\n",
    "    report = classification_report(y_test, y_pred)\n",
    "    print(report)"
   ],
   "metadata": {
    "collapsed": false,
    "pycharm": {
     "name": "#%%\n"
    }
   }
  },
  {
   "cell_type": "code",
   "execution_count": 13,
   "id": "fa2498ba",
   "metadata": {
    "pycharm": {
     "name": "#%%\n"
    }
   },
   "outputs": [],
   "source": [
    "#разделение на обучающую(80%) и тестовую (20%) выборки\n",
    "X_train, X_test, y_train, y_test = train_test_split(X_3d, y_3d, test_size=0.2, random_state=42)"
   ]
  },
  {
   "cell_type": "markdown",
   "source": [
    "<h3>Тестирование моделей классификации временных рядов</h3>"
   ],
   "metadata": {
    "collapsed": false,
    "pycharm": {
     "name": "#%% md\n"
    }
   }
  },
  {
   "cell_type": "markdown",
   "source": [
    "<h4>Нормализация данных</h4>"
   ],
   "metadata": {
    "collapsed": false,
    "pycharm": {
     "name": "#%% md\n"
    }
   }
  },
  {
   "cell_type": "code",
   "execution_count": 14,
   "outputs": [],
   "source": [
    "from sklearn.preprocessing import MinMaxScaler, StandardScaler\n",
    "\n",
    "scaler = StandardScaler()\n",
    "X_train_sc = scaler.fit_transform(X_train.reshape(-1, X_train.shape[-1])).reshape(X_train.shape)\n",
    "X_test_sc = scaler.transform(X_test.reshape(-1, X_test.shape[-1])).reshape(X_test.shape)"
   ],
   "metadata": {
    "collapsed": false,
    "pycharm": {
     "name": "#%%\n"
    }
   }
  },
  {
   "cell_type": "markdown",
   "source": [
    "<h4>Подготовка метрик</h4>"
   ],
   "metadata": {
    "collapsed": false,
    "pycharm": {
     "name": "#%% md\n"
    }
   }
  },
  {
   "cell_type": "code",
   "execution_count": 15,
   "outputs": [],
   "source": [
    "from tensorflow.keras.metrics import F1Score, Recall, Precision\n",
    "\n",
    "metric_precision = Precision()\n",
    "metric_recall = Recall()\n",
    "metric_f1 = F1Score()\n",
    "#metrics = ['accuracy', metric_precision, metric_recall, metric_f1]\n",
    "metrics = ['accuracy', metric_f1]"
   ],
   "metadata": {
    "collapsed": false,
    "pycharm": {
     "name": "#%%\n"
    }
   }
  },
  {
   "cell_type": "markdown",
   "source": [
    "<h3>MultiLayer Perceptron</h3>"
   ],
   "metadata": {
    "collapsed": false,
    "pycharm": {
     "name": "#%% md\n"
    }
   }
  },
  {
   "cell_type": "code",
   "execution_count": 24,
   "outputs": [],
   "source": [
    "from sktime.classification.deep_learning import MLPClassifier\n",
    "\n",
    "model = MLPClassifier(n_epochs=20, batch_size=8, activation='softmax', verbose=True, metrics=metrics)"
   ],
   "metadata": {
    "collapsed": false,
    "pycharm": {
     "name": "#%%\n"
    }
   }
  },
  {
   "cell_type": "code",
   "execution_count": 25,
   "outputs": [
    {
     "name": "stderr",
     "output_type": "stream",
     "text": [
      "C:\\Users\\admin\\PycharmProjects\\TimeSeriesLibraries\\venv\\lib\\site-packages\\sklearn\\preprocessing\\_encoders.py:868: FutureWarning: `sparse` was renamed to `sparse_output` in version 1.2 and will be removed in 1.4. `sparse_output` is ignored unless you leave `sparse` to its default value.\n",
      "  warnings.warn(\n"
     ]
    },
    {
     "name": "stdout",
     "output_type": "stream",
     "text": [
      "Model: \"model_2\"\n",
      "_________________________________________________________________\n",
      " Layer (type)                Output Shape              Param #   \n",
      "=================================================================\n",
      " input_3 (InputLayer)        [(None, 810, 54)]         0         \n",
      "                                                                 \n",
      " flatten (Flatten)           (None, 43740)             0         \n",
      "                                                                 \n",
      " dropout (Dropout)           (None, 43740)             0         \n",
      "                                                                 \n",
      " dense_14 (Dense)            (None, 500)               21870500  \n",
      "                                                                 \n",
      " dropout_1 (Dropout)         (None, 500)               0         \n",
      "                                                                 \n",
      " dense_15 (Dense)            (None, 500)               250500    \n",
      "                                                                 \n",
      " dropout_2 (Dropout)         (None, 500)               0         \n",
      "                                                                 \n",
      " dense_16 (Dense)            (None, 500)               250500    \n",
      "                                                                 \n",
      " dropout_3 (Dropout)         (None, 500)               0         \n",
      "                                                                 \n",
      " dense_17 (Dense)            (None, 3)                 1503      \n",
      "                                                                 \n",
      "=================================================================\n",
      "Total params: 22373003 (85.35 MB)\n",
      "Trainable params: 22373003 (85.35 MB)\n",
      "Non-trainable params: 0 (0.00 Byte)\n",
      "_________________________________________________________________\n",
      "Epoch 1/20\n",
      "26/26 [==============================] - 12s 398ms/step - loss: 316.8513 - accuracy: 0.3480 - f1_score: 0.3805\n",
      "Epoch 2/20\n",
      "26/26 [==============================] - 10s 395ms/step - loss: 8.8300 - accuracy: 0.3627 - f1_score: 0.3580\n",
      "Epoch 3/20\n",
      "26/26 [==============================] - 11s 409ms/step - loss: 2.2098 - accuracy: 0.3873 - f1_score: 0.3877\n",
      "Epoch 4/20\n",
      "26/26 [==============================] - 11s 406ms/step - loss: 2.4229 - accuracy: 0.3284 - f1_score: 0.3261\n",
      "Epoch 5/20\n",
      "26/26 [==============================] - 11s 405ms/step - loss: 1.4439 - accuracy: 0.3578 - f1_score: 0.3562\n",
      "Epoch 6/20\n",
      "26/26 [==============================] - 10s 394ms/step - loss: 1.3369 - accuracy: 0.3431 - f1_score: 0.3429\n",
      "Epoch 7/20\n",
      "26/26 [==============================] - 10s 392ms/step - loss: 1.1760 - accuracy: 0.2990 - f1_score: 0.2468\n",
      "Epoch 8/20\n",
      "26/26 [==============================] - 10s 390ms/step - loss: 1.1177 - accuracy: 0.3382 - f1_score: 0.2655\n",
      "Epoch 9/20\n",
      "26/26 [==============================] - 10s 404ms/step - loss: 1.1689 - accuracy: 0.3333 - f1_score: 0.2690\n",
      "Epoch 10/20\n",
      "26/26 [==============================] - 10s 389ms/step - loss: 1.1473 - accuracy: 0.3725 - f1_score: 0.3003\n",
      "Epoch 11/20\n",
      "26/26 [==============================] - 10s 388ms/step - loss: 1.1343 - accuracy: 0.3725 - f1_score: 0.3258\n",
      "Epoch 12/20\n",
      "26/26 [==============================] - 10s 389ms/step - loss: 1.1283 - accuracy: 0.3333 - f1_score: 0.2278\n",
      "Epoch 13/20\n",
      "26/26 [==============================] - 10s 390ms/step - loss: 1.5732 - accuracy: 0.3824 - f1_score: 0.3521\n",
      "Epoch 14/20\n",
      "26/26 [==============================] - 10s 399ms/step - loss: 1.1130 - accuracy: 0.2990 - f1_score: 0.2595\n",
      "Epoch 15/20\n",
      "26/26 [==============================] - 10s 385ms/step - loss: 1.1833 - accuracy: 0.3284 - f1_score: 0.1957\n",
      "Epoch 16/20\n",
      "26/26 [==============================] - 10s 386ms/step - loss: 1.1378 - accuracy: 0.3382 - f1_score: 0.1685\n",
      "Epoch 17/20\n",
      "26/26 [==============================] - 10s 385ms/step - loss: 1.1265 - accuracy: 0.3333 - f1_score: 0.1857\n",
      "Epoch 18/20\n",
      "26/26 [==============================] - 10s 386ms/step - loss: 1.1024 - accuracy: 0.2647 - f1_score: 0.2108\n",
      "Epoch 19/20\n",
      "26/26 [==============================] - 10s 389ms/step - loss: 1.1061 - accuracy: 0.3382 - f1_score: 0.1685\n",
      "Epoch 20/20\n",
      "26/26 [==============================] - 10s 390ms/step - loss: 1.1003 - accuracy: 0.3431 - f1_score: 0.1709\n"
     ]
    }
   ],
   "source": [
    "details = model.fit(X_train_sc, y_train)"
   ],
   "metadata": {
    "collapsed": false,
    "pycharm": {
     "name": "#%%\n"
    }
   }
  },
  {
   "cell_type": "markdown",
   "source": [
    "<h3>Fully Connected Network</h3>"
   ],
   "metadata": {
    "collapsed": false,
    "pycharm": {
     "name": "#%% md\n"
    }
   }
  },
  {
   "cell_type": "code",
   "execution_count": 37,
   "outputs": [],
   "source": [
    "from sktime.classification.deep_learning import FCNClassifier\n",
    "\n",
    "model = FCNClassifier(n_epochs=20, batch_size=8, activation='softmax', verbose=True, metrics=metrics)"
   ],
   "metadata": {
    "collapsed": false,
    "pycharm": {
     "name": "#%%\n"
    }
   }
  },
  {
   "cell_type": "code",
   "execution_count": 38,
   "outputs": [
    {
     "name": "stdout",
     "output_type": "stream",
     "text": [
      "Model: \"model_9\"\n",
      "_________________________________________________________________\n",
      " Layer (type)                Output Shape              Param #   \n",
      "=================================================================\n",
      " input_10 (InputLayer)       [(None, 810, 54)]         0         \n",
      "                                                                 \n",
      " conv1d_27 (Conv1D)          (None, 810, 128)          55424     \n",
      "                                                                 \n",
      " batch_normalization_27 (Ba  (None, 810, 128)          512       \n",
      " tchNormalization)                                               \n",
      "                                                                 \n",
      " activation_27 (Activation)  (None, 810, 128)          0         \n",
      "                                                                 \n"
     ]
    },
    {
     "name": "stderr",
     "output_type": "stream",
     "text": [
      "C:\\Users\\admin\\PycharmProjects\\TimeSeriesLibraries\\venv\\lib\\site-packages\\sklearn\\preprocessing\\_encoders.py:868: FutureWarning: `sparse` was renamed to `sparse_output` in version 1.2 and will be removed in 1.4. `sparse_output` is ignored unless you leave `sparse` to its default value.\n",
      "  warnings.warn(\n"
     ]
    },
    {
     "name": "stdout",
     "output_type": "stream",
     "text": [
      " conv1d_28 (Conv1D)          (None, 810, 256)          164096    \n",
      "                                                                 \n",
      " batch_normalization_28 (Ba  (None, 810, 256)          1024      \n",
      " tchNormalization)                                               \n",
      "                                                                 \n",
      " activation_28 (Activation)  (None, 810, 256)          0         \n",
      "                                                                 \n",
      " conv1d_29 (Conv1D)          (None, 810, 128)          98432     \n",
      "                                                                 \n",
      " batch_normalization_29 (Ba  (None, 810, 128)          512       \n",
      " tchNormalization)                                               \n",
      "                                                                 \n",
      " activation_29 (Activation)  (None, 810, 128)          0         \n",
      "                                                                 \n",
      " global_average_pooling1d_9  (None, 128)               0         \n",
      "  (GlobalAveragePooling1D)                                       \n",
      "                                                                 \n",
      " dense_9 (Dense)             (None, 3)                 387       \n",
      "                                                                 \n",
      "=================================================================\n",
      "Total params: 320387 (1.22 MB)\n",
      "Trainable params: 319363 (1.22 MB)\n",
      "Non-trainable params: 1024 (4.00 KB)\n",
      "_________________________________________________________________\n",
      "Epoch 1/20\n",
      "26/26 [==============================] - 12s 368ms/step - loss: 1.5379 - accuracy: 0.2941 - f1_score: 0.3160\n",
      "Epoch 2/20\n",
      "26/26 [==============================] - 10s 377ms/step - loss: 1.2831 - accuracy: 0.2941 - f1_score: 0.2802\n",
      "Epoch 3/20\n",
      "26/26 [==============================] - 10s 376ms/step - loss: 1.1301 - accuracy: 0.3676 - f1_score: 0.3380\n",
      "Epoch 4/20\n",
      "26/26 [==============================] - 10s 378ms/step - loss: 1.1321 - accuracy: 0.3088 - f1_score: 0.3047\n",
      "Epoch 5/20\n",
      "26/26 [==============================] - 9s 363ms/step - loss: 1.1339 - accuracy: 0.3039 - f1_score: 0.2486\n",
      "Epoch 6/20\n",
      "26/26 [==============================] - 10s 372ms/step - loss: 1.0999 - accuracy: 0.3480 - f1_score: 0.3393\n",
      "Epoch 7/20\n",
      "26/26 [==============================] - 10s 373ms/step - loss: 1.0979 - accuracy: 0.3578 - f1_score: 0.2704\n",
      "Epoch 8/20\n",
      "26/26 [==============================] - 10s 382ms/step - loss: 1.0968 - accuracy: 0.3775 - f1_score: 0.3412\n",
      "Epoch 9/20\n",
      "26/26 [==============================] - 12s 455ms/step - loss: 1.0995 - accuracy: 0.3529 - f1_score: 0.3430\n",
      "Epoch 10/20\n",
      "26/26 [==============================] - 10s 385ms/step - loss: 1.0885 - accuracy: 0.3922 - f1_score: 0.3621\n",
      "Epoch 11/20\n",
      "26/26 [==============================] - 10s 374ms/step - loss: 1.0941 - accuracy: 0.3725 - f1_score: 0.3325\n",
      "Epoch 12/20\n",
      "26/26 [==============================] - 10s 381ms/step - loss: 1.0909 - accuracy: 0.3824 - f1_score: 0.3062\n",
      "Epoch 13/20\n",
      "26/26 [==============================] - 10s 379ms/step - loss: 1.0813 - accuracy: 0.4069 - f1_score: 0.4035\n",
      "Epoch 14/20\n",
      "26/26 [==============================] - 10s 381ms/step - loss: 1.0835 - accuracy: 0.3725 - f1_score: 0.3656\n",
      "Epoch 15/20\n",
      "26/26 [==============================] - 10s 381ms/step - loss: 1.0865 - accuracy: 0.3725 - f1_score: 0.3130\n",
      "Epoch 16/20\n",
      "26/26 [==============================] - 10s 383ms/step - loss: 1.0686 - accuracy: 0.4265 - f1_score: 0.3783\n",
      "Epoch 17/20\n",
      "26/26 [==============================] - 9s 354ms/step - loss: 1.0698 - accuracy: 0.4069 - f1_score: 0.4008\n",
      "Epoch 18/20\n",
      "26/26 [==============================] - 9s 355ms/step - loss: 1.0671 - accuracy: 0.3873 - f1_score: 0.3881\n",
      "Epoch 19/20\n",
      "26/26 [==============================] - 9s 356ms/step - loss: 1.0620 - accuracy: 0.4265 - f1_score: 0.3789\n",
      "Epoch 20/20\n",
      "26/26 [==============================] - 9s 353ms/step - loss: 1.0716 - accuracy: 0.4020 - f1_score: 0.4050\n"
     ]
    }
   ],
   "source": [
    "details = model.fit(X_train_sc, y_train)"
   ],
   "metadata": {
    "collapsed": false,
    "pycharm": {
     "name": "#%%\n"
    }
   }
  },
  {
   "cell_type": "markdown",
   "source": [
    "<h3>Long-Short Term Memory Network</h3>"
   ],
   "metadata": {
    "collapsed": false,
    "pycharm": {
     "name": "#%% md\n"
    }
   }
  },
  {
   "cell_type": "code",
   "execution_count": 18,
   "outputs": [],
   "source": [
    "from sktime.classification.deep_learning import LSTMFCNClassifier\n",
    "\n",
    "#model = LSTMFCNClassifier(verbose=1, n_epochs=100, lstm_size=3, dropout=0.1)\n",
    "model = LSTMFCNClassifier(verbose=1, n_epochs=100,)"
   ],
   "metadata": {
    "collapsed": false,
    "pycharm": {
     "name": "#%%\n"
    }
   }
  },
  {
   "cell_type": "code",
   "execution_count": 19,
   "outputs": [
    {
     "name": "stderr",
     "output_type": "stream",
     "text": [
      "C:\\Users\\admin\\PycharmProjects\\TimeSeriesLibraries\\venv\\lib\\site-packages\\sklearn\\preprocessing\\_encoders.py:868: FutureWarning: `sparse` was renamed to `sparse_output` in version 1.2 and will be removed in 1.4. `sparse_output` is ignored unless you leave `sparse` to its default value.\n",
      "  warnings.warn(\n"
     ]
    },
    {
     "name": "stdout",
     "output_type": "stream",
     "text": [
      "Model: \"model_1\"\n",
      "__________________________________________________________________________________________________\n",
      " Layer (type)                Output Shape                 Param #   Connected to                  \n",
      "==================================================================================================\n",
      " input_2 (InputLayer)        [(None, 810, 54)]            0         []                            \n",
      "                                                                                                  \n",
      " conv1d_3 (Conv1D)           (None, 810, 128)             55424     ['input_2[0][0]']             \n",
      "                                                                                                  \n",
      " batch_normalization_3 (Bat  (None, 810, 128)             512       ['conv1d_3[0][0]']            \n",
      " chNormalization)                                                                                 \n",
      "                                                                                                  \n",
      " activation_3 (Activation)   (None, 810, 128)             0         ['batch_normalization_3[0][0]'\n",
      "                                                                    ]                             \n",
      "                                                                                                  \n",
      " conv1d_4 (Conv1D)           (None, 810, 256)             164096    ['activation_3[0][0]']        \n",
      "                                                                                                  \n",
      " batch_normalization_4 (Bat  (None, 810, 256)             1024      ['conv1d_4[0][0]']            \n",
      " chNormalization)                                                                                 \n",
      "                                                                                                  \n",
      " activation_4 (Activation)   (None, 810, 256)             0         ['batch_normalization_4[0][0]'\n",
      "                                                                    ]                             \n",
      "                                                                                                  \n",
      " conv1d_5 (Conv1D)           (None, 810, 128)             98432     ['activation_4[0][0]']        \n",
      "                                                                                                  \n",
      " permute (Permute)           (None, 54, 810)              0         ['input_2[0][0]']             \n",
      "                                                                                                  \n",
      " batch_normalization_5 (Bat  (None, 810, 128)             512       ['conv1d_5[0][0]']            \n",
      " chNormalization)                                                                                 \n",
      "                                                                                                  \n",
      " lstm (LSTM)                 (None, 8)                    26208     ['permute[0][0]']             \n",
      "                                                                                                  \n",
      " activation_5 (Activation)   (None, 810, 128)             0         ['batch_normalization_5[0][0]'\n",
      "                                                                    ]                             \n",
      "                                                                                                  \n",
      " dropout (Dropout)           (None, 8)                    0         ['lstm[0][0]']                \n",
      "                                                                                                  \n",
      " global_average_pooling1d_1  (None, 128)                  0         ['activation_5[0][0]']        \n",
      "  (GlobalAveragePooling1D)                                                                        \n",
      "                                                                                                  \n",
      " concatenate (Concatenate)   (None, 136)                  0         ['dropout[0][0]',             \n",
      "                                                                     'global_average_pooling1d_1[0\n",
      "                                                                    ][0]']                        \n",
      "                                                                                                  \n",
      " dense_1 (Dense)             (None, 3)                    411       ['concatenate[0][0]']         \n",
      "                                                                                                  \n",
      "==================================================================================================\n",
      "Total params: 346619 (1.32 MB)\n",
      "Trainable params: 345595 (1.32 MB)\n",
      "Non-trainable params: 1024 (4.00 KB)\n",
      "__________________________________________________________________________________________________\n",
      "Epoch 1/100\n",
      "2/2 [==============================] - 14s 3s/step - loss: 1.4003 - accuracy: 0.3676\n",
      "Epoch 2/100\n",
      "2/2 [==============================] - 9s 4s/step - loss: 1.2049 - accuracy: 0.3529\n",
      "Epoch 3/100\n",
      "2/2 [==============================] - 9s 3s/step - loss: 1.1012 - accuracy: 0.3971\n",
      "Epoch 4/100\n",
      "2/2 [==============================] - 9s 3s/step - loss: 1.1224 - accuracy: 0.3873\n",
      "Epoch 5/100\n",
      "2/2 [==============================] - 9s 3s/step - loss: 1.0956 - accuracy: 0.3676\n",
      "Epoch 6/100\n",
      "2/2 [==============================] - 9s 3s/step - loss: 1.0524 - accuracy: 0.4314\n",
      "Epoch 7/100\n",
      "2/2 [==============================] - 9s 3s/step - loss: 1.0639 - accuracy: 0.4461\n",
      "Epoch 8/100\n",
      "2/2 [==============================] - 9s 3s/step - loss: 1.0527 - accuracy: 0.4265\n",
      "Epoch 9/100\n",
      "2/2 [==============================] - 9s 3s/step - loss: 1.0385 - accuracy: 0.4363\n",
      "Epoch 10/100\n",
      "2/2 [==============================] - 9s 3s/step - loss: 1.0353 - accuracy: 0.4510\n",
      "Epoch 11/100\n",
      "2/2 [==============================] - 9s 3s/step - loss: 1.0274 - accuracy: 0.4657\n",
      "Epoch 12/100\n",
      "2/2 [==============================] - 9s 3s/step - loss: 1.0178 - accuracy: 0.4608\n",
      "Epoch 13/100\n",
      "2/2 [==============================] - 9s 3s/step - loss: 1.0163 - accuracy: 0.4706\n",
      "Epoch 14/100\n",
      "2/2 [==============================] - 9s 3s/step - loss: 1.0046 - accuracy: 0.5049\n",
      "Epoch 15/100\n",
      "2/2 [==============================] - 9s 3s/step - loss: 1.0016 - accuracy: 0.4559\n",
      "Epoch 16/100\n",
      "2/2 [==============================] - 9s 3s/step - loss: 1.0013 - accuracy: 0.4608\n",
      "Epoch 17/100\n",
      "2/2 [==============================] - 9s 3s/step - loss: 0.9849 - accuracy: 0.5147\n",
      "Epoch 18/100\n",
      "2/2 [==============================] - 9s 3s/step - loss: 0.9955 - accuracy: 0.4902\n",
      "Epoch 19/100\n",
      "2/2 [==============================] - 9s 3s/step - loss: 0.9923 - accuracy: 0.4657\n",
      "Epoch 20/100\n",
      "2/2 [==============================] - 9s 3s/step - loss: 0.9711 - accuracy: 0.5196\n",
      "Epoch 21/100\n",
      "2/2 [==============================] - 9s 3s/step - loss: 0.9776 - accuracy: 0.4951\n",
      "Epoch 22/100\n",
      "2/2 [==============================] - 9s 3s/step - loss: 0.9654 - accuracy: 0.5196\n",
      "Epoch 23/100\n",
      "2/2 [==============================] - 9s 3s/step - loss: 0.9668 - accuracy: 0.4804\n",
      "Epoch 24/100\n",
      "2/2 [==============================] - 9s 3s/step - loss: 0.9459 - accuracy: 0.5196\n",
      "Epoch 25/100\n",
      "2/2 [==============================] - 9s 3s/step - loss: 0.9327 - accuracy: 0.5588\n",
      "Epoch 26/100\n",
      "2/2 [==============================] - 9s 3s/step - loss: 0.9275 - accuracy: 0.5539\n",
      "Epoch 27/100\n",
      "2/2 [==============================] - 9s 3s/step - loss: 0.9224 - accuracy: 0.5980\n",
      "Epoch 28/100\n",
      "2/2 [==============================] - 9s 3s/step - loss: 0.9064 - accuracy: 0.5686\n",
      "Epoch 29/100\n",
      "2/2 [==============================] - 9s 3s/step - loss: 0.9073 - accuracy: 0.5833\n",
      "Epoch 30/100\n",
      "2/2 [==============================] - 9s 3s/step - loss: 0.8826 - accuracy: 0.6275\n",
      "Epoch 31/100\n",
      "2/2 [==============================] - 9s 3s/step - loss: 0.8889 - accuracy: 0.5735\n",
      "Epoch 32/100\n",
      "2/2 [==============================] - 9s 3s/step - loss: 0.9354 - accuracy: 0.5343\n",
      "Epoch 33/100\n",
      "2/2 [==============================] - 9s 3s/step - loss: 0.9030 - accuracy: 0.5735\n",
      "Epoch 34/100\n",
      "2/2 [==============================] - 9s 3s/step - loss: 0.8668 - accuracy: 0.5980\n",
      "Epoch 35/100\n",
      "2/2 [==============================] - 9s 3s/step - loss: 0.8869 - accuracy: 0.5637\n",
      "Epoch 36/100\n",
      "2/2 [==============================] - 9s 3s/step - loss: 0.8593 - accuracy: 0.6127\n",
      "Epoch 37/100\n",
      "2/2 [==============================] - 9s 3s/step - loss: 0.8335 - accuracy: 0.6520\n",
      "Epoch 38/100\n",
      "2/2 [==============================] - 9s 3s/step - loss: 0.8529 - accuracy: 0.5833\n",
      "Epoch 39/100\n",
      "2/2 [==============================] - 9s 3s/step - loss: 0.8164 - accuracy: 0.6471\n",
      "Epoch 40/100\n",
      "2/2 [==============================] - 9s 3s/step - loss: 0.8783 - accuracy: 0.5784\n",
      "Epoch 41/100\n",
      "2/2 [==============================] - 9s 3s/step - loss: 0.8984 - accuracy: 0.5539\n",
      "Epoch 42/100\n",
      "2/2 [==============================] - 9s 3s/step - loss: 0.8343 - accuracy: 0.5882\n",
      "Epoch 43/100\n",
      "2/2 [==============================] - 9s 3s/step - loss: 0.8931 - accuracy: 0.5343\n",
      "Epoch 44/100\n",
      "2/2 [==============================] - 9s 3s/step - loss: 0.8228 - accuracy: 0.6127\n",
      "Epoch 45/100\n",
      "2/2 [==============================] - 9s 3s/step - loss: 0.8026 - accuracy: 0.6225\n",
      "Epoch 46/100\n",
      "2/2 [==============================] - 9s 3s/step - loss: 0.8211 - accuracy: 0.6225\n",
      "Epoch 47/100\n",
      "2/2 [==============================] - 9s 3s/step - loss: 0.8061 - accuracy: 0.6422\n",
      "Epoch 48/100\n",
      "2/2 [==============================] - 9s 3s/step - loss: 0.7769 - accuracy: 0.6863\n",
      "Epoch 49/100\n",
      "2/2 [==============================] - 9s 3s/step - loss: 0.8031 - accuracy: 0.6422\n",
      "Epoch 50/100\n",
      "2/2 [==============================] - 9s 3s/step - loss: 0.7761 - accuracy: 0.6814\n",
      "Epoch 51/100\n",
      "2/2 [==============================] - 9s 3s/step - loss: 0.7979 - accuracy: 0.6275\n",
      "Epoch 52/100\n",
      "2/2 [==============================] - 9s 3s/step - loss: 0.7774 - accuracy: 0.6569\n",
      "Epoch 53/100\n",
      "2/2 [==============================] - 9s 3s/step - loss: 0.7277 - accuracy: 0.6520\n",
      "Epoch 54/100\n",
      "2/2 [==============================] - 9s 3s/step - loss: 0.8291 - accuracy: 0.6373\n",
      "Epoch 55/100\n",
      "2/2 [==============================] - 9s 3s/step - loss: 0.7432 - accuracy: 0.6569\n",
      "Epoch 56/100\n",
      "2/2 [==============================] - 9s 3s/step - loss: 0.7523 - accuracy: 0.6814\n",
      "Epoch 57/100\n",
      "2/2 [==============================] - 9s 3s/step - loss: 0.7531 - accuracy: 0.6422\n",
      "Epoch 58/100\n",
      "2/2 [==============================] - 9s 3s/step - loss: 0.7412 - accuracy: 0.6961\n",
      "Epoch 59/100\n",
      "2/2 [==============================] - 9s 3s/step - loss: 0.7177 - accuracy: 0.7157\n",
      "Epoch 60/100\n",
      "2/2 [==============================] - 9s 3s/step - loss: 0.6937 - accuracy: 0.7206\n",
      "Epoch 61/100\n",
      "2/2 [==============================] - 9s 3s/step - loss: 0.6991 - accuracy: 0.7157\n",
      "Epoch 62/100\n",
      "2/2 [==============================] - 9s 3s/step - loss: 0.6826 - accuracy: 0.7059\n",
      "Epoch 63/100\n",
      "2/2 [==============================] - 9s 4s/step - loss: 0.6548 - accuracy: 0.7402\n",
      "Epoch 64/100\n",
      "2/2 [==============================] - 9s 3s/step - loss: 0.6963 - accuracy: 0.6912\n",
      "Epoch 65/100\n",
      "2/2 [==============================] - 9s 3s/step - loss: 0.6557 - accuracy: 0.7451\n",
      "Epoch 66/100\n",
      "2/2 [==============================] - 9s 3s/step - loss: 0.6619 - accuracy: 0.7206\n",
      "Epoch 67/100\n",
      "2/2 [==============================] - 9s 3s/step - loss: 0.6467 - accuracy: 0.7157\n",
      "Epoch 68/100\n",
      "2/2 [==============================] - 9s 3s/step - loss: 0.6368 - accuracy: 0.7206\n",
      "Epoch 69/100\n",
      "2/2 [==============================] - 9s 3s/step - loss: 0.6300 - accuracy: 0.7451\n",
      "Epoch 70/100\n",
      "2/2 [==============================] - 9s 3s/step - loss: 0.6055 - accuracy: 0.7794\n",
      "Epoch 71/100\n",
      "2/2 [==============================] - 9s 3s/step - loss: 0.6048 - accuracy: 0.7843\n",
      "Epoch 72/100\n",
      "2/2 [==============================] - 9s 3s/step - loss: 0.6032 - accuracy: 0.7696\n",
      "Epoch 73/100\n",
      "2/2 [==============================] - 9s 3s/step - loss: 0.6123 - accuracy: 0.7647\n",
      "Epoch 74/100\n",
      "2/2 [==============================] - 9s 3s/step - loss: 0.6044 - accuracy: 0.7549\n",
      "Epoch 75/100\n",
      "2/2 [==============================] - 9s 3s/step - loss: 0.5791 - accuracy: 0.7696\n",
      "Epoch 76/100\n",
      "2/2 [==============================] - 9s 3s/step - loss: 0.5669 - accuracy: 0.7941\n",
      "Epoch 77/100\n",
      "2/2 [==============================] - 9s 3s/step - loss: 0.6006 - accuracy: 0.8039\n",
      "Epoch 78/100\n",
      "2/2 [==============================] - 9s 4s/step - loss: 0.6008 - accuracy: 0.7941\n",
      "Epoch 79/100\n",
      "2/2 [==============================] - 10s 4s/step - loss: 0.5569 - accuracy: 0.8039\n",
      "Epoch 80/100\n",
      "2/2 [==============================] - 11s 4s/step - loss: 0.5769 - accuracy: 0.7647\n",
      "Epoch 81/100\n",
      "2/2 [==============================] - 10s 4s/step - loss: 0.5728 - accuracy: 0.7500\n",
      "Epoch 82/100\n",
      "2/2 [==============================] - 11s 3s/step - loss: 0.5938 - accuracy: 0.7696\n",
      "Epoch 83/100\n",
      "2/2 [==============================] - 9s 3s/step - loss: 0.5384 - accuracy: 0.7843\n",
      "Epoch 84/100\n",
      "2/2 [==============================] - 11s 4s/step - loss: 0.5565 - accuracy: 0.7990\n",
      "Epoch 85/100\n",
      "2/2 [==============================] - 9s 3s/step - loss: 0.5758 - accuracy: 0.7402\n",
      "Epoch 86/100\n",
      "2/2 [==============================] - 9s 3s/step - loss: 0.5443 - accuracy: 0.7794\n",
      "Epoch 87/100\n",
      "2/2 [==============================] - 9s 3s/step - loss: 0.5545 - accuracy: 0.7745\n",
      "Epoch 88/100\n",
      "2/2 [==============================] - 9s 3s/step - loss: 0.5192 - accuracy: 0.8333\n",
      "Epoch 89/100\n",
      "2/2 [==============================] - 9s 3s/step - loss: 0.5404 - accuracy: 0.7941\n",
      "Epoch 90/100\n",
      "2/2 [==============================] - 9s 3s/step - loss: 0.5068 - accuracy: 0.8235\n",
      "Epoch 91/100\n",
      "2/2 [==============================] - 9s 4s/step - loss: 0.5517 - accuracy: 0.7647\n",
      "Epoch 92/100\n",
      "2/2 [==============================] - 10s 3s/step - loss: 0.5359 - accuracy: 0.7843\n",
      "Epoch 93/100\n",
      "2/2 [==============================] - 9s 3s/step - loss: 0.5528 - accuracy: 0.7745\n",
      "Epoch 94/100\n",
      "2/2 [==============================] - 9s 3s/step - loss: 0.5113 - accuracy: 0.8039\n",
      "Epoch 95/100\n",
      "2/2 [==============================] - 9s 3s/step - loss: 0.4952 - accuracy: 0.8137\n",
      "Epoch 96/100\n",
      "2/2 [==============================] - 9s 3s/step - loss: 0.4819 - accuracy: 0.8186\n",
      "Epoch 97/100\n",
      "2/2 [==============================] - 9s 3s/step - loss: 0.5126 - accuracy: 0.8235\n",
      "Epoch 98/100\n",
      "2/2 [==============================] - 9s 3s/step - loss: 0.4995 - accuracy: 0.8235\n",
      "Epoch 99/100\n",
      "2/2 [==============================] - 9s 3s/step - loss: 0.5225 - accuracy: 0.8088\n",
      "Epoch 100/100\n",
      "2/2 [==============================] - 9s 3s/step - loss: 0.5466 - accuracy: 0.7402\n"
     ]
    }
   ],
   "source": [
    "details = model.fit(X_train_sc, y_train)"
   ],
   "metadata": {
    "collapsed": false,
    "pycharm": {
     "name": "#%%\n"
    }
   }
  },
  {
   "cell_type": "markdown",
   "source": [
    "<h3>Inception Time</h3>"
   ],
   "metadata": {
    "collapsed": false,
    "pycharm": {
     "name": "#%% md\n"
    }
   }
  },
  {
   "cell_type": "code",
   "execution_count": 2,
   "outputs": [],
   "source": [
    "from sktime.classification.deep_learning import InceptionTimeClassifier"
   ],
   "metadata": {
    "collapsed": false,
    "pycharm": {
     "name": "#%%\n"
    }
   }
  },
  {
   "cell_type": "code",
   "execution_count": 18,
   "outputs": [],
   "source": [
    "model = InceptionTimeClassifier(n_epochs=20, batch_size=32, verbose=True, metrics=metrics)"
   ],
   "metadata": {
    "collapsed": false,
    "pycharm": {
     "name": "#%%\n"
    }
   }
  },
  {
   "cell_type": "code",
   "execution_count": 19,
   "outputs": [
    {
     "name": "stderr",
     "output_type": "stream",
     "text": [
      "C:\\Users\\admin\\PycharmProjects\\TimeSeriesLibraries\\venv\\lib\\site-packages\\sklearn\\preprocessing\\_encoders.py:868: FutureWarning: `sparse` was renamed to `sparse_output` in version 1.2 and will be removed in 1.4. `sparse_output` is ignored unless you leave `sparse` to its default value.\n",
      "  warnings.warn(\n"
     ]
    },
    {
     "name": "stdout",
     "output_type": "stream",
     "text": [
      "Model: \"model\"\n",
      "__________________________________________________________________________________________________\n",
      " Layer (type)                Output Shape                 Param #   Connected to                  \n",
      "==================================================================================================\n",
      " input_1 (InputLayer)        [(None, 810, 54)]            0         []                            \n",
      "                                                                                                  \n",
      " conv1d (Conv1D)             (None, 810, 32)              1728      ['input_1[0][0]']             \n",
      "                                                                                                  \n",
      " max_pooling1d (MaxPooling1  (None, 810, 54)              0         ['input_1[0][0]']             \n",
      " D)                                                                                               \n",
      "                                                                                                  \n",
      " conv1d_1 (Conv1D)           (None, 810, 32)              40960     ['conv1d[0][0]']              \n",
      "                                                                                                  \n",
      " conv1d_2 (Conv1D)           (None, 810, 32)              20480     ['conv1d[0][0]']              \n",
      "                                                                                                  \n",
      " conv1d_3 (Conv1D)           (None, 810, 32)              10240     ['conv1d[0][0]']              \n",
      "                                                                                                  \n",
      " conv1d_4 (Conv1D)           (None, 810, 32)              1728      ['max_pooling1d[0][0]']       \n",
      "                                                                                                  \n",
      " concatenate (Concatenate)   (None, 810, 128)             0         ['conv1d_1[0][0]',            \n",
      "                                                                     'conv1d_2[0][0]',            \n",
      "                                                                     'conv1d_3[0][0]',            \n",
      "                                                                     'conv1d_4[0][0]']            \n",
      "                                                                                                  \n",
      " batch_normalization (Batch  (None, 810, 128)             512       ['concatenate[0][0]']         \n",
      " Normalization)                                                                                   \n",
      "                                                                                                  \n",
      " activation (Activation)     (None, 810, 128)             0         ['batch_normalization[0][0]'] \n",
      "                                                                                                  \n",
      " conv1d_5 (Conv1D)           (None, 810, 32)              4096      ['activation[0][0]']          \n",
      "                                                                                                  \n",
      " max_pooling1d_1 (MaxPoolin  (None, 810, 128)             0         ['activation[0][0]']          \n",
      " g1D)                                                                                             \n",
      "                                                                                                  \n",
      " conv1d_6 (Conv1D)           (None, 810, 32)              40960     ['conv1d_5[0][0]']            \n",
      "                                                                                                  \n",
      " conv1d_7 (Conv1D)           (None, 810, 32)              20480     ['conv1d_5[0][0]']            \n",
      "                                                                                                  \n",
      " conv1d_8 (Conv1D)           (None, 810, 32)              10240     ['conv1d_5[0][0]']            \n",
      "                                                                                                  \n",
      " conv1d_9 (Conv1D)           (None, 810, 32)              4096      ['max_pooling1d_1[0][0]']     \n",
      "                                                                                                  \n",
      " concatenate_1 (Concatenate  (None, 810, 128)             0         ['conv1d_6[0][0]',            \n",
      " )                                                                   'conv1d_7[0][0]',            \n",
      "                                                                     'conv1d_8[0][0]',            \n",
      "                                                                     'conv1d_9[0][0]']            \n",
      "                                                                                                  \n",
      " batch_normalization_1 (Bat  (None, 810, 128)             512       ['concatenate_1[0][0]']       \n",
      " chNormalization)                                                                                 \n",
      "                                                                                                  \n",
      " activation_1 (Activation)   (None, 810, 128)             0         ['batch_normalization_1[0][0]'\n",
      "                                                                    ]                             \n",
      "                                                                                                  \n",
      " conv1d_10 (Conv1D)          (None, 810, 32)              4096      ['activation_1[0][0]']        \n",
      "                                                                                                  \n",
      " max_pooling1d_2 (MaxPoolin  (None, 810, 128)             0         ['activation_1[0][0]']        \n",
      " g1D)                                                                                             \n",
      "                                                                                                  \n",
      " conv1d_11 (Conv1D)          (None, 810, 32)              40960     ['conv1d_10[0][0]']           \n",
      "                                                                                                  \n",
      " conv1d_12 (Conv1D)          (None, 810, 32)              20480     ['conv1d_10[0][0]']           \n",
      "                                                                                                  \n",
      " conv1d_13 (Conv1D)          (None, 810, 32)              10240     ['conv1d_10[0][0]']           \n",
      "                                                                                                  \n",
      " conv1d_14 (Conv1D)          (None, 810, 32)              4096      ['max_pooling1d_2[0][0]']     \n",
      "                                                                                                  \n",
      " concatenate_2 (Concatenate  (None, 810, 128)             0         ['conv1d_11[0][0]',           \n",
      " )                                                                   'conv1d_12[0][0]',           \n",
      "                                                                     'conv1d_13[0][0]',           \n",
      "                                                                     'conv1d_14[0][0]']           \n",
      "                                                                                                  \n",
      " conv1d_15 (Conv1D)          (None, 810, 128)             6912      ['input_1[0][0]']             \n",
      "                                                                                                  \n",
      " batch_normalization_2 (Bat  (None, 810, 128)             512       ['concatenate_2[0][0]']       \n",
      " chNormalization)                                                                                 \n",
      "                                                                                                  \n",
      " batch_normalization_3 (Bat  (None, 810, 128)             512       ['conv1d_15[0][0]']           \n",
      " chNormalization)                                                                                 \n",
      "                                                                                                  \n",
      " activation_2 (Activation)   (None, 810, 128)             0         ['batch_normalization_2[0][0]'\n",
      "                                                                    ]                             \n",
      "                                                                                                  \n",
      " add (Add)                   (None, 810, 128)             0         ['batch_normalization_3[0][0]'\n",
      "                                                                    , 'activation_2[0][0]']       \n",
      "                                                                                                  \n",
      " activation_3 (Activation)   (None, 810, 128)             0         ['add[0][0]']                 \n",
      "                                                                                                  \n",
      " conv1d_16 (Conv1D)          (None, 810, 32)              4096      ['activation_3[0][0]']        \n",
      "                                                                                                  \n",
      " max_pooling1d_3 (MaxPoolin  (None, 810, 128)             0         ['activation_3[0][0]']        \n",
      " g1D)                                                                                             \n",
      "                                                                                                  \n",
      " conv1d_17 (Conv1D)          (None, 810, 32)              40960     ['conv1d_16[0][0]']           \n",
      "                                                                                                  \n",
      " conv1d_18 (Conv1D)          (None, 810, 32)              20480     ['conv1d_16[0][0]']           \n",
      "                                                                                                  \n",
      " conv1d_19 (Conv1D)          (None, 810, 32)              10240     ['conv1d_16[0][0]']           \n",
      "                                                                                                  \n",
      " conv1d_20 (Conv1D)          (None, 810, 32)              4096      ['max_pooling1d_3[0][0]']     \n",
      "                                                                                                  \n",
      " concatenate_3 (Concatenate  (None, 810, 128)             0         ['conv1d_17[0][0]',           \n",
      " )                                                                   'conv1d_18[0][0]',           \n",
      "                                                                     'conv1d_19[0][0]',           \n",
      "                                                                     'conv1d_20[0][0]']           \n",
      "                                                                                                  \n",
      " batch_normalization_4 (Bat  (None, 810, 128)             512       ['concatenate_3[0][0]']       \n",
      " chNormalization)                                                                                 \n",
      "                                                                                                  \n",
      " activation_4 (Activation)   (None, 810, 128)             0         ['batch_normalization_4[0][0]'\n",
      "                                                                    ]                             \n",
      "                                                                                                  \n",
      " conv1d_21 (Conv1D)          (None, 810, 32)              4096      ['activation_4[0][0]']        \n",
      "                                                                                                  \n",
      " max_pooling1d_4 (MaxPoolin  (None, 810, 128)             0         ['activation_4[0][0]']        \n",
      " g1D)                                                                                             \n",
      "                                                                                                  \n",
      " conv1d_22 (Conv1D)          (None, 810, 32)              40960     ['conv1d_21[0][0]']           \n",
      "                                                                                                  \n",
      " conv1d_23 (Conv1D)          (None, 810, 32)              20480     ['conv1d_21[0][0]']           \n",
      "                                                                                                  \n",
      " conv1d_24 (Conv1D)          (None, 810, 32)              10240     ['conv1d_21[0][0]']           \n",
      "                                                                                                  \n",
      " conv1d_25 (Conv1D)          (None, 810, 32)              4096      ['max_pooling1d_4[0][0]']     \n",
      "                                                                                                  \n",
      " concatenate_4 (Concatenate  (None, 810, 128)             0         ['conv1d_22[0][0]',           \n",
      " )                                                                   'conv1d_23[0][0]',           \n",
      "                                                                     'conv1d_24[0][0]',           \n",
      "                                                                     'conv1d_25[0][0]']           \n",
      "                                                                                                  \n",
      " batch_normalization_5 (Bat  (None, 810, 128)             512       ['concatenate_4[0][0]']       \n",
      " chNormalization)                                                                                 \n",
      "                                                                                                  \n",
      " activation_5 (Activation)   (None, 810, 128)             0         ['batch_normalization_5[0][0]'\n",
      "                                                                    ]                             \n",
      "                                                                                                  \n",
      " conv1d_26 (Conv1D)          (None, 810, 32)              4096      ['activation_5[0][0]']        \n",
      "                                                                                                  \n",
      " max_pooling1d_5 (MaxPoolin  (None, 810, 128)             0         ['activation_5[0][0]']        \n",
      " g1D)                                                                                             \n",
      "                                                                                                  \n",
      " conv1d_27 (Conv1D)          (None, 810, 32)              40960     ['conv1d_26[0][0]']           \n",
      "                                                                                                  \n",
      " conv1d_28 (Conv1D)          (None, 810, 32)              20480     ['conv1d_26[0][0]']           \n",
      "                                                                                                  \n",
      " conv1d_29 (Conv1D)          (None, 810, 32)              10240     ['conv1d_26[0][0]']           \n",
      "                                                                                                  \n",
      " conv1d_30 (Conv1D)          (None, 810, 32)              4096      ['max_pooling1d_5[0][0]']     \n",
      "                                                                                                  \n",
      " concatenate_5 (Concatenate  (None, 810, 128)             0         ['conv1d_27[0][0]',           \n",
      " )                                                                   'conv1d_28[0][0]',           \n",
      "                                                                     'conv1d_29[0][0]',           \n",
      "                                                                     'conv1d_30[0][0]']           \n",
      "                                                                                                  \n",
      " conv1d_31 (Conv1D)          (None, 810, 128)             16384     ['activation_3[0][0]']        \n",
      "                                                                                                  \n",
      " batch_normalization_6 (Bat  (None, 810, 128)             512       ['concatenate_5[0][0]']       \n",
      " chNormalization)                                                                                 \n",
      "                                                                                                  \n",
      " batch_normalization_7 (Bat  (None, 810, 128)             512       ['conv1d_31[0][0]']           \n",
      " chNormalization)                                                                                 \n",
      "                                                                                                  \n",
      " activation_6 (Activation)   (None, 810, 128)             0         ['batch_normalization_6[0][0]'\n",
      "                                                                    ]                             \n",
      "                                                                                                  \n",
      " add_1 (Add)                 (None, 810, 128)             0         ['batch_normalization_7[0][0]'\n",
      "                                                                    , 'activation_6[0][0]']       \n",
      "                                                                                                  \n",
      " activation_7 (Activation)   (None, 810, 128)             0         ['add_1[0][0]']               \n",
      "                                                                                                  \n",
      " global_average_pooling1d (  (None, 128)                  0         ['activation_7[0][0]']        \n",
      " GlobalAveragePooling1D)                                                                          \n",
      "                                                                                                  \n",
      " dense (Dense)               (None, 3)                    387       ['global_average_pooling1d[0][\n",
      "                                                                    0]']                          \n",
      "                                                                                                  \n",
      "==================================================================================================\n",
      "Total params: 502275 (1.92 MB)\n",
      "Trainable params: 500227 (1.91 MB)\n",
      "Non-trainable params: 2048 (8.00 KB)\n",
      "__________________________________________________________________________________________________\n",
      "Epoch 1/20\n",
      "7/7 [==============================] - 30s 3s/step - loss: 1.5698 - accuracy: 0.2990 - f1_score: 0.2724 - lr: 0.0010\n",
      "Epoch 2/20\n",
      "7/7 [==============================] - 22s 3s/step - loss: 1.2609 - accuracy: 0.3775 - f1_score: 0.3766 - lr: 0.0010\n",
      "Epoch 3/20\n",
      "7/7 [==============================] - 22s 3s/step - loss: 1.1805 - accuracy: 0.4020 - f1_score: 0.3766 - lr: 0.0010\n",
      "Epoch 4/20\n",
      "7/7 [==============================] - 21s 3s/step - loss: 1.1299 - accuracy: 0.3431 - f1_score: 0.3330 - lr: 0.0010\n",
      "Epoch 5/20\n",
      "7/7 [==============================] - 22s 3s/step - loss: 1.1314 - accuracy: 0.3824 - f1_score: 0.3796 - lr: 0.0010\n",
      "Epoch 6/20\n",
      "7/7 [==============================] - 22s 3s/step - loss: 1.1243 - accuracy: 0.3676 - f1_score: 0.3642 - lr: 0.0010\n",
      "Epoch 7/20\n",
      "7/7 [==============================] - 21s 3s/step - loss: 1.0954 - accuracy: 0.3824 - f1_score: 0.3756 - lr: 0.0010\n",
      "Epoch 8/20\n",
      "7/7 [==============================] - 22s 3s/step - loss: 1.1435 - accuracy: 0.3775 - f1_score: 0.3718 - lr: 0.0010\n",
      "Epoch 9/20\n",
      "7/7 [==============================] - 22s 3s/step - loss: 1.1049 - accuracy: 0.3529 - f1_score: 0.3248 - lr: 0.0010\n",
      "Epoch 10/20\n",
      "7/7 [==============================] - 22s 3s/step - loss: 1.0662 - accuracy: 0.4461 - f1_score: 0.4395 - lr: 0.0010\n",
      "Epoch 11/20\n",
      "7/7 [==============================] - 22s 3s/step - loss: 1.0969 - accuracy: 0.4265 - f1_score: 0.4087 - lr: 0.0010\n",
      "Epoch 12/20\n",
      "7/7 [==============================] - 22s 3s/step - loss: 1.0600 - accuracy: 0.4755 - f1_score: 0.4696 - lr: 0.0010\n",
      "Epoch 13/20\n",
      "7/7 [==============================] - 21s 3s/step - loss: 1.0558 - accuracy: 0.3922 - f1_score: 0.3848 - lr: 0.0010\n",
      "Epoch 14/20\n",
      "7/7 [==============================] - 21s 3s/step - loss: 1.0547 - accuracy: 0.4167 - f1_score: 0.4131 - lr: 0.0010\n",
      "Epoch 15/20\n",
      "7/7 [==============================] - 22s 3s/step - loss: 1.0675 - accuracy: 0.4412 - f1_score: 0.4284 - lr: 0.0010\n",
      "Epoch 16/20\n",
      "7/7 [==============================] - 22s 3s/step - loss: 1.0513 - accuracy: 0.4265 - f1_score: 0.4075 - lr: 0.0010\n",
      "Epoch 17/20\n",
      "7/7 [==============================] - 22s 3s/step - loss: 1.0779 - accuracy: 0.4216 - f1_score: 0.4181 - lr: 0.0010\n",
      "Epoch 18/20\n",
      "7/7 [==============================] - 22s 3s/step - loss: 1.0804 - accuracy: 0.3922 - f1_score: 0.3914 - lr: 0.0010\n",
      "Epoch 19/20\n",
      "7/7 [==============================] - 23s 3s/step - loss: 1.0420 - accuracy: 0.4167 - f1_score: 0.4112 - lr: 0.0010\n",
      "Epoch 20/20\n",
      "7/7 [==============================] - 22s 3s/step - loss: 1.0630 - accuracy: 0.4461 - f1_score: 0.4398 - lr: 0.0010\n"
     ]
    }
   ],
   "source": [
    "details = model.fit(X_train_sc, y_train)"
   ],
   "metadata": {
    "collapsed": false,
    "pycharm": {
     "name": "#%%\n"
    }
   }
  },
  {
   "cell_type": "markdown",
   "source": [
    "<h3>MultiAttention Convolutional Neural Network</h3>"
   ],
   "metadata": {
    "collapsed": false,
    "pycharm": {
     "name": "#%% md\n"
    }
   }
  },
  {
   "cell_type": "code",
   "execution_count": 16,
   "outputs": [],
   "source": [
    "from sktime.classification.deep_learning import MACNNClassifier"
   ],
   "metadata": {
    "collapsed": false,
    "pycharm": {
     "name": "#%%\n"
    }
   }
  },
  {
   "cell_type": "code",
   "execution_count": 17,
   "outputs": [],
   "source": [
    "model = MACNNClassifier(n_epochs=20, batch_size=8, verbose=True, metrics=metrics, activation='softmax')"
   ],
   "metadata": {
    "collapsed": false,
    "pycharm": {
     "name": "#%%\n"
    }
   }
  },
  {
   "cell_type": "code",
   "execution_count": 18,
   "outputs": [
    {
     "name": "stderr",
     "output_type": "stream",
     "text": [
      "C:\\Users\\admin\\PycharmProjects\\TimeSeriesLibraries\\venv\\lib\\site-packages\\sklearn\\preprocessing\\_encoders.py:868: FutureWarning: `sparse` was renamed to `sparse_output` in version 1.2 and will be removed in 1.4. `sparse_output` is ignored unless you leave `sparse` to its default value.\n",
      "  warnings.warn(\n"
     ]
    },
    {
     "name": "stdout",
     "output_type": "stream",
     "text": [
      "Model: \"model\"\n",
      "__________________________________________________________________________________________________\n",
      " Layer (type)                Output Shape                 Param #   Connected to                  \n",
      "==================================================================================================\n",
      " input_1 (InputLayer)        [(None, 810, 54)]            0         []                            \n",
      "                                                                                                  \n",
      " conv1d (Conv1D)             (None, 810, 64)              10432     ['input_1[0][0]']             \n",
      "                                                                                                  \n",
      " conv1d_1 (Conv1D)           (None, 810, 64)              20800     ['input_1[0][0]']             \n",
      "                                                                                                  \n",
      " conv1d_2 (Conv1D)           (None, 810, 64)              41536     ['input_1[0][0]']             \n",
      "                                                                                                  \n",
      " concatenate (Concatenate)   (None, 810, 192)             0         ['conv1d[0][0]',              \n",
      "                                                                     'conv1d_1[0][0]',            \n",
      "                                                                     'conv1d_2[0][0]']            \n",
      "                                                                                                  \n",
      " batch_normalization (Batch  (None, 810, 192)             768       ['concatenate[0][0]']         \n",
      " Normalization)                                                                                   \n",
      "                                                                                                  \n",
      " activation (Activation)     (None, 810, 192)             0         ['batch_normalization[0][0]'] \n",
      "                                                                                                  \n",
      " tf.math.reduce_mean (TFOpL  (None, 192)                  0         ['activation[0][0]']          \n",
      " ambda)                                                                                           \n",
      "                                                                                                  \n",
      " dense (Dense)               (None, 12)                   2304      ['tf.math.reduce_mean[0][0]'] \n",
      "                                                                                                  \n",
      " dense_1 (Dense)             (None, 192)                  2304      ['dense[0][0]']               \n",
      "                                                                                                  \n",
      " tf.reshape (TFOpLambda)     (None, 1, 192)               0         ['dense_1[0][0]']             \n",
      "                                                                                                  \n",
      " tf.math.multiply (TFOpLamb  (None, 810, 192)             0         ['activation[0][0]',          \n",
      " da)                                                                 'tf.reshape[0][0]']          \n",
      "                                                                                                  \n",
      " conv1d_3 (Conv1D)           (None, 810, 64)              36928     ['tf.math.multiply[0][0]']    \n",
      "                                                                                                  \n",
      " conv1d_4 (Conv1D)           (None, 810, 64)              73792     ['tf.math.multiply[0][0]']    \n",
      "                                                                                                  \n",
      " conv1d_5 (Conv1D)           (None, 810, 64)              147520    ['tf.math.multiply[0][0]']    \n",
      "                                                                                                  \n",
      " concatenate_1 (Concatenate  (None, 810, 192)             0         ['conv1d_3[0][0]',            \n",
      " )                                                                   'conv1d_4[0][0]',            \n",
      "                                                                     'conv1d_5[0][0]']            \n",
      "                                                                                                  \n",
      " batch_normalization_1 (Bat  (None, 810, 192)             768       ['concatenate_1[0][0]']       \n",
      " chNormalization)                                                                                 \n",
      "                                                                                                  \n",
      " activation_1 (Activation)   (None, 810, 192)             0         ['batch_normalization_1[0][0]'\n",
      "                                                                    ]                             \n",
      "                                                                                                  \n",
      " tf.math.reduce_mean_1 (TFO  (None, 192)                  0         ['activation_1[0][0]']        \n",
      " pLambda)                                                                                         \n",
      "                                                                                                  \n",
      " dense_2 (Dense)             (None, 12)                   2304      ['tf.math.reduce_mean_1[0][0]'\n",
      "                                                                    ]                             \n",
      "                                                                                                  \n",
      " dense_3 (Dense)             (None, 192)                  2304      ['dense_2[0][0]']             \n",
      "                                                                                                  \n",
      " tf.reshape_1 (TFOpLambda)   (None, 1, 192)               0         ['dense_3[0][0]']             \n",
      "                                                                                                  \n",
      " tf.math.multiply_1 (TFOpLa  (None, 810, 192)             0         ['activation_1[0][0]',        \n",
      " mbda)                                                               'tf.reshape_1[0][0]']        \n",
      "                                                                                                  \n",
      " max_pooling1d (MaxPooling1  (None, 405, 192)             0         ['tf.math.multiply_1[0][0]']  \n",
      " D)                                                                                               \n",
      "                                                                                                  \n",
      " conv1d_6 (Conv1D)           (None, 405, 128)             73856     ['max_pooling1d[0][0]']       \n",
      "                                                                                                  \n",
      " conv1d_7 (Conv1D)           (None, 405, 128)             147584    ['max_pooling1d[0][0]']       \n",
      "                                                                                                  \n",
      " conv1d_8 (Conv1D)           (None, 405, 128)             295040    ['max_pooling1d[0][0]']       \n",
      "                                                                                                  \n",
      " concatenate_2 (Concatenate  (None, 405, 384)             0         ['conv1d_6[0][0]',            \n",
      " )                                                                   'conv1d_7[0][0]',            \n",
      "                                                                     'conv1d_8[0][0]']            \n",
      "                                                                                                  \n",
      " batch_normalization_2 (Bat  (None, 405, 384)             1536      ['concatenate_2[0][0]']       \n",
      " chNormalization)                                                                                 \n",
      "                                                                                                  \n",
      " activation_2 (Activation)   (None, 405, 384)             0         ['batch_normalization_2[0][0]'\n",
      "                                                                    ]                             \n",
      "                                                                                                  \n",
      " tf.math.reduce_mean_2 (TFO  (None, 384)                  0         ['activation_2[0][0]']        \n",
      " pLambda)                                                                                         \n",
      "                                                                                                  \n",
      " dense_4 (Dense)             (None, 24)                   9216      ['tf.math.reduce_mean_2[0][0]'\n",
      "                                                                    ]                             \n",
      "                                                                                                  \n",
      " dense_5 (Dense)             (None, 384)                  9216      ['dense_4[0][0]']             \n",
      "                                                                                                  \n",
      " tf.reshape_2 (TFOpLambda)   (None, 1, 384)               0         ['dense_5[0][0]']             \n",
      "                                                                                                  \n",
      " tf.math.multiply_2 (TFOpLa  (None, 405, 384)             0         ['activation_2[0][0]',        \n",
      " mbda)                                                               'tf.reshape_2[0][0]']        \n",
      "                                                                                                  \n",
      " conv1d_9 (Conv1D)           (None, 405, 128)             147584    ['tf.math.multiply_2[0][0]']  \n",
      "                                                                                                  \n",
      " conv1d_10 (Conv1D)          (None, 405, 128)             295040    ['tf.math.multiply_2[0][0]']  \n",
      "                                                                                                  \n",
      " conv1d_11 (Conv1D)          (None, 405, 128)             589952    ['tf.math.multiply_2[0][0]']  \n",
      "                                                                                                  \n",
      " concatenate_3 (Concatenate  (None, 405, 384)             0         ['conv1d_9[0][0]',            \n",
      " )                                                                   'conv1d_10[0][0]',           \n",
      "                                                                     'conv1d_11[0][0]']           \n",
      "                                                                                                  \n",
      " batch_normalization_3 (Bat  (None, 405, 384)             1536      ['concatenate_3[0][0]']       \n",
      " chNormalization)                                                                                 \n",
      "                                                                                                  \n",
      " activation_3 (Activation)   (None, 405, 384)             0         ['batch_normalization_3[0][0]'\n",
      "                                                                    ]                             \n",
      "                                                                                                  \n",
      " tf.math.reduce_mean_3 (TFO  (None, 384)                  0         ['activation_3[0][0]']        \n",
      " pLambda)                                                                                         \n",
      "                                                                                                  \n",
      " dense_6 (Dense)             (None, 24)                   9216      ['tf.math.reduce_mean_3[0][0]'\n",
      "                                                                    ]                             \n",
      "                                                                                                  \n",
      " dense_7 (Dense)             (None, 384)                  9216      ['dense_6[0][0]']             \n",
      "                                                                                                  \n",
      " tf.reshape_3 (TFOpLambda)   (None, 1, 384)               0         ['dense_7[0][0]']             \n",
      "                                                                                                  \n",
      " tf.math.multiply_3 (TFOpLa  (None, 405, 384)             0         ['activation_3[0][0]',        \n",
      " mbda)                                                               'tf.reshape_3[0][0]']        \n",
      "                                                                                                  \n",
      " max_pooling1d_1 (MaxPoolin  (None, 203, 384)             0         ['tf.math.multiply_3[0][0]']  \n",
      " g1D)                                                                                             \n",
      "                                                                                                  \n",
      " conv1d_12 (Conv1D)          (None, 203, 256)             295168    ['max_pooling1d_1[0][0]']     \n",
      "                                                                                                  \n",
      " conv1d_13 (Conv1D)          (None, 203, 256)             590080    ['max_pooling1d_1[0][0]']     \n",
      "                                                                                                  \n",
      " conv1d_14 (Conv1D)          (None, 203, 256)             1179904   ['max_pooling1d_1[0][0]']     \n",
      "                                                                                                  \n",
      " concatenate_4 (Concatenate  (None, 203, 768)             0         ['conv1d_12[0][0]',           \n",
      " )                                                                   'conv1d_13[0][0]',           \n",
      "                                                                     'conv1d_14[0][0]']           \n",
      "                                                                                                  \n",
      " batch_normalization_4 (Bat  (None, 203, 768)             3072      ['concatenate_4[0][0]']       \n",
      " chNormalization)                                                                                 \n",
      "                                                                                                  \n",
      " activation_4 (Activation)   (None, 203, 768)             0         ['batch_normalization_4[0][0]'\n",
      "                                                                    ]                             \n",
      "                                                                                                  \n",
      " tf.math.reduce_mean_4 (TFO  (None, 768)                  0         ['activation_4[0][0]']        \n",
      " pLambda)                                                                                         \n",
      "                                                                                                  \n",
      " dense_8 (Dense)             (None, 48)                   36864     ['tf.math.reduce_mean_4[0][0]'\n",
      "                                                                    ]                             \n",
      "                                                                                                  \n",
      " dense_9 (Dense)             (None, 768)                  36864     ['dense_8[0][0]']             \n",
      "                                                                                                  \n",
      " tf.reshape_4 (TFOpLambda)   (None, 1, 768)               0         ['dense_9[0][0]']             \n",
      "                                                                                                  \n",
      " tf.math.multiply_4 (TFOpLa  (None, 203, 768)             0         ['activation_4[0][0]',        \n",
      " mbda)                                                               'tf.reshape_4[0][0]']        \n",
      "                                                                                                  \n",
      " conv1d_15 (Conv1D)          (None, 203, 256)             590080    ['tf.math.multiply_4[0][0]']  \n",
      "                                                                                                  \n",
      " conv1d_16 (Conv1D)          (None, 203, 256)             1179904   ['tf.math.multiply_4[0][0]']  \n",
      "                                                                                                  \n",
      " conv1d_17 (Conv1D)          (None, 203, 256)             2359552   ['tf.math.multiply_4[0][0]']  \n",
      "                                                                                                  \n",
      " concatenate_5 (Concatenate  (None, 203, 768)             0         ['conv1d_15[0][0]',           \n",
      " )                                                                   'conv1d_16[0][0]',           \n",
      "                                                                     'conv1d_17[0][0]']           \n",
      "                                                                                                  \n",
      " batch_normalization_5 (Bat  (None, 203, 768)             3072      ['concatenate_5[0][0]']       \n",
      " chNormalization)                                                                                 \n",
      "                                                                                                  \n",
      " activation_5 (Activation)   (None, 203, 768)             0         ['batch_normalization_5[0][0]'\n",
      "                                                                    ]                             \n",
      "                                                                                                  \n",
      " tf.math.reduce_mean_5 (TFO  (None, 768)                  0         ['activation_5[0][0]']        \n",
      " pLambda)                                                                                         \n",
      "                                                                                                  \n",
      " dense_10 (Dense)            (None, 48)                   36864     ['tf.math.reduce_mean_5[0][0]'\n",
      "                                                                    ]                             \n",
      "                                                                                                  \n",
      " dense_11 (Dense)            (None, 768)                  36864     ['dense_10[0][0]']            \n",
      "                                                                                                  \n",
      " tf.reshape_5 (TFOpLambda)   (None, 1, 768)               0         ['dense_11[0][0]']            \n",
      "                                                                                                  \n",
      " tf.math.multiply_5 (TFOpLa  (None, 203, 768)             0         ['activation_5[0][0]',        \n",
      " mbda)                                                               'tf.reshape_5[0][0]']        \n",
      "                                                                                                  \n",
      " tf.math.reduce_mean_6 (TFO  (None, 768)                  0         ['tf.math.multiply_5[0][0]']  \n",
      " pLambda)                                                                                         \n",
      "                                                                                                  \n",
      " dense_12 (Dense)            (None, 3)                    2307      ['tf.math.reduce_mean_6[0][0]'\n",
      "                                                                    ]                             \n",
      "                                                                                                  \n",
      "==================================================================================================\n",
      "Total params: 8281347 (31.59 MB)\n",
      "Trainable params: 8275971 (31.57 MB)\n",
      "Non-trainable params: 5376 (21.00 KB)\n",
      "__________________________________________________________________________________________________\n",
      "Epoch 1/20\n",
      "26/26 [==============================] - 87s 3s/step - loss: 1.1260 - accuracy: 0.3627 - f1_score: 0.2869\n",
      "Epoch 2/20\n",
      "26/26 [==============================] - 77s 3s/step - loss: 1.1203 - accuracy: 0.3676 - f1_score: 0.2847\n",
      "Epoch 3/20\n",
      "26/26 [==============================] - 77s 3s/step - loss: 1.1101 - accuracy: 0.3284 - f1_score: 0.2439\n",
      "Epoch 4/20\n",
      "26/26 [==============================] - 78s 3s/step - loss: 1.1037 - accuracy: 0.3480 - f1_score: 0.2586\n",
      "Epoch 5/20\n",
      "26/26 [==============================] - 77s 3s/step - loss: 1.1044 - accuracy: 0.2500 - f1_score: 0.2391\n",
      "Epoch 6/20\n",
      "26/26 [==============================] - 84s 3s/step - loss: 1.1037 - accuracy: 0.3088 - f1_score: 0.2259\n",
      "Epoch 7/20\n",
      "26/26 [==============================] - 81s 3s/step - loss: 1.1111 - accuracy: 0.2598 - f1_score: 0.2044\n",
      "Epoch 8/20\n",
      "26/26 [==============================] - 79s 3s/step - loss: 1.0936 - accuracy: 0.3186 - f1_score: 0.2505\n",
      "Epoch 9/20\n",
      "26/26 [==============================] - 79s 3s/step - loss: 1.1074 - accuracy: 0.3088 - f1_score: 0.2550\n",
      "Epoch 10/20\n",
      "26/26 [==============================] - 80s 3s/step - loss: 1.1100 - accuracy: 0.3529 - f1_score: 0.2885\n",
      "Epoch 11/20\n",
      "26/26 [==============================] - 77s 3s/step - loss: 1.1001 - accuracy: 0.2941 - f1_score: 0.2032\n",
      "Epoch 12/20\n",
      "26/26 [==============================] - 78s 3s/step - loss: 1.0996 - accuracy: 0.3284 - f1_score: 0.2725\n",
      "Epoch 13/20\n",
      "26/26 [==============================] - 80s 3s/step - loss: 1.0992 - accuracy: 0.3578 - f1_score: 0.2248\n",
      "Epoch 14/20\n",
      "26/26 [==============================] - 79s 3s/step - loss: 1.1031 - accuracy: 0.3137 - f1_score: 0.1859\n",
      "Epoch 15/20\n",
      "26/26 [==============================] - 80s 3s/step - loss: 1.0959 - accuracy: 0.3480 - f1_score: 0.3462\n",
      "Epoch 16/20\n",
      "26/26 [==============================] - 79s 3s/step - loss: 1.0986 - accuracy: 0.2843 - f1_score: 0.2802\n",
      "Epoch 17/20\n",
      "26/26 [==============================] - 78s 3s/step - loss: 1.1002 - accuracy: 0.3186 - f1_score: 0.2798\n",
      "Epoch 18/20\n",
      "26/26 [==============================] - 77s 3s/step - loss: 1.1010 - accuracy: 0.3284 - f1_score: 0.2237\n",
      "Epoch 19/20\n",
      "26/26 [==============================] - 83s 3s/step - loss: 1.0968 - accuracy: 0.3137 - f1_score: 0.2894\n",
      "Epoch 20/20\n",
      "26/26 [==============================] - 79s 3s/step - loss: 1.0997 - accuracy: 0.3186 - f1_score: 0.2737\n"
     ]
    }
   ],
   "source": [
    "details = model.fit(X_train_sc, y_train)"
   ],
   "metadata": {
    "collapsed": false,
    "pycharm": {
     "name": "#%%\n"
    }
   }
  }
 ],
 "metadata": {
  "kernelspec": {
   "display_name": "Python 3 (ipykernel)",
   "language": "python",
   "name": "python3"
  },
  "language_info": {
   "codemirror_mode": {
    "name": "ipython",
    "version": 3
   },
   "file_extension": ".py",
   "mimetype": "text/x-python",
   "name": "python",
   "nbconvert_exporter": "python",
   "pygments_lexer": "ipython3",
   "version": "3.9.12"
  }
 },
 "nbformat": 4,
 "nbformat_minor": 5
}