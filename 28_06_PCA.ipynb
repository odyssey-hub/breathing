{
 "cells": [
  {
   "cell_type": "code",
   "execution_count": 1,
   "metadata": {
    "collapsed": true,
    "pycharm": {
     "name": "#%%\n"
    }
   },
   "outputs": [],
   "source": [
    "import pandas as pd\n",
    "from sklearn.preprocessing import LabelEncoder\n",
    "import numpy as np"
   ]
  },
  {
   "cell_type": "code",
   "execution_count": 2,
   "outputs": [],
   "source": [
    "from sklearn.decomposition import PCA\n",
    "from sklearn.discriminant_analysis import LinearDiscriminantAnalysis\n",
    "from sklearn.manifold import LocallyLinearEmbedding"
   ],
   "metadata": {
    "collapsed": false,
    "pycharm": {
     "name": "#%%\n"
    }
   }
  },
  {
   "cell_type": "code",
   "execution_count": 3,
   "outputs": [
    {
     "data": {
      "text/plain": "   ID Sex Had_Covid Lung_Damage  Damage_Percent Breathing_Type  Frequency  \\\n0   1   M        No          No       -0.207005        грудное  -0.144237   \n1   1   M        No          No       -0.207005        грудное  -0.144237   \n2   1   M        No          No       -0.207005        грудное  -0.144237   \n3   1   M        No          No       -0.207005        грудное  -0.144237   \n4   1   M        No          No       -0.207005        грудное  -0.144237   \n\n   Amplitude DominatorFreq  DominatorFreqPower  ...  Sin_Period23  \\\n0   0.147009         D_2_3            0.145303  ...     -0.178712   \n1   0.147009         D_1_2            0.005050  ...     -0.183415   \n2   0.147009         D_1_2           -0.002082  ...     -0.177844   \n3   0.147009         D_1_3            2.362165  ...     -0.182131   \n4   0.147009         D_1_3            2.536107  ...     -0.191648   \n\n   Sin_Amp23/Sin_Amp13  Sin_Amp12/Sin_Amp13  Sin_Amp12/Sin_Amp23  \\\n0             0.002273            -0.001832            -0.032392   \n1             0.002486            -0.001808            -0.029759   \n2             0.002607            -0.001792            -0.030606   \n3             0.002219            -0.002349            -0.030553   \n4             0.003473            -0.001519            -0.031048   \n\n   Sin_Omega23/Sin_Omega13  Sin_Omega12/Sin_Omega13  Sin_Omega12/Sin_Omega23  \\\n0                -0.156378                -0.155622                -0.156309   \n1                -0.151883                -0.154821                -0.159698   \n2                -0.157144                -0.156177                -0.155971   \n3                -0.152623                -0.155988                -0.160060   \n4                -0.165326                -0.156451                -0.137226   \n\n   (Sin_Offset23/Sin_Offset13)^2  (Sin_Offset12/Sin_Offset13)^2  \\\n0                      -0.088206                      -0.063808   \n1                      -0.088211                      -0.063809   \n2                      -0.088215                      -0.063811   \n3                      -0.088219                      -0.063815   \n4                      -0.088204                      -0.063811   \n\n   (Sin_Offset12/Sin_Offset23)^2  \n0                      -0.059907  \n1                      -0.059906  \n2                      -0.059905  \n3                      -0.059905  \n4                      -0.059908  \n\n[5 rows x 39 columns]",
      "text/html": "<div>\n<style scoped>\n    .dataframe tbody tr th:only-of-type {\n        vertical-align: middle;\n    }\n\n    .dataframe tbody tr th {\n        vertical-align: top;\n    }\n\n    .dataframe thead th {\n        text-align: right;\n    }\n</style>\n<table border=\"1\" class=\"dataframe\">\n  <thead>\n    <tr style=\"text-align: right;\">\n      <th></th>\n      <th>ID</th>\n      <th>Sex</th>\n      <th>Had_Covid</th>\n      <th>Lung_Damage</th>\n      <th>Damage_Percent</th>\n      <th>Breathing_Type</th>\n      <th>Frequency</th>\n      <th>Amplitude</th>\n      <th>DominatorFreq</th>\n      <th>DominatorFreqPower</th>\n      <th>...</th>\n      <th>Sin_Period23</th>\n      <th>Sin_Amp23/Sin_Amp13</th>\n      <th>Sin_Amp12/Sin_Amp13</th>\n      <th>Sin_Amp12/Sin_Amp23</th>\n      <th>Sin_Omega23/Sin_Omega13</th>\n      <th>Sin_Omega12/Sin_Omega13</th>\n      <th>Sin_Omega12/Sin_Omega23</th>\n      <th>(Sin_Offset23/Sin_Offset13)^2</th>\n      <th>(Sin_Offset12/Sin_Offset13)^2</th>\n      <th>(Sin_Offset12/Sin_Offset23)^2</th>\n    </tr>\n  </thead>\n  <tbody>\n    <tr>\n      <th>0</th>\n      <td>1</td>\n      <td>M</td>\n      <td>No</td>\n      <td>No</td>\n      <td>-0.207005</td>\n      <td>грудное</td>\n      <td>-0.144237</td>\n      <td>0.147009</td>\n      <td>D_2_3</td>\n      <td>0.145303</td>\n      <td>...</td>\n      <td>-0.178712</td>\n      <td>0.002273</td>\n      <td>-0.001832</td>\n      <td>-0.032392</td>\n      <td>-0.156378</td>\n      <td>-0.155622</td>\n      <td>-0.156309</td>\n      <td>-0.088206</td>\n      <td>-0.063808</td>\n      <td>-0.059907</td>\n    </tr>\n    <tr>\n      <th>1</th>\n      <td>1</td>\n      <td>M</td>\n      <td>No</td>\n      <td>No</td>\n      <td>-0.207005</td>\n      <td>грудное</td>\n      <td>-0.144237</td>\n      <td>0.147009</td>\n      <td>D_1_2</td>\n      <td>0.005050</td>\n      <td>...</td>\n      <td>-0.183415</td>\n      <td>0.002486</td>\n      <td>-0.001808</td>\n      <td>-0.029759</td>\n      <td>-0.151883</td>\n      <td>-0.154821</td>\n      <td>-0.159698</td>\n      <td>-0.088211</td>\n      <td>-0.063809</td>\n      <td>-0.059906</td>\n    </tr>\n    <tr>\n      <th>2</th>\n      <td>1</td>\n      <td>M</td>\n      <td>No</td>\n      <td>No</td>\n      <td>-0.207005</td>\n      <td>грудное</td>\n      <td>-0.144237</td>\n      <td>0.147009</td>\n      <td>D_1_2</td>\n      <td>-0.002082</td>\n      <td>...</td>\n      <td>-0.177844</td>\n      <td>0.002607</td>\n      <td>-0.001792</td>\n      <td>-0.030606</td>\n      <td>-0.157144</td>\n      <td>-0.156177</td>\n      <td>-0.155971</td>\n      <td>-0.088215</td>\n      <td>-0.063811</td>\n      <td>-0.059905</td>\n    </tr>\n    <tr>\n      <th>3</th>\n      <td>1</td>\n      <td>M</td>\n      <td>No</td>\n      <td>No</td>\n      <td>-0.207005</td>\n      <td>грудное</td>\n      <td>-0.144237</td>\n      <td>0.147009</td>\n      <td>D_1_3</td>\n      <td>2.362165</td>\n      <td>...</td>\n      <td>-0.182131</td>\n      <td>0.002219</td>\n      <td>-0.002349</td>\n      <td>-0.030553</td>\n      <td>-0.152623</td>\n      <td>-0.155988</td>\n      <td>-0.160060</td>\n      <td>-0.088219</td>\n      <td>-0.063815</td>\n      <td>-0.059905</td>\n    </tr>\n    <tr>\n      <th>4</th>\n      <td>1</td>\n      <td>M</td>\n      <td>No</td>\n      <td>No</td>\n      <td>-0.207005</td>\n      <td>грудное</td>\n      <td>-0.144237</td>\n      <td>0.147009</td>\n      <td>D_1_3</td>\n      <td>2.536107</td>\n      <td>...</td>\n      <td>-0.191648</td>\n      <td>0.003473</td>\n      <td>-0.001519</td>\n      <td>-0.031048</td>\n      <td>-0.165326</td>\n      <td>-0.156451</td>\n      <td>-0.137226</td>\n      <td>-0.088204</td>\n      <td>-0.063811</td>\n      <td>-0.059908</td>\n    </tr>\n  </tbody>\n</table>\n<p>5 rows × 39 columns</p>\n</div>"
     },
     "execution_count": 3,
     "metadata": {},
     "output_type": "execute_result"
    }
   ],
   "source": [
    "#загрузка датасета\n",
    "df = pd.read_csv(\"breathes.csv\")\n",
    "df = df.drop(columns=['Unnamed: 0', 'Date_Of_Birth', 'Begin_Of_Covid', 'End_Of_Covid'])\n",
    "df.head()"
   ],
   "metadata": {
    "collapsed": false,
    "pycharm": {
     "name": "#%%\n"
    }
   }
  },
  {
   "cell_type": "code",
   "execution_count": 4,
   "outputs": [],
   "source": [
    "#целевой признак\n",
    "y = df['Breathing_Type']\n",
    "#категориальные переменные\n",
    "categorical_cols = ['Sex', 'Had_Covid', 'Lung_Damage', 'DominatorFreq']\n",
    "X_categorical = df[categorical_cols]\n",
    "#численные переменные\n",
    "non_numerical_cols = categorical_cols + ['ID', 'Breathing_Type']\n",
    "X_numeric = df.drop(columns=non_numerical_cols)"
   ],
   "metadata": {
    "collapsed": false,
    "pycharm": {
     "name": "#%%\n"
    }
   }
  },
  {
   "cell_type": "code",
   "execution_count": null,
   "outputs": [],
   "source": [
    "#трансформация категориальных переменных\n",
    "le = LabelEncoder()\n",
    "for col in X_categorical.columns:\n",
    "    X_categorical[col]= le.fit_transform(X_categorical[col])\n",
    "le = LabelEncoder()\n",
    "y = le.fit_transform(y)"
   ],
   "metadata": {
    "collapsed": false,
    "pycharm": {
     "name": "#%%\n",
     "is_executing": true
    }
   }
  },
  {
   "cell_type": "code",
   "execution_count": 6,
   "outputs": [],
   "source": [
    "#все входные признаки\n",
    "X = np.concatenate((X_numeric, X_categorical), axis=1)\n",
    "X_df = pd.concat([X_numeric, X_categorical], axis=1)"
   ],
   "metadata": {
    "collapsed": false,
    "pycharm": {
     "name": "#%%\n"
    }
   }
  },
  {
   "cell_type": "code",
   "execution_count": 12,
   "outputs": [],
   "source": [
    "def calc_feature_importances(coeffs):\n",
    "    feature_importance = pd.DataFrame({'Feature': X_df.columns, 'Importance': coeffs})\n",
    "    feature_importance = feature_importance.sort_values('Importance', ascending=False)\n",
    "    return feature_importance"
   ],
   "metadata": {
    "collapsed": false,
    "pycharm": {
     "name": "#%%\n"
    }
   }
  },
  {
   "cell_type": "markdown",
   "source": [
    "<h3>PCA</h3>"
   ],
   "metadata": {
    "collapsed": false,
    "pycharm": {
     "name": "#%% md\n"
    }
   }
  },
  {
   "cell_type": "code",
   "execution_count": 23,
   "outputs": [],
   "source": [
    "# Создание объекта PCA\n",
    "pca = PCA()\n",
    "# Применение PCA к данным\n",
    "res = pca.fit(X)"
   ],
   "metadata": {
    "collapsed": false,
    "pycharm": {
     "name": "#%%\n"
    }
   }
  },
  {
   "cell_type": "code",
   "execution_count": 24,
   "outputs": [],
   "source": [
    "# Получение вклада каждой компоненты (explained variance ratio)\n",
    "explained_variance = pca.explained_variance_ratio_\n",
    "df_features = calc_feature_importances(explained_variance)"
   ],
   "metadata": {
    "collapsed": false,
    "pycharm": {
     "name": "#%%\n"
    }
   }
  },
  {
   "cell_type": "code",
   "execution_count": 25,
   "outputs": [],
   "source": [
    "# Получение модулей собственных чисел\n",
    "singular_values = pca.singular_values_\n",
    "df_features['explained_variance'] = df_features['Importance']\n",
    "df_features['singular_values'] = calc_feature_importances(singular_values)['Importance']"
   ],
   "metadata": {
    "collapsed": false,
    "pycharm": {
     "name": "#%%\n"
    }
   }
  },
  {
   "cell_type": "code",
   "execution_count": 27,
   "outputs": [
    {
     "data": {
      "text/plain": "                          Feature  explained_variance  singular_values\n0                  Damage_Percent        1.561671e-01     7.769965e+01\n1                       Frequency        9.620651e-02     6.098549e+01\n2                       Amplitude        7.380878e-02     5.341685e+01\n3              DominatorFreqPower        6.154310e-02     4.877688e+01\n4                       D_1_2_Avg        5.706020e-02     4.696680e+01\n5                       D_2_3_Avg        4.997057e-02     4.395228e+01\n6                       Sin_Amp12        4.611448e-02     4.222240e+01\n7                      Sin_Freq12        4.479772e-02     4.161522e+01\n8                     Sin_Phase12        3.857210e-02     3.861543e+01\n9                     Sin_Omega12        3.768146e-02     3.816701e+01\n10                   Sin_Offset12        3.542941e-02     3.700891e+01\n11                   Sin_Period12        3.170788e-02     3.501127e+01\n12                      Sin_Amp13        2.942171e-02     3.372549e+01\n13                     Sin_Freq13        2.809065e-02     3.295378e+01\n14                    Sin_Phase13        2.708489e-02     3.235846e+01\n15                    Sin_Omega13        2.276182e-02     2.966387e+01\n16                   Sin_Offset13        2.172846e-02     2.898269e+01\n17                   Sin_Period13        1.970951e-02     2.760338e+01\n18                      Sin_Amp23        1.901453e-02     2.711234e+01\n19                     Sin_Freq23        1.705915e-02     2.568047e+01\n20                    Sin_Phase23        1.329416e-02     2.267017e+01\n21                    Sin_Omega23        1.194861e-02     2.149230e+01\n22                   Sin_Offset23        1.084169e-02     2.047259e+01\n23                   Sin_Period23        9.709905e-03     1.937456e+01\n24            Sin_Amp23/Sin_Amp13        8.156338e-03     1.775709e+01\n25            Sin_Amp12/Sin_Amp13        7.686912e-03     1.723853e+01\n26            Sin_Amp12/Sin_Amp23        6.582913e-03     1.595267e+01\n27        Sin_Omega23/Sin_Omega13        5.575633e-03     1.468153e+01\n28        Sin_Omega12/Sin_Omega13        4.349720e-03     1.296746e+01\n29        Sin_Omega12/Sin_Omega23        3.000122e-03     1.076946e+01\n30  (Sin_Offset23/Sin_Offset13)^2        2.698957e-03     1.021462e+01\n31  (Sin_Offset12/Sin_Offset13)^2        1.441236e-03     7.464347e+00\n32  (Sin_Offset12/Sin_Offset23)^2        6.092212e-04     4.853017e+00\n33                            Sex        1.745368e-04     2.597573e+00\n34                      Had_Covid        3.079853e-32     3.450558e-14\n35                    Lung_Damage        1.940481e-33     8.661217e-15\n36                  DominatorFreq        1.663490e-33     8.019262e-15",
      "text/html": "<div>\n<style scoped>\n    .dataframe tbody tr th:only-of-type {\n        vertical-align: middle;\n    }\n\n    .dataframe tbody tr th {\n        vertical-align: top;\n    }\n\n    .dataframe thead th {\n        text-align: right;\n    }\n</style>\n<table border=\"1\" class=\"dataframe\">\n  <thead>\n    <tr style=\"text-align: right;\">\n      <th></th>\n      <th>Feature</th>\n      <th>explained_variance</th>\n      <th>singular_values</th>\n    </tr>\n  </thead>\n  <tbody>\n    <tr>\n      <th>0</th>\n      <td>Damage_Percent</td>\n      <td>1.561671e-01</td>\n      <td>7.769965e+01</td>\n    </tr>\n    <tr>\n      <th>1</th>\n      <td>Frequency</td>\n      <td>9.620651e-02</td>\n      <td>6.098549e+01</td>\n    </tr>\n    <tr>\n      <th>2</th>\n      <td>Amplitude</td>\n      <td>7.380878e-02</td>\n      <td>5.341685e+01</td>\n    </tr>\n    <tr>\n      <th>3</th>\n      <td>DominatorFreqPower</td>\n      <td>6.154310e-02</td>\n      <td>4.877688e+01</td>\n    </tr>\n    <tr>\n      <th>4</th>\n      <td>D_1_2_Avg</td>\n      <td>5.706020e-02</td>\n      <td>4.696680e+01</td>\n    </tr>\n    <tr>\n      <th>5</th>\n      <td>D_2_3_Avg</td>\n      <td>4.997057e-02</td>\n      <td>4.395228e+01</td>\n    </tr>\n    <tr>\n      <th>6</th>\n      <td>Sin_Amp12</td>\n      <td>4.611448e-02</td>\n      <td>4.222240e+01</td>\n    </tr>\n    <tr>\n      <th>7</th>\n      <td>Sin_Freq12</td>\n      <td>4.479772e-02</td>\n      <td>4.161522e+01</td>\n    </tr>\n    <tr>\n      <th>8</th>\n      <td>Sin_Phase12</td>\n      <td>3.857210e-02</td>\n      <td>3.861543e+01</td>\n    </tr>\n    <tr>\n      <th>9</th>\n      <td>Sin_Omega12</td>\n      <td>3.768146e-02</td>\n      <td>3.816701e+01</td>\n    </tr>\n    <tr>\n      <th>10</th>\n      <td>Sin_Offset12</td>\n      <td>3.542941e-02</td>\n      <td>3.700891e+01</td>\n    </tr>\n    <tr>\n      <th>11</th>\n      <td>Sin_Period12</td>\n      <td>3.170788e-02</td>\n      <td>3.501127e+01</td>\n    </tr>\n    <tr>\n      <th>12</th>\n      <td>Sin_Amp13</td>\n      <td>2.942171e-02</td>\n      <td>3.372549e+01</td>\n    </tr>\n    <tr>\n      <th>13</th>\n      <td>Sin_Freq13</td>\n      <td>2.809065e-02</td>\n      <td>3.295378e+01</td>\n    </tr>\n    <tr>\n      <th>14</th>\n      <td>Sin_Phase13</td>\n      <td>2.708489e-02</td>\n      <td>3.235846e+01</td>\n    </tr>\n    <tr>\n      <th>15</th>\n      <td>Sin_Omega13</td>\n      <td>2.276182e-02</td>\n      <td>2.966387e+01</td>\n    </tr>\n    <tr>\n      <th>16</th>\n      <td>Sin_Offset13</td>\n      <td>2.172846e-02</td>\n      <td>2.898269e+01</td>\n    </tr>\n    <tr>\n      <th>17</th>\n      <td>Sin_Period13</td>\n      <td>1.970951e-02</td>\n      <td>2.760338e+01</td>\n    </tr>\n    <tr>\n      <th>18</th>\n      <td>Sin_Amp23</td>\n      <td>1.901453e-02</td>\n      <td>2.711234e+01</td>\n    </tr>\n    <tr>\n      <th>19</th>\n      <td>Sin_Freq23</td>\n      <td>1.705915e-02</td>\n      <td>2.568047e+01</td>\n    </tr>\n    <tr>\n      <th>20</th>\n      <td>Sin_Phase23</td>\n      <td>1.329416e-02</td>\n      <td>2.267017e+01</td>\n    </tr>\n    <tr>\n      <th>21</th>\n      <td>Sin_Omega23</td>\n      <td>1.194861e-02</td>\n      <td>2.149230e+01</td>\n    </tr>\n    <tr>\n      <th>22</th>\n      <td>Sin_Offset23</td>\n      <td>1.084169e-02</td>\n      <td>2.047259e+01</td>\n    </tr>\n    <tr>\n      <th>23</th>\n      <td>Sin_Period23</td>\n      <td>9.709905e-03</td>\n      <td>1.937456e+01</td>\n    </tr>\n    <tr>\n      <th>24</th>\n      <td>Sin_Amp23/Sin_Amp13</td>\n      <td>8.156338e-03</td>\n      <td>1.775709e+01</td>\n    </tr>\n    <tr>\n      <th>25</th>\n      <td>Sin_Amp12/Sin_Amp13</td>\n      <td>7.686912e-03</td>\n      <td>1.723853e+01</td>\n    </tr>\n    <tr>\n      <th>26</th>\n      <td>Sin_Amp12/Sin_Amp23</td>\n      <td>6.582913e-03</td>\n      <td>1.595267e+01</td>\n    </tr>\n    <tr>\n      <th>27</th>\n      <td>Sin_Omega23/Sin_Omega13</td>\n      <td>5.575633e-03</td>\n      <td>1.468153e+01</td>\n    </tr>\n    <tr>\n      <th>28</th>\n      <td>Sin_Omega12/Sin_Omega13</td>\n      <td>4.349720e-03</td>\n      <td>1.296746e+01</td>\n    </tr>\n    <tr>\n      <th>29</th>\n      <td>Sin_Omega12/Sin_Omega23</td>\n      <td>3.000122e-03</td>\n      <td>1.076946e+01</td>\n    </tr>\n    <tr>\n      <th>30</th>\n      <td>(Sin_Offset23/Sin_Offset13)^2</td>\n      <td>2.698957e-03</td>\n      <td>1.021462e+01</td>\n    </tr>\n    <tr>\n      <th>31</th>\n      <td>(Sin_Offset12/Sin_Offset13)^2</td>\n      <td>1.441236e-03</td>\n      <td>7.464347e+00</td>\n    </tr>\n    <tr>\n      <th>32</th>\n      <td>(Sin_Offset12/Sin_Offset23)^2</td>\n      <td>6.092212e-04</td>\n      <td>4.853017e+00</td>\n    </tr>\n    <tr>\n      <th>33</th>\n      <td>Sex</td>\n      <td>1.745368e-04</td>\n      <td>2.597573e+00</td>\n    </tr>\n    <tr>\n      <th>34</th>\n      <td>Had_Covid</td>\n      <td>3.079853e-32</td>\n      <td>3.450558e-14</td>\n    </tr>\n    <tr>\n      <th>35</th>\n      <td>Lung_Damage</td>\n      <td>1.940481e-33</td>\n      <td>8.661217e-15</td>\n    </tr>\n    <tr>\n      <th>36</th>\n      <td>DominatorFreq</td>\n      <td>1.663490e-33</td>\n      <td>8.019262e-15</td>\n    </tr>\n  </tbody>\n</table>\n</div>"
     },
     "execution_count": 27,
     "metadata": {},
     "output_type": "execute_result"
    }
   ],
   "source": [
    "df_features.drop(columns=['Importance'])"
   ],
   "metadata": {
    "collapsed": false,
    "pycharm": {
     "name": "#%%\n"
    }
   }
  },
  {
   "cell_type": "code",
   "execution_count": null,
   "outputs": [],
   "source": [
    "df_features.to_excel('export/pca_features.xlsx')"
   ],
   "metadata": {
    "collapsed": false,
    "pycharm": {
     "name": "#%%\n"
    }
   }
  },
  {
   "cell_type": "markdown",
   "source": [
    "<h3> Linear Discriminant Analysis (LDA)</h3>"
   ],
   "metadata": {
    "collapsed": false,
    "pycharm": {
     "name": "#%% md\n"
    }
   }
  },
  {
   "cell_type": "code",
   "execution_count": 40,
   "outputs": [],
   "source": [
    "# Создание объекта LDA\n",
    "lda = LinearDiscriminantAnalysis()\n",
    "# Применение LDA к данным\n",
    "lda.fit(X, y)\n",
    "# Получение весов признаков\n",
    "feature_weights = lda.coef_\n",
    "feature_weights = np.abs(np.mean(feature_weights, axis=0))"
   ],
   "metadata": {
    "collapsed": false,
    "pycharm": {
     "name": "#%%\n"
    }
   }
  },
  {
   "cell_type": "code",
   "execution_count": 52,
   "outputs": [
    {
     "data": {
      "text/plain": "   Damage_Percent  Frequency  Amplitude  DominatorFreqPower  D_1_2_Avg  \\\n0        0.029682   0.360408   0.383974           -0.033394  -0.135442   \n1        0.051385  -0.265699  -0.175037           -0.089972   0.108872   \n2       -0.081470  -0.109161  -0.223175            0.123476   0.032099   \n\n   D_2_3_Avg  Sin_Amp12  Sin_Freq12  Sin_Phase12  Sin_Omega12  ...  \\\n0  -0.024299  -0.030017    0.004581    -0.031435     0.004581  ...   \n1  -0.098143   0.039801    0.010048     0.020672     0.010048  ...   \n2   0.122171  -0.008391   -0.014668     0.011996    -0.014668  ...   \n\n   Sin_Omega12/Sin_Omega13  Sin_Omega12/Sin_Omega23  \\\n0                 0.010028                 0.000191   \n1                 0.111337                 0.030097   \n2                -0.120493                -0.029971   \n\n   (Sin_Offset23/Sin_Offset13)^2  (Sin_Offset12/Sin_Offset13)^2  \\\n0                      -0.031410                      -0.023935   \n1                      -0.034764                       0.298299   \n2                       0.066813                      -0.270393   \n\n   (Sin_Offset12/Sin_Offset23)^2       Sex  Had_Covid  Lung_Damage  \\\n0                      -0.070905 -0.007889   0.024991    -0.192710   \n1                      -0.265084  0.025337  -0.036025    -0.328117   \n2                       0.335428 -0.016923   0.009843     0.523509   \n\n   DominatorFreq  BreathType  \n0       0.172797     брюшное  \n1      -0.086905     грудное  \n2      -0.092386   смешанное  \n\n[3 rows x 38 columns]",
      "text/html": "<div>\n<style scoped>\n    .dataframe tbody tr th:only-of-type {\n        vertical-align: middle;\n    }\n\n    .dataframe tbody tr th {\n        vertical-align: top;\n    }\n\n    .dataframe thead th {\n        text-align: right;\n    }\n</style>\n<table border=\"1\" class=\"dataframe\">\n  <thead>\n    <tr style=\"text-align: right;\">\n      <th></th>\n      <th>Damage_Percent</th>\n      <th>Frequency</th>\n      <th>Amplitude</th>\n      <th>DominatorFreqPower</th>\n      <th>D_1_2_Avg</th>\n      <th>D_2_3_Avg</th>\n      <th>Sin_Amp12</th>\n      <th>Sin_Freq12</th>\n      <th>Sin_Phase12</th>\n      <th>Sin_Omega12</th>\n      <th>...</th>\n      <th>Sin_Omega12/Sin_Omega13</th>\n      <th>Sin_Omega12/Sin_Omega23</th>\n      <th>(Sin_Offset23/Sin_Offset13)^2</th>\n      <th>(Sin_Offset12/Sin_Offset13)^2</th>\n      <th>(Sin_Offset12/Sin_Offset23)^2</th>\n      <th>Sex</th>\n      <th>Had_Covid</th>\n      <th>Lung_Damage</th>\n      <th>DominatorFreq</th>\n      <th>BreathType</th>\n    </tr>\n  </thead>\n  <tbody>\n    <tr>\n      <th>0</th>\n      <td>0.029682</td>\n      <td>0.360408</td>\n      <td>0.383974</td>\n      <td>-0.033394</td>\n      <td>-0.135442</td>\n      <td>-0.024299</td>\n      <td>-0.030017</td>\n      <td>0.004581</td>\n      <td>-0.031435</td>\n      <td>0.004581</td>\n      <td>...</td>\n      <td>0.010028</td>\n      <td>0.000191</td>\n      <td>-0.031410</td>\n      <td>-0.023935</td>\n      <td>-0.070905</td>\n      <td>-0.007889</td>\n      <td>0.024991</td>\n      <td>-0.192710</td>\n      <td>0.172797</td>\n      <td>брюшное</td>\n    </tr>\n    <tr>\n      <th>1</th>\n      <td>0.051385</td>\n      <td>-0.265699</td>\n      <td>-0.175037</td>\n      <td>-0.089972</td>\n      <td>0.108872</td>\n      <td>-0.098143</td>\n      <td>0.039801</td>\n      <td>0.010048</td>\n      <td>0.020672</td>\n      <td>0.010048</td>\n      <td>...</td>\n      <td>0.111337</td>\n      <td>0.030097</td>\n      <td>-0.034764</td>\n      <td>0.298299</td>\n      <td>-0.265084</td>\n      <td>0.025337</td>\n      <td>-0.036025</td>\n      <td>-0.328117</td>\n      <td>-0.086905</td>\n      <td>грудное</td>\n    </tr>\n    <tr>\n      <th>2</th>\n      <td>-0.081470</td>\n      <td>-0.109161</td>\n      <td>-0.223175</td>\n      <td>0.123476</td>\n      <td>0.032099</td>\n      <td>0.122171</td>\n      <td>-0.008391</td>\n      <td>-0.014668</td>\n      <td>0.011996</td>\n      <td>-0.014668</td>\n      <td>...</td>\n      <td>-0.120493</td>\n      <td>-0.029971</td>\n      <td>0.066813</td>\n      <td>-0.270393</td>\n      <td>0.335428</td>\n      <td>-0.016923</td>\n      <td>0.009843</td>\n      <td>0.523509</td>\n      <td>-0.092386</td>\n      <td>смешанное</td>\n    </tr>\n  </tbody>\n</table>\n<p>3 rows × 38 columns</p>\n</div>"
     },
     "execution_count": 52,
     "metadata": {},
     "output_type": "execute_result"
    }
   ],
   "source": [
    "#значимость признаков для определения каждого из классов\n",
    "#брюшное - 0, грудное - 1, смешанное - 2\n",
    "feature_weights = lda.coef_\n",
    "df_weight = pd.DataFrame(feature_weights)\n",
    "names = ['брюшное', 'грудное', 'смешанное']\n",
    "df_weight.columns = X_df.columns\n",
    "df_weight['BreathType'] = names\n",
    "df_weight"
   ],
   "metadata": {
    "collapsed": false,
    "pycharm": {
     "name": "#%%\n"
    }
   }
  },
  {
   "cell_type": "code",
   "execution_count": 54,
   "outputs": [
    {
     "data": {
      "text/plain": "                          Feature  Importance\n1                       Frequency    0.004817\n2                       Amplitude    0.004746\n36                  DominatorFreq    0.002165\n4                       D_1_2_Avg    0.001843\n18                      Sin_Amp23    0.001818\n11                   Sin_Period12    0.001701\n17                   Sin_Period13    0.001698\n31  (Sin_Offset12/Sin_Offset13)^2    0.001324\n20                    Sin_Phase23    0.001204\n27        Sin_Omega23/Sin_Omega13    0.001121\n35                    Lung_Damage    0.000894\n16                   Sin_Offset13    0.000871\n21                    Sin_Omega23    0.000835\n19                     Sin_Freq23    0.000835\n24            Sin_Amp23/Sin_Amp13    0.000713\n23                   Sin_Period23    0.000671\n25            Sin_Amp12/Sin_Amp13    0.000481\n6                       Sin_Amp12    0.000464\n14                    Sin_Phase13    0.000438\n8                     Sin_Phase12    0.000411\n34                      Had_Covid    0.000397\n10                   Sin_Offset12    0.000383\n28        Sin_Omega12/Sin_Omega13    0.000291\n26            Sin_Amp12/Sin_Amp23    0.000275\n30  (Sin_Offset23/Sin_Offset13)^2    0.000213\n32  (Sin_Offset12/Sin_Offset23)^2    0.000187\n33                            Sex    0.000175\n22                   Sin_Offset23    0.000148\n0                  Damage_Percent    0.000135\n15                    Sin_Omega13    0.000127\n13                     Sin_Freq13    0.000127\n29        Sin_Omega12/Sin_Omega23    0.000106\n5                       D_2_3_Avg    0.000090\n3              DominatorFreqPower    0.000037\n12                      Sin_Amp13    0.000023\n9                     Sin_Omega12    0.000013\n7                      Sin_Freq12    0.000013",
      "text/html": "<div>\n<style scoped>\n    .dataframe tbody tr th:only-of-type {\n        vertical-align: middle;\n    }\n\n    .dataframe tbody tr th {\n        vertical-align: top;\n    }\n\n    .dataframe thead th {\n        text-align: right;\n    }\n</style>\n<table border=\"1\" class=\"dataframe\">\n  <thead>\n    <tr style=\"text-align: right;\">\n      <th></th>\n      <th>Feature</th>\n      <th>Importance</th>\n    </tr>\n  </thead>\n  <tbody>\n    <tr>\n      <th>1</th>\n      <td>Frequency</td>\n      <td>0.004817</td>\n    </tr>\n    <tr>\n      <th>2</th>\n      <td>Amplitude</td>\n      <td>0.004746</td>\n    </tr>\n    <tr>\n      <th>36</th>\n      <td>DominatorFreq</td>\n      <td>0.002165</td>\n    </tr>\n    <tr>\n      <th>4</th>\n      <td>D_1_2_Avg</td>\n      <td>0.001843</td>\n    </tr>\n    <tr>\n      <th>18</th>\n      <td>Sin_Amp23</td>\n      <td>0.001818</td>\n    </tr>\n    <tr>\n      <th>11</th>\n      <td>Sin_Period12</td>\n      <td>0.001701</td>\n    </tr>\n    <tr>\n      <th>17</th>\n      <td>Sin_Period13</td>\n      <td>0.001698</td>\n    </tr>\n    <tr>\n      <th>31</th>\n      <td>(Sin_Offset12/Sin_Offset13)^2</td>\n      <td>0.001324</td>\n    </tr>\n    <tr>\n      <th>20</th>\n      <td>Sin_Phase23</td>\n      <td>0.001204</td>\n    </tr>\n    <tr>\n      <th>27</th>\n      <td>Sin_Omega23/Sin_Omega13</td>\n      <td>0.001121</td>\n    </tr>\n    <tr>\n      <th>35</th>\n      <td>Lung_Damage</td>\n      <td>0.000894</td>\n    </tr>\n    <tr>\n      <th>16</th>\n      <td>Sin_Offset13</td>\n      <td>0.000871</td>\n    </tr>\n    <tr>\n      <th>21</th>\n      <td>Sin_Omega23</td>\n      <td>0.000835</td>\n    </tr>\n    <tr>\n      <th>19</th>\n      <td>Sin_Freq23</td>\n      <td>0.000835</td>\n    </tr>\n    <tr>\n      <th>24</th>\n      <td>Sin_Amp23/Sin_Amp13</td>\n      <td>0.000713</td>\n    </tr>\n    <tr>\n      <th>23</th>\n      <td>Sin_Period23</td>\n      <td>0.000671</td>\n    </tr>\n    <tr>\n      <th>25</th>\n      <td>Sin_Amp12/Sin_Amp13</td>\n      <td>0.000481</td>\n    </tr>\n    <tr>\n      <th>6</th>\n      <td>Sin_Amp12</td>\n      <td>0.000464</td>\n    </tr>\n    <tr>\n      <th>14</th>\n      <td>Sin_Phase13</td>\n      <td>0.000438</td>\n    </tr>\n    <tr>\n      <th>8</th>\n      <td>Sin_Phase12</td>\n      <td>0.000411</td>\n    </tr>\n    <tr>\n      <th>34</th>\n      <td>Had_Covid</td>\n      <td>0.000397</td>\n    </tr>\n    <tr>\n      <th>10</th>\n      <td>Sin_Offset12</td>\n      <td>0.000383</td>\n    </tr>\n    <tr>\n      <th>28</th>\n      <td>Sin_Omega12/Sin_Omega13</td>\n      <td>0.000291</td>\n    </tr>\n    <tr>\n      <th>26</th>\n      <td>Sin_Amp12/Sin_Amp23</td>\n      <td>0.000275</td>\n    </tr>\n    <tr>\n      <th>30</th>\n      <td>(Sin_Offset23/Sin_Offset13)^2</td>\n      <td>0.000213</td>\n    </tr>\n    <tr>\n      <th>32</th>\n      <td>(Sin_Offset12/Sin_Offset23)^2</td>\n      <td>0.000187</td>\n    </tr>\n    <tr>\n      <th>33</th>\n      <td>Sex</td>\n      <td>0.000175</td>\n    </tr>\n    <tr>\n      <th>22</th>\n      <td>Sin_Offset23</td>\n      <td>0.000148</td>\n    </tr>\n    <tr>\n      <th>0</th>\n      <td>Damage_Percent</td>\n      <td>0.000135</td>\n    </tr>\n    <tr>\n      <th>15</th>\n      <td>Sin_Omega13</td>\n      <td>0.000127</td>\n    </tr>\n    <tr>\n      <th>13</th>\n      <td>Sin_Freq13</td>\n      <td>0.000127</td>\n    </tr>\n    <tr>\n      <th>29</th>\n      <td>Sin_Omega12/Sin_Omega23</td>\n      <td>0.000106</td>\n    </tr>\n    <tr>\n      <th>5</th>\n      <td>D_2_3_Avg</td>\n      <td>0.000090</td>\n    </tr>\n    <tr>\n      <th>3</th>\n      <td>DominatorFreqPower</td>\n      <td>0.000037</td>\n    </tr>\n    <tr>\n      <th>12</th>\n      <td>Sin_Amp13</td>\n      <td>0.000023</td>\n    </tr>\n    <tr>\n      <th>9</th>\n      <td>Sin_Omega12</td>\n      <td>0.000013</td>\n    </tr>\n    <tr>\n      <th>7</th>\n      <td>Sin_Freq12</td>\n      <td>0.000013</td>\n    </tr>\n  </tbody>\n</table>\n</div>"
     },
     "execution_count": 54,
     "metadata": {},
     "output_type": "execute_result"
    }
   ],
   "source": [
    "feature_weights = np.abs(np.mean(feature_weights, axis=0))\n",
    "df_features = calc_feature_importances(feature_weights)\n",
    "df_features"
   ],
   "metadata": {
    "collapsed": false,
    "pycharm": {
     "name": "#%%\n"
    }
   }
  },
  {
   "cell_type": "code",
   "execution_count": null,
   "outputs": [],
   "source": [
    "df_features.to_excel('export/lda_features.xlsx')"
   ],
   "metadata": {
    "collapsed": false,
    "pycharm": {
     "name": "#%%\n"
    }
   }
  },
  {
   "cell_type": "markdown",
   "source": [
    "<h3> Locally Linear Embedding (LLE)</h3>"
   ],
   "metadata": {
    "collapsed": false,
    "pycharm": {
     "name": "#%% md\n"
    }
   }
  },
  {
   "cell_type": "code",
   "execution_count": 57,
   "outputs": [],
   "source": [
    "# Создание объекта LLE\n",
    "lle = LocallyLinearEmbedding(n_components=37)\n",
    "# Применение LLE к данным\n",
    "res = lle.fit(X)"
   ],
   "metadata": {
    "collapsed": false,
    "pycharm": {
     "name": "#%%\n"
    }
   }
  },
  {
   "cell_type": "code",
   "execution_count": 63,
   "outputs": [],
   "source": [
    "# Получение матрицы весов\n",
    "feature_weights = lle.embedding_\n",
    "feature_weights = np.abs(np.mean(feature_weights, axis=0))\n",
    "df_features = calc_feature_importances(feature_weights)"
   ],
   "metadata": {
    "collapsed": false,
    "pycharm": {
     "name": "#%%\n"
    }
   }
  },
  {
   "cell_type": "code",
   "execution_count": 64,
   "outputs": [
    {
     "data": {
      "text/plain": "                          Feature    Importance\n3              DominatorFreqPower  1.520589e-02\n2                       Amplitude  9.051585e-03\n0                  Damage_Percent  1.537832e-03\n1                       Frequency  1.451064e-03\n4                       D_1_2_Avg  4.637935e-09\n5                       D_2_3_Avg  6.148765e-12\n9                     Sin_Omega12  1.229686e-12\n7                      Sin_Freq12  6.414675e-13\n13                     Sin_Freq13  6.072594e-13\n11                   Sin_Period12  5.652743e-13\n10                   Sin_Offset12  4.377389e-13\n15                    Sin_Omega13  3.443441e-13\n8                     Sin_Phase12  3.101553e-13\n14                    Sin_Phase13  1.832717e-13\n16                   Sin_Offset13  1.574731e-13\n6                       Sin_Amp12  1.406694e-13\n24            Sin_Amp23/Sin_Amp13  8.568123e-14\n17                   Sin_Period13  5.599340e-14\n20                    Sin_Phase23  4.322016e-14\n21                    Sin_Omega23  2.519686e-14\n22                   Sin_Offset23  2.411534e-14\n23                   Sin_Period23  2.254289e-14\n27        Sin_Omega23/Sin_Omega13  1.970733e-14\n25            Sin_Amp12/Sin_Amp13  1.623102e-14\n12                      Sin_Amp13  1.392794e-14\n26            Sin_Amp12/Sin_Amp23  8.733229e-15\n30  (Sin_Offset23/Sin_Offset13)^2  8.485636e-15\n31  (Sin_Offset12/Sin_Offset13)^2  6.495436e-15\n29        Sin_Omega12/Sin_Omega23  6.145968e-15\n36                  DominatorFreq  4.951295e-15\n35                    Lung_Damage  3.377585e-15\n28        Sin_Omega12/Sin_Omega13  3.028985e-15\n34                      Had_Covid  2.356228e-15\n18                      Sin_Amp23  1.762794e-15\n32  (Sin_Offset12/Sin_Offset23)^2  8.424842e-16\n33                            Sex  3.559337e-16\n19                     Sin_Freq23  3.510450e-16",
      "text/html": "<div>\n<style scoped>\n    .dataframe tbody tr th:only-of-type {\n        vertical-align: middle;\n    }\n\n    .dataframe tbody tr th {\n        vertical-align: top;\n    }\n\n    .dataframe thead th {\n        text-align: right;\n    }\n</style>\n<table border=\"1\" class=\"dataframe\">\n  <thead>\n    <tr style=\"text-align: right;\">\n      <th></th>\n      <th>Feature</th>\n      <th>Importance</th>\n    </tr>\n  </thead>\n  <tbody>\n    <tr>\n      <th>3</th>\n      <td>DominatorFreqPower</td>\n      <td>1.520589e-02</td>\n    </tr>\n    <tr>\n      <th>2</th>\n      <td>Amplitude</td>\n      <td>9.051585e-03</td>\n    </tr>\n    <tr>\n      <th>0</th>\n      <td>Damage_Percent</td>\n      <td>1.537832e-03</td>\n    </tr>\n    <tr>\n      <th>1</th>\n      <td>Frequency</td>\n      <td>1.451064e-03</td>\n    </tr>\n    <tr>\n      <th>4</th>\n      <td>D_1_2_Avg</td>\n      <td>4.637935e-09</td>\n    </tr>\n    <tr>\n      <th>5</th>\n      <td>D_2_3_Avg</td>\n      <td>6.148765e-12</td>\n    </tr>\n    <tr>\n      <th>9</th>\n      <td>Sin_Omega12</td>\n      <td>1.229686e-12</td>\n    </tr>\n    <tr>\n      <th>7</th>\n      <td>Sin_Freq12</td>\n      <td>6.414675e-13</td>\n    </tr>\n    <tr>\n      <th>13</th>\n      <td>Sin_Freq13</td>\n      <td>6.072594e-13</td>\n    </tr>\n    <tr>\n      <th>11</th>\n      <td>Sin_Period12</td>\n      <td>5.652743e-13</td>\n    </tr>\n    <tr>\n      <th>10</th>\n      <td>Sin_Offset12</td>\n      <td>4.377389e-13</td>\n    </tr>\n    <tr>\n      <th>15</th>\n      <td>Sin_Omega13</td>\n      <td>3.443441e-13</td>\n    </tr>\n    <tr>\n      <th>8</th>\n      <td>Sin_Phase12</td>\n      <td>3.101553e-13</td>\n    </tr>\n    <tr>\n      <th>14</th>\n      <td>Sin_Phase13</td>\n      <td>1.832717e-13</td>\n    </tr>\n    <tr>\n      <th>16</th>\n      <td>Sin_Offset13</td>\n      <td>1.574731e-13</td>\n    </tr>\n    <tr>\n      <th>6</th>\n      <td>Sin_Amp12</td>\n      <td>1.406694e-13</td>\n    </tr>\n    <tr>\n      <th>24</th>\n      <td>Sin_Amp23/Sin_Amp13</td>\n      <td>8.568123e-14</td>\n    </tr>\n    <tr>\n      <th>17</th>\n      <td>Sin_Period13</td>\n      <td>5.599340e-14</td>\n    </tr>\n    <tr>\n      <th>20</th>\n      <td>Sin_Phase23</td>\n      <td>4.322016e-14</td>\n    </tr>\n    <tr>\n      <th>21</th>\n      <td>Sin_Omega23</td>\n      <td>2.519686e-14</td>\n    </tr>\n    <tr>\n      <th>22</th>\n      <td>Sin_Offset23</td>\n      <td>2.411534e-14</td>\n    </tr>\n    <tr>\n      <th>23</th>\n      <td>Sin_Period23</td>\n      <td>2.254289e-14</td>\n    </tr>\n    <tr>\n      <th>27</th>\n      <td>Sin_Omega23/Sin_Omega13</td>\n      <td>1.970733e-14</td>\n    </tr>\n    <tr>\n      <th>25</th>\n      <td>Sin_Amp12/Sin_Amp13</td>\n      <td>1.623102e-14</td>\n    </tr>\n    <tr>\n      <th>12</th>\n      <td>Sin_Amp13</td>\n      <td>1.392794e-14</td>\n    </tr>\n    <tr>\n      <th>26</th>\n      <td>Sin_Amp12/Sin_Amp23</td>\n      <td>8.733229e-15</td>\n    </tr>\n    <tr>\n      <th>30</th>\n      <td>(Sin_Offset23/Sin_Offset13)^2</td>\n      <td>8.485636e-15</td>\n    </tr>\n    <tr>\n      <th>31</th>\n      <td>(Sin_Offset12/Sin_Offset13)^2</td>\n      <td>6.495436e-15</td>\n    </tr>\n    <tr>\n      <th>29</th>\n      <td>Sin_Omega12/Sin_Omega23</td>\n      <td>6.145968e-15</td>\n    </tr>\n    <tr>\n      <th>36</th>\n      <td>DominatorFreq</td>\n      <td>4.951295e-15</td>\n    </tr>\n    <tr>\n      <th>35</th>\n      <td>Lung_Damage</td>\n      <td>3.377585e-15</td>\n    </tr>\n    <tr>\n      <th>28</th>\n      <td>Sin_Omega12/Sin_Omega13</td>\n      <td>3.028985e-15</td>\n    </tr>\n    <tr>\n      <th>34</th>\n      <td>Had_Covid</td>\n      <td>2.356228e-15</td>\n    </tr>\n    <tr>\n      <th>18</th>\n      <td>Sin_Amp23</td>\n      <td>1.762794e-15</td>\n    </tr>\n    <tr>\n      <th>32</th>\n      <td>(Sin_Offset12/Sin_Offset23)^2</td>\n      <td>8.424842e-16</td>\n    </tr>\n    <tr>\n      <th>33</th>\n      <td>Sex</td>\n      <td>3.559337e-16</td>\n    </tr>\n    <tr>\n      <th>19</th>\n      <td>Sin_Freq23</td>\n      <td>3.510450e-16</td>\n    </tr>\n  </tbody>\n</table>\n</div>"
     },
     "execution_count": 64,
     "metadata": {},
     "output_type": "execute_result"
    }
   ],
   "source": [
    "df_features"
   ],
   "metadata": {
    "collapsed": false,
    "pycharm": {
     "name": "#%%\n"
    }
   }
  },
  {
   "cell_type": "code",
   "execution_count": null,
   "outputs": [],
   "source": [
    "df_features.to_excel('export/lle_features.xlsx')"
   ],
   "metadata": {
    "collapsed": false,
    "pycharm": {
     "name": "#%%\n"
    }
   }
  }
 ],
 "metadata": {
  "kernelspec": {
   "display_name": "Python 3",
   "language": "python",
   "name": "python3"
  },
  "language_info": {
   "codemirror_mode": {
    "name": "ipython",
    "version": 2
   },
   "file_extension": ".py",
   "mimetype": "text/x-python",
   "name": "python",
   "nbconvert_exporter": "python",
   "pygments_lexer": "ipython2",
   "version": "2.7.6"
  }
 },
 "nbformat": 4,
 "nbformat_minor": 0
}