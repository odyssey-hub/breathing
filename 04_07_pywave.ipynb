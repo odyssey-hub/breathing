{
 "cells": [
  {
   "cell_type": "code",
   "execution_count": 2,
   "outputs": [],
   "source": [
    "import pandas as pd\n",
    "import numpy as np\n",
    "import xgboost as xgb\n",
    "from sklearn.model_selection import train_test_split\n",
    "from sklearn.metrics import accuracy_score\n",
    "from sklearn.preprocessing import  LabelEncoder"
   ],
   "metadata": {
    "collapsed": false,
    "pycharm": {
     "name": "#%%\n"
    }
   }
  },
  {
   "cell_type": "code",
   "execution_count": 3,
   "outputs": [],
   "source": [
    "import pywt"
   ],
   "metadata": {
    "collapsed": false,
    "pycharm": {
     "name": "#%%\n"
    }
   }
  },
  {
   "cell_type": "markdown",
   "source": [
    "<h3>Загрузка и предобработка датасета</h3>"
   ],
   "metadata": {
    "collapsed": false,
    "pycharm": {
     "name": "#%% md\n"
    }
   }
  },
  {
   "cell_type": "code",
   "execution_count": 4,
   "outputs": [
    {
     "data": {
      "text/plain": "   id  BreathingType  TimeStamp_sec  FirstMarkerXCoord  FirstMarkerYCoord  \\\n0   1              0       0.058895              0.689             -1.453   \n1   1              0       0.111889              0.687             -1.452   \n2   1              0       0.158371              0.687             -1.451   \n3   1              0       0.262516              0.685             -1.450   \n4   1              0       0.295620              0.684             -1.449   \n\n   FirstMarkerZCoord  SecondMarkerXCoord  SecondMarkerYCoord  \\\n0              4.417               0.881              -1.544   \n1              4.418               0.881              -1.544   \n2              4.419               0.881              -1.544   \n3              4.420               0.882              -1.544   \n4              4.420               0.883              -1.544   \n\n   SecondMarkerZCoord  ThirdMarkerXCoord  ThirdMarkerYCoord  ThirdMarkerZCoord  \n0               4.547              0.718             -1.607              4.369  \n1               4.547              0.715             -1.607              4.371  \n2               4.545              0.714             -1.607              4.371  \n3               4.541              0.711             -1.608              4.373  \n4               4.540              0.709             -1.607              4.370  ",
      "text/html": "<div>\n<style scoped>\n    .dataframe tbody tr th:only-of-type {\n        vertical-align: middle;\n    }\n\n    .dataframe tbody tr th {\n        vertical-align: top;\n    }\n\n    .dataframe thead th {\n        text-align: right;\n    }\n</style>\n<table border=\"1\" class=\"dataframe\">\n  <thead>\n    <tr style=\"text-align: right;\">\n      <th></th>\n      <th>id</th>\n      <th>BreathingType</th>\n      <th>TimeStamp_sec</th>\n      <th>FirstMarkerXCoord</th>\n      <th>FirstMarkerYCoord</th>\n      <th>FirstMarkerZCoord</th>\n      <th>SecondMarkerXCoord</th>\n      <th>SecondMarkerYCoord</th>\n      <th>SecondMarkerZCoord</th>\n      <th>ThirdMarkerXCoord</th>\n      <th>ThirdMarkerYCoord</th>\n      <th>ThirdMarkerZCoord</th>\n    </tr>\n  </thead>\n  <tbody>\n    <tr>\n      <th>0</th>\n      <td>1</td>\n      <td>0</td>\n      <td>0.058895</td>\n      <td>0.689</td>\n      <td>-1.453</td>\n      <td>4.417</td>\n      <td>0.881</td>\n      <td>-1.544</td>\n      <td>4.547</td>\n      <td>0.718</td>\n      <td>-1.607</td>\n      <td>4.369</td>\n    </tr>\n    <tr>\n      <th>1</th>\n      <td>1</td>\n      <td>0</td>\n      <td>0.111889</td>\n      <td>0.687</td>\n      <td>-1.452</td>\n      <td>4.418</td>\n      <td>0.881</td>\n      <td>-1.544</td>\n      <td>4.547</td>\n      <td>0.715</td>\n      <td>-1.607</td>\n      <td>4.371</td>\n    </tr>\n    <tr>\n      <th>2</th>\n      <td>1</td>\n      <td>0</td>\n      <td>0.158371</td>\n      <td>0.687</td>\n      <td>-1.451</td>\n      <td>4.419</td>\n      <td>0.881</td>\n      <td>-1.544</td>\n      <td>4.545</td>\n      <td>0.714</td>\n      <td>-1.607</td>\n      <td>4.371</td>\n    </tr>\n    <tr>\n      <th>3</th>\n      <td>1</td>\n      <td>0</td>\n      <td>0.262516</td>\n      <td>0.685</td>\n      <td>-1.450</td>\n      <td>4.420</td>\n      <td>0.882</td>\n      <td>-1.544</td>\n      <td>4.541</td>\n      <td>0.711</td>\n      <td>-1.608</td>\n      <td>4.373</td>\n    </tr>\n    <tr>\n      <th>4</th>\n      <td>1</td>\n      <td>0</td>\n      <td>0.295620</td>\n      <td>0.684</td>\n      <td>-1.449</td>\n      <td>4.420</td>\n      <td>0.883</td>\n      <td>-1.544</td>\n      <td>4.540</td>\n      <td>0.709</td>\n      <td>-1.607</td>\n      <td>4.370</td>\n    </tr>\n  </tbody>\n</table>\n</div>"
     },
     "execution_count": 4,
     "metadata": {},
     "output_type": "execute_result"
    }
   ],
   "source": [
    "#загрузка датасета\n",
    "df = pd.read_csv('coords_data_numerated.csv')\n",
    "df = df.drop(columns=['Unnamed: 0', 'GSR'])\n",
    "df.head()"
   ],
   "metadata": {
    "collapsed": false,
    "pycharm": {
     "name": "#%%\n"
    }
   }
  },
  {
   "cell_type": "code",
   "execution_count": 5,
   "outputs": [
    {
     "data": {
      "text/plain": "         id  FirstMarkerXCoord  FirstMarkerYCoord  FirstMarkerZCoord  \\\n230921  258              1.063             -1.649              3.843   \n230922  258              1.062             -1.648              3.842   \n230923  258              1.062             -1.648              3.842   \n230924  258              1.063             -1.647              3.842   \n230925  258              1.063             -1.647              3.842   \n\n        SecondMarkerXCoord  SecondMarkerYCoord  SecondMarkerZCoord  \\\n230921               1.093              -1.839               3.624   \n230922               1.094              -1.841               3.625   \n230923               1.093              -1.841               3.624   \n230924               1.094              -1.841               3.624   \n230925               1.094              -1.841               3.623   \n\n        ThirdMarkerXCoord  ThirdMarkerYCoord  ThirdMarkerZCoord  \n230921              1.030             -1.867              3.859  \n230922              1.030             -1.867              3.857  \n230923              1.030             -1.868              3.855  \n230924              1.029             -1.868              3.853  \n230925              1.030             -1.868              3.853  ",
      "text/html": "<div>\n<style scoped>\n    .dataframe tbody tr th:only-of-type {\n        vertical-align: middle;\n    }\n\n    .dataframe tbody tr th {\n        vertical-align: top;\n    }\n\n    .dataframe thead th {\n        text-align: right;\n    }\n</style>\n<table border=\"1\" class=\"dataframe\">\n  <thead>\n    <tr style=\"text-align: right;\">\n      <th></th>\n      <th>id</th>\n      <th>FirstMarkerXCoord</th>\n      <th>FirstMarkerYCoord</th>\n      <th>FirstMarkerZCoord</th>\n      <th>SecondMarkerXCoord</th>\n      <th>SecondMarkerYCoord</th>\n      <th>SecondMarkerZCoord</th>\n      <th>ThirdMarkerXCoord</th>\n      <th>ThirdMarkerYCoord</th>\n      <th>ThirdMarkerZCoord</th>\n    </tr>\n  </thead>\n  <tbody>\n    <tr>\n      <th>230921</th>\n      <td>258</td>\n      <td>1.063</td>\n      <td>-1.649</td>\n      <td>3.843</td>\n      <td>1.093</td>\n      <td>-1.839</td>\n      <td>3.624</td>\n      <td>1.030</td>\n      <td>-1.867</td>\n      <td>3.859</td>\n    </tr>\n    <tr>\n      <th>230922</th>\n      <td>258</td>\n      <td>1.062</td>\n      <td>-1.648</td>\n      <td>3.842</td>\n      <td>1.094</td>\n      <td>-1.841</td>\n      <td>3.625</td>\n      <td>1.030</td>\n      <td>-1.867</td>\n      <td>3.857</td>\n    </tr>\n    <tr>\n      <th>230923</th>\n      <td>258</td>\n      <td>1.062</td>\n      <td>-1.648</td>\n      <td>3.842</td>\n      <td>1.093</td>\n      <td>-1.841</td>\n      <td>3.624</td>\n      <td>1.030</td>\n      <td>-1.868</td>\n      <td>3.855</td>\n    </tr>\n    <tr>\n      <th>230924</th>\n      <td>258</td>\n      <td>1.063</td>\n      <td>-1.647</td>\n      <td>3.842</td>\n      <td>1.094</td>\n      <td>-1.841</td>\n      <td>3.624</td>\n      <td>1.029</td>\n      <td>-1.868</td>\n      <td>3.853</td>\n    </tr>\n    <tr>\n      <th>230925</th>\n      <td>258</td>\n      <td>1.063</td>\n      <td>-1.647</td>\n      <td>3.842</td>\n      <td>1.094</td>\n      <td>-1.841</td>\n      <td>3.623</td>\n      <td>1.030</td>\n      <td>-1.868</td>\n      <td>3.853</td>\n    </tr>\n  </tbody>\n</table>\n</div>"
     },
     "execution_count": 5,
     "metadata": {},
     "output_type": "execute_result"
    }
   ],
   "source": [
    "#Определение выходного признака и входных признаков\n",
    "y = df['BreathingType']\n",
    "X = df.drop(columns=['BreathingType','TimeStamp_sec'])\n",
    "X.tail()"
   ],
   "metadata": {
    "collapsed": false,
    "pycharm": {
     "name": "#%%\n"
    }
   }
  },
  {
   "cell_type": "code",
   "execution_count": 59,
   "outputs": [
    {
     "data": {
      "text/plain": "   id    FMX    FMY    FMZ    SMX    SMY    SMZ    TMX    TMY    TMZ\n0   1  0.689 -1.453  4.417  0.881 -1.544  4.547  0.718 -1.607  4.369\n1   1  0.687 -1.452  4.418  0.881 -1.544  4.547  0.715 -1.607  4.371\n2   1  0.687 -1.451  4.419  0.881 -1.544  4.545  0.714 -1.607  4.371\n3   1  0.685 -1.450  4.420  0.882 -1.544  4.541  0.711 -1.608  4.373\n4   1  0.684 -1.449  4.420  0.883 -1.544  4.540  0.709 -1.607  4.370",
      "text/html": "<div>\n<style scoped>\n    .dataframe tbody tr th:only-of-type {\n        vertical-align: middle;\n    }\n\n    .dataframe tbody tr th {\n        vertical-align: top;\n    }\n\n    .dataframe thead th {\n        text-align: right;\n    }\n</style>\n<table border=\"1\" class=\"dataframe\">\n  <thead>\n    <tr style=\"text-align: right;\">\n      <th></th>\n      <th>id</th>\n      <th>FMX</th>\n      <th>FMY</th>\n      <th>FMZ</th>\n      <th>SMX</th>\n      <th>SMY</th>\n      <th>SMZ</th>\n      <th>TMX</th>\n      <th>TMY</th>\n      <th>TMZ</th>\n    </tr>\n  </thead>\n  <tbody>\n    <tr>\n      <th>0</th>\n      <td>1</td>\n      <td>0.689</td>\n      <td>-1.453</td>\n      <td>4.417</td>\n      <td>0.881</td>\n      <td>-1.544</td>\n      <td>4.547</td>\n      <td>0.718</td>\n      <td>-1.607</td>\n      <td>4.369</td>\n    </tr>\n    <tr>\n      <th>1</th>\n      <td>1</td>\n      <td>0.687</td>\n      <td>-1.452</td>\n      <td>4.418</td>\n      <td>0.881</td>\n      <td>-1.544</td>\n      <td>4.547</td>\n      <td>0.715</td>\n      <td>-1.607</td>\n      <td>4.371</td>\n    </tr>\n    <tr>\n      <th>2</th>\n      <td>1</td>\n      <td>0.687</td>\n      <td>-1.451</td>\n      <td>4.419</td>\n      <td>0.881</td>\n      <td>-1.544</td>\n      <td>4.545</td>\n      <td>0.714</td>\n      <td>-1.607</td>\n      <td>4.371</td>\n    </tr>\n    <tr>\n      <th>3</th>\n      <td>1</td>\n      <td>0.685</td>\n      <td>-1.450</td>\n      <td>4.420</td>\n      <td>0.882</td>\n      <td>-1.544</td>\n      <td>4.541</td>\n      <td>0.711</td>\n      <td>-1.608</td>\n      <td>4.373</td>\n    </tr>\n    <tr>\n      <th>4</th>\n      <td>1</td>\n      <td>0.684</td>\n      <td>-1.449</td>\n      <td>4.420</td>\n      <td>0.883</td>\n      <td>-1.544</td>\n      <td>4.540</td>\n      <td>0.709</td>\n      <td>-1.607</td>\n      <td>4.370</td>\n    </tr>\n  </tbody>\n</table>\n</div>"
     },
     "execution_count": 59,
     "metadata": {},
     "output_type": "execute_result"
    }
   ],
   "source": [
    "#переименование столбцов\n",
    "dict_renames = {\n",
    "    'FirstMarkerXCoord' : 'FMX',\n",
    "    'FirstMarkerYCoord' : 'FMY',\n",
    "    'FirstMarkerZCoord' : 'FMZ',\n",
    "    'SecondMarkerXCoord' :  'SMX',\n",
    "    'SecondMarkerYCoord' : 'SMY',\n",
    "    'SecondMarkerZCoord' : 'SMZ',\n",
    "    'ThirdMarkerXCoord' : 'TMX',\n",
    "    'ThirdMarkerYCoord' : 'TMY',\n",
    "    'ThirdMarkerZCoord' : 'TMZ'\n",
    "}\n",
    "X = X.rename(columns=dict_renames)\n",
    "X.head()"
   ],
   "metadata": {
    "collapsed": false,
    "pycharm": {
     "name": "#%%\n"
    }
   }
  },
  {
   "cell_type": "markdown",
   "source": [
    "<h3>Извлечение признаков с помощью PyWavelets</h3>"
   ],
   "metadata": {
    "collapsed": false,
    "pycharm": {
     "name": "#%% md\n"
    }
   }
  },
  {
   "cell_type": "code",
   "execution_count": 145,
   "outputs": [],
   "source": [
    "#расчет общей энергии вейвлет-преобразования\n",
    "def total_energy(prefix,all_ts):\n",
    "    energy_df = pd.DataFrame()\n",
    "    flatten_ts = [item for sub_list in all_ts for item in sub_list]\n",
    "    energy_df[prefix+'_total_energy'] = [np.sum(np.square(flatten_ts))]\n",
    "    return energy_df\n",
    "\n",
    "#расчет статистических величин вейвлет-преобразования\n",
    "def calc_features(prefix, ts):\n",
    "    features = pd.DataFrame()\n",
    "    #энергия\n",
    "    features[prefix+'energy'] = [np.sum(np.square(ts))]\n",
    "    features[prefix+'mean'] = [np.mean(ts)]\n",
    "    features[prefix+'std'] = [np.std(ts)]\n",
    "    features[prefix+'median'] = [np.median(ts)]\n",
    "    #коэффициент ассиметрии\n",
    "    features[prefix+'diff'] = [np.mean(np.diff(ts))]\n",
    "    features[prefix+'max'] = [np.max(ts)]\n",
    "    features[prefix+'min'] = [np.min(ts)]\n",
    "    #нижний квантиль\n",
    "    features[prefix+'p25'] = [np.percentile(ts, 25)]\n",
    "    #верхний квантиль\n",
    "    features[prefix+'p75'] = [np.percentile(ts, 75)]\n",
    "    return features\n",
    "\n",
    "#расчет стат. величин коэффициентов аппроксимации\n",
    "def approximation_features(prefix, approx_ts):\n",
    "    prefix += '_approx_'\n",
    "    approx_features = calc_features(prefix, approx_ts)\n",
    "    return approx_features\n",
    "\n",
    "#расчет стат.величин коэффициентов уровней детализации\n",
    "def detailed_features(prefix, detailed_tss):\n",
    "    detailed_features = pd.DataFrame()\n",
    "    prefix += \"_d\"\n",
    "    for i, detail_ts in enumerate(detailed_tss):\n",
    "        j = i + 1\n",
    "        curr_prefix = prefix+str(j)+\"_\"\n",
    "        curr_detailed_features = calc_features(curr_prefix, detail_ts)\n",
    "        #detailed_features = detailed_features.append(curr_detailed_features, ignore_index=True)\n",
    "        detailed_features = pd.concat([detailed_features, curr_detailed_features], axis=1)\n",
    "    return detailed_features"
   ],
   "metadata": {
    "collapsed": false,
    "pycharm": {
     "name": "#%%\n"
    }
   }
  },
  {
   "cell_type": "code",
   "execution_count": 146,
   "outputs": [],
   "source": [
    "#рассматриваемые семейства вейвлетов\n",
    "wavelets = ['db8', 'sym8', 'coif6', 'bior6.8', 'haar']\n",
    "#уровень детализации\n",
    "level = 3"
   ],
   "metadata": {
    "collapsed": false,
    "pycharm": {
     "name": "#%%\n"
    }
   }
  },
  {
   "cell_type": "code",
   "execution_count": 136,
   "outputs": [],
   "source": [
    "#расчет для всех 9 столбцов\n",
    "numeric_cols = X.drop(columns='id')"
   ],
   "metadata": {
    "collapsed": false,
    "pycharm": {
     "name": "#%%\n"
    }
   }
  },
  {
   "cell_type": "code",
   "execution_count": null,
   "outputs": [],
   "source": [
    "#расчет новых признаков\n",
    "new_features = pd.DataFrame()\n",
    "for i in range(1, 259):\n",
    "    ts_features = pd.DataFrame()\n",
    "    #расчет статистических показателей по каждому столбцу\n",
    "    for col in numeric_cols:\n",
    "        col_values = X[X['id'] == i] [col]\n",
    "        for wavelet in wavelets:\n",
    "            coeffs = pywt.wavedec(col_values, wavelet=wavelet, level=level)\n",
    "            prefix = col+\"_\"+wavelet\n",
    "            energy_features = total_energy(prefix, coeffs)\n",
    "            approx_features = approximation_features(prefix, coeffs[0])\n",
    "            detail_features  = detailed_features(prefix, coeffs[1:])\n",
    "            ts_features = pd.concat([ts_features, energy_features, approx_features, detail_features], axis=1)\n",
    "    new_features = pd.concat([new_features,ts_features], axis=0, ignore_index=True)"
   ],
   "metadata": {
    "collapsed": false,
    "pycharm": {
     "name": "#%%\n",
     "is_executing": true
    }
   }
  },
  {
   "cell_type": "code",
   "execution_count": 149,
   "outputs": [],
   "source": [
    "#всего больше 1500 признаков\n",
    "new_features.to_csv('pywave_features.csv')"
   ],
   "metadata": {
    "collapsed": false,
    "pycharm": {
     "name": "#%%\n"
    }
   }
  },
  {
   "cell_type": "markdown",
   "source": [
    "<h3>Добавление новых признаков в датасет</h3>"
   ],
   "metadata": {
    "collapsed": false,
    "pycharm": {
     "name": "#%% md\n"
    }
   }
  },
  {
   "cell_type": "code",
   "execution_count": 150,
   "outputs": [
    {
     "data": {
      "text/plain": "   ID Date_Of_Birth Sex Had_Covid Begin_Of_Covid End_Of_Covid Lung_Damage  \\\n0   1    04.07.2003   M        No     00.00.0000   00.00.0000          No   \n1   1    04.07.2003   M        No     00.00.0000   00.00.0000          No   \n2   1    04.07.2003   M        No     00.00.0000   00.00.0000          No   \n3   1    04.07.2003   M        No     00.00.0000   00.00.0000          No   \n4   1    04.07.2003   M        No     00.00.0000   00.00.0000          No   \n\n   Damage_Percent Breathing_Type  Frequency  ...  Sin_Period23  \\\n0       -0.207005        грудное  -0.144237  ...     -0.178712   \n1       -0.207005        грудное  -0.144237  ...     -0.183415   \n2       -0.207005        грудное  -0.144237  ...     -0.177844   \n3       -0.207005        грудное  -0.144237  ...     -0.182131   \n4       -0.207005        грудное  -0.144237  ...     -0.191648   \n\n  Sin_Amp23/Sin_Amp13  Sin_Amp12/Sin_Amp13  Sin_Amp12/Sin_Amp23  \\\n0            0.002273            -0.001832            -0.032392   \n1            0.002486            -0.001808            -0.029759   \n2            0.002607            -0.001792            -0.030606   \n3            0.002219            -0.002349            -0.030553   \n4            0.003473            -0.001519            -0.031048   \n\n   Sin_Omega23/Sin_Omega13  Sin_Omega12/Sin_Omega13  Sin_Omega12/Sin_Omega23  \\\n0                -0.156378                -0.155622                -0.156309   \n1                -0.151883                -0.154821                -0.159698   \n2                -0.157144                -0.156177                -0.155971   \n3                -0.152623                -0.155988                -0.160060   \n4                -0.165326                -0.156451                -0.137226   \n\n   (Sin_Offset23/Sin_Offset13)^2  (Sin_Offset12/Sin_Offset13)^2  \\\n0                      -0.088206                      -0.063808   \n1                      -0.088211                      -0.063809   \n2                      -0.088215                      -0.063811   \n3                      -0.088219                      -0.063815   \n4                      -0.088204                      -0.063811   \n\n   (Sin_Offset12/Sin_Offset23)^2  \n0                      -0.059907  \n1                      -0.059906  \n2                      -0.059905  \n3                      -0.059905  \n4                      -0.059908  \n\n[5 rows x 42 columns]",
      "text/html": "<div>\n<style scoped>\n    .dataframe tbody tr th:only-of-type {\n        vertical-align: middle;\n    }\n\n    .dataframe tbody tr th {\n        vertical-align: top;\n    }\n\n    .dataframe thead th {\n        text-align: right;\n    }\n</style>\n<table border=\"1\" class=\"dataframe\">\n  <thead>\n    <tr style=\"text-align: right;\">\n      <th></th>\n      <th>ID</th>\n      <th>Date_Of_Birth</th>\n      <th>Sex</th>\n      <th>Had_Covid</th>\n      <th>Begin_Of_Covid</th>\n      <th>End_Of_Covid</th>\n      <th>Lung_Damage</th>\n      <th>Damage_Percent</th>\n      <th>Breathing_Type</th>\n      <th>Frequency</th>\n      <th>...</th>\n      <th>Sin_Period23</th>\n      <th>Sin_Amp23/Sin_Amp13</th>\n      <th>Sin_Amp12/Sin_Amp13</th>\n      <th>Sin_Amp12/Sin_Amp23</th>\n      <th>Sin_Omega23/Sin_Omega13</th>\n      <th>Sin_Omega12/Sin_Omega13</th>\n      <th>Sin_Omega12/Sin_Omega23</th>\n      <th>(Sin_Offset23/Sin_Offset13)^2</th>\n      <th>(Sin_Offset12/Sin_Offset13)^2</th>\n      <th>(Sin_Offset12/Sin_Offset23)^2</th>\n    </tr>\n  </thead>\n  <tbody>\n    <tr>\n      <th>0</th>\n      <td>1</td>\n      <td>04.07.2003</td>\n      <td>M</td>\n      <td>No</td>\n      <td>00.00.0000</td>\n      <td>00.00.0000</td>\n      <td>No</td>\n      <td>-0.207005</td>\n      <td>грудное</td>\n      <td>-0.144237</td>\n      <td>...</td>\n      <td>-0.178712</td>\n      <td>0.002273</td>\n      <td>-0.001832</td>\n      <td>-0.032392</td>\n      <td>-0.156378</td>\n      <td>-0.155622</td>\n      <td>-0.156309</td>\n      <td>-0.088206</td>\n      <td>-0.063808</td>\n      <td>-0.059907</td>\n    </tr>\n    <tr>\n      <th>1</th>\n      <td>1</td>\n      <td>04.07.2003</td>\n      <td>M</td>\n      <td>No</td>\n      <td>00.00.0000</td>\n      <td>00.00.0000</td>\n      <td>No</td>\n      <td>-0.207005</td>\n      <td>грудное</td>\n      <td>-0.144237</td>\n      <td>...</td>\n      <td>-0.183415</td>\n      <td>0.002486</td>\n      <td>-0.001808</td>\n      <td>-0.029759</td>\n      <td>-0.151883</td>\n      <td>-0.154821</td>\n      <td>-0.159698</td>\n      <td>-0.088211</td>\n      <td>-0.063809</td>\n      <td>-0.059906</td>\n    </tr>\n    <tr>\n      <th>2</th>\n      <td>1</td>\n      <td>04.07.2003</td>\n      <td>M</td>\n      <td>No</td>\n      <td>00.00.0000</td>\n      <td>00.00.0000</td>\n      <td>No</td>\n      <td>-0.207005</td>\n      <td>грудное</td>\n      <td>-0.144237</td>\n      <td>...</td>\n      <td>-0.177844</td>\n      <td>0.002607</td>\n      <td>-0.001792</td>\n      <td>-0.030606</td>\n      <td>-0.157144</td>\n      <td>-0.156177</td>\n      <td>-0.155971</td>\n      <td>-0.088215</td>\n      <td>-0.063811</td>\n      <td>-0.059905</td>\n    </tr>\n    <tr>\n      <th>3</th>\n      <td>1</td>\n      <td>04.07.2003</td>\n      <td>M</td>\n      <td>No</td>\n      <td>00.00.0000</td>\n      <td>00.00.0000</td>\n      <td>No</td>\n      <td>-0.207005</td>\n      <td>грудное</td>\n      <td>-0.144237</td>\n      <td>...</td>\n      <td>-0.182131</td>\n      <td>0.002219</td>\n      <td>-0.002349</td>\n      <td>-0.030553</td>\n      <td>-0.152623</td>\n      <td>-0.155988</td>\n      <td>-0.160060</td>\n      <td>-0.088219</td>\n      <td>-0.063815</td>\n      <td>-0.059905</td>\n    </tr>\n    <tr>\n      <th>4</th>\n      <td>1</td>\n      <td>04.07.2003</td>\n      <td>M</td>\n      <td>No</td>\n      <td>00.00.0000</td>\n      <td>00.00.0000</td>\n      <td>No</td>\n      <td>-0.207005</td>\n      <td>грудное</td>\n      <td>-0.144237</td>\n      <td>...</td>\n      <td>-0.191648</td>\n      <td>0.003473</td>\n      <td>-0.001519</td>\n      <td>-0.031048</td>\n      <td>-0.165326</td>\n      <td>-0.156451</td>\n      <td>-0.137226</td>\n      <td>-0.088204</td>\n      <td>-0.063811</td>\n      <td>-0.059908</td>\n    </tr>\n  </tbody>\n</table>\n<p>5 rows × 42 columns</p>\n</div>"
     },
     "execution_count": 150,
     "metadata": {},
     "output_type": "execute_result"
    }
   ],
   "source": [
    "#загрузка датасета\n",
    "data = pd.read_csv('breathes.csv')\n",
    "data = data.drop(columns=['Unnamed: 0'])\n",
    "data.head()"
   ],
   "metadata": {
    "collapsed": false,
    "pycharm": {
     "name": "#%%\n"
    }
   }
  },
  {
   "cell_type": "code",
   "execution_count": null,
   "outputs": [],
   "source": [
    "#добавление новых признаков в датасет\n",
    "i = 0\n",
    "new_features_cols = new_features.columns\n",
    "for id in range(1,87):\n",
    "    for col in new_features_cols:\n",
    "        data.loc[(data['Breathing_Type'] == 'грудное') & (data['ID'] == id), col]= new_features.loc[i][col]\n",
    "    i += 1\n",
    "    for col in new_features_cols:\n",
    "        data.loc[(data['Breathing_Type'] == 'брюшное') & (data['ID'] == id), col] = new_features.loc[i][col]\n",
    "    i += 1\n",
    "    for col in new_features_cols:\n",
    "        data.loc[(data['Breathing_Type'] == 'смешанное') & (data['ID'] == id), col] = new_features.loc[i][col]\n",
    "    i += 1"
   ],
   "metadata": {
    "collapsed": false,
    "pycharm": {
     "name": "#%%\n",
     "is_executing": true
    }
   }
  },
  {
   "cell_type": "code",
   "execution_count": null,
   "outputs": [],
   "source": [
    "data.head(20)"
   ],
   "metadata": {
    "collapsed": false,
    "pycharm": {
     "name": "#%%\n",
     "is_executing": true
    }
   }
  },
  {
   "cell_type": "markdown",
   "source": [
    "<h3>Подготовка датасета для моделей машинного обучения</h3>"
   ],
   "metadata": {
    "collapsed": false,
    "pycharm": {
     "name": "#%% md\n"
    }
   }
  },
  {
   "cell_type": "code",
   "execution_count": null,
   "outputs": [],
   "source": [
    "#отбрасывание ненужных столбцов\n",
    "drop_columns = ['Date_Of_Birth', 'Begin_Of_Covid', 'End_Of_Covid']\n",
    "df = data.drop(columns=drop_columns)\n",
    "#определение численных и категориальных признаков\n",
    "y = df['Breathing_Type']\n",
    "categorical_cols = ['Sex', 'Had_Covid', 'Lung_Damage', 'DominatorFreq']\n",
    "X_categorical = df[categorical_cols]\n",
    "non_numerical_cols = categorical_cols + ['ID', 'Breathing_Type']\n",
    "X_numeric = df.drop(columns=non_numerical_cols)\n",
    "#трансформация категориальных признаков\n",
    "le = LabelEncoder()\n",
    "for col in X_categorical.columns:\n",
    "    X_categorical[col]= le.fit_transform(X_categorical[col])\n",
    "le = LabelEncoder()\n",
    "y = le.fit_transform(y)\n",
    "#все входные признаки\n",
    "X = np.concatenate((X_numeric, X_categorical), axis=1)\n",
    "X_df = pd.concat([X_numeric, X_categorical], axis=1)"
   ],
   "metadata": {
    "collapsed": false,
    "pycharm": {
     "name": "#%%\n",
     "is_executing": true
    }
   }
  },
  {
   "cell_type": "code",
   "execution_count": 154,
   "outputs": [],
   "source": [
    "#разделение на обучающую(70%) и тестовую (30%) выборки\n",
    "X_train, X_test, y_train, y_test = train_test_split(X, y, test_size=0.3, random_state=42)"
   ],
   "metadata": {
    "collapsed": false,
    "pycharm": {
     "name": "#%%\n"
    }
   }
  },
  {
   "cell_type": "code",
   "execution_count": 155,
   "outputs": [],
   "source": [
    "from sklearn.metrics import recall_score\n",
    "from sklearn.metrics import f1_score\n",
    "from sklearn.metrics import precision_score\n",
    "from sklearn.metrics import classification_report\n",
    "#расчет метрик по тесовой выборке\n",
    "def calculate_metrics(y_test, y_pred):\n",
    "    accuracy = accuracy_score(y_test, y_pred)\n",
    "    recall = recall_score(y_test, y_pred, average='weighted')\n",
    "    precision = precision_score(y_test, y_pred, average='weighted')\n",
    "    f1 = f1_score(y_test, y_pred, average='weighted')\n",
    "    print(\"Accuracy: \", accuracy)\n",
    "    print(\"Recall: \", recall)\n",
    "    print(\"Precision: \", precision)\n",
    "    print(\"F1-score: \", f1)\n",
    "    report = classification_report(y_test, y_pred)\n",
    "    print(report)\n",
    "\n",
    "#расчет знамости признаков\n",
    "def calc_feature_importances(model, X_df):\n",
    "    importance = model.feature_importances_\n",
    "    feature_importance = pd.DataFrame({'Feature': X_df.columns, 'Importance': importance})\n",
    "    feature_importance = feature_importance.sort_values('Importance', ascending=False)\n",
    "    return feature_importance"
   ],
   "metadata": {
    "collapsed": false,
    "pycharm": {
     "name": "#%%\n"
    }
   }
  },
  {
   "cell_type": "markdown",
   "source": [
    "<h3>Метод взаимной информации (Mutual Info)</h3>"
   ],
   "metadata": {
    "collapsed": false,
    "pycharm": {
     "name": "#%% md\n"
    }
   }
  },
  {
   "cell_type": "code",
   "execution_count": 173,
   "outputs": [],
   "source": [
    "from sklearn.feature_selection import mutual_info_classif\n",
    "\n",
    "importances = mutual_info_classif(X, y)"
   ],
   "metadata": {
    "collapsed": false,
    "pycharm": {
     "name": "#%%\n"
    }
   }
  },
  {
   "cell_type": "code",
   "execution_count": 174,
   "outputs": [],
   "source": [
    "feature_importance = pd.DataFrame({'Feature': X_df.columns, 'Importance': importances})\n",
    "feature_importance = feature_importance.sort_values('Importance', ascending=False)\n",
    "best_features = feature_importance[:100]"
   ],
   "metadata": {
    "collapsed": false,
    "pycharm": {
     "name": "#%%\n"
    }
   }
  },
  {
   "cell_type": "code",
   "execution_count": 175,
   "outputs": [
    {
     "data": {
      "text/plain": "                       Feature  Importance\n130          FMX_coif6_d2_diff    1.096671\n184        FMX_haar_approx_std    1.095743\n245             FMY_db8_d2_p75    1.094540\n84            FMX_sym8_d1_diff    1.093345\n356         FMY_bior6.8_d2_p75    1.093282\n142           FMX_coif6_d3_p25    1.092791\n236             FMY_db8_d1_p75    1.092651\n453         FMZ_sym8_d1_median    1.092033\n262        FMY_sym8_approx_min    1.091828\n250            FMY_db8_d3_diff    1.091806\n144   FMX_bior6.8_total_energy    1.091750\n71      FMX_sym8_approx_energy    1.091750\n70       FMX_sym8_total_energy    1.091750\n145  FMX_bior6.8_approx_energy    1.091750\n336     FMY_bior6.8_approx_min    1.091650",
      "text/html": "<div>\n<style scoped>\n    .dataframe tbody tr th:only-of-type {\n        vertical-align: middle;\n    }\n\n    .dataframe tbody tr th {\n        vertical-align: top;\n    }\n\n    .dataframe thead th {\n        text-align: right;\n    }\n</style>\n<table border=\"1\" class=\"dataframe\">\n  <thead>\n    <tr style=\"text-align: right;\">\n      <th></th>\n      <th>Feature</th>\n      <th>Importance</th>\n    </tr>\n  </thead>\n  <tbody>\n    <tr>\n      <th>130</th>\n      <td>FMX_coif6_d2_diff</td>\n      <td>1.096671</td>\n    </tr>\n    <tr>\n      <th>184</th>\n      <td>FMX_haar_approx_std</td>\n      <td>1.095743</td>\n    </tr>\n    <tr>\n      <th>245</th>\n      <td>FMY_db8_d2_p75</td>\n      <td>1.094540</td>\n    </tr>\n    <tr>\n      <th>84</th>\n      <td>FMX_sym8_d1_diff</td>\n      <td>1.093345</td>\n    </tr>\n    <tr>\n      <th>356</th>\n      <td>FMY_bior6.8_d2_p75</td>\n      <td>1.093282</td>\n    </tr>\n    <tr>\n      <th>142</th>\n      <td>FMX_coif6_d3_p25</td>\n      <td>1.092791</td>\n    </tr>\n    <tr>\n      <th>236</th>\n      <td>FMY_db8_d1_p75</td>\n      <td>1.092651</td>\n    </tr>\n    <tr>\n      <th>453</th>\n      <td>FMZ_sym8_d1_median</td>\n      <td>1.092033</td>\n    </tr>\n    <tr>\n      <th>262</th>\n      <td>FMY_sym8_approx_min</td>\n      <td>1.091828</td>\n    </tr>\n    <tr>\n      <th>250</th>\n      <td>FMY_db8_d3_diff</td>\n      <td>1.091806</td>\n    </tr>\n    <tr>\n      <th>144</th>\n      <td>FMX_bior6.8_total_energy</td>\n      <td>1.091750</td>\n    </tr>\n    <tr>\n      <th>71</th>\n      <td>FMX_sym8_approx_energy</td>\n      <td>1.091750</td>\n    </tr>\n    <tr>\n      <th>70</th>\n      <td>FMX_sym8_total_energy</td>\n      <td>1.091750</td>\n    </tr>\n    <tr>\n      <th>145</th>\n      <td>FMX_bior6.8_approx_energy</td>\n      <td>1.091750</td>\n    </tr>\n    <tr>\n      <th>336</th>\n      <td>FMY_bior6.8_approx_min</td>\n      <td>1.091650</td>\n    </tr>\n  </tbody>\n</table>\n</div>"
     },
     "execution_count": 175,
     "metadata": {},
     "output_type": "execute_result"
    }
   ],
   "source": [
    "best_features.head(15)"
   ],
   "metadata": {
    "collapsed": false,
    "pycharm": {
     "name": "#%%\n"
    }
   }
  },
  {
   "cell_type": "code",
   "execution_count": 176,
   "outputs": [],
   "source": [
    "best_features.to_excel('mutual_best_features.xlsx')"
   ],
   "metadata": {
    "collapsed": false,
    "pycharm": {
     "name": "#%%\n"
    }
   }
  },
  {
   "cell_type": "markdown",
   "source": [
    "<h3>F-Test (Тест Фишера)</h3>"
   ],
   "metadata": {
    "collapsed": false,
    "pycharm": {
     "name": "#%% md\n"
    }
   }
  },
  {
   "cell_type": "code",
   "execution_count": 177,
   "outputs": [
    {
     "name": "stderr",
     "output_type": "stream",
     "text": [
      "C:\\Users\\admin\\PycharmProjects\\TimeSeriesLibraries\\venv\\lib\\site-packages\\sklearn\\feature_selection\\_univariate_selection.py:112: UserWarning: Features [ 212  397  582  767  943  952 1137 1322 1507 1692] are constant.\n",
      "  warnings.warn(\"Features %s are constant.\" % constant_features_idx, UserWarning)\n",
      "C:\\Users\\admin\\PycharmProjects\\TimeSeriesLibraries\\venv\\lib\\site-packages\\sklearn\\feature_selection\\_univariate_selection.py:113: RuntimeWarning: invalid value encountered in divide\n",
      "  f = msb / msw\n"
     ]
    }
   ],
   "source": [
    "from sklearn.feature_selection import f_classif\n",
    "\n",
    "#расчет f-scores\n",
    "f_scores, p_values = f_classif(X, y)"
   ],
   "metadata": {
    "collapsed": false,
    "pycharm": {
     "name": "#%%\n"
    }
   }
  },
  {
   "cell_type": "code",
   "execution_count": 179,
   "outputs": [],
   "source": [
    "feature_importance = pd.DataFrame({'Feature': X_df.columns, 'F-score': f_scores, 'p':p_values})\n",
    "feature_importance = feature_importance.sort_values('F-score', ascending=False)\n",
    "best_features = feature_importance[:100]"
   ],
   "metadata": {
    "collapsed": false,
    "pycharm": {
     "name": "#%%\n"
    }
   }
  },
  {
   "cell_type": "code",
   "execution_count": 180,
   "outputs": [
    {
     "data": {
      "text/plain": "                     Feature     F-score             p\n384          FMY_haar_d1_p75  132.165305  2.550422e-53\n383          FMY_haar_d1_p25  121.973832  1.428204e-49\n378          FMY_haar_d1_std  119.782672  9.261814e-49\n387          FMY_haar_d2_std   99.818216  2.920937e-41\n392          FMY_haar_d2_p25   95.189741  1.700812e-39\n401          FMY_haar_d3_p25   94.631534  2.781171e-39\n369      FMY_haar_approx_std   88.544459  6.066229e-37\n393          FMY_haar_d2_p75   88.330651  7.334857e-37\n221       FMY_db8_approx_std   86.155189  5.079398e-36\n332   FMY_bior6.8_approx_std   85.187290  1.203579e-35\n258      FMY_sym8_approx_std   84.572553  2.082914e-35\n295     FMY_coif6_approx_std   77.852370  8.605799e-33\n376       FMY_haar_d1_energy   73.370165  4.923079e-31\n1229        TMX_coif6_d1_std   67.328785  1.194423e-28\n385       FMY_haar_d2_energy   65.567009  5.972693e-28",
      "text/html": "<div>\n<style scoped>\n    .dataframe tbody tr th:only-of-type {\n        vertical-align: middle;\n    }\n\n    .dataframe tbody tr th {\n        vertical-align: top;\n    }\n\n    .dataframe thead th {\n        text-align: right;\n    }\n</style>\n<table border=\"1\" class=\"dataframe\">\n  <thead>\n    <tr style=\"text-align: right;\">\n      <th></th>\n      <th>Feature</th>\n      <th>F-score</th>\n      <th>p</th>\n    </tr>\n  </thead>\n  <tbody>\n    <tr>\n      <th>384</th>\n      <td>FMY_haar_d1_p75</td>\n      <td>132.165305</td>\n      <td>2.550422e-53</td>\n    </tr>\n    <tr>\n      <th>383</th>\n      <td>FMY_haar_d1_p25</td>\n      <td>121.973832</td>\n      <td>1.428204e-49</td>\n    </tr>\n    <tr>\n      <th>378</th>\n      <td>FMY_haar_d1_std</td>\n      <td>119.782672</td>\n      <td>9.261814e-49</td>\n    </tr>\n    <tr>\n      <th>387</th>\n      <td>FMY_haar_d2_std</td>\n      <td>99.818216</td>\n      <td>2.920937e-41</td>\n    </tr>\n    <tr>\n      <th>392</th>\n      <td>FMY_haar_d2_p25</td>\n      <td>95.189741</td>\n      <td>1.700812e-39</td>\n    </tr>\n    <tr>\n      <th>401</th>\n      <td>FMY_haar_d3_p25</td>\n      <td>94.631534</td>\n      <td>2.781171e-39</td>\n    </tr>\n    <tr>\n      <th>369</th>\n      <td>FMY_haar_approx_std</td>\n      <td>88.544459</td>\n      <td>6.066229e-37</td>\n    </tr>\n    <tr>\n      <th>393</th>\n      <td>FMY_haar_d2_p75</td>\n      <td>88.330651</td>\n      <td>7.334857e-37</td>\n    </tr>\n    <tr>\n      <th>221</th>\n      <td>FMY_db8_approx_std</td>\n      <td>86.155189</td>\n      <td>5.079398e-36</td>\n    </tr>\n    <tr>\n      <th>332</th>\n      <td>FMY_bior6.8_approx_std</td>\n      <td>85.187290</td>\n      <td>1.203579e-35</td>\n    </tr>\n    <tr>\n      <th>258</th>\n      <td>FMY_sym8_approx_std</td>\n      <td>84.572553</td>\n      <td>2.082914e-35</td>\n    </tr>\n    <tr>\n      <th>295</th>\n      <td>FMY_coif6_approx_std</td>\n      <td>77.852370</td>\n      <td>8.605799e-33</td>\n    </tr>\n    <tr>\n      <th>376</th>\n      <td>FMY_haar_d1_energy</td>\n      <td>73.370165</td>\n      <td>4.923079e-31</td>\n    </tr>\n    <tr>\n      <th>1229</th>\n      <td>TMX_coif6_d1_std</td>\n      <td>67.328785</td>\n      <td>1.194423e-28</td>\n    </tr>\n    <tr>\n      <th>385</th>\n      <td>FMY_haar_d2_energy</td>\n      <td>65.567009</td>\n      <td>5.972693e-28</td>\n    </tr>\n  </tbody>\n</table>\n</div>"
     },
     "execution_count": 180,
     "metadata": {},
     "output_type": "execute_result"
    }
   ],
   "source": [
    "best_features.head(15)"
   ],
   "metadata": {
    "collapsed": false,
    "pycharm": {
     "name": "#%%\n"
    }
   }
  },
  {
   "cell_type": "code",
   "execution_count": 181,
   "outputs": [],
   "source": [
    "best_features.to_excel('ftest_best_features.xlsx')"
   ],
   "metadata": {
    "collapsed": false,
    "pycharm": {
     "name": "#%%\n"
    }
   }
  },
  {
   "cell_type": "markdown",
   "source": [
    "<h3>Decision Tree</h3>"
   ],
   "metadata": {
    "collapsed": false,
    "pycharm": {
     "name": "#%% md\n"
    }
   }
  },
  {
   "cell_type": "code",
   "execution_count": 182,
   "outputs": [],
   "source": [
    "from sklearn.tree import DecisionTreeClassifier\n",
    "\n",
    "model_tree = DecisionTreeClassifier()\n",
    "details = model_tree.fit(X_train, y_train)\n",
    "y_pred = model_tree.predict(X_test)"
   ],
   "metadata": {
    "collapsed": false,
    "pycharm": {
     "name": "#%%\n"
    }
   }
  },
  {
   "cell_type": "code",
   "execution_count": 183,
   "outputs": [
    {
     "name": "stdout",
     "output_type": "stream",
     "text": [
      "Accuracy:  0.9905437352245863\n",
      "Recall:  0.9905437352245863\n",
      "Precision:  0.9906042795368738\n",
      "F1-score:  0.9905428945182585\n",
      "              precision    recall  f1-score   support\n",
      "\n",
      "           0       0.99      0.98      0.99       149\n",
      "           1       1.00      1.00      1.00       123\n",
      "           2       0.98      0.99      0.99       151\n",
      "\n",
      "    accuracy                           0.99       423\n",
      "   macro avg       0.99      0.99      0.99       423\n",
      "weighted avg       0.99      0.99      0.99       423\n",
      "\n"
     ]
    }
   ],
   "source": [
    "calculate_metrics(y_test, y_pred)"
   ],
   "metadata": {
    "collapsed": false,
    "pycharm": {
     "name": "#%%\n"
    }
   }
  },
  {
   "cell_type": "code",
   "execution_count": 184,
   "outputs": [],
   "source": [
    "feature_importances = calc_feature_importances(model_tree, X_df)\n",
    "best_features = feature_importances[:100]"
   ],
   "metadata": {
    "collapsed": false,
    "pycharm": {
     "name": "#%%\n"
    }
   }
  },
  {
   "cell_type": "code",
   "execution_count": 185,
   "outputs": [
    {
     "data": {
      "text/plain": "                  Feature  Importance\n378       FMY_haar_d1_std    0.097624\n143      FMX_coif6_d3_p75    0.059502\n1303      TMX_haar_d1_std    0.057595\n1277  TMX_bior6.8_d2_diff    0.054836\n1085   SMZ_bior6.8_d1_min    0.044514\n1195      TMX_sym8_d1_max    0.042823\n1605     TMZ_coif6_d1_p75    0.041956\n140      FMX_coif6_d3_max    0.040577\n1651   TMZ_bior6.8_d2_p75    0.039582\n1197      TMX_sym8_d1_p25    0.036460\n306     FMY_coif6_d1_diff    0.035540\n457       FMZ_sym8_d1_p25    0.034385\n689      SMX_coif6_d2_p75    0.033514\n290       FMY_sym8_d3_p25    0.026492\n105       FMX_sym8_d3_p25    0.025506",
      "text/html": "<div>\n<style scoped>\n    .dataframe tbody tr th:only-of-type {\n        vertical-align: middle;\n    }\n\n    .dataframe tbody tr th {\n        vertical-align: top;\n    }\n\n    .dataframe thead th {\n        text-align: right;\n    }\n</style>\n<table border=\"1\" class=\"dataframe\">\n  <thead>\n    <tr style=\"text-align: right;\">\n      <th></th>\n      <th>Feature</th>\n      <th>Importance</th>\n    </tr>\n  </thead>\n  <tbody>\n    <tr>\n      <th>378</th>\n      <td>FMY_haar_d1_std</td>\n      <td>0.097624</td>\n    </tr>\n    <tr>\n      <th>143</th>\n      <td>FMX_coif6_d3_p75</td>\n      <td>0.059502</td>\n    </tr>\n    <tr>\n      <th>1303</th>\n      <td>TMX_haar_d1_std</td>\n      <td>0.057595</td>\n    </tr>\n    <tr>\n      <th>1277</th>\n      <td>TMX_bior6.8_d2_diff</td>\n      <td>0.054836</td>\n    </tr>\n    <tr>\n      <th>1085</th>\n      <td>SMZ_bior6.8_d1_min</td>\n      <td>0.044514</td>\n    </tr>\n    <tr>\n      <th>1195</th>\n      <td>TMX_sym8_d1_max</td>\n      <td>0.042823</td>\n    </tr>\n    <tr>\n      <th>1605</th>\n      <td>TMZ_coif6_d1_p75</td>\n      <td>0.041956</td>\n    </tr>\n    <tr>\n      <th>140</th>\n      <td>FMX_coif6_d3_max</td>\n      <td>0.040577</td>\n    </tr>\n    <tr>\n      <th>1651</th>\n      <td>TMZ_bior6.8_d2_p75</td>\n      <td>0.039582</td>\n    </tr>\n    <tr>\n      <th>1197</th>\n      <td>TMX_sym8_d1_p25</td>\n      <td>0.036460</td>\n    </tr>\n    <tr>\n      <th>306</th>\n      <td>FMY_coif6_d1_diff</td>\n      <td>0.035540</td>\n    </tr>\n    <tr>\n      <th>457</th>\n      <td>FMZ_sym8_d1_p25</td>\n      <td>0.034385</td>\n    </tr>\n    <tr>\n      <th>689</th>\n      <td>SMX_coif6_d2_p75</td>\n      <td>0.033514</td>\n    </tr>\n    <tr>\n      <th>290</th>\n      <td>FMY_sym8_d3_p25</td>\n      <td>0.026492</td>\n    </tr>\n    <tr>\n      <th>105</th>\n      <td>FMX_sym8_d3_p25</td>\n      <td>0.025506</td>\n    </tr>\n  </tbody>\n</table>\n</div>"
     },
     "execution_count": 185,
     "metadata": {},
     "output_type": "execute_result"
    }
   ],
   "source": [
    "best_features.head(15)"
   ],
   "metadata": {
    "collapsed": false,
    "pycharm": {
     "name": "#%%\n"
    }
   }
  },
  {
   "cell_type": "code",
   "execution_count": 186,
   "outputs": [],
   "source": [
    "best_features.to_excel('decisiontree_best_features.xlsx')"
   ],
   "metadata": {
    "collapsed": false,
    "pycharm": {
     "name": "#%%\n"
    }
   }
  },
  {
   "cell_type": "code",
   "execution_count": null,
   "outputs": [],
   "source": [],
   "metadata": {
    "collapsed": false,
    "pycharm": {
     "name": "#%%\n"
    }
   }
  }
 ],
 "metadata": {
  "kernelspec": {
   "display_name": "Python 3",
   "language": "python",
   "name": "python3"
  },
  "language_info": {
   "codemirror_mode": {
    "name": "ipython",
    "version": 2
   },
   "file_extension": ".py",
   "mimetype": "text/x-python",
   "name": "python",
   "nbconvert_exporter": "python",
   "pygments_lexer": "ipython2",
   "version": "2.7.6"
  }
 },
 "nbformat": 4,
 "nbformat_minor": 0
}