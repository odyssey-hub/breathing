{
 "cells": [
  {
   "cell_type": "code",
   "execution_count": 1,
   "metadata": {
    "collapsed": true,
    "pycharm": {
     "name": "#%%\n"
    }
   },
   "outputs": [],
   "source": [
    "import pandas as pd\n",
    "import numpy as np\n",
    "import xgboost as xgb\n",
    "from sklearn.model_selection import train_test_split\n",
    "from sklearn.preprocessing import  LabelEncoder"
   ]
  },
  {
   "cell_type": "markdown",
   "source": [
    "<h3>Загрузка и предобработка датасета</h3>"
   ],
   "metadata": {
    "collapsed": false,
    "pycharm": {
     "name": "#%% md\n"
    }
   }
  },
  {
   "cell_type": "code",
   "execution_count": 43,
   "outputs": [
    {
     "data": {
      "text/plain": "   id  BreathingType  TimeStamp_sec  FirstMarkerXCoord  FirstMarkerYCoord  \\\n0   1              0       0.058895              0.689             -1.453   \n1   1              0       0.111889              0.687             -1.452   \n2   1              0       0.158371              0.687             -1.451   \n3   1              0       0.262516              0.685             -1.450   \n4   1              0       0.295620              0.684             -1.449   \n\n   FirstMarkerZCoord  SecondMarkerXCoord  SecondMarkerYCoord  \\\n0              4.417               0.881              -1.544   \n1              4.418               0.881              -1.544   \n2              4.419               0.881              -1.544   \n3              4.420               0.882              -1.544   \n4              4.420               0.883              -1.544   \n\n   SecondMarkerZCoord  ThirdMarkerXCoord  ThirdMarkerYCoord  ThirdMarkerZCoord  \n0               4.547              0.718             -1.607              4.369  \n1               4.547              0.715             -1.607              4.371  \n2               4.545              0.714             -1.607              4.371  \n3               4.541              0.711             -1.608              4.373  \n4               4.540              0.709             -1.607              4.370  ",
      "text/html": "<div>\n<style scoped>\n    .dataframe tbody tr th:only-of-type {\n        vertical-align: middle;\n    }\n\n    .dataframe tbody tr th {\n        vertical-align: top;\n    }\n\n    .dataframe thead th {\n        text-align: right;\n    }\n</style>\n<table border=\"1\" class=\"dataframe\">\n  <thead>\n    <tr style=\"text-align: right;\">\n      <th></th>\n      <th>id</th>\n      <th>BreathingType</th>\n      <th>TimeStamp_sec</th>\n      <th>FirstMarkerXCoord</th>\n      <th>FirstMarkerYCoord</th>\n      <th>FirstMarkerZCoord</th>\n      <th>SecondMarkerXCoord</th>\n      <th>SecondMarkerYCoord</th>\n      <th>SecondMarkerZCoord</th>\n      <th>ThirdMarkerXCoord</th>\n      <th>ThirdMarkerYCoord</th>\n      <th>ThirdMarkerZCoord</th>\n    </tr>\n  </thead>\n  <tbody>\n    <tr>\n      <th>0</th>\n      <td>1</td>\n      <td>0</td>\n      <td>0.058895</td>\n      <td>0.689</td>\n      <td>-1.453</td>\n      <td>4.417</td>\n      <td>0.881</td>\n      <td>-1.544</td>\n      <td>4.547</td>\n      <td>0.718</td>\n      <td>-1.607</td>\n      <td>4.369</td>\n    </tr>\n    <tr>\n      <th>1</th>\n      <td>1</td>\n      <td>0</td>\n      <td>0.111889</td>\n      <td>0.687</td>\n      <td>-1.452</td>\n      <td>4.418</td>\n      <td>0.881</td>\n      <td>-1.544</td>\n      <td>4.547</td>\n      <td>0.715</td>\n      <td>-1.607</td>\n      <td>4.371</td>\n    </tr>\n    <tr>\n      <th>2</th>\n      <td>1</td>\n      <td>0</td>\n      <td>0.158371</td>\n      <td>0.687</td>\n      <td>-1.451</td>\n      <td>4.419</td>\n      <td>0.881</td>\n      <td>-1.544</td>\n      <td>4.545</td>\n      <td>0.714</td>\n      <td>-1.607</td>\n      <td>4.371</td>\n    </tr>\n    <tr>\n      <th>3</th>\n      <td>1</td>\n      <td>0</td>\n      <td>0.262516</td>\n      <td>0.685</td>\n      <td>-1.450</td>\n      <td>4.420</td>\n      <td>0.882</td>\n      <td>-1.544</td>\n      <td>4.541</td>\n      <td>0.711</td>\n      <td>-1.608</td>\n      <td>4.373</td>\n    </tr>\n    <tr>\n      <th>4</th>\n      <td>1</td>\n      <td>0</td>\n      <td>0.295620</td>\n      <td>0.684</td>\n      <td>-1.449</td>\n      <td>4.420</td>\n      <td>0.883</td>\n      <td>-1.544</td>\n      <td>4.540</td>\n      <td>0.709</td>\n      <td>-1.607</td>\n      <td>4.370</td>\n    </tr>\n  </tbody>\n</table>\n</div>"
     },
     "execution_count": 43,
     "metadata": {},
     "output_type": "execute_result"
    }
   ],
   "source": [
    "#загрузка датасета\n",
    "df = pd.read_csv('coords_data_numerated.csv')\n",
    "df = df.drop(columns=['Unnamed: 0', 'GSR'])\n",
    "df.head()"
   ],
   "metadata": {
    "collapsed": false,
    "pycharm": {
     "name": "#%%\n"
    }
   }
  },
  {
   "cell_type": "code",
   "execution_count": 44,
   "outputs": [
    {
     "data": {
      "text/plain": "         id  FirstMarkerXCoord  FirstMarkerYCoord  FirstMarkerZCoord  \\\n230921  258              1.063             -1.649              3.843   \n230922  258              1.062             -1.648              3.842   \n230923  258              1.062             -1.648              3.842   \n230924  258              1.063             -1.647              3.842   \n230925  258              1.063             -1.647              3.842   \n\n        SecondMarkerXCoord  SecondMarkerYCoord  SecondMarkerZCoord  \\\n230921               1.093              -1.839               3.624   \n230922               1.094              -1.841               3.625   \n230923               1.093              -1.841               3.624   \n230924               1.094              -1.841               3.624   \n230925               1.094              -1.841               3.623   \n\n        ThirdMarkerXCoord  ThirdMarkerYCoord  ThirdMarkerZCoord  \n230921              1.030             -1.867              3.859  \n230922              1.030             -1.867              3.857  \n230923              1.030             -1.868              3.855  \n230924              1.029             -1.868              3.853  \n230925              1.030             -1.868              3.853  ",
      "text/html": "<div>\n<style scoped>\n    .dataframe tbody tr th:only-of-type {\n        vertical-align: middle;\n    }\n\n    .dataframe tbody tr th {\n        vertical-align: top;\n    }\n\n    .dataframe thead th {\n        text-align: right;\n    }\n</style>\n<table border=\"1\" class=\"dataframe\">\n  <thead>\n    <tr style=\"text-align: right;\">\n      <th></th>\n      <th>id</th>\n      <th>FirstMarkerXCoord</th>\n      <th>FirstMarkerYCoord</th>\n      <th>FirstMarkerZCoord</th>\n      <th>SecondMarkerXCoord</th>\n      <th>SecondMarkerYCoord</th>\n      <th>SecondMarkerZCoord</th>\n      <th>ThirdMarkerXCoord</th>\n      <th>ThirdMarkerYCoord</th>\n      <th>ThirdMarkerZCoord</th>\n    </tr>\n  </thead>\n  <tbody>\n    <tr>\n      <th>230921</th>\n      <td>258</td>\n      <td>1.063</td>\n      <td>-1.649</td>\n      <td>3.843</td>\n      <td>1.093</td>\n      <td>-1.839</td>\n      <td>3.624</td>\n      <td>1.030</td>\n      <td>-1.867</td>\n      <td>3.859</td>\n    </tr>\n    <tr>\n      <th>230922</th>\n      <td>258</td>\n      <td>1.062</td>\n      <td>-1.648</td>\n      <td>3.842</td>\n      <td>1.094</td>\n      <td>-1.841</td>\n      <td>3.625</td>\n      <td>1.030</td>\n      <td>-1.867</td>\n      <td>3.857</td>\n    </tr>\n    <tr>\n      <th>230923</th>\n      <td>258</td>\n      <td>1.062</td>\n      <td>-1.648</td>\n      <td>3.842</td>\n      <td>1.093</td>\n      <td>-1.841</td>\n      <td>3.624</td>\n      <td>1.030</td>\n      <td>-1.868</td>\n      <td>3.855</td>\n    </tr>\n    <tr>\n      <th>230924</th>\n      <td>258</td>\n      <td>1.063</td>\n      <td>-1.647</td>\n      <td>3.842</td>\n      <td>1.094</td>\n      <td>-1.841</td>\n      <td>3.624</td>\n      <td>1.029</td>\n      <td>-1.868</td>\n      <td>3.853</td>\n    </tr>\n    <tr>\n      <th>230925</th>\n      <td>258</td>\n      <td>1.063</td>\n      <td>-1.647</td>\n      <td>3.842</td>\n      <td>1.094</td>\n      <td>-1.841</td>\n      <td>3.623</td>\n      <td>1.030</td>\n      <td>-1.868</td>\n      <td>3.853</td>\n    </tr>\n  </tbody>\n</table>\n</div>"
     },
     "execution_count": 44,
     "metadata": {},
     "output_type": "execute_result"
    }
   ],
   "source": [
    "#Определение выходного признака и входных признаков\n",
    "y = df['BreathingType']\n",
    "X = df.drop(columns=['BreathingType','TimeStamp_sec'])\n",
    "X.tail()"
   ],
   "metadata": {
    "collapsed": false,
    "pycharm": {
     "name": "#%%\n"
    }
   }
  },
  {
   "cell_type": "code",
   "execution_count": 45,
   "outputs": [
    {
     "data": {
      "text/plain": "   id    FMX    FMY    FMZ    SMX    SMY    SMZ    TMX    TMY    TMZ\n0   1  0.689 -1.453  4.417  0.881 -1.544  4.547  0.718 -1.607  4.369\n1   1  0.687 -1.452  4.418  0.881 -1.544  4.547  0.715 -1.607  4.371\n2   1  0.687 -1.451  4.419  0.881 -1.544  4.545  0.714 -1.607  4.371\n3   1  0.685 -1.450  4.420  0.882 -1.544  4.541  0.711 -1.608  4.373\n4   1  0.684 -1.449  4.420  0.883 -1.544  4.540  0.709 -1.607  4.370",
      "text/html": "<div>\n<style scoped>\n    .dataframe tbody tr th:only-of-type {\n        vertical-align: middle;\n    }\n\n    .dataframe tbody tr th {\n        vertical-align: top;\n    }\n\n    .dataframe thead th {\n        text-align: right;\n    }\n</style>\n<table border=\"1\" class=\"dataframe\">\n  <thead>\n    <tr style=\"text-align: right;\">\n      <th></th>\n      <th>id</th>\n      <th>FMX</th>\n      <th>FMY</th>\n      <th>FMZ</th>\n      <th>SMX</th>\n      <th>SMY</th>\n      <th>SMZ</th>\n      <th>TMX</th>\n      <th>TMY</th>\n      <th>TMZ</th>\n    </tr>\n  </thead>\n  <tbody>\n    <tr>\n      <th>0</th>\n      <td>1</td>\n      <td>0.689</td>\n      <td>-1.453</td>\n      <td>4.417</td>\n      <td>0.881</td>\n      <td>-1.544</td>\n      <td>4.547</td>\n      <td>0.718</td>\n      <td>-1.607</td>\n      <td>4.369</td>\n    </tr>\n    <tr>\n      <th>1</th>\n      <td>1</td>\n      <td>0.687</td>\n      <td>-1.452</td>\n      <td>4.418</td>\n      <td>0.881</td>\n      <td>-1.544</td>\n      <td>4.547</td>\n      <td>0.715</td>\n      <td>-1.607</td>\n      <td>4.371</td>\n    </tr>\n    <tr>\n      <th>2</th>\n      <td>1</td>\n      <td>0.687</td>\n      <td>-1.451</td>\n      <td>4.419</td>\n      <td>0.881</td>\n      <td>-1.544</td>\n      <td>4.545</td>\n      <td>0.714</td>\n      <td>-1.607</td>\n      <td>4.371</td>\n    </tr>\n    <tr>\n      <th>3</th>\n      <td>1</td>\n      <td>0.685</td>\n      <td>-1.450</td>\n      <td>4.420</td>\n      <td>0.882</td>\n      <td>-1.544</td>\n      <td>4.541</td>\n      <td>0.711</td>\n      <td>-1.608</td>\n      <td>4.373</td>\n    </tr>\n    <tr>\n      <th>4</th>\n      <td>1</td>\n      <td>0.684</td>\n      <td>-1.449</td>\n      <td>4.420</td>\n      <td>0.883</td>\n      <td>-1.544</td>\n      <td>4.540</td>\n      <td>0.709</td>\n      <td>-1.607</td>\n      <td>4.370</td>\n    </tr>\n  </tbody>\n</table>\n</div>"
     },
     "execution_count": 45,
     "metadata": {},
     "output_type": "execute_result"
    }
   ],
   "source": [
    "#переименование столбцов\n",
    "dict_renames = {\n",
    "    'FirstMarkerXCoord' : 'FMX',\n",
    "    'FirstMarkerYCoord' : 'FMY',\n",
    "    'FirstMarkerZCoord' : 'FMZ',\n",
    "    'SecondMarkerXCoord' :  'SMX',\n",
    "    'SecondMarkerYCoord' : 'SMY',\n",
    "    'SecondMarkerZCoord' : 'SMZ',\n",
    "    'ThirdMarkerXCoord' : 'TMX',\n",
    "    'ThirdMarkerYCoord' : 'TMY',\n",
    "    'ThirdMarkerZCoord' : 'TMZ'\n",
    "}\n",
    "X = X.rename(columns=dict_renames)\n",
    "X.head()"
   ],
   "metadata": {
    "collapsed": false,
    "pycharm": {
     "name": "#%%\n"
    }
   }
  },
  {
   "cell_type": "markdown",
   "source": [
    "<h3>Извлечение признаков с помощью преобразования Фурье</h3>"
   ],
   "metadata": {
    "collapsed": false,
    "pycharm": {
     "name": "#%% md\n"
    }
   }
  },
  {
   "cell_type": "code",
   "execution_count": 52,
   "outputs": [],
   "source": [
    "def calc_phases(ts):\n",
    "    return np.angle(ts)\n",
    "\n",
    "def calc_amplitudes(ts):\n",
    "    return np.abs(ts)\n",
    "\n",
    "def calc_stats_features(prefix, values):\n",
    "    stats_features = pd.DataFrame()\n",
    "    stats_features[prefix+'mean'] = [np.mean(values)]\n",
    "    stats_features[prefix+'median'] = [np.median(values)]\n",
    "    stats_features[prefix+'diff']  = [np.mean(np.diff(values))]\n",
    "    stats_features[prefix+'std'] = [np.std(values)]\n",
    "    stats_features[prefix+'max'] = [np.max(values)]\n",
    "    stats_features[prefix+'min'] = [np.min(values)]\n",
    "    stats_features[prefix+'p25'] = [np.percentile(values, 25)]\n",
    "    stats_features[prefix+'p75'] = [np.percentile(values, 75)]\n",
    "    return stats_features\n",
    "\n",
    "def calc_phases_features(prefix, phases):\n",
    "    prefix += '_phases_'\n",
    "    phases_features = calc_stats_features(prefix, phases)\n",
    "    return phases_features\n",
    "\n",
    "def calc_amplitude_features(prefix, amplitudes):\n",
    "    prefix += '_amp_'\n",
    "    amp_features = calc_stats_features(prefix, amplitudes)\n",
    "    #мощность\n",
    "    amp_features[prefix+'power'] = np.sum(amplitudes ** 2)\n",
    "    #спектральная плотность мощности\n",
    "    amp_features[prefix+'power_density'] = np.sum(amplitudes ** 2) / len(amplitudes)\n",
    "    return amp_features"
   ],
   "metadata": {
    "collapsed": false,
    "pycharm": {
     "name": "#%%\n"
    }
   }
  },
  {
   "cell_type": "code",
   "execution_count": 53,
   "outputs": [],
   "source": [
    "#расчет для всех 9 столбцов\n",
    "numeric_cols = X.drop(columns='id')"
   ],
   "metadata": {
    "collapsed": false,
    "pycharm": {
     "name": "#%%\n"
    }
   }
  },
  {
   "cell_type": "code",
   "execution_count": 58,
   "outputs": [],
   "source": [
    "#расчет новых признаков\n",
    "new_features = pd.DataFrame()\n",
    "num_ts = 259\n",
    "for i in range(1, num_ts):\n",
    "    ts_features = pd.DataFrame()\n",
    "    #расчет статистических показателей по каждому столбцу\n",
    "    for col in numeric_cols:\n",
    "        col_values = X[X['id'] == i] [col]\n",
    "        prefix = col\n",
    "\n",
    "        #преобразование фурье\n",
    "        fourier_ts = np.fft.fft(col_values)\n",
    "\n",
    "        #расчет фаз частот и амплитуд\n",
    "        phases = calc_phases(fourier_ts)\n",
    "        amplitudes = calc_amplitudes(fourier_ts)\n",
    "\n",
    "        phases_features = calc_phases_features(prefix, phases)\n",
    "        amp_features = calc_amplitude_features(prefix, amplitudes)\n",
    "\n",
    "        ts_features = pd.concat([ts_features, phases_features, amp_features], axis=1)\n",
    "\n",
    "    new_features = pd.concat([new_features,ts_features], axis=0, ignore_index=True)"
   ],
   "metadata": {
    "collapsed": false,
    "pycharm": {
     "name": "#%%\n"
    }
   }
  },
  {
   "cell_type": "code",
   "execution_count": 59,
   "outputs": [
    {
     "data": {
      "text/plain": "   FMX_phases_mean  FMX_phases_median  FMX_phases_diff  FMX_phases_std  \\\n0     3.154463e-16                0.0         0.000319        0.985981   \n1     1.261785e-16                0.0         0.001638        0.963013   \n2    -6.308926e-17                0.0        -0.002362        1.162453   \n3    -6.308926e-17                0.0         0.001501        1.136111   \n4     0.000000e+00                0.0         0.003000        2.220570   \n\n   FMX_phases_max  FMX_phases_min  FMX_phases_p25  FMX_phases_p75  \\\n0        2.740332       -2.740332       -0.749555        0.749555   \n1        2.934504       -2.934504       -0.832137        0.832137   \n2        3.120591       -3.120591       -0.940972        0.940972   \n3        3.096238       -3.096238       -0.886534        0.886534   \n4        3.138254       -3.138254       -2.201429        2.201429   \n\n   FMX_amp_mean  FMX_amp_median  ...  TMZ_amp_mean  TMZ_amp_median  \\\n0      0.736157        0.019573  ...      4.446874        0.019364   \n1      0.763412        0.033113  ...      4.443864        0.021628   \n2      0.740657        0.022448  ...      4.457085        0.021126   \n3      0.927711        0.019978  ...      4.350862        0.044459   \n4      0.700369        0.015132  ...      4.255412        0.021429   \n\n   TMZ_amp_diff  TMZ_amp_std  TMZ_amp_max  TMZ_amp_min  TMZ_amp_p25  \\\n0     -4.365280   130.863794     3930.354     0.000598     0.011952   \n1     -4.364635   130.827955     3929.278     0.001029     0.013430   \n2     -4.367949   130.939655     3932.639     0.001064     0.012213   \n3     -4.186469   125.653479     3773.917     0.002379     0.029540   \n4     -4.176523   125.203759     3760.364     0.001801     0.012707   \n\n   TMZ_amp_p75  TMZ_amp_power  TMZ_amp_power_density  \n0     0.042236   1.544774e+07           17145.107302  \n1     0.044879   1.543927e+07           17135.701632  \n2     0.047521   1.546572e+07           17165.058955  \n3     0.086832   1.424276e+07           15807.726859  \n4     0.042025   1.414037e+07           15694.089816  \n\n[5 rows x 162 columns]",
      "text/html": "<div>\n<style scoped>\n    .dataframe tbody tr th:only-of-type {\n        vertical-align: middle;\n    }\n\n    .dataframe tbody tr th {\n        vertical-align: top;\n    }\n\n    .dataframe thead th {\n        text-align: right;\n    }\n</style>\n<table border=\"1\" class=\"dataframe\">\n  <thead>\n    <tr style=\"text-align: right;\">\n      <th></th>\n      <th>FMX_phases_mean</th>\n      <th>FMX_phases_median</th>\n      <th>FMX_phases_diff</th>\n      <th>FMX_phases_std</th>\n      <th>FMX_phases_max</th>\n      <th>FMX_phases_min</th>\n      <th>FMX_phases_p25</th>\n      <th>FMX_phases_p75</th>\n      <th>FMX_amp_mean</th>\n      <th>FMX_amp_median</th>\n      <th>...</th>\n      <th>TMZ_amp_mean</th>\n      <th>TMZ_amp_median</th>\n      <th>TMZ_amp_diff</th>\n      <th>TMZ_amp_std</th>\n      <th>TMZ_amp_max</th>\n      <th>TMZ_amp_min</th>\n      <th>TMZ_amp_p25</th>\n      <th>TMZ_amp_p75</th>\n      <th>TMZ_amp_power</th>\n      <th>TMZ_amp_power_density</th>\n    </tr>\n  </thead>\n  <tbody>\n    <tr>\n      <th>0</th>\n      <td>3.154463e-16</td>\n      <td>0.0</td>\n      <td>0.000319</td>\n      <td>0.985981</td>\n      <td>2.740332</td>\n      <td>-2.740332</td>\n      <td>-0.749555</td>\n      <td>0.749555</td>\n      <td>0.736157</td>\n      <td>0.019573</td>\n      <td>...</td>\n      <td>4.446874</td>\n      <td>0.019364</td>\n      <td>-4.365280</td>\n      <td>130.863794</td>\n      <td>3930.354</td>\n      <td>0.000598</td>\n      <td>0.011952</td>\n      <td>0.042236</td>\n      <td>1.544774e+07</td>\n      <td>17145.107302</td>\n    </tr>\n    <tr>\n      <th>1</th>\n      <td>1.261785e-16</td>\n      <td>0.0</td>\n      <td>0.001638</td>\n      <td>0.963013</td>\n      <td>2.934504</td>\n      <td>-2.934504</td>\n      <td>-0.832137</td>\n      <td>0.832137</td>\n      <td>0.763412</td>\n      <td>0.033113</td>\n      <td>...</td>\n      <td>4.443864</td>\n      <td>0.021628</td>\n      <td>-4.364635</td>\n      <td>130.827955</td>\n      <td>3929.278</td>\n      <td>0.001029</td>\n      <td>0.013430</td>\n      <td>0.044879</td>\n      <td>1.543927e+07</td>\n      <td>17135.701632</td>\n    </tr>\n    <tr>\n      <th>2</th>\n      <td>-6.308926e-17</td>\n      <td>0.0</td>\n      <td>-0.002362</td>\n      <td>1.162453</td>\n      <td>3.120591</td>\n      <td>-3.120591</td>\n      <td>-0.940972</td>\n      <td>0.940972</td>\n      <td>0.740657</td>\n      <td>0.022448</td>\n      <td>...</td>\n      <td>4.457085</td>\n      <td>0.021126</td>\n      <td>-4.367949</td>\n      <td>130.939655</td>\n      <td>3932.639</td>\n      <td>0.001064</td>\n      <td>0.012213</td>\n      <td>0.047521</td>\n      <td>1.546572e+07</td>\n      <td>17165.058955</td>\n    </tr>\n    <tr>\n      <th>3</th>\n      <td>-6.308926e-17</td>\n      <td>0.0</td>\n      <td>0.001501</td>\n      <td>1.136111</td>\n      <td>3.096238</td>\n      <td>-3.096238</td>\n      <td>-0.886534</td>\n      <td>0.886534</td>\n      <td>0.927711</td>\n      <td>0.019978</td>\n      <td>...</td>\n      <td>4.350862</td>\n      <td>0.044459</td>\n      <td>-4.186469</td>\n      <td>125.653479</td>\n      <td>3773.917</td>\n      <td>0.002379</td>\n      <td>0.029540</td>\n      <td>0.086832</td>\n      <td>1.424276e+07</td>\n      <td>15807.726859</td>\n    </tr>\n    <tr>\n      <th>4</th>\n      <td>0.000000e+00</td>\n      <td>0.0</td>\n      <td>0.003000</td>\n      <td>2.220570</td>\n      <td>3.138254</td>\n      <td>-3.138254</td>\n      <td>-2.201429</td>\n      <td>2.201429</td>\n      <td>0.700369</td>\n      <td>0.015132</td>\n      <td>...</td>\n      <td>4.255412</td>\n      <td>0.021429</td>\n      <td>-4.176523</td>\n      <td>125.203759</td>\n      <td>3760.364</td>\n      <td>0.001801</td>\n      <td>0.012707</td>\n      <td>0.042025</td>\n      <td>1.414037e+07</td>\n      <td>15694.089816</td>\n    </tr>\n  </tbody>\n</table>\n<p>5 rows × 162 columns</p>\n</div>"
     },
     "execution_count": 59,
     "metadata": {},
     "output_type": "execute_result"
    }
   ],
   "source": [
    "new_features.head()"
   ],
   "metadata": {
    "collapsed": false,
    "pycharm": {
     "name": "#%%\n"
    }
   }
  },
  {
   "cell_type": "code",
   "execution_count": null,
   "outputs": [],
   "source": [
    "# ts = X[X['id'] == 1]['TMX']\n",
    "# fourier_ts = np.fft.fft(ts)\n",
    "# phases = np.angle(fourier_ts)\n",
    "# phases"
   ],
   "metadata": {
    "collapsed": false,
    "pycharm": {
     "name": "#%%\n",
     "is_executing": true
    }
   }
  },
  {
   "cell_type": "code",
   "execution_count": 68,
   "outputs": [],
   "source": [
    "new_features.to_csv('01_07/fourier_features.csv')"
   ],
   "metadata": {
    "collapsed": false,
    "pycharm": {
     "name": "#%%\n"
    }
   }
  },
  {
   "cell_type": "markdown",
   "source": [
    "<h3>Добавление новых признаков в датасет</h3>"
   ],
   "metadata": {
    "collapsed": false,
    "pycharm": {
     "name": "#%% md\n"
    }
   }
  },
  {
   "cell_type": "code",
   "execution_count": 60,
   "outputs": [
    {
     "data": {
      "text/plain": "   ID Date_Of_Birth Sex Had_Covid Begin_Of_Covid End_Of_Covid Lung_Damage  \\\n0   1    04.07.2003   M        No     00.00.0000   00.00.0000          No   \n1   1    04.07.2003   M        No     00.00.0000   00.00.0000          No   \n2   1    04.07.2003   M        No     00.00.0000   00.00.0000          No   \n3   1    04.07.2003   M        No     00.00.0000   00.00.0000          No   \n4   1    04.07.2003   M        No     00.00.0000   00.00.0000          No   \n\n   Damage_Percent Breathing_Type  Frequency  ...  Sin_Period23  \\\n0       -0.207005        грудное  -0.144237  ...     -0.178712   \n1       -0.207005        грудное  -0.144237  ...     -0.183415   \n2       -0.207005        грудное  -0.144237  ...     -0.177844   \n3       -0.207005        грудное  -0.144237  ...     -0.182131   \n4       -0.207005        грудное  -0.144237  ...     -0.191648   \n\n  Sin_Amp23/Sin_Amp13  Sin_Amp12/Sin_Amp13  Sin_Amp12/Sin_Amp23  \\\n0            0.002273            -0.001832            -0.032392   \n1            0.002486            -0.001808            -0.029759   \n2            0.002607            -0.001792            -0.030606   \n3            0.002219            -0.002349            -0.030553   \n4            0.003473            -0.001519            -0.031048   \n\n   Sin_Omega23/Sin_Omega13  Sin_Omega12/Sin_Omega13  Sin_Omega12/Sin_Omega23  \\\n0                -0.156378                -0.155622                -0.156309   \n1                -0.151883                -0.154821                -0.159698   \n2                -0.157144                -0.156177                -0.155971   \n3                -0.152623                -0.155988                -0.160060   \n4                -0.165326                -0.156451                -0.137226   \n\n   (Sin_Offset23/Sin_Offset13)^2  (Sin_Offset12/Sin_Offset13)^2  \\\n0                      -0.088206                      -0.063808   \n1                      -0.088211                      -0.063809   \n2                      -0.088215                      -0.063811   \n3                      -0.088219                      -0.063815   \n4                      -0.088204                      -0.063811   \n\n   (Sin_Offset12/Sin_Offset23)^2  \n0                      -0.059907  \n1                      -0.059906  \n2                      -0.059905  \n3                      -0.059905  \n4                      -0.059908  \n\n[5 rows x 42 columns]",
      "text/html": "<div>\n<style scoped>\n    .dataframe tbody tr th:only-of-type {\n        vertical-align: middle;\n    }\n\n    .dataframe tbody tr th {\n        vertical-align: top;\n    }\n\n    .dataframe thead th {\n        text-align: right;\n    }\n</style>\n<table border=\"1\" class=\"dataframe\">\n  <thead>\n    <tr style=\"text-align: right;\">\n      <th></th>\n      <th>ID</th>\n      <th>Date_Of_Birth</th>\n      <th>Sex</th>\n      <th>Had_Covid</th>\n      <th>Begin_Of_Covid</th>\n      <th>End_Of_Covid</th>\n      <th>Lung_Damage</th>\n      <th>Damage_Percent</th>\n      <th>Breathing_Type</th>\n      <th>Frequency</th>\n      <th>...</th>\n      <th>Sin_Period23</th>\n      <th>Sin_Amp23/Sin_Amp13</th>\n      <th>Sin_Amp12/Sin_Amp13</th>\n      <th>Sin_Amp12/Sin_Amp23</th>\n      <th>Sin_Omega23/Sin_Omega13</th>\n      <th>Sin_Omega12/Sin_Omega13</th>\n      <th>Sin_Omega12/Sin_Omega23</th>\n      <th>(Sin_Offset23/Sin_Offset13)^2</th>\n      <th>(Sin_Offset12/Sin_Offset13)^2</th>\n      <th>(Sin_Offset12/Sin_Offset23)^2</th>\n    </tr>\n  </thead>\n  <tbody>\n    <tr>\n      <th>0</th>\n      <td>1</td>\n      <td>04.07.2003</td>\n      <td>M</td>\n      <td>No</td>\n      <td>00.00.0000</td>\n      <td>00.00.0000</td>\n      <td>No</td>\n      <td>-0.207005</td>\n      <td>грудное</td>\n      <td>-0.144237</td>\n      <td>...</td>\n      <td>-0.178712</td>\n      <td>0.002273</td>\n      <td>-0.001832</td>\n      <td>-0.032392</td>\n      <td>-0.156378</td>\n      <td>-0.155622</td>\n      <td>-0.156309</td>\n      <td>-0.088206</td>\n      <td>-0.063808</td>\n      <td>-0.059907</td>\n    </tr>\n    <tr>\n      <th>1</th>\n      <td>1</td>\n      <td>04.07.2003</td>\n      <td>M</td>\n      <td>No</td>\n      <td>00.00.0000</td>\n      <td>00.00.0000</td>\n      <td>No</td>\n      <td>-0.207005</td>\n      <td>грудное</td>\n      <td>-0.144237</td>\n      <td>...</td>\n      <td>-0.183415</td>\n      <td>0.002486</td>\n      <td>-0.001808</td>\n      <td>-0.029759</td>\n      <td>-0.151883</td>\n      <td>-0.154821</td>\n      <td>-0.159698</td>\n      <td>-0.088211</td>\n      <td>-0.063809</td>\n      <td>-0.059906</td>\n    </tr>\n    <tr>\n      <th>2</th>\n      <td>1</td>\n      <td>04.07.2003</td>\n      <td>M</td>\n      <td>No</td>\n      <td>00.00.0000</td>\n      <td>00.00.0000</td>\n      <td>No</td>\n      <td>-0.207005</td>\n      <td>грудное</td>\n      <td>-0.144237</td>\n      <td>...</td>\n      <td>-0.177844</td>\n      <td>0.002607</td>\n      <td>-0.001792</td>\n      <td>-0.030606</td>\n      <td>-0.157144</td>\n      <td>-0.156177</td>\n      <td>-0.155971</td>\n      <td>-0.088215</td>\n      <td>-0.063811</td>\n      <td>-0.059905</td>\n    </tr>\n    <tr>\n      <th>3</th>\n      <td>1</td>\n      <td>04.07.2003</td>\n      <td>M</td>\n      <td>No</td>\n      <td>00.00.0000</td>\n      <td>00.00.0000</td>\n      <td>No</td>\n      <td>-0.207005</td>\n      <td>грудное</td>\n      <td>-0.144237</td>\n      <td>...</td>\n      <td>-0.182131</td>\n      <td>0.002219</td>\n      <td>-0.002349</td>\n      <td>-0.030553</td>\n      <td>-0.152623</td>\n      <td>-0.155988</td>\n      <td>-0.160060</td>\n      <td>-0.088219</td>\n      <td>-0.063815</td>\n      <td>-0.059905</td>\n    </tr>\n    <tr>\n      <th>4</th>\n      <td>1</td>\n      <td>04.07.2003</td>\n      <td>M</td>\n      <td>No</td>\n      <td>00.00.0000</td>\n      <td>00.00.0000</td>\n      <td>No</td>\n      <td>-0.207005</td>\n      <td>грудное</td>\n      <td>-0.144237</td>\n      <td>...</td>\n      <td>-0.191648</td>\n      <td>0.003473</td>\n      <td>-0.001519</td>\n      <td>-0.031048</td>\n      <td>-0.165326</td>\n      <td>-0.156451</td>\n      <td>-0.137226</td>\n      <td>-0.088204</td>\n      <td>-0.063811</td>\n      <td>-0.059908</td>\n    </tr>\n  </tbody>\n</table>\n<p>5 rows × 42 columns</p>\n</div>"
     },
     "execution_count": 60,
     "metadata": {},
     "output_type": "execute_result"
    }
   ],
   "source": [
    "#загрузка датасета\n",
    "data = pd.read_csv('breathes.csv')\n",
    "data = data.drop(columns=['Unnamed: 0'])\n",
    "data.head()"
   ],
   "metadata": {
    "collapsed": false,
    "pycharm": {
     "name": "#%%\n"
    }
   }
  },
  {
   "cell_type": "code",
   "execution_count": 61,
   "outputs": [
    {
     "name": "stderr",
     "output_type": "stream",
     "text": [
      "C:\\Users\\admin\\AppData\\Local\\Temp\\ipykernel_7244\\3269876629.py:6: PerformanceWarning: DataFrame is highly fragmented.  This is usually the result of calling `frame.insert` many times, which has poor performance.  Consider joining all columns at once using pd.concat(axis=1) instead. To get a de-fragmented frame, use `newframe = frame.copy()`\n",
      "  data.loc[(data['Breathing_Type'] == 'грудное') & (data['ID'] == id), col]= new_features.loc[i][col]\n",
      "C:\\Users\\admin\\AppData\\Local\\Temp\\ipykernel_7244\\3269876629.py:6: PerformanceWarning: DataFrame is highly fragmented.  This is usually the result of calling `frame.insert` many times, which has poor performance.  Consider joining all columns at once using pd.concat(axis=1) instead. To get a de-fragmented frame, use `newframe = frame.copy()`\n",
      "  data.loc[(data['Breathing_Type'] == 'грудное') & (data['ID'] == id), col]= new_features.loc[i][col]\n",
      "C:\\Users\\admin\\AppData\\Local\\Temp\\ipykernel_7244\\3269876629.py:6: PerformanceWarning: DataFrame is highly fragmented.  This is usually the result of calling `frame.insert` many times, which has poor performance.  Consider joining all columns at once using pd.concat(axis=1) instead. To get a de-fragmented frame, use `newframe = frame.copy()`\n",
      "  data.loc[(data['Breathing_Type'] == 'грудное') & (data['ID'] == id), col]= new_features.loc[i][col]\n",
      "C:\\Users\\admin\\AppData\\Local\\Temp\\ipykernel_7244\\3269876629.py:6: PerformanceWarning: DataFrame is highly fragmented.  This is usually the result of calling `frame.insert` many times, which has poor performance.  Consider joining all columns at once using pd.concat(axis=1) instead. To get a de-fragmented frame, use `newframe = frame.copy()`\n",
      "  data.loc[(data['Breathing_Type'] == 'грудное') & (data['ID'] == id), col]= new_features.loc[i][col]\n",
      "C:\\Users\\admin\\AppData\\Local\\Temp\\ipykernel_7244\\3269876629.py:6: PerformanceWarning: DataFrame is highly fragmented.  This is usually the result of calling `frame.insert` many times, which has poor performance.  Consider joining all columns at once using pd.concat(axis=1) instead. To get a de-fragmented frame, use `newframe = frame.copy()`\n",
      "  data.loc[(data['Breathing_Type'] == 'грудное') & (data['ID'] == id), col]= new_features.loc[i][col]\n",
      "C:\\Users\\admin\\AppData\\Local\\Temp\\ipykernel_7244\\3269876629.py:6: PerformanceWarning: DataFrame is highly fragmented.  This is usually the result of calling `frame.insert` many times, which has poor performance.  Consider joining all columns at once using pd.concat(axis=1) instead. To get a de-fragmented frame, use `newframe = frame.copy()`\n",
      "  data.loc[(data['Breathing_Type'] == 'грудное') & (data['ID'] == id), col]= new_features.loc[i][col]\n",
      "C:\\Users\\admin\\AppData\\Local\\Temp\\ipykernel_7244\\3269876629.py:6: PerformanceWarning: DataFrame is highly fragmented.  This is usually the result of calling `frame.insert` many times, which has poor performance.  Consider joining all columns at once using pd.concat(axis=1) instead. To get a de-fragmented frame, use `newframe = frame.copy()`\n",
      "  data.loc[(data['Breathing_Type'] == 'грудное') & (data['ID'] == id), col]= new_features.loc[i][col]\n",
      "C:\\Users\\admin\\AppData\\Local\\Temp\\ipykernel_7244\\3269876629.py:6: PerformanceWarning: DataFrame is highly fragmented.  This is usually the result of calling `frame.insert` many times, which has poor performance.  Consider joining all columns at once using pd.concat(axis=1) instead. To get a de-fragmented frame, use `newframe = frame.copy()`\n",
      "  data.loc[(data['Breathing_Type'] == 'грудное') & (data['ID'] == id), col]= new_features.loc[i][col]\n",
      "C:\\Users\\admin\\AppData\\Local\\Temp\\ipykernel_7244\\3269876629.py:6: PerformanceWarning: DataFrame is highly fragmented.  This is usually the result of calling `frame.insert` many times, which has poor performance.  Consider joining all columns at once using pd.concat(axis=1) instead. To get a de-fragmented frame, use `newframe = frame.copy()`\n",
      "  data.loc[(data['Breathing_Type'] == 'грудное') & (data['ID'] == id), col]= new_features.loc[i][col]\n",
      "C:\\Users\\admin\\AppData\\Local\\Temp\\ipykernel_7244\\3269876629.py:6: PerformanceWarning: DataFrame is highly fragmented.  This is usually the result of calling `frame.insert` many times, which has poor performance.  Consider joining all columns at once using pd.concat(axis=1) instead. To get a de-fragmented frame, use `newframe = frame.copy()`\n",
      "  data.loc[(data['Breathing_Type'] == 'грудное') & (data['ID'] == id), col]= new_features.loc[i][col]\n",
      "C:\\Users\\admin\\AppData\\Local\\Temp\\ipykernel_7244\\3269876629.py:6: PerformanceWarning: DataFrame is highly fragmented.  This is usually the result of calling `frame.insert` many times, which has poor performance.  Consider joining all columns at once using pd.concat(axis=1) instead. To get a de-fragmented frame, use `newframe = frame.copy()`\n",
      "  data.loc[(data['Breathing_Type'] == 'грудное') & (data['ID'] == id), col]= new_features.loc[i][col]\n",
      "C:\\Users\\admin\\AppData\\Local\\Temp\\ipykernel_7244\\3269876629.py:6: PerformanceWarning: DataFrame is highly fragmented.  This is usually the result of calling `frame.insert` many times, which has poor performance.  Consider joining all columns at once using pd.concat(axis=1) instead. To get a de-fragmented frame, use `newframe = frame.copy()`\n",
      "  data.loc[(data['Breathing_Type'] == 'грудное') & (data['ID'] == id), col]= new_features.loc[i][col]\n",
      "C:\\Users\\admin\\AppData\\Local\\Temp\\ipykernel_7244\\3269876629.py:6: PerformanceWarning: DataFrame is highly fragmented.  This is usually the result of calling `frame.insert` many times, which has poor performance.  Consider joining all columns at once using pd.concat(axis=1) instead. To get a de-fragmented frame, use `newframe = frame.copy()`\n",
      "  data.loc[(data['Breathing_Type'] == 'грудное') & (data['ID'] == id), col]= new_features.loc[i][col]\n",
      "C:\\Users\\admin\\AppData\\Local\\Temp\\ipykernel_7244\\3269876629.py:6: PerformanceWarning: DataFrame is highly fragmented.  This is usually the result of calling `frame.insert` many times, which has poor performance.  Consider joining all columns at once using pd.concat(axis=1) instead. To get a de-fragmented frame, use `newframe = frame.copy()`\n",
      "  data.loc[(data['Breathing_Type'] == 'грудное') & (data['ID'] == id), col]= new_features.loc[i][col]\n",
      "C:\\Users\\admin\\AppData\\Local\\Temp\\ipykernel_7244\\3269876629.py:6: PerformanceWarning: DataFrame is highly fragmented.  This is usually the result of calling `frame.insert` many times, which has poor performance.  Consider joining all columns at once using pd.concat(axis=1) instead. To get a de-fragmented frame, use `newframe = frame.copy()`\n",
      "  data.loc[(data['Breathing_Type'] == 'грудное') & (data['ID'] == id), col]= new_features.loc[i][col]\n",
      "C:\\Users\\admin\\AppData\\Local\\Temp\\ipykernel_7244\\3269876629.py:6: PerformanceWarning: DataFrame is highly fragmented.  This is usually the result of calling `frame.insert` many times, which has poor performance.  Consider joining all columns at once using pd.concat(axis=1) instead. To get a de-fragmented frame, use `newframe = frame.copy()`\n",
      "  data.loc[(data['Breathing_Type'] == 'грудное') & (data['ID'] == id), col]= new_features.loc[i][col]\n",
      "C:\\Users\\admin\\AppData\\Local\\Temp\\ipykernel_7244\\3269876629.py:6: PerformanceWarning: DataFrame is highly fragmented.  This is usually the result of calling `frame.insert` many times, which has poor performance.  Consider joining all columns at once using pd.concat(axis=1) instead. To get a de-fragmented frame, use `newframe = frame.copy()`\n",
      "  data.loc[(data['Breathing_Type'] == 'грудное') & (data['ID'] == id), col]= new_features.loc[i][col]\n",
      "C:\\Users\\admin\\AppData\\Local\\Temp\\ipykernel_7244\\3269876629.py:6: PerformanceWarning: DataFrame is highly fragmented.  This is usually the result of calling `frame.insert` many times, which has poor performance.  Consider joining all columns at once using pd.concat(axis=1) instead. To get a de-fragmented frame, use `newframe = frame.copy()`\n",
      "  data.loc[(data['Breathing_Type'] == 'грудное') & (data['ID'] == id), col]= new_features.loc[i][col]\n",
      "C:\\Users\\admin\\AppData\\Local\\Temp\\ipykernel_7244\\3269876629.py:6: PerformanceWarning: DataFrame is highly fragmented.  This is usually the result of calling `frame.insert` many times, which has poor performance.  Consider joining all columns at once using pd.concat(axis=1) instead. To get a de-fragmented frame, use `newframe = frame.copy()`\n",
      "  data.loc[(data['Breathing_Type'] == 'грудное') & (data['ID'] == id), col]= new_features.loc[i][col]\n",
      "C:\\Users\\admin\\AppData\\Local\\Temp\\ipykernel_7244\\3269876629.py:6: PerformanceWarning: DataFrame is highly fragmented.  This is usually the result of calling `frame.insert` many times, which has poor performance.  Consider joining all columns at once using pd.concat(axis=1) instead. To get a de-fragmented frame, use `newframe = frame.copy()`\n",
      "  data.loc[(data['Breathing_Type'] == 'грудное') & (data['ID'] == id), col]= new_features.loc[i][col]\n",
      "C:\\Users\\admin\\AppData\\Local\\Temp\\ipykernel_7244\\3269876629.py:6: PerformanceWarning: DataFrame is highly fragmented.  This is usually the result of calling `frame.insert` many times, which has poor performance.  Consider joining all columns at once using pd.concat(axis=1) instead. To get a de-fragmented frame, use `newframe = frame.copy()`\n",
      "  data.loc[(data['Breathing_Type'] == 'грудное') & (data['ID'] == id), col]= new_features.loc[i][col]\n",
      "C:\\Users\\admin\\AppData\\Local\\Temp\\ipykernel_7244\\3269876629.py:6: PerformanceWarning: DataFrame is highly fragmented.  This is usually the result of calling `frame.insert` many times, which has poor performance.  Consider joining all columns at once using pd.concat(axis=1) instead. To get a de-fragmented frame, use `newframe = frame.copy()`\n",
      "  data.loc[(data['Breathing_Type'] == 'грудное') & (data['ID'] == id), col]= new_features.loc[i][col]\n",
      "C:\\Users\\admin\\AppData\\Local\\Temp\\ipykernel_7244\\3269876629.py:6: PerformanceWarning: DataFrame is highly fragmented.  This is usually the result of calling `frame.insert` many times, which has poor performance.  Consider joining all columns at once using pd.concat(axis=1) instead. To get a de-fragmented frame, use `newframe = frame.copy()`\n",
      "  data.loc[(data['Breathing_Type'] == 'грудное') & (data['ID'] == id), col]= new_features.loc[i][col]\n",
      "C:\\Users\\admin\\AppData\\Local\\Temp\\ipykernel_7244\\3269876629.py:6: PerformanceWarning: DataFrame is highly fragmented.  This is usually the result of calling `frame.insert` many times, which has poor performance.  Consider joining all columns at once using pd.concat(axis=1) instead. To get a de-fragmented frame, use `newframe = frame.copy()`\n",
      "  data.loc[(data['Breathing_Type'] == 'грудное') & (data['ID'] == id), col]= new_features.loc[i][col]\n",
      "C:\\Users\\admin\\AppData\\Local\\Temp\\ipykernel_7244\\3269876629.py:6: PerformanceWarning: DataFrame is highly fragmented.  This is usually the result of calling `frame.insert` many times, which has poor performance.  Consider joining all columns at once using pd.concat(axis=1) instead. To get a de-fragmented frame, use `newframe = frame.copy()`\n",
      "  data.loc[(data['Breathing_Type'] == 'грудное') & (data['ID'] == id), col]= new_features.loc[i][col]\n",
      "C:\\Users\\admin\\AppData\\Local\\Temp\\ipykernel_7244\\3269876629.py:6: PerformanceWarning: DataFrame is highly fragmented.  This is usually the result of calling `frame.insert` many times, which has poor performance.  Consider joining all columns at once using pd.concat(axis=1) instead. To get a de-fragmented frame, use `newframe = frame.copy()`\n",
      "  data.loc[(data['Breathing_Type'] == 'грудное') & (data['ID'] == id), col]= new_features.loc[i][col]\n",
      "C:\\Users\\admin\\AppData\\Local\\Temp\\ipykernel_7244\\3269876629.py:6: PerformanceWarning: DataFrame is highly fragmented.  This is usually the result of calling `frame.insert` many times, which has poor performance.  Consider joining all columns at once using pd.concat(axis=1) instead. To get a de-fragmented frame, use `newframe = frame.copy()`\n",
      "  data.loc[(data['Breathing_Type'] == 'грудное') & (data['ID'] == id), col]= new_features.loc[i][col]\n",
      "C:\\Users\\admin\\AppData\\Local\\Temp\\ipykernel_7244\\3269876629.py:6: PerformanceWarning: DataFrame is highly fragmented.  This is usually the result of calling `frame.insert` many times, which has poor performance.  Consider joining all columns at once using pd.concat(axis=1) instead. To get a de-fragmented frame, use `newframe = frame.copy()`\n",
      "  data.loc[(data['Breathing_Type'] == 'грудное') & (data['ID'] == id), col]= new_features.loc[i][col]\n",
      "C:\\Users\\admin\\AppData\\Local\\Temp\\ipykernel_7244\\3269876629.py:6: PerformanceWarning: DataFrame is highly fragmented.  This is usually the result of calling `frame.insert` many times, which has poor performance.  Consider joining all columns at once using pd.concat(axis=1) instead. To get a de-fragmented frame, use `newframe = frame.copy()`\n",
      "  data.loc[(data['Breathing_Type'] == 'грудное') & (data['ID'] == id), col]= new_features.loc[i][col]\n",
      "C:\\Users\\admin\\AppData\\Local\\Temp\\ipykernel_7244\\3269876629.py:6: PerformanceWarning: DataFrame is highly fragmented.  This is usually the result of calling `frame.insert` many times, which has poor performance.  Consider joining all columns at once using pd.concat(axis=1) instead. To get a de-fragmented frame, use `newframe = frame.copy()`\n",
      "  data.loc[(data['Breathing_Type'] == 'грудное') & (data['ID'] == id), col]= new_features.loc[i][col]\n",
      "C:\\Users\\admin\\AppData\\Local\\Temp\\ipykernel_7244\\3269876629.py:6: PerformanceWarning: DataFrame is highly fragmented.  This is usually the result of calling `frame.insert` many times, which has poor performance.  Consider joining all columns at once using pd.concat(axis=1) instead. To get a de-fragmented frame, use `newframe = frame.copy()`\n",
      "  data.loc[(data['Breathing_Type'] == 'грудное') & (data['ID'] == id), col]= new_features.loc[i][col]\n",
      "C:\\Users\\admin\\AppData\\Local\\Temp\\ipykernel_7244\\3269876629.py:6: PerformanceWarning: DataFrame is highly fragmented.  This is usually the result of calling `frame.insert` many times, which has poor performance.  Consider joining all columns at once using pd.concat(axis=1) instead. To get a de-fragmented frame, use `newframe = frame.copy()`\n",
      "  data.loc[(data['Breathing_Type'] == 'грудное') & (data['ID'] == id), col]= new_features.loc[i][col]\n",
      "C:\\Users\\admin\\AppData\\Local\\Temp\\ipykernel_7244\\3269876629.py:6: PerformanceWarning: DataFrame is highly fragmented.  This is usually the result of calling `frame.insert` many times, which has poor performance.  Consider joining all columns at once using pd.concat(axis=1) instead. To get a de-fragmented frame, use `newframe = frame.copy()`\n",
      "  data.loc[(data['Breathing_Type'] == 'грудное') & (data['ID'] == id), col]= new_features.loc[i][col]\n",
      "C:\\Users\\admin\\AppData\\Local\\Temp\\ipykernel_7244\\3269876629.py:6: PerformanceWarning: DataFrame is highly fragmented.  This is usually the result of calling `frame.insert` many times, which has poor performance.  Consider joining all columns at once using pd.concat(axis=1) instead. To get a de-fragmented frame, use `newframe = frame.copy()`\n",
      "  data.loc[(data['Breathing_Type'] == 'грудное') & (data['ID'] == id), col]= new_features.loc[i][col]\n",
      "C:\\Users\\admin\\AppData\\Local\\Temp\\ipykernel_7244\\3269876629.py:6: PerformanceWarning: DataFrame is highly fragmented.  This is usually the result of calling `frame.insert` many times, which has poor performance.  Consider joining all columns at once using pd.concat(axis=1) instead. To get a de-fragmented frame, use `newframe = frame.copy()`\n",
      "  data.loc[(data['Breathing_Type'] == 'грудное') & (data['ID'] == id), col]= new_features.loc[i][col]\n",
      "C:\\Users\\admin\\AppData\\Local\\Temp\\ipykernel_7244\\3269876629.py:6: PerformanceWarning: DataFrame is highly fragmented.  This is usually the result of calling `frame.insert` many times, which has poor performance.  Consider joining all columns at once using pd.concat(axis=1) instead. To get a de-fragmented frame, use `newframe = frame.copy()`\n",
      "  data.loc[(data['Breathing_Type'] == 'грудное') & (data['ID'] == id), col]= new_features.loc[i][col]\n",
      "C:\\Users\\admin\\AppData\\Local\\Temp\\ipykernel_7244\\3269876629.py:6: PerformanceWarning: DataFrame is highly fragmented.  This is usually the result of calling `frame.insert` many times, which has poor performance.  Consider joining all columns at once using pd.concat(axis=1) instead. To get a de-fragmented frame, use `newframe = frame.copy()`\n",
      "  data.loc[(data['Breathing_Type'] == 'грудное') & (data['ID'] == id), col]= new_features.loc[i][col]\n",
      "C:\\Users\\admin\\AppData\\Local\\Temp\\ipykernel_7244\\3269876629.py:6: PerformanceWarning: DataFrame is highly fragmented.  This is usually the result of calling `frame.insert` many times, which has poor performance.  Consider joining all columns at once using pd.concat(axis=1) instead. To get a de-fragmented frame, use `newframe = frame.copy()`\n",
      "  data.loc[(data['Breathing_Type'] == 'грудное') & (data['ID'] == id), col]= new_features.loc[i][col]\n",
      "C:\\Users\\admin\\AppData\\Local\\Temp\\ipykernel_7244\\3269876629.py:6: PerformanceWarning: DataFrame is highly fragmented.  This is usually the result of calling `frame.insert` many times, which has poor performance.  Consider joining all columns at once using pd.concat(axis=1) instead. To get a de-fragmented frame, use `newframe = frame.copy()`\n",
      "  data.loc[(data['Breathing_Type'] == 'грудное') & (data['ID'] == id), col]= new_features.loc[i][col]\n",
      "C:\\Users\\admin\\AppData\\Local\\Temp\\ipykernel_7244\\3269876629.py:6: PerformanceWarning: DataFrame is highly fragmented.  This is usually the result of calling `frame.insert` many times, which has poor performance.  Consider joining all columns at once using pd.concat(axis=1) instead. To get a de-fragmented frame, use `newframe = frame.copy()`\n",
      "  data.loc[(data['Breathing_Type'] == 'грудное') & (data['ID'] == id), col]= new_features.loc[i][col]\n",
      "C:\\Users\\admin\\AppData\\Local\\Temp\\ipykernel_7244\\3269876629.py:6: PerformanceWarning: DataFrame is highly fragmented.  This is usually the result of calling `frame.insert` many times, which has poor performance.  Consider joining all columns at once using pd.concat(axis=1) instead. To get a de-fragmented frame, use `newframe = frame.copy()`\n",
      "  data.loc[(data['Breathing_Type'] == 'грудное') & (data['ID'] == id), col]= new_features.loc[i][col]\n",
      "C:\\Users\\admin\\AppData\\Local\\Temp\\ipykernel_7244\\3269876629.py:6: PerformanceWarning: DataFrame is highly fragmented.  This is usually the result of calling `frame.insert` many times, which has poor performance.  Consider joining all columns at once using pd.concat(axis=1) instead. To get a de-fragmented frame, use `newframe = frame.copy()`\n",
      "  data.loc[(data['Breathing_Type'] == 'грудное') & (data['ID'] == id), col]= new_features.loc[i][col]\n",
      "C:\\Users\\admin\\AppData\\Local\\Temp\\ipykernel_7244\\3269876629.py:6: PerformanceWarning: DataFrame is highly fragmented.  This is usually the result of calling `frame.insert` many times, which has poor performance.  Consider joining all columns at once using pd.concat(axis=1) instead. To get a de-fragmented frame, use `newframe = frame.copy()`\n",
      "  data.loc[(data['Breathing_Type'] == 'грудное') & (data['ID'] == id), col]= new_features.loc[i][col]\n",
      "C:\\Users\\admin\\AppData\\Local\\Temp\\ipykernel_7244\\3269876629.py:6: PerformanceWarning: DataFrame is highly fragmented.  This is usually the result of calling `frame.insert` many times, which has poor performance.  Consider joining all columns at once using pd.concat(axis=1) instead. To get a de-fragmented frame, use `newframe = frame.copy()`\n",
      "  data.loc[(data['Breathing_Type'] == 'грудное') & (data['ID'] == id), col]= new_features.loc[i][col]\n",
      "C:\\Users\\admin\\AppData\\Local\\Temp\\ipykernel_7244\\3269876629.py:6: PerformanceWarning: DataFrame is highly fragmented.  This is usually the result of calling `frame.insert` many times, which has poor performance.  Consider joining all columns at once using pd.concat(axis=1) instead. To get a de-fragmented frame, use `newframe = frame.copy()`\n",
      "  data.loc[(data['Breathing_Type'] == 'грудное') & (data['ID'] == id), col]= new_features.loc[i][col]\n",
      "C:\\Users\\admin\\AppData\\Local\\Temp\\ipykernel_7244\\3269876629.py:6: PerformanceWarning: DataFrame is highly fragmented.  This is usually the result of calling `frame.insert` many times, which has poor performance.  Consider joining all columns at once using pd.concat(axis=1) instead. To get a de-fragmented frame, use `newframe = frame.copy()`\n",
      "  data.loc[(data['Breathing_Type'] == 'грудное') & (data['ID'] == id), col]= new_features.loc[i][col]\n",
      "C:\\Users\\admin\\AppData\\Local\\Temp\\ipykernel_7244\\3269876629.py:6: PerformanceWarning: DataFrame is highly fragmented.  This is usually the result of calling `frame.insert` many times, which has poor performance.  Consider joining all columns at once using pd.concat(axis=1) instead. To get a de-fragmented frame, use `newframe = frame.copy()`\n",
      "  data.loc[(data['Breathing_Type'] == 'грудное') & (data['ID'] == id), col]= new_features.loc[i][col]\n",
      "C:\\Users\\admin\\AppData\\Local\\Temp\\ipykernel_7244\\3269876629.py:6: PerformanceWarning: DataFrame is highly fragmented.  This is usually the result of calling `frame.insert` many times, which has poor performance.  Consider joining all columns at once using pd.concat(axis=1) instead. To get a de-fragmented frame, use `newframe = frame.copy()`\n",
      "  data.loc[(data['Breathing_Type'] == 'грудное') & (data['ID'] == id), col]= new_features.loc[i][col]\n",
      "C:\\Users\\admin\\AppData\\Local\\Temp\\ipykernel_7244\\3269876629.py:6: PerformanceWarning: DataFrame is highly fragmented.  This is usually the result of calling `frame.insert` many times, which has poor performance.  Consider joining all columns at once using pd.concat(axis=1) instead. To get a de-fragmented frame, use `newframe = frame.copy()`\n",
      "  data.loc[(data['Breathing_Type'] == 'грудное') & (data['ID'] == id), col]= new_features.loc[i][col]\n",
      "C:\\Users\\admin\\AppData\\Local\\Temp\\ipykernel_7244\\3269876629.py:6: PerformanceWarning: DataFrame is highly fragmented.  This is usually the result of calling `frame.insert` many times, which has poor performance.  Consider joining all columns at once using pd.concat(axis=1) instead. To get a de-fragmented frame, use `newframe = frame.copy()`\n",
      "  data.loc[(data['Breathing_Type'] == 'грудное') & (data['ID'] == id), col]= new_features.loc[i][col]\n",
      "C:\\Users\\admin\\AppData\\Local\\Temp\\ipykernel_7244\\3269876629.py:6: PerformanceWarning: DataFrame is highly fragmented.  This is usually the result of calling `frame.insert` many times, which has poor performance.  Consider joining all columns at once using pd.concat(axis=1) instead. To get a de-fragmented frame, use `newframe = frame.copy()`\n",
      "  data.loc[(data['Breathing_Type'] == 'грудное') & (data['ID'] == id), col]= new_features.loc[i][col]\n",
      "C:\\Users\\admin\\AppData\\Local\\Temp\\ipykernel_7244\\3269876629.py:6: PerformanceWarning: DataFrame is highly fragmented.  This is usually the result of calling `frame.insert` many times, which has poor performance.  Consider joining all columns at once using pd.concat(axis=1) instead. To get a de-fragmented frame, use `newframe = frame.copy()`\n",
      "  data.loc[(data['Breathing_Type'] == 'грудное') & (data['ID'] == id), col]= new_features.loc[i][col]\n",
      "C:\\Users\\admin\\AppData\\Local\\Temp\\ipykernel_7244\\3269876629.py:6: PerformanceWarning: DataFrame is highly fragmented.  This is usually the result of calling `frame.insert` many times, which has poor performance.  Consider joining all columns at once using pd.concat(axis=1) instead. To get a de-fragmented frame, use `newframe = frame.copy()`\n",
      "  data.loc[(data['Breathing_Type'] == 'грудное') & (data['ID'] == id), col]= new_features.loc[i][col]\n",
      "C:\\Users\\admin\\AppData\\Local\\Temp\\ipykernel_7244\\3269876629.py:6: PerformanceWarning: DataFrame is highly fragmented.  This is usually the result of calling `frame.insert` many times, which has poor performance.  Consider joining all columns at once using pd.concat(axis=1) instead. To get a de-fragmented frame, use `newframe = frame.copy()`\n",
      "  data.loc[(data['Breathing_Type'] == 'грудное') & (data['ID'] == id), col]= new_features.loc[i][col]\n",
      "C:\\Users\\admin\\AppData\\Local\\Temp\\ipykernel_7244\\3269876629.py:6: PerformanceWarning: DataFrame is highly fragmented.  This is usually the result of calling `frame.insert` many times, which has poor performance.  Consider joining all columns at once using pd.concat(axis=1) instead. To get a de-fragmented frame, use `newframe = frame.copy()`\n",
      "  data.loc[(data['Breathing_Type'] == 'грудное') & (data['ID'] == id), col]= new_features.loc[i][col]\n",
      "C:\\Users\\admin\\AppData\\Local\\Temp\\ipykernel_7244\\3269876629.py:6: PerformanceWarning: DataFrame is highly fragmented.  This is usually the result of calling `frame.insert` many times, which has poor performance.  Consider joining all columns at once using pd.concat(axis=1) instead. To get a de-fragmented frame, use `newframe = frame.copy()`\n",
      "  data.loc[(data['Breathing_Type'] == 'грудное') & (data['ID'] == id), col]= new_features.loc[i][col]\n",
      "C:\\Users\\admin\\AppData\\Local\\Temp\\ipykernel_7244\\3269876629.py:6: PerformanceWarning: DataFrame is highly fragmented.  This is usually the result of calling `frame.insert` many times, which has poor performance.  Consider joining all columns at once using pd.concat(axis=1) instead. To get a de-fragmented frame, use `newframe = frame.copy()`\n",
      "  data.loc[(data['Breathing_Type'] == 'грудное') & (data['ID'] == id), col]= new_features.loc[i][col]\n",
      "C:\\Users\\admin\\AppData\\Local\\Temp\\ipykernel_7244\\3269876629.py:6: PerformanceWarning: DataFrame is highly fragmented.  This is usually the result of calling `frame.insert` many times, which has poor performance.  Consider joining all columns at once using pd.concat(axis=1) instead. To get a de-fragmented frame, use `newframe = frame.copy()`\n",
      "  data.loc[(data['Breathing_Type'] == 'грудное') & (data['ID'] == id), col]= new_features.loc[i][col]\n",
      "C:\\Users\\admin\\AppData\\Local\\Temp\\ipykernel_7244\\3269876629.py:6: PerformanceWarning: DataFrame is highly fragmented.  This is usually the result of calling `frame.insert` many times, which has poor performance.  Consider joining all columns at once using pd.concat(axis=1) instead. To get a de-fragmented frame, use `newframe = frame.copy()`\n",
      "  data.loc[(data['Breathing_Type'] == 'грудное') & (data['ID'] == id), col]= new_features.loc[i][col]\n",
      "C:\\Users\\admin\\AppData\\Local\\Temp\\ipykernel_7244\\3269876629.py:6: PerformanceWarning: DataFrame is highly fragmented.  This is usually the result of calling `frame.insert` many times, which has poor performance.  Consider joining all columns at once using pd.concat(axis=1) instead. To get a de-fragmented frame, use `newframe = frame.copy()`\n",
      "  data.loc[(data['Breathing_Type'] == 'грудное') & (data['ID'] == id), col]= new_features.loc[i][col]\n",
      "C:\\Users\\admin\\AppData\\Local\\Temp\\ipykernel_7244\\3269876629.py:6: PerformanceWarning: DataFrame is highly fragmented.  This is usually the result of calling `frame.insert` many times, which has poor performance.  Consider joining all columns at once using pd.concat(axis=1) instead. To get a de-fragmented frame, use `newframe = frame.copy()`\n",
      "  data.loc[(data['Breathing_Type'] == 'грудное') & (data['ID'] == id), col]= new_features.loc[i][col]\n",
      "C:\\Users\\admin\\AppData\\Local\\Temp\\ipykernel_7244\\3269876629.py:6: PerformanceWarning: DataFrame is highly fragmented.  This is usually the result of calling `frame.insert` many times, which has poor performance.  Consider joining all columns at once using pd.concat(axis=1) instead. To get a de-fragmented frame, use `newframe = frame.copy()`\n",
      "  data.loc[(data['Breathing_Type'] == 'грудное') & (data['ID'] == id), col]= new_features.loc[i][col]\n",
      "C:\\Users\\admin\\AppData\\Local\\Temp\\ipykernel_7244\\3269876629.py:6: PerformanceWarning: DataFrame is highly fragmented.  This is usually the result of calling `frame.insert` many times, which has poor performance.  Consider joining all columns at once using pd.concat(axis=1) instead. To get a de-fragmented frame, use `newframe = frame.copy()`\n",
      "  data.loc[(data['Breathing_Type'] == 'грудное') & (data['ID'] == id), col]= new_features.loc[i][col]\n",
      "C:\\Users\\admin\\AppData\\Local\\Temp\\ipykernel_7244\\3269876629.py:6: PerformanceWarning: DataFrame is highly fragmented.  This is usually the result of calling `frame.insert` many times, which has poor performance.  Consider joining all columns at once using pd.concat(axis=1) instead. To get a de-fragmented frame, use `newframe = frame.copy()`\n",
      "  data.loc[(data['Breathing_Type'] == 'грудное') & (data['ID'] == id), col]= new_features.loc[i][col]\n",
      "C:\\Users\\admin\\AppData\\Local\\Temp\\ipykernel_7244\\3269876629.py:6: PerformanceWarning: DataFrame is highly fragmented.  This is usually the result of calling `frame.insert` many times, which has poor performance.  Consider joining all columns at once using pd.concat(axis=1) instead. To get a de-fragmented frame, use `newframe = frame.copy()`\n",
      "  data.loc[(data['Breathing_Type'] == 'грудное') & (data['ID'] == id), col]= new_features.loc[i][col]\n"
     ]
    }
   ],
   "source": [
    "#добавление новых признаков в датасет\n",
    "i = 0\n",
    "new_features_cols = new_features.columns\n",
    "for id in range(1,87):\n",
    "    for col in new_features_cols:\n",
    "        data.loc[(data['Breathing_Type'] == 'грудное') & (data['ID'] == id), col]= new_features.loc[i][col]\n",
    "    i += 1\n",
    "    for col in new_features_cols:\n",
    "        data.loc[(data['Breathing_Type'] == 'брюшное') & (data['ID'] == id), col] = new_features.loc[i][col]\n",
    "    i += 1\n",
    "    for col in new_features_cols:\n",
    "        data.loc[(data['Breathing_Type'] == 'смешанное') & (data['ID'] == id), col] = new_features.loc[i][col]\n",
    "    i += 1"
   ],
   "metadata": {
    "collapsed": false,
    "pycharm": {
     "name": "#%%\n"
    }
   }
  },
  {
   "cell_type": "code",
   "execution_count": 62,
   "outputs": [
    {
     "data": {
      "text/plain": "    ID Date_Of_Birth Sex Had_Covid Begin_Of_Covid End_Of_Covid Lung_Damage  \\\n0    1    04.07.2003   M        No     00.00.0000   00.00.0000          No   \n1    1    04.07.2003   M        No     00.00.0000   00.00.0000          No   \n2    1    04.07.2003   M        No     00.00.0000   00.00.0000          No   \n3    1    04.07.2003   M        No     00.00.0000   00.00.0000          No   \n4    1    04.07.2003   M        No     00.00.0000   00.00.0000          No   \n5    1    04.07.2003   M        No     00.00.0000   00.00.0000          No   \n6    1    04.07.2003   M        No     00.00.0000   00.00.0000          No   \n7    1    04.07.2003   M        No     00.00.0000   00.00.0000          No   \n8    1    04.07.2003   M        No     00.00.0000   00.00.0000          No   \n9    1    04.07.2003   M        No     00.00.0000   00.00.0000          No   \n10   1    04.07.2003   M        No     00.00.0000   00.00.0000          No   \n11   1    04.07.2003   M        No     00.00.0000   00.00.0000          No   \n12   1    04.07.2003   M        No     00.00.0000   00.00.0000          No   \n13   1    04.07.2003   M        No     00.00.0000   00.00.0000          No   \n14   1    04.07.2003   M        No     00.00.0000   00.00.0000          No   \n\n    Damage_Percent Breathing_Type  Frequency  ...  TMZ_amp_mean  \\\n0        -0.207005        грудное  -0.144237  ...      4.446874   \n1        -0.207005        грудное  -0.144237  ...      4.446874   \n2        -0.207005        грудное  -0.144237  ...      4.446874   \n3        -0.207005        грудное  -0.144237  ...      4.446874   \n4        -0.207005        грудное  -0.144237  ...      4.446874   \n5        -0.207005        грудное  -0.144237  ...      4.446874   \n6        -0.207005        брюшное  -0.464100  ...      4.443864   \n7        -0.207005        брюшное  -0.464100  ...      4.443864   \n8        -0.207005        брюшное  -0.464100  ...      4.443864   \n9        -0.207005        брюшное  -0.464100  ...      4.443864   \n10       -0.207005        брюшное  -0.464100  ...      4.443864   \n11       -0.207005        брюшное  -0.464100  ...      4.443864   \n12       -0.207005      смешанное  -1.423688  ...      4.457085   \n13       -0.207005      смешанное  -1.423688  ...      4.457085   \n14       -0.207005      смешанное  -1.423688  ...      4.457085   \n\n   TMZ_amp_median  TMZ_amp_diff  TMZ_amp_std  TMZ_amp_max  TMZ_amp_min  \\\n0        0.019364     -4.365280   130.863794     3930.354     0.000598   \n1        0.019364     -4.365280   130.863794     3930.354     0.000598   \n2        0.019364     -4.365280   130.863794     3930.354     0.000598   \n3        0.019364     -4.365280   130.863794     3930.354     0.000598   \n4        0.019364     -4.365280   130.863794     3930.354     0.000598   \n5        0.019364     -4.365280   130.863794     3930.354     0.000598   \n6        0.021628     -4.364635   130.827955     3929.278     0.001029   \n7        0.021628     -4.364635   130.827955     3929.278     0.001029   \n8        0.021628     -4.364635   130.827955     3929.278     0.001029   \n9        0.021628     -4.364635   130.827955     3929.278     0.001029   \n10       0.021628     -4.364635   130.827955     3929.278     0.001029   \n11       0.021628     -4.364635   130.827955     3929.278     0.001029   \n12       0.021126     -4.367949   130.939655     3932.639     0.001064   \n13       0.021126     -4.367949   130.939655     3932.639     0.001064   \n14       0.021126     -4.367949   130.939655     3932.639     0.001064   \n\n    TMZ_amp_p25  TMZ_amp_p75  TMZ_amp_power  TMZ_amp_power_density  \n0      0.011952     0.042236   1.544774e+07           17145.107302  \n1      0.011952     0.042236   1.544774e+07           17145.107302  \n2      0.011952     0.042236   1.544774e+07           17145.107302  \n3      0.011952     0.042236   1.544774e+07           17145.107302  \n4      0.011952     0.042236   1.544774e+07           17145.107302  \n5      0.011952     0.042236   1.544774e+07           17145.107302  \n6      0.013430     0.044879   1.543927e+07           17135.701632  \n7      0.013430     0.044879   1.543927e+07           17135.701632  \n8      0.013430     0.044879   1.543927e+07           17135.701632  \n9      0.013430     0.044879   1.543927e+07           17135.701632  \n10     0.013430     0.044879   1.543927e+07           17135.701632  \n11     0.013430     0.044879   1.543927e+07           17135.701632  \n12     0.012213     0.047521   1.546572e+07           17165.058955  \n13     0.012213     0.047521   1.546572e+07           17165.058955  \n14     0.012213     0.047521   1.546572e+07           17165.058955  \n\n[15 rows x 204 columns]",
      "text/html": "<div>\n<style scoped>\n    .dataframe tbody tr th:only-of-type {\n        vertical-align: middle;\n    }\n\n    .dataframe tbody tr th {\n        vertical-align: top;\n    }\n\n    .dataframe thead th {\n        text-align: right;\n    }\n</style>\n<table border=\"1\" class=\"dataframe\">\n  <thead>\n    <tr style=\"text-align: right;\">\n      <th></th>\n      <th>ID</th>\n      <th>Date_Of_Birth</th>\n      <th>Sex</th>\n      <th>Had_Covid</th>\n      <th>Begin_Of_Covid</th>\n      <th>End_Of_Covid</th>\n      <th>Lung_Damage</th>\n      <th>Damage_Percent</th>\n      <th>Breathing_Type</th>\n      <th>Frequency</th>\n      <th>...</th>\n      <th>TMZ_amp_mean</th>\n      <th>TMZ_amp_median</th>\n      <th>TMZ_amp_diff</th>\n      <th>TMZ_amp_std</th>\n      <th>TMZ_amp_max</th>\n      <th>TMZ_amp_min</th>\n      <th>TMZ_amp_p25</th>\n      <th>TMZ_amp_p75</th>\n      <th>TMZ_amp_power</th>\n      <th>TMZ_amp_power_density</th>\n    </tr>\n  </thead>\n  <tbody>\n    <tr>\n      <th>0</th>\n      <td>1</td>\n      <td>04.07.2003</td>\n      <td>M</td>\n      <td>No</td>\n      <td>00.00.0000</td>\n      <td>00.00.0000</td>\n      <td>No</td>\n      <td>-0.207005</td>\n      <td>грудное</td>\n      <td>-0.144237</td>\n      <td>...</td>\n      <td>4.446874</td>\n      <td>0.019364</td>\n      <td>-4.365280</td>\n      <td>130.863794</td>\n      <td>3930.354</td>\n      <td>0.000598</td>\n      <td>0.011952</td>\n      <td>0.042236</td>\n      <td>1.544774e+07</td>\n      <td>17145.107302</td>\n    </tr>\n    <tr>\n      <th>1</th>\n      <td>1</td>\n      <td>04.07.2003</td>\n      <td>M</td>\n      <td>No</td>\n      <td>00.00.0000</td>\n      <td>00.00.0000</td>\n      <td>No</td>\n      <td>-0.207005</td>\n      <td>грудное</td>\n      <td>-0.144237</td>\n      <td>...</td>\n      <td>4.446874</td>\n      <td>0.019364</td>\n      <td>-4.365280</td>\n      <td>130.863794</td>\n      <td>3930.354</td>\n      <td>0.000598</td>\n      <td>0.011952</td>\n      <td>0.042236</td>\n      <td>1.544774e+07</td>\n      <td>17145.107302</td>\n    </tr>\n    <tr>\n      <th>2</th>\n      <td>1</td>\n      <td>04.07.2003</td>\n      <td>M</td>\n      <td>No</td>\n      <td>00.00.0000</td>\n      <td>00.00.0000</td>\n      <td>No</td>\n      <td>-0.207005</td>\n      <td>грудное</td>\n      <td>-0.144237</td>\n      <td>...</td>\n      <td>4.446874</td>\n      <td>0.019364</td>\n      <td>-4.365280</td>\n      <td>130.863794</td>\n      <td>3930.354</td>\n      <td>0.000598</td>\n      <td>0.011952</td>\n      <td>0.042236</td>\n      <td>1.544774e+07</td>\n      <td>17145.107302</td>\n    </tr>\n    <tr>\n      <th>3</th>\n      <td>1</td>\n      <td>04.07.2003</td>\n      <td>M</td>\n      <td>No</td>\n      <td>00.00.0000</td>\n      <td>00.00.0000</td>\n      <td>No</td>\n      <td>-0.207005</td>\n      <td>грудное</td>\n      <td>-0.144237</td>\n      <td>...</td>\n      <td>4.446874</td>\n      <td>0.019364</td>\n      <td>-4.365280</td>\n      <td>130.863794</td>\n      <td>3930.354</td>\n      <td>0.000598</td>\n      <td>0.011952</td>\n      <td>0.042236</td>\n      <td>1.544774e+07</td>\n      <td>17145.107302</td>\n    </tr>\n    <tr>\n      <th>4</th>\n      <td>1</td>\n      <td>04.07.2003</td>\n      <td>M</td>\n      <td>No</td>\n      <td>00.00.0000</td>\n      <td>00.00.0000</td>\n      <td>No</td>\n      <td>-0.207005</td>\n      <td>грудное</td>\n      <td>-0.144237</td>\n      <td>...</td>\n      <td>4.446874</td>\n      <td>0.019364</td>\n      <td>-4.365280</td>\n      <td>130.863794</td>\n      <td>3930.354</td>\n      <td>0.000598</td>\n      <td>0.011952</td>\n      <td>0.042236</td>\n      <td>1.544774e+07</td>\n      <td>17145.107302</td>\n    </tr>\n    <tr>\n      <th>5</th>\n      <td>1</td>\n      <td>04.07.2003</td>\n      <td>M</td>\n      <td>No</td>\n      <td>00.00.0000</td>\n      <td>00.00.0000</td>\n      <td>No</td>\n      <td>-0.207005</td>\n      <td>грудное</td>\n      <td>-0.144237</td>\n      <td>...</td>\n      <td>4.446874</td>\n      <td>0.019364</td>\n      <td>-4.365280</td>\n      <td>130.863794</td>\n      <td>3930.354</td>\n      <td>0.000598</td>\n      <td>0.011952</td>\n      <td>0.042236</td>\n      <td>1.544774e+07</td>\n      <td>17145.107302</td>\n    </tr>\n    <tr>\n      <th>6</th>\n      <td>1</td>\n      <td>04.07.2003</td>\n      <td>M</td>\n      <td>No</td>\n      <td>00.00.0000</td>\n      <td>00.00.0000</td>\n      <td>No</td>\n      <td>-0.207005</td>\n      <td>брюшное</td>\n      <td>-0.464100</td>\n      <td>...</td>\n      <td>4.443864</td>\n      <td>0.021628</td>\n      <td>-4.364635</td>\n      <td>130.827955</td>\n      <td>3929.278</td>\n      <td>0.001029</td>\n      <td>0.013430</td>\n      <td>0.044879</td>\n      <td>1.543927e+07</td>\n      <td>17135.701632</td>\n    </tr>\n    <tr>\n      <th>7</th>\n      <td>1</td>\n      <td>04.07.2003</td>\n      <td>M</td>\n      <td>No</td>\n      <td>00.00.0000</td>\n      <td>00.00.0000</td>\n      <td>No</td>\n      <td>-0.207005</td>\n      <td>брюшное</td>\n      <td>-0.464100</td>\n      <td>...</td>\n      <td>4.443864</td>\n      <td>0.021628</td>\n      <td>-4.364635</td>\n      <td>130.827955</td>\n      <td>3929.278</td>\n      <td>0.001029</td>\n      <td>0.013430</td>\n      <td>0.044879</td>\n      <td>1.543927e+07</td>\n      <td>17135.701632</td>\n    </tr>\n    <tr>\n      <th>8</th>\n      <td>1</td>\n      <td>04.07.2003</td>\n      <td>M</td>\n      <td>No</td>\n      <td>00.00.0000</td>\n      <td>00.00.0000</td>\n      <td>No</td>\n      <td>-0.207005</td>\n      <td>брюшное</td>\n      <td>-0.464100</td>\n      <td>...</td>\n      <td>4.443864</td>\n      <td>0.021628</td>\n      <td>-4.364635</td>\n      <td>130.827955</td>\n      <td>3929.278</td>\n      <td>0.001029</td>\n      <td>0.013430</td>\n      <td>0.044879</td>\n      <td>1.543927e+07</td>\n      <td>17135.701632</td>\n    </tr>\n    <tr>\n      <th>9</th>\n      <td>1</td>\n      <td>04.07.2003</td>\n      <td>M</td>\n      <td>No</td>\n      <td>00.00.0000</td>\n      <td>00.00.0000</td>\n      <td>No</td>\n      <td>-0.207005</td>\n      <td>брюшное</td>\n      <td>-0.464100</td>\n      <td>...</td>\n      <td>4.443864</td>\n      <td>0.021628</td>\n      <td>-4.364635</td>\n      <td>130.827955</td>\n      <td>3929.278</td>\n      <td>0.001029</td>\n      <td>0.013430</td>\n      <td>0.044879</td>\n      <td>1.543927e+07</td>\n      <td>17135.701632</td>\n    </tr>\n    <tr>\n      <th>10</th>\n      <td>1</td>\n      <td>04.07.2003</td>\n      <td>M</td>\n      <td>No</td>\n      <td>00.00.0000</td>\n      <td>00.00.0000</td>\n      <td>No</td>\n      <td>-0.207005</td>\n      <td>брюшное</td>\n      <td>-0.464100</td>\n      <td>...</td>\n      <td>4.443864</td>\n      <td>0.021628</td>\n      <td>-4.364635</td>\n      <td>130.827955</td>\n      <td>3929.278</td>\n      <td>0.001029</td>\n      <td>0.013430</td>\n      <td>0.044879</td>\n      <td>1.543927e+07</td>\n      <td>17135.701632</td>\n    </tr>\n    <tr>\n      <th>11</th>\n      <td>1</td>\n      <td>04.07.2003</td>\n      <td>M</td>\n      <td>No</td>\n      <td>00.00.0000</td>\n      <td>00.00.0000</td>\n      <td>No</td>\n      <td>-0.207005</td>\n      <td>брюшное</td>\n      <td>-0.464100</td>\n      <td>...</td>\n      <td>4.443864</td>\n      <td>0.021628</td>\n      <td>-4.364635</td>\n      <td>130.827955</td>\n      <td>3929.278</td>\n      <td>0.001029</td>\n      <td>0.013430</td>\n      <td>0.044879</td>\n      <td>1.543927e+07</td>\n      <td>17135.701632</td>\n    </tr>\n    <tr>\n      <th>12</th>\n      <td>1</td>\n      <td>04.07.2003</td>\n      <td>M</td>\n      <td>No</td>\n      <td>00.00.0000</td>\n      <td>00.00.0000</td>\n      <td>No</td>\n      <td>-0.207005</td>\n      <td>смешанное</td>\n      <td>-1.423688</td>\n      <td>...</td>\n      <td>4.457085</td>\n      <td>0.021126</td>\n      <td>-4.367949</td>\n      <td>130.939655</td>\n      <td>3932.639</td>\n      <td>0.001064</td>\n      <td>0.012213</td>\n      <td>0.047521</td>\n      <td>1.546572e+07</td>\n      <td>17165.058955</td>\n    </tr>\n    <tr>\n      <th>13</th>\n      <td>1</td>\n      <td>04.07.2003</td>\n      <td>M</td>\n      <td>No</td>\n      <td>00.00.0000</td>\n      <td>00.00.0000</td>\n      <td>No</td>\n      <td>-0.207005</td>\n      <td>смешанное</td>\n      <td>-1.423688</td>\n      <td>...</td>\n      <td>4.457085</td>\n      <td>0.021126</td>\n      <td>-4.367949</td>\n      <td>130.939655</td>\n      <td>3932.639</td>\n      <td>0.001064</td>\n      <td>0.012213</td>\n      <td>0.047521</td>\n      <td>1.546572e+07</td>\n      <td>17165.058955</td>\n    </tr>\n    <tr>\n      <th>14</th>\n      <td>1</td>\n      <td>04.07.2003</td>\n      <td>M</td>\n      <td>No</td>\n      <td>00.00.0000</td>\n      <td>00.00.0000</td>\n      <td>No</td>\n      <td>-0.207005</td>\n      <td>смешанное</td>\n      <td>-1.423688</td>\n      <td>...</td>\n      <td>4.457085</td>\n      <td>0.021126</td>\n      <td>-4.367949</td>\n      <td>130.939655</td>\n      <td>3932.639</td>\n      <td>0.001064</td>\n      <td>0.012213</td>\n      <td>0.047521</td>\n      <td>1.546572e+07</td>\n      <td>17165.058955</td>\n    </tr>\n  </tbody>\n</table>\n<p>15 rows × 204 columns</p>\n</div>"
     },
     "execution_count": 62,
     "metadata": {},
     "output_type": "execute_result"
    }
   ],
   "source": [
    "data.head(15)"
   ],
   "metadata": {
    "collapsed": false,
    "pycharm": {
     "name": "#%%\n"
    }
   }
  },
  {
   "cell_type": "markdown",
   "source": [
    "<h3>Подготовка датасета для моделей машинного обучения</h3>"
   ],
   "metadata": {
    "collapsed": false,
    "pycharm": {
     "name": "#%% md\n"
    }
   }
  },
  {
   "cell_type": "code",
   "execution_count": 63,
   "outputs": [
    {
     "name": "stderr",
     "output_type": "stream",
     "text": [
      "C:\\Users\\admin\\AppData\\Local\\Temp\\ipykernel_7244\\732839937.py:13: SettingWithCopyWarning: \n",
      "A value is trying to be set on a copy of a slice from a DataFrame.\n",
      "Try using .loc[row_indexer,col_indexer] = value instead\n",
      "\n",
      "See the caveats in the documentation: https://pandas.pydata.org/pandas-docs/stable/user_guide/indexing.html#returning-a-view-versus-a-copy\n",
      "  X_categorical[col]= le.fit_transform(X_categorical[col])\n",
      "C:\\Users\\admin\\AppData\\Local\\Temp\\ipykernel_7244\\732839937.py:13: SettingWithCopyWarning: \n",
      "A value is trying to be set on a copy of a slice from a DataFrame.\n",
      "Try using .loc[row_indexer,col_indexer] = value instead\n",
      "\n",
      "See the caveats in the documentation: https://pandas.pydata.org/pandas-docs/stable/user_guide/indexing.html#returning-a-view-versus-a-copy\n",
      "  X_categorical[col]= le.fit_transform(X_categorical[col])\n",
      "C:\\Users\\admin\\AppData\\Local\\Temp\\ipykernel_7244\\732839937.py:13: SettingWithCopyWarning: \n",
      "A value is trying to be set on a copy of a slice from a DataFrame.\n",
      "Try using .loc[row_indexer,col_indexer] = value instead\n",
      "\n",
      "See the caveats in the documentation: https://pandas.pydata.org/pandas-docs/stable/user_guide/indexing.html#returning-a-view-versus-a-copy\n",
      "  X_categorical[col]= le.fit_transform(X_categorical[col])\n",
      "C:\\Users\\admin\\AppData\\Local\\Temp\\ipykernel_7244\\732839937.py:13: SettingWithCopyWarning: \n",
      "A value is trying to be set on a copy of a slice from a DataFrame.\n",
      "Try using .loc[row_indexer,col_indexer] = value instead\n",
      "\n",
      "See the caveats in the documentation: https://pandas.pydata.org/pandas-docs/stable/user_guide/indexing.html#returning-a-view-versus-a-copy\n",
      "  X_categorical[col]= le.fit_transform(X_categorical[col])\n"
     ]
    }
   ],
   "source": [
    "#отбрасывание ненужных столбцов\n",
    "drop_columns = ['Date_Of_Birth', 'Begin_Of_Covid', 'End_Of_Covid']\n",
    "df = data.drop(columns=drop_columns)\n",
    "#определение численных и категориальных признаков\n",
    "y = df['Breathing_Type']\n",
    "categorical_cols = ['Sex', 'Had_Covid', 'Lung_Damage', 'DominatorFreq']\n",
    "X_categorical = df[categorical_cols]\n",
    "non_numerical_cols = categorical_cols + ['ID', 'Breathing_Type']\n",
    "X_numeric = df.drop(columns=non_numerical_cols)\n",
    "#трансформация категориальных признаков\n",
    "le = LabelEncoder()\n",
    "for col in X_categorical.columns:\n",
    "    X_categorical[col]= le.fit_transform(X_categorical[col])\n",
    "le = LabelEncoder()\n",
    "y = le.fit_transform(y)\n",
    "#все входные признаки\n",
    "X = np.concatenate((X_numeric, X_categorical), axis=1)\n",
    "X_df = pd.concat([X_numeric, X_categorical], axis=1)"
   ],
   "metadata": {
    "collapsed": false,
    "pycharm": {
     "name": "#%%\n"
    }
   }
  },
  {
   "cell_type": "code",
   "execution_count": 64,
   "outputs": [],
   "source": [
    "#разделение на обучающую(70%) и тестовую (30%) выборки\n",
    "X_train, X_test, y_train, y_test = train_test_split(X, y, test_size=0.3, random_state=42)"
   ],
   "metadata": {
    "collapsed": false,
    "pycharm": {
     "name": "#%%\n"
    }
   }
  },
  {
   "cell_type": "code",
   "execution_count": 65,
   "outputs": [],
   "source": [
    "from sklearn.metrics import recall_score, accuracy_score\n",
    "from sklearn.metrics import f1_score\n",
    "from sklearn.metrics import precision_score\n",
    "from sklearn.metrics import classification_report\n",
    "#расчет метрик по тесовой выборке\n",
    "def calculate_metrics(y_test, y_pred):\n",
    "    accuracy = accuracy_score(y_test, y_pred)\n",
    "    recall = recall_score(y_test, y_pred, average='weighted')\n",
    "    precision = precision_score(y_test, y_pred, average='weighted')\n",
    "    f1 = f1_score(y_test, y_pred, average='weighted')\n",
    "    print(\"Accuracy: \", accuracy)\n",
    "    print(\"Recall: \", recall)\n",
    "    print(\"Precision: \", precision)\n",
    "    print(\"F1-score: \", f1)\n",
    "    report = classification_report(y_test, y_pred)\n",
    "    print(report)\n",
    "\n",
    "#расчет знамости признаков\n",
    "def calc_feature_importances(model, X_df):\n",
    "    importance = model.feature_importances_\n",
    "    feature_importance = pd.DataFrame({'Feature': X_df.columns, 'Importance': importance})\n",
    "    feature_importance = feature_importance.sort_values('Importance', ascending=False)\n",
    "    return feature_importance"
   ],
   "metadata": {
    "collapsed": false,
    "pycharm": {
     "name": "#%%\n"
    }
   }
  },
  {
   "cell_type": "markdown",
   "source": [
    "<h3>Прямой отбор признаков</h3>"
   ],
   "metadata": {
    "collapsed": false,
    "pycharm": {
     "name": "#%% md\n"
    }
   }
  },
  {
   "cell_type": "code",
   "execution_count": null,
   "outputs": [],
   "source": [
    "from sklearn.tree import DecisionTreeClassifier\n",
    "from mlxtend.feature_selection import SequentialFeatureSelector\n",
    "\n",
    "\n",
    "model_tree = DecisionTreeClassifier()\n",
    "sfs = SequentialFeatureSelector(estimator=model_tree,\n",
    "                                k_features=15,\n",
    "                                forward=True,\n",
    "                                scoring='accuracy',\n",
    "                                cv=5)\n",
    "sfs.fit(X_df, y)"
   ],
   "metadata": {
    "collapsed": false,
    "pycharm": {
     "name": "#%%\n",
     "is_executing": true
    }
   }
  },
  {
   "cell_type": "code",
   "execution_count": 113,
   "outputs": [],
   "source": [
    "# Выбранные признаки\n",
    "selected_features = sfs.k_feature_names_"
   ],
   "metadata": {
    "collapsed": false,
    "pycharm": {
     "name": "#%%\n"
    }
   }
  },
  {
   "cell_type": "code",
   "execution_count": 114,
   "outputs": [],
   "source": [
    "selected_features"
   ],
   "metadata": {
    "collapsed": false,
    "pycharm": {
     "name": "#%%\n"
    }
   }
  },
  {
   "cell_type": "code",
   "execution_count": null,
   "outputs": [],
   "source": [
    "selected_features.to_excel('sequential_features.xlsx')"
   ],
   "metadata": {
    "collapsed": false,
    "pycharm": {
     "name": "#%%\n",
     "is_executing": true
    }
   }
  },
  {
   "cell_type": "markdown",
   "source": [
    "<h3>Отбор признаков с помощью BorutaPy</h3>"
   ],
   "metadata": {
    "collapsed": false,
    "pycharm": {
     "name": "#%% md\n"
    }
   }
  },
  {
   "cell_type": "code",
   "execution_count": 94,
   "outputs": [],
   "source": [
    "from boruta import BorutaPy"
   ],
   "metadata": {
    "collapsed": false,
    "pycharm": {
     "name": "#%%\n"
    }
   }
  },
  {
   "cell_type": "code",
   "execution_count": 104,
   "outputs": [],
   "source": [
    "from sklearn.ensemble import RandomForestClassifier\n",
    "\n",
    "rf = RandomForestClassifier(n_jobs=-1, class_weight='balanced', max_depth=5)\n",
    "feat_selector = BorutaPy(rf, n_estimators='auto', verbose=2, random_state=1)"
   ],
   "metadata": {
    "collapsed": false,
    "pycharm": {
     "name": "#%%\n"
    }
   }
  },
  {
   "cell_type": "code",
   "execution_count": null,
   "outputs": [],
   "source": [
    "feat_selector.fit(X, y)"
   ],
   "metadata": {
    "collapsed": false,
    "pycharm": {
     "name": "#%%\n",
     "is_executing": true
    }
   }
  },
  {
   "cell_type": "code",
   "execution_count": 106,
   "outputs": [
    {
     "data": {
      "text/plain": "array([False,  True,  True, False,  True,  True,  True,  True, False,\n        True,  True,  True,  True,  True, False,  True,  True,  True,\n        True,  True, False,  True,  True,  True,  True,  True,  True,\n       False,  True,  True,  True,  True,  True,  True,  True,  True,\n        True,  True,  True,  True,  True,  True,  True,  True,  True,\n        True,  True,  True,  True,  True,  True,  True,  True,  True,\n        True, False,  True,  True,  True,  True,  True,  True,  True,\n        True,  True,  True,  True,  True,  True,  True,  True,  True,\n        True,  True,  True,  True,  True,  True,  True,  True,  True,\n        True,  True,  True,  True,  True,  True,  True,  True,  True,\n        True,  True,  True,  True,  True,  True,  True,  True,  True,\n        True,  True,  True,  True,  True,  True,  True,  True,  True,\n        True, False,  True,  True,  True,  True,  True,  True,  True,\n        True,  True,  True,  True,  True,  True, False,  True,  True,\n        True,  True,  True,  True,  True,  True,  True,  True,  True,\n        True,  True,  True,  True,  True,  True,  True,  True,  True,\n        True,  True,  True,  True,  True,  True,  True,  True,  True,\n        True,  True,  True,  True,  True,  True,  True,  True,  True,\n        True, False,  True,  True,  True,  True,  True,  True,  True,\n        True,  True,  True,  True,  True,  True, False,  True,  True,\n        True,  True,  True,  True,  True,  True,  True,  True,  True,\n        True,  True,  True,  True,  True,  True, False, False, False,\n       False])"
     },
     "execution_count": 106,
     "metadata": {},
     "output_type": "execute_result"
    }
   ],
   "source": [
    "feat_selector.support_"
   ],
   "metadata": {
    "collapsed": false,
    "pycharm": {
     "name": "#%%\n"
    }
   }
  },
  {
   "cell_type": "code",
   "execution_count": 107,
   "outputs": [
    {
     "data": {
      "text/plain": "array([11,  1,  1,  6,  1,  1,  1,  1,  8,  1,  1,  1,  1,  1,  8,  1,  1,\n        1,  1,  1,  8,  1,  1,  1,  1,  1,  1,  2,  1,  1,  1,  1,  1,  1,\n        1,  1,  1,  1,  1,  1,  1,  1,  1,  1,  1,  1,  1,  1,  1,  1,  1,\n        1,  1,  1,  1, 14,  1,  1,  1,  1,  1,  1,  1,  1,  1,  1,  1,  1,\n        1,  1,  1,  1,  1,  1,  1,  1,  1,  1,  1,  1,  1,  1,  1,  1,  1,\n        1,  1,  1,  1,  1,  1,  1,  1,  1,  1,  1,  1,  1,  1,  1,  1,  1,\n        1,  1,  1,  1,  1,  1,  1, 14,  1,  1,  1,  1,  1,  1,  1,  1,  1,\n        1,  1,  1,  1,  2,  1,  1,  1,  1,  1,  1,  1,  1,  1,  1,  1,  1,\n        1,  1,  1,  1,  1,  1,  1,  1,  1,  1,  1,  1,  1,  1,  1,  1,  1,\n        1,  1,  1,  1,  1,  1,  1,  1,  1,  1, 14,  1,  1,  1,  1,  1,  1,\n        1,  1,  1,  1,  1,  1,  1,  3,  1,  1,  1,  1,  1,  1,  1,  1,  1,\n        1,  1,  1,  1,  1,  1,  1,  1,  4,  5, 11, 10])"
     },
     "execution_count": 107,
     "metadata": {},
     "output_type": "execute_result"
    }
   ],
   "source": [
    "feat_selector.ranking_"
   ],
   "metadata": {
    "collapsed": false,
    "pycharm": {
     "name": "#%%\n"
    }
   }
  },
  {
   "cell_type": "code",
   "execution_count": 109,
   "outputs": [
    {
     "data": {
      "text/plain": "                   Feature  Rank  Support\n99             SMX_amp_max     1     True\n122  SMY_amp_power_density     1     True\n124      SMZ_phases_median     1     True\n125        SMZ_phases_diff     1     True\n126         SMZ_phases_std     1     True\n..                     ...   ...      ...\n197            Lung_Damage    11    False\n0           Damage_Percent    11    False\n109         SMY_phases_max    14    False\n55          FMY_phases_max    14    False\n163         TMY_phases_max    14    False\n\n[199 rows x 3 columns]",
      "text/html": "<div>\n<style scoped>\n    .dataframe tbody tr th:only-of-type {\n        vertical-align: middle;\n    }\n\n    .dataframe tbody tr th {\n        vertical-align: top;\n    }\n\n    .dataframe thead th {\n        text-align: right;\n    }\n</style>\n<table border=\"1\" class=\"dataframe\">\n  <thead>\n    <tr style=\"text-align: right;\">\n      <th></th>\n      <th>Feature</th>\n      <th>Rank</th>\n      <th>Support</th>\n    </tr>\n  </thead>\n  <tbody>\n    <tr>\n      <th>99</th>\n      <td>SMX_amp_max</td>\n      <td>1</td>\n      <td>True</td>\n    </tr>\n    <tr>\n      <th>122</th>\n      <td>SMY_amp_power_density</td>\n      <td>1</td>\n      <td>True</td>\n    </tr>\n    <tr>\n      <th>124</th>\n      <td>SMZ_phases_median</td>\n      <td>1</td>\n      <td>True</td>\n    </tr>\n    <tr>\n      <th>125</th>\n      <td>SMZ_phases_diff</td>\n      <td>1</td>\n      <td>True</td>\n    </tr>\n    <tr>\n      <th>126</th>\n      <td>SMZ_phases_std</td>\n      <td>1</td>\n      <td>True</td>\n    </tr>\n    <tr>\n      <th>...</th>\n      <td>...</td>\n      <td>...</td>\n      <td>...</td>\n    </tr>\n    <tr>\n      <th>197</th>\n      <td>Lung_Damage</td>\n      <td>11</td>\n      <td>False</td>\n    </tr>\n    <tr>\n      <th>0</th>\n      <td>Damage_Percent</td>\n      <td>11</td>\n      <td>False</td>\n    </tr>\n    <tr>\n      <th>109</th>\n      <td>SMY_phases_max</td>\n      <td>14</td>\n      <td>False</td>\n    </tr>\n    <tr>\n      <th>55</th>\n      <td>FMY_phases_max</td>\n      <td>14</td>\n      <td>False</td>\n    </tr>\n    <tr>\n      <th>163</th>\n      <td>TMY_phases_max</td>\n      <td>14</td>\n      <td>False</td>\n    </tr>\n  </tbody>\n</table>\n<p>199 rows × 3 columns</p>\n</div>"
     },
     "execution_count": 109,
     "metadata": {},
     "output_type": "execute_result"
    }
   ],
   "source": [
    "feature_importance = pd.DataFrame({'Feature': X_df.columns, 'Rank': feat_selector.ranking_, 'Support': feat_selector.support_})\n",
    "feature_importance = feature_importance.sort_values('Rank', ascending=True)\n",
    "feature_importance"
   ],
   "metadata": {
    "collapsed": false,
    "pycharm": {
     "name": "#%%\n"
    }
   }
  },
  {
   "cell_type": "code",
   "execution_count": 110,
   "outputs": [],
   "source": [
    "feature_importance.to_excel('01_07/boruta_features.xlsx')"
   ],
   "metadata": {
    "collapsed": false,
    "pycharm": {
     "name": "#%%\n"
    }
   }
  },
  {
   "cell_type": "markdown",
   "source": [],
   "metadata": {
    "collapsed": false,
    "pycharm": {
     "name": "#%% md\n"
    }
   }
  },
  {
   "cell_type": "markdown",
   "source": [
    "<h3>XGBoost</h3>"
   ],
   "metadata": {
    "collapsed": false,
    "pycharm": {
     "name": "#%% md\n"
    }
   }
  },
  {
   "cell_type": "code",
   "execution_count": 66,
   "outputs": [
    {
     "name": "stdout",
     "output_type": "stream",
     "text": [
      "Accuracy:  0.9905437352245863\n",
      "Recall:  0.9905437352245863\n",
      "Precision:  0.9906042795368738\n",
      "F1-score:  0.9905428945182585\n",
      "              precision    recall  f1-score   support\n",
      "\n",
      "           0       0.99      0.98      0.99       149\n",
      "           1       1.00      1.00      1.00       123\n",
      "           2       0.98      0.99      0.99       151\n",
      "\n",
      "    accuracy                           0.99       423\n",
      "   macro avg       0.99      0.99      0.99       423\n",
      "weighted avg       0.99      0.99      0.99       423\n",
      "\n"
     ]
    }
   ],
   "source": [
    "import xgboost as xgb\n",
    "model_xgb = xgb.XGBClassifier()\n",
    "details = model_xgb.fit(X_train, y_train)\n",
    "y_pred = model_xgb.predict(X_test)\n",
    "calculate_metrics(y_test, y_pred)"
   ],
   "metadata": {
    "collapsed": false,
    "pycharm": {
     "name": "#%%\n"
    }
   }
  },
  {
   "cell_type": "code",
   "execution_count": 67,
   "outputs": [
    {
     "data": {
      "text/plain": "                 Feature  Importance\n26   Sin_Amp12/Sin_Amp23    0.031446\n105      SMY_phases_mean    0.030445\n124    SMZ_phases_median    0.029663\n142    TMX_phases_median    0.027863\n48           FMX_amp_p75    0.021484\n..                   ...         ...\n169         TMY_amp_diff    0.000000\n85         FMZ_amp_power    0.000000\n171          TMY_amp_max    0.000000\n81           FMZ_amp_max    0.000000\n99           SMX_amp_max    0.000000\n\n[199 rows x 2 columns]",
      "text/html": "<div>\n<style scoped>\n    .dataframe tbody tr th:only-of-type {\n        vertical-align: middle;\n    }\n\n    .dataframe tbody tr th {\n        vertical-align: top;\n    }\n\n    .dataframe thead th {\n        text-align: right;\n    }\n</style>\n<table border=\"1\" class=\"dataframe\">\n  <thead>\n    <tr style=\"text-align: right;\">\n      <th></th>\n      <th>Feature</th>\n      <th>Importance</th>\n    </tr>\n  </thead>\n  <tbody>\n    <tr>\n      <th>26</th>\n      <td>Sin_Amp12/Sin_Amp23</td>\n      <td>0.031446</td>\n    </tr>\n    <tr>\n      <th>105</th>\n      <td>SMY_phases_mean</td>\n      <td>0.030445</td>\n    </tr>\n    <tr>\n      <th>124</th>\n      <td>SMZ_phases_median</td>\n      <td>0.029663</td>\n    </tr>\n    <tr>\n      <th>142</th>\n      <td>TMX_phases_median</td>\n      <td>0.027863</td>\n    </tr>\n    <tr>\n      <th>48</th>\n      <td>FMX_amp_p75</td>\n      <td>0.021484</td>\n    </tr>\n    <tr>\n      <th>...</th>\n      <td>...</td>\n      <td>...</td>\n    </tr>\n    <tr>\n      <th>169</th>\n      <td>TMY_amp_diff</td>\n      <td>0.000000</td>\n    </tr>\n    <tr>\n      <th>85</th>\n      <td>FMZ_amp_power</td>\n      <td>0.000000</td>\n    </tr>\n    <tr>\n      <th>171</th>\n      <td>TMY_amp_max</td>\n      <td>0.000000</td>\n    </tr>\n    <tr>\n      <th>81</th>\n      <td>FMZ_amp_max</td>\n      <td>0.000000</td>\n    </tr>\n    <tr>\n      <th>99</th>\n      <td>SMX_amp_max</td>\n      <td>0.000000</td>\n    </tr>\n  </tbody>\n</table>\n<p>199 rows × 2 columns</p>\n</div>"
     },
     "execution_count": 67,
     "metadata": {},
     "output_type": "execute_result"
    }
   ],
   "source": [
    "feature_importances = calc_feature_importances(model_xgb, X_df)\n",
    "feature_importances"
   ],
   "metadata": {
    "collapsed": false,
    "pycharm": {
     "name": "#%%\n"
    }
   }
  },
  {
   "cell_type": "code",
   "execution_count": 116,
   "outputs": [],
   "source": [
    "feature_importance.to_excel('01_07/xgboost_features.xlsx')"
   ],
   "metadata": {
    "collapsed": false,
    "pycharm": {
     "name": "#%%\n"
    }
   }
  },
  {
   "cell_type": "code",
   "execution_count": null,
   "outputs": [],
   "source": [],
   "metadata": {
    "collapsed": false,
    "pycharm": {
     "name": "#%%\n"
    }
   }
  }
 ],
 "metadata": {
  "kernelspec": {
   "display_name": "Python 3",
   "language": "python",
   "name": "python3"
  },
  "language_info": {
   "codemirror_mode": {
    "name": "ipython",
    "version": 2
   },
   "file_extension": ".py",
   "mimetype": "text/x-python",
   "name": "python",
   "nbconvert_exporter": "python",
   "pygments_lexer": "ipython2",
   "version": "2.7.6"
  }
 },
 "nbformat": 4,
 "nbformat_minor": 0
}