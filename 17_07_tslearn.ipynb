{
 "cells": [
  {
   "cell_type": "code",
   "execution_count": 85,
   "id": "b32bedf8",
   "metadata": {
    "pycharm": {
     "name": "#%%\n"
    }
   },
   "outputs": [],
   "source": [
    "import pandas as pd\n",
    "import numpy as np\n",
    "from sklearn.model_selection import train_test_split\n",
    "from sklearn.metrics import accuracy_score\n",
    "from sklearn.preprocessing import  LabelEncoder"
   ]
  },
  {
   "cell_type": "markdown",
   "id": "506ba53f",
   "metadata": {
    "pycharm": {
     "name": "#%% md\n"
    }
   },
   "source": [
    "<h3>Загрузка датасета</h3>"
   ]
  },
  {
   "cell_type": "code",
   "execution_count": 86,
   "id": "2b2a53b1",
   "metadata": {
    "pycharm": {
     "name": "#%%\n"
    }
   },
   "outputs": [
    {
     "data": {
      "text/plain": "   id  BreathingType  TimeStamp_sec  FirstMarkerXCoord  FirstMarkerYCoord  \\\n0   1              0       0.058895              0.689             -1.453   \n1   1              0       0.111889              0.687             -1.452   \n2   1              0       0.158371              0.687             -1.451   \n3   1              0       0.262516              0.685             -1.450   \n4   1              0       0.295620              0.684             -1.449   \n\n   FirstMarkerZCoord  SecondMarkerXCoord  SecondMarkerYCoord  \\\n0              4.417               0.881              -1.544   \n1              4.418               0.881              -1.544   \n2              4.419               0.881              -1.544   \n3              4.420               0.882              -1.544   \n4              4.420               0.883              -1.544   \n\n   SecondMarkerZCoord  ThirdMarkerXCoord  ThirdMarkerYCoord  ThirdMarkerZCoord  \n0               4.547              0.718             -1.607              4.369  \n1               4.547              0.715             -1.607              4.371  \n2               4.545              0.714             -1.607              4.371  \n3               4.541              0.711             -1.608              4.373  \n4               4.540              0.709             -1.607              4.370  ",
      "text/html": "<div>\n<style scoped>\n    .dataframe tbody tr th:only-of-type {\n        vertical-align: middle;\n    }\n\n    .dataframe tbody tr th {\n        vertical-align: top;\n    }\n\n    .dataframe thead th {\n        text-align: right;\n    }\n</style>\n<table border=\"1\" class=\"dataframe\">\n  <thead>\n    <tr style=\"text-align: right;\">\n      <th></th>\n      <th>id</th>\n      <th>BreathingType</th>\n      <th>TimeStamp_sec</th>\n      <th>FirstMarkerXCoord</th>\n      <th>FirstMarkerYCoord</th>\n      <th>FirstMarkerZCoord</th>\n      <th>SecondMarkerXCoord</th>\n      <th>SecondMarkerYCoord</th>\n      <th>SecondMarkerZCoord</th>\n      <th>ThirdMarkerXCoord</th>\n      <th>ThirdMarkerYCoord</th>\n      <th>ThirdMarkerZCoord</th>\n    </tr>\n  </thead>\n  <tbody>\n    <tr>\n      <th>0</th>\n      <td>1</td>\n      <td>0</td>\n      <td>0.058895</td>\n      <td>0.689</td>\n      <td>-1.453</td>\n      <td>4.417</td>\n      <td>0.881</td>\n      <td>-1.544</td>\n      <td>4.547</td>\n      <td>0.718</td>\n      <td>-1.607</td>\n      <td>4.369</td>\n    </tr>\n    <tr>\n      <th>1</th>\n      <td>1</td>\n      <td>0</td>\n      <td>0.111889</td>\n      <td>0.687</td>\n      <td>-1.452</td>\n      <td>4.418</td>\n      <td>0.881</td>\n      <td>-1.544</td>\n      <td>4.547</td>\n      <td>0.715</td>\n      <td>-1.607</td>\n      <td>4.371</td>\n    </tr>\n    <tr>\n      <th>2</th>\n      <td>1</td>\n      <td>0</td>\n      <td>0.158371</td>\n      <td>0.687</td>\n      <td>-1.451</td>\n      <td>4.419</td>\n      <td>0.881</td>\n      <td>-1.544</td>\n      <td>4.545</td>\n      <td>0.714</td>\n      <td>-1.607</td>\n      <td>4.371</td>\n    </tr>\n    <tr>\n      <th>3</th>\n      <td>1</td>\n      <td>0</td>\n      <td>0.262516</td>\n      <td>0.685</td>\n      <td>-1.450</td>\n      <td>4.420</td>\n      <td>0.882</td>\n      <td>-1.544</td>\n      <td>4.541</td>\n      <td>0.711</td>\n      <td>-1.608</td>\n      <td>4.373</td>\n    </tr>\n    <tr>\n      <th>4</th>\n      <td>1</td>\n      <td>0</td>\n      <td>0.295620</td>\n      <td>0.684</td>\n      <td>-1.449</td>\n      <td>4.420</td>\n      <td>0.883</td>\n      <td>-1.544</td>\n      <td>4.540</td>\n      <td>0.709</td>\n      <td>-1.607</td>\n      <td>4.370</td>\n    </tr>\n  </tbody>\n</table>\n</div>"
     },
     "execution_count": 86,
     "metadata": {},
     "output_type": "execute_result"
    }
   ],
   "source": [
    "#загрузка датасета\n",
    "df = pd.read_csv('coords_data_numerated.csv')\n",
    "df = df.drop(columns=['Unnamed: 0', 'GSR'])\n",
    "df.head()"
   ]
  },
  {
   "cell_type": "code",
   "execution_count": 87,
   "id": "e0377807",
   "metadata": {
    "pycharm": {
     "name": "#%%\n"
    }
   },
   "outputs": [
    {
     "data": {
      "text/plain": "         id  FirstMarkerXCoord  FirstMarkerYCoord  FirstMarkerZCoord  \\\n230921  258              1.063             -1.649              3.843   \n230922  258              1.062             -1.648              3.842   \n230923  258              1.062             -1.648              3.842   \n230924  258              1.063             -1.647              3.842   \n230925  258              1.063             -1.647              3.842   \n\n        SecondMarkerXCoord  SecondMarkerYCoord  SecondMarkerZCoord  \\\n230921               1.093              -1.839               3.624   \n230922               1.094              -1.841               3.625   \n230923               1.093              -1.841               3.624   \n230924               1.094              -1.841               3.624   \n230925               1.094              -1.841               3.623   \n\n        ThirdMarkerXCoord  ThirdMarkerYCoord  ThirdMarkerZCoord  \n230921              1.030             -1.867              3.859  \n230922              1.030             -1.867              3.857  \n230923              1.030             -1.868              3.855  \n230924              1.029             -1.868              3.853  \n230925              1.030             -1.868              3.853  ",
      "text/html": "<div>\n<style scoped>\n    .dataframe tbody tr th:only-of-type {\n        vertical-align: middle;\n    }\n\n    .dataframe tbody tr th {\n        vertical-align: top;\n    }\n\n    .dataframe thead th {\n        text-align: right;\n    }\n</style>\n<table border=\"1\" class=\"dataframe\">\n  <thead>\n    <tr style=\"text-align: right;\">\n      <th></th>\n      <th>id</th>\n      <th>FirstMarkerXCoord</th>\n      <th>FirstMarkerYCoord</th>\n      <th>FirstMarkerZCoord</th>\n      <th>SecondMarkerXCoord</th>\n      <th>SecondMarkerYCoord</th>\n      <th>SecondMarkerZCoord</th>\n      <th>ThirdMarkerXCoord</th>\n      <th>ThirdMarkerYCoord</th>\n      <th>ThirdMarkerZCoord</th>\n    </tr>\n  </thead>\n  <tbody>\n    <tr>\n      <th>230921</th>\n      <td>258</td>\n      <td>1.063</td>\n      <td>-1.649</td>\n      <td>3.843</td>\n      <td>1.093</td>\n      <td>-1.839</td>\n      <td>3.624</td>\n      <td>1.030</td>\n      <td>-1.867</td>\n      <td>3.859</td>\n    </tr>\n    <tr>\n      <th>230922</th>\n      <td>258</td>\n      <td>1.062</td>\n      <td>-1.648</td>\n      <td>3.842</td>\n      <td>1.094</td>\n      <td>-1.841</td>\n      <td>3.625</td>\n      <td>1.030</td>\n      <td>-1.867</td>\n      <td>3.857</td>\n    </tr>\n    <tr>\n      <th>230923</th>\n      <td>258</td>\n      <td>1.062</td>\n      <td>-1.648</td>\n      <td>3.842</td>\n      <td>1.093</td>\n      <td>-1.841</td>\n      <td>3.624</td>\n      <td>1.030</td>\n      <td>-1.868</td>\n      <td>3.855</td>\n    </tr>\n    <tr>\n      <th>230924</th>\n      <td>258</td>\n      <td>1.063</td>\n      <td>-1.647</td>\n      <td>3.842</td>\n      <td>1.094</td>\n      <td>-1.841</td>\n      <td>3.624</td>\n      <td>1.029</td>\n      <td>-1.868</td>\n      <td>3.853</td>\n    </tr>\n    <tr>\n      <th>230925</th>\n      <td>258</td>\n      <td>1.063</td>\n      <td>-1.647</td>\n      <td>3.842</td>\n      <td>1.094</td>\n      <td>-1.841</td>\n      <td>3.623</td>\n      <td>1.030</td>\n      <td>-1.868</td>\n      <td>3.853</td>\n    </tr>\n  </tbody>\n</table>\n</div>"
     },
     "execution_count": 87,
     "metadata": {},
     "output_type": "execute_result"
    }
   ],
   "source": [
    "y = df['BreathingType']\n",
    "X = df.drop(columns=['BreathingType','TimeStamp_sec'])\n",
    "X.tail()"
   ]
  },
  {
   "cell_type": "code",
   "execution_count": 88,
   "id": "bb7a98bb",
   "metadata": {
    "pycharm": {
     "name": "#%%\n"
    }
   },
   "outputs": [
    {
     "data": {
      "text/plain": "   id    FMX    FMY    FMZ    SMX    SMY    SMZ    TMX    TMY    TMZ\n0   1  0.689 -1.453  4.417  0.881 -1.544  4.547  0.718 -1.607  4.369\n1   1  0.687 -1.452  4.418  0.881 -1.544  4.547  0.715 -1.607  4.371\n2   1  0.687 -1.451  4.419  0.881 -1.544  4.545  0.714 -1.607  4.371\n3   1  0.685 -1.450  4.420  0.882 -1.544  4.541  0.711 -1.608  4.373\n4   1  0.684 -1.449  4.420  0.883 -1.544  4.540  0.709 -1.607  4.370",
      "text/html": "<div>\n<style scoped>\n    .dataframe tbody tr th:only-of-type {\n        vertical-align: middle;\n    }\n\n    .dataframe tbody tr th {\n        vertical-align: top;\n    }\n\n    .dataframe thead th {\n        text-align: right;\n    }\n</style>\n<table border=\"1\" class=\"dataframe\">\n  <thead>\n    <tr style=\"text-align: right;\">\n      <th></th>\n      <th>id</th>\n      <th>FMX</th>\n      <th>FMY</th>\n      <th>FMZ</th>\n      <th>SMX</th>\n      <th>SMY</th>\n      <th>SMZ</th>\n      <th>TMX</th>\n      <th>TMY</th>\n      <th>TMZ</th>\n    </tr>\n  </thead>\n  <tbody>\n    <tr>\n      <th>0</th>\n      <td>1</td>\n      <td>0.689</td>\n      <td>-1.453</td>\n      <td>4.417</td>\n      <td>0.881</td>\n      <td>-1.544</td>\n      <td>4.547</td>\n      <td>0.718</td>\n      <td>-1.607</td>\n      <td>4.369</td>\n    </tr>\n    <tr>\n      <th>1</th>\n      <td>1</td>\n      <td>0.687</td>\n      <td>-1.452</td>\n      <td>4.418</td>\n      <td>0.881</td>\n      <td>-1.544</td>\n      <td>4.547</td>\n      <td>0.715</td>\n      <td>-1.607</td>\n      <td>4.371</td>\n    </tr>\n    <tr>\n      <th>2</th>\n      <td>1</td>\n      <td>0.687</td>\n      <td>-1.451</td>\n      <td>4.419</td>\n      <td>0.881</td>\n      <td>-1.544</td>\n      <td>4.545</td>\n      <td>0.714</td>\n      <td>-1.607</td>\n      <td>4.371</td>\n    </tr>\n    <tr>\n      <th>3</th>\n      <td>1</td>\n      <td>0.685</td>\n      <td>-1.450</td>\n      <td>4.420</td>\n      <td>0.882</td>\n      <td>-1.544</td>\n      <td>4.541</td>\n      <td>0.711</td>\n      <td>-1.608</td>\n      <td>4.373</td>\n    </tr>\n    <tr>\n      <th>4</th>\n      <td>1</td>\n      <td>0.684</td>\n      <td>-1.449</td>\n      <td>4.420</td>\n      <td>0.883</td>\n      <td>-1.544</td>\n      <td>4.540</td>\n      <td>0.709</td>\n      <td>-1.607</td>\n      <td>4.370</td>\n    </tr>\n  </tbody>\n</table>\n</div>"
     },
     "execution_count": 88,
     "metadata": {},
     "output_type": "execute_result"
    }
   ],
   "source": [
    "#переименование столбцов\n",
    "dict_renames = {\n",
    "    'FirstMarkerXCoord' : 'FMX',\n",
    "    'FirstMarkerYCoord' : 'FMY',\n",
    "    'FirstMarkerZCoord' : 'FMZ',\n",
    "    'SecondMarkerXCoord' :  'SMX',\n",
    "    'SecondMarkerYCoord' : 'SMY',\n",
    "    'SecondMarkerZCoord' : 'SMZ',\n",
    "    'ThirdMarkerXCoord' : 'TMX',\n",
    "    'ThirdMarkerYCoord' : 'TMY',\n",
    "    'ThirdMarkerZCoord' : 'TMZ'\n",
    "}\n",
    "X = X.rename(columns=dict_renames)\n",
    "X.head()"
   ]
  },
  {
   "cell_type": "markdown",
   "id": "3fafab46",
   "metadata": {
    "pycharm": {
     "name": "#%% md\n"
    }
   },
   "source": [
    "<h3>Предобработка датасета</h3>"
   ]
  },
  {
   "cell_type": "code",
   "execution_count": 89,
   "id": "4d9b11fa",
   "metadata": {
    "pycharm": {
     "name": "#%%\n"
    }
   },
   "outputs": [
    {
     "data": {
      "text/plain": "   id    FMX    FMY    FMZ    SMX    SMY    SMZ    TMX    TMY    TMZ\n0   1  0.689 -1.453  4.417  0.881 -1.544  4.547  0.718 -1.607  4.369\n1   1  0.687 -1.452  4.418  0.881 -1.544  4.547  0.715 -1.607  4.371\n2   1  0.687 -1.451  4.419  0.881 -1.544  4.545  0.714 -1.607  4.371\n3   1  0.685 -1.450  4.420  0.882 -1.544  4.541  0.711 -1.608  4.373\n4   1  0.684 -1.449  4.420  0.883 -1.544  4.540  0.709 -1.607  4.370",
      "text/html": "<div>\n<style scoped>\n    .dataframe tbody tr th:only-of-type {\n        vertical-align: middle;\n    }\n\n    .dataframe tbody tr th {\n        vertical-align: top;\n    }\n\n    .dataframe thead th {\n        text-align: right;\n    }\n</style>\n<table border=\"1\" class=\"dataframe\">\n  <thead>\n    <tr style=\"text-align: right;\">\n      <th></th>\n      <th>id</th>\n      <th>FMX</th>\n      <th>FMY</th>\n      <th>FMZ</th>\n      <th>SMX</th>\n      <th>SMY</th>\n      <th>SMZ</th>\n      <th>TMX</th>\n      <th>TMY</th>\n      <th>TMZ</th>\n    </tr>\n  </thead>\n  <tbody>\n    <tr>\n      <th>0</th>\n      <td>1</td>\n      <td>0.689</td>\n      <td>-1.453</td>\n      <td>4.417</td>\n      <td>0.881</td>\n      <td>-1.544</td>\n      <td>4.547</td>\n      <td>0.718</td>\n      <td>-1.607</td>\n      <td>4.369</td>\n    </tr>\n    <tr>\n      <th>1</th>\n      <td>1</td>\n      <td>0.687</td>\n      <td>-1.452</td>\n      <td>4.418</td>\n      <td>0.881</td>\n      <td>-1.544</td>\n      <td>4.547</td>\n      <td>0.715</td>\n      <td>-1.607</td>\n      <td>4.371</td>\n    </tr>\n    <tr>\n      <th>2</th>\n      <td>1</td>\n      <td>0.687</td>\n      <td>-1.451</td>\n      <td>4.419</td>\n      <td>0.881</td>\n      <td>-1.544</td>\n      <td>4.545</td>\n      <td>0.714</td>\n      <td>-1.607</td>\n      <td>4.371</td>\n    </tr>\n    <tr>\n      <th>3</th>\n      <td>1</td>\n      <td>0.685</td>\n      <td>-1.450</td>\n      <td>4.420</td>\n      <td>0.882</td>\n      <td>-1.544</td>\n      <td>4.541</td>\n      <td>0.711</td>\n      <td>-1.608</td>\n      <td>4.373</td>\n    </tr>\n    <tr>\n      <th>4</th>\n      <td>1</td>\n      <td>0.684</td>\n      <td>-1.449</td>\n      <td>4.420</td>\n      <td>0.883</td>\n      <td>-1.544</td>\n      <td>4.540</td>\n      <td>0.709</td>\n      <td>-1.607</td>\n      <td>4.370</td>\n    </tr>\n  </tbody>\n</table>\n</div>"
     },
     "execution_count": 89,
     "metadata": {},
     "output_type": "execute_result"
    }
   ],
   "source": [
    "#удаление лишних временных рядов\n",
    "X = X[X['id'] != 27]\n",
    "X = X[X['id'] != 24]\n",
    "X = X.reset_index(drop=True)\n",
    "X.head()"
   ]
  },
  {
   "cell_type": "code",
   "execution_count": 90,
   "id": "09e69142",
   "metadata": {
    "pycharm": {
     "name": "#%%\n"
    }
   },
   "outputs": [],
   "source": [
    "#приведение к одинаковому количеству точек для временных рядов\n",
    "numeric_cols = X.drop(columns=['id'])\n",
    "X2 = X.iloc[0:0]\n",
    "for i in range(1, 259):\n",
    "    if i in [24, 27]:\n",
    "        continue\n",
    "    X_id = X[X['id'] == i].reset_index(drop=True)\n",
    "    for col in numeric_cols:\n",
    "        X_id = X_id[:900]\n",
    "        X_id = X_id.reset_index(drop=True)\n",
    "    X2 = pd.concat([X2, X_id], axis=0, ignore_index=True)"
   ]
  },
  {
   "cell_type": "code",
   "execution_count": 91,
   "id": "4f3ee30f",
   "metadata": {
    "pycharm": {
     "name": "#%%\n"
    }
   },
   "outputs": [],
   "source": [
    "X = X2"
   ]
  },
  {
   "cell_type": "markdown",
   "id": "b17799a2",
   "metadata": {
    "pycharm": {
     "name": "#%% md\n"
    }
   },
   "source": [
    "<h3>Вычисление новых признаков</h3>"
   ]
  },
  {
   "cell_type": "code",
   "execution_count": 92,
   "id": "f16e7899",
   "metadata": {
    "pycharm": {
     "name": "#%%\n"
    }
   },
   "outputs": [],
   "source": [
    "#расчет новых преобразований\n",
    "X2 = X.iloc[0:0]\n",
    "for i in range(1, 259):\n",
    "    if i in [24, 27]:\n",
    "        continue\n",
    "    X_id = X[X['id'] == i].reset_index(drop=True)\n",
    "    for col in numeric_cols:\n",
    "        X_id[col+'_roll10_mean'] = X_id[col].rolling(10).mean()\n",
    "        X_id[col+'_roll10_median'] = X_id[col].rolling(10).median()\n",
    "        X_id[col+'_change10'] = X_id[col].diff(periods=10)\n",
    "        X_id[col+'_pct10'] = X_id[col].pct_change(periods=10)\n",
    "\n",
    "\n",
    "        X_id = X_id[10:]\n",
    "        X_id = X_id.reset_index(drop=True)\n",
    "    X2 =  pd.concat([X2, X_id], axis=0, ignore_index=True)"
   ]
  },
  {
   "cell_type": "code",
   "execution_count": 93,
   "id": "d81b071e",
   "metadata": {
    "pycharm": {
     "name": "#%%\n"
    }
   },
   "outputs": [],
   "source": [
    "X = X2"
   ]
  },
  {
   "cell_type": "markdown",
   "id": "5c7faaef",
   "metadata": {
    "pycharm": {
     "name": "#%% md\n"
    }
   },
   "source": [
    "<h3>Подготовка данных для библиотеки TSLearn</h3>"
   ]
  },
  {
   "cell_type": "code",
   "execution_count": 95,
   "id": "955a9d09",
   "metadata": {
    "pycharm": {
     "name": "#%%\n"
    }
   },
   "outputs": [],
   "source": [
    "#преобразование датасета для библиотеки sktime\n",
    "numeric_cols = X.drop(columns='id').columns\n",
    "X_3d = []\n",
    "for id in range(1, 259):\n",
    "    if id in [24, 27]:\n",
    "        continue\n",
    "    X_id = X[X['id'] == id]\n",
    "    instance_features = []\n",
    "    for col in numeric_cols:\n",
    "        lst = X_id[col].to_list()\n",
    "        instance_features.append(lst)\n",
    "    X_3d.append(instance_features)\n",
    "X_3d = np.array(X_3d)"
   ]
  },
  {
   "cell_type": "code",
   "execution_count": 96,
   "id": "f61b6144",
   "metadata": {
    "pycharm": {
     "name": "#%%\n"
    }
   },
   "outputs": [],
   "source": [
    "#преобразование датасета для библиотеки sktime\n",
    "y_3d = []\n",
    "for id in range(1, 259):\n",
    "    if id in [24, 27]:\n",
    "        continue\n",
    "    df_id = df[df['id'] == id]\n",
    "    y_3d.append(df_id['BreathingType'].iloc[0])\n",
    "y_3d = np.array(y_3d)"
   ]
  },
  {
   "cell_type": "code",
   "execution_count": 97,
   "id": "92405064",
   "metadata": {
    "pycharm": {
     "name": "#%%\n"
    }
   },
   "outputs": [],
   "source": [
    "from sklearn.metrics import recall_score, accuracy_score\n",
    "from sklearn.metrics import f1_score\n",
    "from sklearn.metrics import precision_score\n",
    "from sklearn.metrics import classification_report\n",
    "#расчет метрик по тесовой выборке\n",
    "def calculate_metrics(y_test, y_pred):\n",
    "    accuracy = accuracy_score(y_test, y_pred)\n",
    "    recall = recall_score(y_test, y_pred, average='weighted')\n",
    "    precision = precision_score(y_test, y_pred, average='weighted')\n",
    "    f1 = f1_score(y_test, y_pred, average='weighted')\n",
    "    print(\"Accuracy: \", accuracy)\n",
    "    print(\"Recall: \", recall)\n",
    "    print(\"Precision: \", precision)\n",
    "    print(\"F1-score: \", f1)\n",
    "    report = classification_report(y_test, y_pred)\n",
    "    print(report)"
   ]
  },
  {
   "cell_type": "code",
   "execution_count": 98,
   "id": "fa2498ba",
   "metadata": {
    "pycharm": {
     "name": "#%%\n"
    }
   },
   "outputs": [],
   "source": [
    "#разделение на обучающую(80%) и тестовую (20%) выборки\n",
    "X_train, X_test, y_train, y_test = train_test_split(X_3d, y_3d, test_size=0.3, random_state=42)"
   ]
  },
  {
   "cell_type": "markdown",
   "id": "25584a97",
   "metadata": {
    "pycharm": {
     "name": "#%% md\n"
    }
   },
   "source": [
    "<h3>Тестирование моделей классификации временных рядов</h3>"
   ]
  },
  {
   "cell_type": "markdown",
   "id": "b3f7d0b0",
   "metadata": {
    "pycharm": {
     "name": "#%% md\n"
    }
   },
   "source": [
    "<h4>KNeighbors Time Series Classifier </h4>"
   ]
  },
  {
   "cell_type": "code",
   "execution_count": 99,
   "id": "b8ea30a4",
   "metadata": {
    "pycharm": {
     "name": "#%%\n"
    }
   },
   "outputs": [],
   "source": [
    "from tslearn.neighbors import KNeighborsTimeSeriesClassifier"
   ]
  },
  {
   "cell_type": "code",
   "execution_count": 100,
   "id": "75cd167e",
   "metadata": {
    "pycharm": {
     "name": "#%%\n"
    }
   },
   "outputs": [],
   "source": [
    "knn = KNeighborsTimeSeriesClassifier(n_neighbors=2)"
   ]
  },
  {
   "cell_type": "code",
   "execution_count": 101,
   "id": "e5469084",
   "metadata": {
    "pycharm": {
     "name": "#%%\n"
    }
   },
   "outputs": [],
   "source": [
    "details = knn.fit(X_train, y_train)"
   ]
  },
  {
   "cell_type": "code",
   "execution_count": 102,
   "id": "9d902e9c",
   "metadata": {
    "pycharm": {
     "name": "#%%\n"
    }
   },
   "outputs": [
    {
     "name": "stdout",
     "output_type": "stream",
     "text": [
      "Accuracy:  0.19480519480519481\n",
      "Recall:  0.19480519480519481\n",
      "Precision:  0.12763706881353942\n",
      "F1-score:  0.15284271284271286\n",
      "              precision    recall  f1-score   support\n",
      "\n",
      "           0       0.24      0.40      0.30        30\n",
      "           1       0.12      0.12      0.12        24\n",
      "           2       0.00      0.00      0.00        23\n",
      "\n",
      "    accuracy                           0.19        77\n",
      "   macro avg       0.12      0.18      0.14        77\n",
      "weighted avg       0.13      0.19      0.15        77\n",
      "\n"
     ]
    },
    {
     "name": "stderr",
     "output_type": "stream",
     "text": [
      "C:\\Users\\admin\\PycharmProjects\\TimeSeriesLibraries\\venv\\lib\\site-packages\\sklearn\\metrics\\_classification.py:1344: UndefinedMetricWarning: Precision is ill-defined and being set to 0.0 in labels with no predicted samples. Use `zero_division` parameter to control this behavior.\n",
      "  _warn_prf(average, modifier, msg_start, len(result))\n",
      "C:\\Users\\admin\\PycharmProjects\\TimeSeriesLibraries\\venv\\lib\\site-packages\\sklearn\\metrics\\_classification.py:1344: UndefinedMetricWarning: Precision and F-score are ill-defined and being set to 0.0 in labels with no predicted samples. Use `zero_division` parameter to control this behavior.\n",
      "  _warn_prf(average, modifier, msg_start, len(result))\n",
      "C:\\Users\\admin\\PycharmProjects\\TimeSeriesLibraries\\venv\\lib\\site-packages\\sklearn\\metrics\\_classification.py:1344: UndefinedMetricWarning: Precision and F-score are ill-defined and being set to 0.0 in labels with no predicted samples. Use `zero_division` parameter to control this behavior.\n",
      "  _warn_prf(average, modifier, msg_start, len(result))\n",
      "C:\\Users\\admin\\PycharmProjects\\TimeSeriesLibraries\\venv\\lib\\site-packages\\sklearn\\metrics\\_classification.py:1344: UndefinedMetricWarning: Precision and F-score are ill-defined and being set to 0.0 in labels with no predicted samples. Use `zero_division` parameter to control this behavior.\n",
      "  _warn_prf(average, modifier, msg_start, len(result))\n"
     ]
    }
   ],
   "source": [
    "y_pred = knn.predict(X_test)\n",
    "calculate_metrics(y_test, y_pred)"
   ]
  },
  {
   "cell_type": "markdown",
   "id": "97eb5042",
   "metadata": {
    "pycharm": {
     "name": "#%% md\n"
    }
   },
   "source": [
    "<h3>Time Series SVC</h3>"
   ]
  },
  {
   "cell_type": "code",
   "execution_count": 103,
   "id": "4efb7216",
   "metadata": {
    "pycharm": {
     "name": "#%%\n"
    }
   },
   "outputs": [],
   "source": [
    "from tslearn.svm import TimeSeriesSVC\n",
    "\n",
    "clf = TimeSeriesSVC(C=1.0, kernel=\"gak\")"
   ]
  },
  {
   "cell_type": "code",
   "execution_count": 104,
   "id": "660ae589",
   "metadata": {
    "pycharm": {
     "name": "#%%\n"
    }
   },
   "outputs": [],
   "source": [
    "details = clf.fit(X_train, y_train)"
   ]
  },
  {
   "cell_type": "code",
   "execution_count": 105,
   "id": "3e477e5c",
   "metadata": {
    "pycharm": {
     "name": "#%%\n"
    }
   },
   "outputs": [
    {
     "name": "stdout",
     "output_type": "stream",
     "text": [
      "Accuracy:  0.3116883116883117\n",
      "Recall:  0.3116883116883117\n",
      "Precision:  0.09714960364311014\n",
      "F1-score:  0.1481290986241481\n",
      "              precision    recall  f1-score   support\n",
      "\n",
      "           0       0.00      0.00      0.00        30\n",
      "           1       0.31      1.00      0.48        24\n",
      "           2       0.00      0.00      0.00        23\n",
      "\n",
      "    accuracy                           0.31        77\n",
      "   macro avg       0.10      0.33      0.16        77\n",
      "weighted avg       0.10      0.31      0.15        77\n",
      "\n"
     ]
    },
    {
     "name": "stderr",
     "output_type": "stream",
     "text": [
      "C:\\Users\\admin\\PycharmProjects\\TimeSeriesLibraries\\venv\\lib\\site-packages\\sklearn\\metrics\\_classification.py:1344: UndefinedMetricWarning: Precision is ill-defined and being set to 0.0 in labels with no predicted samples. Use `zero_division` parameter to control this behavior.\n",
      "  _warn_prf(average, modifier, msg_start, len(result))\n",
      "C:\\Users\\admin\\PycharmProjects\\TimeSeriesLibraries\\venv\\lib\\site-packages\\sklearn\\metrics\\_classification.py:1344: UndefinedMetricWarning: Precision and F-score are ill-defined and being set to 0.0 in labels with no predicted samples. Use `zero_division` parameter to control this behavior.\n",
      "  _warn_prf(average, modifier, msg_start, len(result))\n",
      "C:\\Users\\admin\\PycharmProjects\\TimeSeriesLibraries\\venv\\lib\\site-packages\\sklearn\\metrics\\_classification.py:1344: UndefinedMetricWarning: Precision and F-score are ill-defined and being set to 0.0 in labels with no predicted samples. Use `zero_division` parameter to control this behavior.\n",
      "  _warn_prf(average, modifier, msg_start, len(result))\n",
      "C:\\Users\\admin\\PycharmProjects\\TimeSeriesLibraries\\venv\\lib\\site-packages\\sklearn\\metrics\\_classification.py:1344: UndefinedMetricWarning: Precision and F-score are ill-defined and being set to 0.0 in labels with no predicted samples. Use `zero_division` parameter to control this behavior.\n",
      "  _warn_prf(average, modifier, msg_start, len(result))\n"
     ]
    }
   ],
   "source": [
    "y_pred = clf.predict(X_test)\n",
    "calculate_metrics(y_test, y_pred)"
   ]
  },
  {
   "cell_type": "markdown",
   "source": [
    "<h3>Early Time Series Classification</h3>"
   ],
   "metadata": {
    "collapsed": false,
    "pycharm": {
     "name": "#%% md\n"
    }
   }
  },
  {
   "cell_type": "code",
   "execution_count": 106,
   "outputs": [],
   "source": [
    "from tslearn.early_classification import NonMyopicEarlyClassifier\n",
    "\n",
    "model = NonMyopicEarlyClassifier(n_clusters=3, lamb=1000, cost_time_parameter=.1, random_state=42)"
   ],
   "metadata": {
    "collapsed": false,
    "pycharm": {
     "name": "#%%\n"
    }
   }
  },
  {
   "cell_type": "code",
   "execution_count": null,
   "outputs": [],
   "source": [
    "model.fit(X_train, y_train)"
   ],
   "metadata": {
    "collapsed": false,
    "pycharm": {
     "name": "#%%\n",
     "is_executing": true
    }
   }
  },
  {
   "cell_type": "code",
   "execution_count": 108,
   "outputs": [
    {
     "name": "stderr",
     "output_type": "stream",
     "text": [
      "C:\\Users\\admin\\PycharmProjects\\TimeSeriesLibraries\\venv\\lib\\site-packages\\tslearn\\early_classification\\early_classification.py:282: RuntimeWarning: overflow encountered in exp\n",
      "  s_k = 1. / (1. + np.exp(-self.lamb * delta_k))\n",
      "C:\\Users\\admin\\PycharmProjects\\TimeSeriesLibraries\\venv\\lib\\site-packages\\tslearn\\early_classification\\early_classification.py:282: RuntimeWarning: overflow encountered in exp\n",
      "  s_k = 1. / (1. + np.exp(-self.lamb * delta_k))\n",
      "C:\\Users\\admin\\PycharmProjects\\TimeSeriesLibraries\\venv\\lib\\site-packages\\tslearn\\early_classification\\early_classification.py:282: RuntimeWarning: overflow encountered in exp\n",
      "  s_k = 1. / (1. + np.exp(-self.lamb * delta_k))\n",
      "C:\\Users\\admin\\PycharmProjects\\TimeSeriesLibraries\\venv\\lib\\site-packages\\tslearn\\early_classification\\early_classification.py:282: RuntimeWarning: overflow encountered in exp\n",
      "  s_k = 1. / (1. + np.exp(-self.lamb * delta_k))\n",
      "C:\\Users\\admin\\PycharmProjects\\TimeSeriesLibraries\\venv\\lib\\site-packages\\tslearn\\early_classification\\early_classification.py:282: RuntimeWarning: overflow encountered in exp\n",
      "  s_k = 1. / (1. + np.exp(-self.lamb * delta_k))\n",
      "C:\\Users\\admin\\PycharmProjects\\TimeSeriesLibraries\\venv\\lib\\site-packages\\tslearn\\early_classification\\early_classification.py:282: RuntimeWarning: overflow encountered in exp\n",
      "  s_k = 1. / (1. + np.exp(-self.lamb * delta_k))\n",
      "C:\\Users\\admin\\PycharmProjects\\TimeSeriesLibraries\\venv\\lib\\site-packages\\tslearn\\early_classification\\early_classification.py:282: RuntimeWarning: overflow encountered in exp\n",
      "  s_k = 1. / (1. + np.exp(-self.lamb * delta_k))\n",
      "C:\\Users\\admin\\PycharmProjects\\TimeSeriesLibraries\\venv\\lib\\site-packages\\tslearn\\early_classification\\early_classification.py:282: RuntimeWarning: overflow encountered in exp\n",
      "  s_k = 1. / (1. + np.exp(-self.lamb * delta_k))\n",
      "C:\\Users\\admin\\PycharmProjects\\TimeSeriesLibraries\\venv\\lib\\site-packages\\tslearn\\early_classification\\early_classification.py:282: RuntimeWarning: overflow encountered in exp\n",
      "  s_k = 1. / (1. + np.exp(-self.lamb * delta_k))\n",
      "C:\\Users\\admin\\PycharmProjects\\TimeSeriesLibraries\\venv\\lib\\site-packages\\tslearn\\early_classification\\early_classification.py:282: RuntimeWarning: overflow encountered in exp\n",
      "  s_k = 1. / (1. + np.exp(-self.lamb * delta_k))\n",
      "C:\\Users\\admin\\PycharmProjects\\TimeSeriesLibraries\\venv\\lib\\site-packages\\tslearn\\early_classification\\early_classification.py:282: RuntimeWarning: overflow encountered in exp\n",
      "  s_k = 1. / (1. + np.exp(-self.lamb * delta_k))\n",
      "C:\\Users\\admin\\PycharmProjects\\TimeSeriesLibraries\\venv\\lib\\site-packages\\tslearn\\early_classification\\early_classification.py:282: RuntimeWarning: overflow encountered in exp\n",
      "  s_k = 1. / (1. + np.exp(-self.lamb * delta_k))\n",
      "C:\\Users\\admin\\PycharmProjects\\TimeSeriesLibraries\\venv\\lib\\site-packages\\tslearn\\early_classification\\early_classification.py:282: RuntimeWarning: overflow encountered in exp\n",
      "  s_k = 1. / (1. + np.exp(-self.lamb * delta_k))\n",
      "C:\\Users\\admin\\PycharmProjects\\TimeSeriesLibraries\\venv\\lib\\site-packages\\tslearn\\early_classification\\early_classification.py:282: RuntimeWarning: overflow encountered in exp\n",
      "  s_k = 1. / (1. + np.exp(-self.lamb * delta_k))\n",
      "C:\\Users\\admin\\PycharmProjects\\TimeSeriesLibraries\\venv\\lib\\site-packages\\tslearn\\early_classification\\early_classification.py:282: RuntimeWarning: overflow encountered in exp\n",
      "  s_k = 1. / (1. + np.exp(-self.lamb * delta_k))\n",
      "C:\\Users\\admin\\PycharmProjects\\TimeSeriesLibraries\\venv\\lib\\site-packages\\tslearn\\early_classification\\early_classification.py:282: RuntimeWarning: overflow encountered in exp\n",
      "  s_k = 1. / (1. + np.exp(-self.lamb * delta_k))\n",
      "C:\\Users\\admin\\PycharmProjects\\TimeSeriesLibraries\\venv\\lib\\site-packages\\tslearn\\early_classification\\early_classification.py:282: RuntimeWarning: overflow encountered in exp\n",
      "  s_k = 1. / (1. + np.exp(-self.lamb * delta_k))\n",
      "C:\\Users\\admin\\PycharmProjects\\TimeSeriesLibraries\\venv\\lib\\site-packages\\tslearn\\early_classification\\early_classification.py:282: RuntimeWarning: overflow encountered in exp\n",
      "  s_k = 1. / (1. + np.exp(-self.lamb * delta_k))\n",
      "C:\\Users\\admin\\PycharmProjects\\TimeSeriesLibraries\\venv\\lib\\site-packages\\tslearn\\early_classification\\early_classification.py:282: RuntimeWarning: overflow encountered in exp\n",
      "  s_k = 1. / (1. + np.exp(-self.lamb * delta_k))\n",
      "C:\\Users\\admin\\PycharmProjects\\TimeSeriesLibraries\\venv\\lib\\site-packages\\tslearn\\early_classification\\early_classification.py:282: RuntimeWarning: overflow encountered in exp\n",
      "  s_k = 1. / (1. + np.exp(-self.lamb * delta_k))\n",
      "C:\\Users\\admin\\PycharmProjects\\TimeSeriesLibraries\\venv\\lib\\site-packages\\tslearn\\early_classification\\early_classification.py:282: RuntimeWarning: overflow encountered in exp\n",
      "  s_k = 1. / (1. + np.exp(-self.lamb * delta_k))\n",
      "C:\\Users\\admin\\PycharmProjects\\TimeSeriesLibraries\\venv\\lib\\site-packages\\tslearn\\early_classification\\early_classification.py:282: RuntimeWarning: overflow encountered in exp\n",
      "  s_k = 1. / (1. + np.exp(-self.lamb * delta_k))\n",
      "C:\\Users\\admin\\PycharmProjects\\TimeSeriesLibraries\\venv\\lib\\site-packages\\tslearn\\early_classification\\early_classification.py:282: RuntimeWarning: overflow encountered in exp\n",
      "  s_k = 1. / (1. + np.exp(-self.lamb * delta_k))\n",
      "C:\\Users\\admin\\PycharmProjects\\TimeSeriesLibraries\\venv\\lib\\site-packages\\tslearn\\early_classification\\early_classification.py:282: RuntimeWarning: overflow encountered in exp\n",
      "  s_k = 1. / (1. + np.exp(-self.lamb * delta_k))\n",
      "C:\\Users\\admin\\PycharmProjects\\TimeSeriesLibraries\\venv\\lib\\site-packages\\tslearn\\early_classification\\early_classification.py:282: RuntimeWarning: overflow encountered in exp\n",
      "  s_k = 1. / (1. + np.exp(-self.lamb * delta_k))\n",
      "C:\\Users\\admin\\PycharmProjects\\TimeSeriesLibraries\\venv\\lib\\site-packages\\tslearn\\early_classification\\early_classification.py:282: RuntimeWarning: overflow encountered in exp\n",
      "  s_k = 1. / (1. + np.exp(-self.lamb * delta_k))\n",
      "C:\\Users\\admin\\PycharmProjects\\TimeSeriesLibraries\\venv\\lib\\site-packages\\tslearn\\early_classification\\early_classification.py:282: RuntimeWarning: overflow encountered in exp\n",
      "  s_k = 1. / (1. + np.exp(-self.lamb * delta_k))\n",
      "C:\\Users\\admin\\PycharmProjects\\TimeSeriesLibraries\\venv\\lib\\site-packages\\tslearn\\early_classification\\early_classification.py:282: RuntimeWarning: overflow encountered in exp\n",
      "  s_k = 1. / (1. + np.exp(-self.lamb * delta_k))\n",
      "C:\\Users\\admin\\PycharmProjects\\TimeSeriesLibraries\\venv\\lib\\site-packages\\tslearn\\early_classification\\early_classification.py:282: RuntimeWarning: overflow encountered in exp\n",
      "  s_k = 1. / (1. + np.exp(-self.lamb * delta_k))\n",
      "C:\\Users\\admin\\PycharmProjects\\TimeSeriesLibraries\\venv\\lib\\site-packages\\tslearn\\early_classification\\early_classification.py:282: RuntimeWarning: overflow encountered in exp\n",
      "  s_k = 1. / (1. + np.exp(-self.lamb * delta_k))\n",
      "C:\\Users\\admin\\PycharmProjects\\TimeSeriesLibraries\\venv\\lib\\site-packages\\tslearn\\early_classification\\early_classification.py:282: RuntimeWarning: overflow encountered in exp\n",
      "  s_k = 1. / (1. + np.exp(-self.lamb * delta_k))\n",
      "C:\\Users\\admin\\PycharmProjects\\TimeSeriesLibraries\\venv\\lib\\site-packages\\tslearn\\early_classification\\early_classification.py:282: RuntimeWarning: overflow encountered in exp\n",
      "  s_k = 1. / (1. + np.exp(-self.lamb * delta_k))\n",
      "C:\\Users\\admin\\PycharmProjects\\TimeSeriesLibraries\\venv\\lib\\site-packages\\tslearn\\early_classification\\early_classification.py:282: RuntimeWarning: overflow encountered in exp\n",
      "  s_k = 1. / (1. + np.exp(-self.lamb * delta_k))\n",
      "C:\\Users\\admin\\PycharmProjects\\TimeSeriesLibraries\\venv\\lib\\site-packages\\tslearn\\early_classification\\early_classification.py:282: RuntimeWarning: overflow encountered in exp\n",
      "  s_k = 1. / (1. + np.exp(-self.lamb * delta_k))\n",
      "C:\\Users\\admin\\PycharmProjects\\TimeSeriesLibraries\\venv\\lib\\site-packages\\tslearn\\early_classification\\early_classification.py:282: RuntimeWarning: overflow encountered in exp\n",
      "  s_k = 1. / (1. + np.exp(-self.lamb * delta_k))\n",
      "C:\\Users\\admin\\PycharmProjects\\TimeSeriesLibraries\\venv\\lib\\site-packages\\tslearn\\early_classification\\early_classification.py:282: RuntimeWarning: overflow encountered in exp\n",
      "  s_k = 1. / (1. + np.exp(-self.lamb * delta_k))\n",
      "C:\\Users\\admin\\PycharmProjects\\TimeSeriesLibraries\\venv\\lib\\site-packages\\tslearn\\early_classification\\early_classification.py:282: RuntimeWarning: overflow encountered in exp\n",
      "  s_k = 1. / (1. + np.exp(-self.lamb * delta_k))\n",
      "C:\\Users\\admin\\PycharmProjects\\TimeSeriesLibraries\\venv\\lib\\site-packages\\tslearn\\early_classification\\early_classification.py:282: RuntimeWarning: overflow encountered in exp\n",
      "  s_k = 1. / (1. + np.exp(-self.lamb * delta_k))\n",
      "C:\\Users\\admin\\PycharmProjects\\TimeSeriesLibraries\\venv\\lib\\site-packages\\tslearn\\early_classification\\early_classification.py:282: RuntimeWarning: overflow encountered in exp\n",
      "  s_k = 1. / (1. + np.exp(-self.lamb * delta_k))\n",
      "C:\\Users\\admin\\PycharmProjects\\TimeSeriesLibraries\\venv\\lib\\site-packages\\tslearn\\early_classification\\early_classification.py:282: RuntimeWarning: overflow encountered in exp\n",
      "  s_k = 1. / (1. + np.exp(-self.lamb * delta_k))\n",
      "C:\\Users\\admin\\PycharmProjects\\TimeSeriesLibraries\\venv\\lib\\site-packages\\tslearn\\early_classification\\early_classification.py:282: RuntimeWarning: overflow encountered in exp\n",
      "  s_k = 1. / (1. + np.exp(-self.lamb * delta_k))\n",
      "C:\\Users\\admin\\PycharmProjects\\TimeSeriesLibraries\\venv\\lib\\site-packages\\tslearn\\early_classification\\early_classification.py:282: RuntimeWarning: overflow encountered in exp\n",
      "  s_k = 1. / (1. + np.exp(-self.lamb * delta_k))\n",
      "C:\\Users\\admin\\PycharmProjects\\TimeSeriesLibraries\\venv\\lib\\site-packages\\tslearn\\early_classification\\early_classification.py:282: RuntimeWarning: overflow encountered in exp\n",
      "  s_k = 1. / (1. + np.exp(-self.lamb * delta_k))\n",
      "C:\\Users\\admin\\PycharmProjects\\TimeSeriesLibraries\\venv\\lib\\site-packages\\tslearn\\early_classification\\early_classification.py:282: RuntimeWarning: overflow encountered in exp\n",
      "  s_k = 1. / (1. + np.exp(-self.lamb * delta_k))\n",
      "C:\\Users\\admin\\PycharmProjects\\TimeSeriesLibraries\\venv\\lib\\site-packages\\tslearn\\early_classification\\early_classification.py:282: RuntimeWarning: overflow encountered in exp\n",
      "  s_k = 1. / (1. + np.exp(-self.lamb * delta_k))\n",
      "C:\\Users\\admin\\PycharmProjects\\TimeSeriesLibraries\\venv\\lib\\site-packages\\tslearn\\early_classification\\early_classification.py:282: RuntimeWarning: overflow encountered in exp\n",
      "  s_k = 1. / (1. + np.exp(-self.lamb * delta_k))\n",
      "C:\\Users\\admin\\PycharmProjects\\TimeSeriesLibraries\\venv\\lib\\site-packages\\tslearn\\early_classification\\early_classification.py:282: RuntimeWarning: overflow encountered in exp\n",
      "  s_k = 1. / (1. + np.exp(-self.lamb * delta_k))\n",
      "C:\\Users\\admin\\PycharmProjects\\TimeSeriesLibraries\\venv\\lib\\site-packages\\tslearn\\early_classification\\early_classification.py:282: RuntimeWarning: overflow encountered in exp\n",
      "  s_k = 1. / (1. + np.exp(-self.lamb * delta_k))\n",
      "C:\\Users\\admin\\PycharmProjects\\TimeSeriesLibraries\\venv\\lib\\site-packages\\tslearn\\early_classification\\early_classification.py:282: RuntimeWarning: overflow encountered in exp\n",
      "  s_k = 1. / (1. + np.exp(-self.lamb * delta_k))\n",
      "C:\\Users\\admin\\PycharmProjects\\TimeSeriesLibraries\\venv\\lib\\site-packages\\tslearn\\early_classification\\early_classification.py:282: RuntimeWarning: overflow encountered in exp\n",
      "  s_k = 1. / (1. + np.exp(-self.lamb * delta_k))\n",
      "C:\\Users\\admin\\PycharmProjects\\TimeSeriesLibraries\\venv\\lib\\site-packages\\tslearn\\early_classification\\early_classification.py:282: RuntimeWarning: overflow encountered in exp\n",
      "  s_k = 1. / (1. + np.exp(-self.lamb * delta_k))\n",
      "C:\\Users\\admin\\PycharmProjects\\TimeSeriesLibraries\\venv\\lib\\site-packages\\tslearn\\early_classification\\early_classification.py:282: RuntimeWarning: overflow encountered in exp\n",
      "  s_k = 1. / (1. + np.exp(-self.lamb * delta_k))\n",
      "C:\\Users\\admin\\PycharmProjects\\TimeSeriesLibraries\\venv\\lib\\site-packages\\tslearn\\early_classification\\early_classification.py:282: RuntimeWarning: overflow encountered in exp\n",
      "  s_k = 1. / (1. + np.exp(-self.lamb * delta_k))\n"
     ]
    }
   ],
   "source": [
    "preds, pred_times = model.predict_class_and_earliness(X_test)"
   ],
   "metadata": {
    "collapsed": false,
    "pycharm": {
     "name": "#%%\n"
    }
   }
  },
  {
   "cell_type": "code",
   "execution_count": 109,
   "outputs": [
    {
     "name": "stdout",
     "output_type": "stream",
     "text": [
      "Accuracy:  0.2077922077922078\n",
      "Recall:  0.2077922077922078\n",
      "Precision:  0.19041252864782277\n",
      "F1-score:  0.19772584824243075\n",
      "              precision    recall  f1-score   support\n",
      "\n",
      "           0       0.25      0.30      0.27        30\n",
      "           1       0.06      0.04      0.05        24\n",
      "           2       0.25      0.26      0.26        23\n",
      "\n",
      "    accuracy                           0.21        77\n",
      "   macro avg       0.19      0.20      0.19        77\n",
      "weighted avg       0.19      0.21      0.20        77\n",
      "\n"
     ]
    }
   ],
   "source": [
    "calculate_metrics(y_test, preds)"
   ],
   "metadata": {
    "collapsed": false,
    "pycharm": {
     "name": "#%%\n"
    }
   }
  },
  {
   "cell_type": "markdown",
   "id": "b1048dd7",
   "metadata": {
    "pycharm": {
     "name": "#%% md\n"
    }
   },
   "source": [
    "<h3>MultiLayer Perceptron Classifier</h3>"
   ]
  },
  {
   "cell_type": "code",
   "execution_count": 110,
   "outputs": [],
   "source": [
    "from tslearn.neural_network import TimeSeriesMLPClassifier\n",
    "\n",
    "mlp = TimeSeriesMLPClassifier(hidden_layer_sizes=(64, 64), random_state=42, verbose=True, early_stopping=False, n_iter_no_change=100)"
   ],
   "metadata": {
    "collapsed": false,
    "pycharm": {
     "name": "#%%\n"
    }
   }
  },
  {
   "cell_type": "code",
   "execution_count": 111,
   "outputs": [
    {
     "name": "stdout",
     "output_type": "stream",
     "text": [
      "Iteration 1, loss = 1.24672001\n",
      "Iteration 2, loss = 23.48228037\n",
      "Iteration 3, loss = 17.19694870\n",
      "Iteration 4, loss = 11.71803646\n",
      "Iteration 5, loss = 5.56302885\n",
      "Iteration 6, loss = 7.37327664\n",
      "Iteration 7, loss = 13.24263985\n",
      "Iteration 8, loss = 5.28592851\n",
      "Iteration 9, loss = 4.22347315\n",
      "Iteration 10, loss = 6.65139356\n",
      "Iteration 11, loss = 7.98064955\n",
      "Iteration 12, loss = 5.17962726\n",
      "Iteration 13, loss = 5.46473835\n",
      "Iteration 14, loss = 2.92875747\n",
      "Iteration 15, loss = 7.85832013\n",
      "Iteration 16, loss = 8.12258142\n",
      "Iteration 17, loss = 4.40353090\n",
      "Iteration 18, loss = 4.13761785\n",
      "Iteration 19, loss = 3.91435002\n",
      "Iteration 20, loss = 6.87490071\n",
      "Iteration 21, loss = 7.59856035\n",
      "Iteration 22, loss = 4.80299044\n",
      "Iteration 23, loss = 4.75744973\n",
      "Iteration 24, loss = 4.41075137\n",
      "Iteration 25, loss = 4.21496917\n",
      "Iteration 26, loss = 5.14553904\n",
      "Iteration 27, loss = 3.05294739\n",
      "Iteration 28, loss = 2.15022642\n",
      "Iteration 29, loss = 3.01232484\n",
      "Iteration 30, loss = 3.31188007\n",
      "Iteration 31, loss = 3.58396416\n",
      "Iteration 32, loss = 2.25739226\n",
      "Iteration 33, loss = 1.79726164\n",
      "Iteration 34, loss = 2.30541153\n",
      "Iteration 35, loss = 2.84680356\n",
      "Iteration 36, loss = 1.46041203\n",
      "Iteration 37, loss = 1.58429698\n",
      "Iteration 38, loss = 2.24847636\n",
      "Iteration 39, loss = 2.29542427\n",
      "Iteration 40, loss = 1.53612054\n",
      "Iteration 41, loss = 1.25311007\n",
      "Iteration 42, loss = 2.07974124\n",
      "Iteration 43, loss = 1.64264639\n",
      "Iteration 44, loss = 1.17827668\n",
      "Iteration 45, loss = 1.67891088\n",
      "Iteration 46, loss = 1.79649937\n",
      "Iteration 47, loss = 1.43106316\n",
      "Iteration 48, loss = 1.04757901\n",
      "Iteration 49, loss = 1.63635324\n",
      "Iteration 50, loss = 1.28151147\n",
      "Iteration 51, loss = 1.24818498\n",
      "Iteration 52, loss = 1.41520525\n",
      "Iteration 53, loss = 1.37997055\n",
      "Iteration 54, loss = 1.05828364\n",
      "Iteration 55, loss = 1.30445038\n",
      "Iteration 56, loss = 1.27106731\n",
      "Iteration 57, loss = 1.04965518\n",
      "Iteration 58, loss = 1.24767007\n",
      "Iteration 59, loss = 1.18787057\n",
      "Iteration 60, loss = 1.06028791\n",
      "Iteration 61, loss = 1.19472964\n",
      "Iteration 62, loss = 1.11674780\n",
      "Iteration 63, loss = 1.03705633\n",
      "Iteration 64, loss = 1.16712191\n",
      "Iteration 65, loss = 1.07975699\n",
      "Iteration 66, loss = 1.02066519\n",
      "Iteration 67, loss = 1.13244370\n",
      "Iteration 68, loss = 1.02166415\n",
      "Iteration 69, loss = 1.04588804\n",
      "Iteration 70, loss = 1.08625719\n",
      "Iteration 71, loss = 1.00126748\n",
      "Iteration 72, loss = 1.05181911\n",
      "Iteration 73, loss = 1.04174826\n",
      "Iteration 74, loss = 0.99849241\n",
      "Iteration 75, loss = 1.04812660\n",
      "Iteration 76, loss = 1.00982516\n",
      "Iteration 77, loss = 1.00474036\n",
      "Iteration 78, loss = 1.03038353\n",
      "Iteration 79, loss = 0.98961998\n",
      "Iteration 80, loss = 1.01367426\n",
      "Iteration 81, loss = 1.00596773\n",
      "Iteration 82, loss = 0.98801523\n",
      "Iteration 83, loss = 1.00944774\n",
      "Iteration 84, loss = 0.98754935\n",
      "Iteration 85, loss = 0.99311667\n",
      "Iteration 86, loss = 0.99570216\n",
      "Iteration 87, loss = 0.98071746\n",
      "Iteration 88, loss = 0.99325332\n",
      "Iteration 89, loss = 0.98079370\n",
      "Iteration 90, loss = 0.98233900\n",
      "Iteration 91, loss = 0.98452132\n",
      "Iteration 92, loss = 0.97454173\n",
      "Iteration 93, loss = 0.98196975\n",
      "Iteration 94, loss = 0.97384915\n",
      "Iteration 95, loss = 0.97463766\n",
      "Iteration 96, loss = 0.97519962\n",
      "Iteration 97, loss = 0.96890150\n",
      "Iteration 98, loss = 0.97290735\n",
      "Iteration 99, loss = 0.96731700\n",
      "Iteration 100, loss = 0.96797576\n",
      "Iteration 101, loss = 0.96687937\n",
      "Iteration 102, loss = 0.96354664\n",
      "Iteration 103, loss = 0.96519480\n",
      "Iteration 104, loss = 0.96098507\n",
      "Iteration 105, loss = 0.96185057\n",
      "Iteration 106, loss = 0.95972373\n",
      "Iteration 107, loss = 0.95818199\n",
      "Iteration 108, loss = 0.95812021\n",
      "Iteration 109, loss = 0.95536024\n",
      "Iteration 110, loss = 0.95572735\n",
      "Iteration 111, loss = 0.95328357\n",
      "Iteration 112, loss = 0.95282812\n",
      "Iteration 113, loss = 0.95152173\n",
      "Iteration 114, loss = 0.95000106\n",
      "Iteration 115, loss = 0.94953459\n",
      "Iteration 116, loss = 0.94755708\n",
      "Iteration 117, loss = 0.94721641\n",
      "Iteration 118, loss = 0.94543605\n",
      "Iteration 119, loss = 0.94468894\n",
      "Iteration 120, loss = 0.94344488\n",
      "Iteration 121, loss = 0.94219530\n",
      "Iteration 122, loss = 0.94136431\n",
      "Iteration 123, loss = 0.93986560\n",
      "Iteration 124, loss = 0.93914979\n",
      "Iteration 125, loss = 0.93768937\n",
      "Iteration 126, loss = 0.93684625\n",
      "Iteration 127, loss = 0.93557256\n",
      "Iteration 128, loss = 0.93454213\n",
      "Iteration 129, loss = 0.93345436\n",
      "Iteration 130, loss = 0.93227457\n",
      "Iteration 131, loss = 0.93130318\n",
      "Iteration 132, loss = 0.93005883\n",
      "Iteration 133, loss = 0.92912305\n",
      "Iteration 134, loss = 0.92788579\n",
      "Iteration 135, loss = 0.92691908\n",
      "Iteration 136, loss = 0.92574220\n",
      "Iteration 137, loss = 0.92471317\n",
      "Iteration 138, loss = 0.92360400\n",
      "Iteration 139, loss = 0.92252143\n",
      "Iteration 140, loss = 0.92145877\n",
      "Iteration 141, loss = 0.92034639\n",
      "Iteration 142, loss = 0.91931091\n",
      "Iteration 143, loss = 0.91818408\n",
      "Iteration 144, loss = 0.91715900\n",
      "Iteration 145, loss = 0.91603633\n",
      "Iteration 146, loss = 0.91500484\n",
      "Iteration 147, loss = 0.91389724\n",
      "Iteration 148, loss = 0.91285461\n",
      "Iteration 149, loss = 0.91176128\n",
      "Iteration 150, loss = 0.91070899\n",
      "Iteration 151, loss = 0.90963002\n",
      "Iteration 152, loss = 0.90856788\n",
      "Iteration 153, loss = 0.90750103\n",
      "Iteration 154, loss = 0.90643359\n",
      "Iteration 155, loss = 0.90537364\n",
      "Iteration 156, loss = 0.90430427\n",
      "Iteration 157, loss = 0.90324952\n",
      "Iteration 158, loss = 0.90217937\n",
      "Iteration 159, loss = 0.90112742\n",
      "Iteration 160, loss = 0.90005922\n",
      "Iteration 161, loss = 0.89900833\n",
      "Iteration 162, loss = 0.89794236\n",
      "Iteration 163, loss = 0.89689263\n",
      "Iteration 164, loss = 0.89582930\n",
      "Iteration 165, loss = 0.89477971\n",
      "Iteration 166, loss = 0.89371936\n",
      "Iteration 167, loss = 0.89267030\n",
      "Iteration 168, loss = 0.89161234\n",
      "Iteration 169, loss = 0.89056373\n",
      "Iteration 170, loss = 0.88950840\n",
      "Iteration 171, loss = 0.88846035\n",
      "Iteration 172, loss = 0.88740706\n",
      "Iteration 173, loss = 0.88635986\n",
      "Iteration 174, loss = 0.88530867\n",
      "Iteration 175, loss = 0.88426225\n",
      "Iteration 176, loss = 0.88321280\n",
      "Iteration 177, loss = 0.88216742\n",
      "Iteration 178, loss = 0.88111967\n",
      "Iteration 179, loss = 0.88007521\n",
      "Iteration 180, loss = 0.87902897\n",
      "Iteration 181, loss = 0.87798563\n",
      "Iteration 182, loss = 0.87694085\n",
      "Iteration 183, loss = 0.87589851\n",
      "Iteration 184, loss = 0.87485507\n",
      "Iteration 185, loss = 0.87381383\n",
      "Iteration 186, loss = 0.87277170\n",
      "Iteration 187, loss = 0.87173146\n",
      "Iteration 188, loss = 0.87069057\n",
      "Iteration 189, loss = 0.86965140\n",
      "Iteration 190, loss = 0.86861177\n",
      "Iteration 191, loss = 0.86757359\n",
      "Iteration 192, loss = 0.86653511\n",
      "Iteration 193, loss = 0.86549790\n",
      "Iteration 194, loss = 0.86446057\n",
      "Iteration 195, loss = 0.86342429\n",
      "Iteration 196, loss = 0.86238801\n",
      "Iteration 197, loss = 0.86135262\n",
      "Iteration 198, loss = 0.86031739\n",
      "Iteration 199, loss = 0.85928288\n",
      "Iteration 200, loss = 0.85824863\n"
     ]
    },
    {
     "name": "stderr",
     "output_type": "stream",
     "text": [
      "C:\\Users\\admin\\PycharmProjects\\TimeSeriesLibraries\\venv\\lib\\site-packages\\sklearn\\neural_network\\_multilayer_perceptron.py:686: ConvergenceWarning: Stochastic Optimizer: Maximum iterations (200) reached and the optimization hasn't converged yet.\n",
      "  warnings.warn(\n"
     ]
    }
   ],
   "source": [
    "details = mlp.fit(X_train, y_train, )"
   ],
   "metadata": {
    "collapsed": false,
    "pycharm": {
     "name": "#%%\n"
    }
   }
  },
  {
   "cell_type": "code",
   "execution_count": 112,
   "outputs": [
    {
     "name": "stdout",
     "output_type": "stream",
     "text": [
      "Accuracy:  0.2727272727272727\n",
      "Recall:  0.2727272727272727\n",
      "Precision:  0.2603292924148539\n",
      "F1-score:  0.2572941056703655\n",
      "              precision    recall  f1-score   support\n",
      "\n",
      "           0       0.24      0.13      0.17        30\n",
      "           1       0.36      0.50      0.42        24\n",
      "           2       0.19      0.22      0.20        23\n",
      "\n",
      "    accuracy                           0.27        77\n",
      "   macro avg       0.26      0.28      0.26        77\n",
      "weighted avg       0.26      0.27      0.26        77\n",
      "\n"
     ]
    }
   ],
   "source": [
    "y_pred = mlp.predict(X_test)\n",
    "calculate_metrics(y_test, y_pred)"
   ],
   "metadata": {
    "collapsed": false,
    "pycharm": {
     "name": "#%%\n"
    }
   }
  },
  {
   "cell_type": "code",
   "execution_count": null,
   "outputs": [],
   "source": [],
   "metadata": {
    "collapsed": false,
    "pycharm": {
     "name": "#%%\n"
    }
   }
  }
 ],
 "metadata": {
  "kernelspec": {
   "display_name": "Python 3 (ipykernel)",
   "language": "python",
   "name": "python3"
  },
  "language_info": {
   "codemirror_mode": {
    "name": "ipython",
    "version": 3
   },
   "file_extension": ".py",
   "mimetype": "text/x-python",
   "name": "python",
   "nbconvert_exporter": "python",
   "pygments_lexer": "ipython3",
   "version": "3.10.6"
  }
 },
 "nbformat": 4,
 "nbformat_minor": 5
}