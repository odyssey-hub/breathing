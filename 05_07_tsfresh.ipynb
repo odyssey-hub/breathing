{
 "cells": [
  {
   "cell_type": "code",
   "execution_count": 2,
   "metadata": {
    "collapsed": true,
    "pycharm": {
     "name": "#%%\n"
    }
   },
   "outputs": [],
   "source": [
    "import pandas as pd\n",
    "import numpy as np\n",
    "import xgboost as xgb\n",
    "from sklearn.model_selection import train_test_split\n",
    "from sklearn.preprocessing import  LabelEncoder"
   ]
  },
  {
   "cell_type": "markdown",
   "source": [
    "<h3>Загрузка и предобработка датасета</h3>"
   ],
   "metadata": {
    "collapsed": false,
    "pycharm": {
     "name": "#%% md\n"
    }
   },
   "outputs": [
    {
     "ename": "SyntaxError",
     "evalue": "invalid syntax (2881033779.py, line 1)",
     "output_type": "error",
     "traceback": [
      "\u001B[1;36m  Cell \u001B[1;32mIn[1], line 1\u001B[1;36m\u001B[0m\n\u001B[1;33m    <h3>Загрузка и предобработка датасета</h3>\u001B[0m\n\u001B[1;37m    ^\u001B[0m\n\u001B[1;31mSyntaxError\u001B[0m\u001B[1;31m:\u001B[0m invalid syntax\n"
     ]
    }
   ],
   "execution_count": 1
  },
  {
   "cell_type": "code",
   "execution_count": null,
   "outputs": [],
   "source": [
    "#загрузка датасета\n",
    "df = pd.read_csv('coords_data_numerated.csv')\n",
    "df = df.drop(columns=['Unnamed: 0', 'GSR'])\n",
    "df.head()"
   ],
   "metadata": {
    "collapsed": false,
    "pycharm": {
     "name": "#%%\n",
     "is_executing": true
    }
   }
  },
  {
   "cell_type": "code",
   "execution_count": null,
   "outputs": [],
   "source": [
    "#Определение выходного признака и входных признаков\n",
    "y = df['BreathingType']\n",
    "X = df.drop(columns=['BreathingType'])\n",
    "X.tail()"
   ],
   "metadata": {
    "collapsed": false,
    "pycharm": {
     "name": "#%%\n",
     "is_executing": true
    }
   }
  },
  {
   "cell_type": "code",
   "execution_count": null,
   "outputs": [],
   "source": [
    "#переименование столбцов\n",
    "dict_renames = {\n",
    "    'FirstMarkerXCoord' : 'FMX',\n",
    "    'FirstMarkerYCoord' : 'FMY',\n",
    "    'FirstMarkerZCoord' : 'FMZ',\n",
    "    'SecondMarkerXCoord' :  'SMX',\n",
    "    'SecondMarkerYCoord' : 'SMY',\n",
    "    'SecondMarkerZCoord' : 'SMZ',\n",
    "    'ThirdMarkerXCoord' : 'TMX',\n",
    "    'ThirdMarkerYCoord' : 'TMY',\n",
    "    'ThirdMarkerZCoord' : 'TMZ'\n",
    "}\n",
    "X = X.rename(columns=dict_renames)\n",
    "X.head()"
   ],
   "metadata": {
    "collapsed": false,
    "pycharm": {
     "name": "#%%\n",
     "is_executing": true
    }
   }
  },
  {
   "cell_type": "markdown",
   "source": [
    "<h3>Извлечение признаков с помощью библиотеки TSFresh</h3>"
   ],
   "metadata": {
    "collapsed": false,
    "pycharm": {
     "name": "#%% md\n"
    }
   }
  },
  {
   "cell_type": "code",
   "execution_count": 6,
   "outputs": [],
   "source": [
    "import tsfresh"
   ],
   "metadata": {
    "collapsed": false,
    "pycharm": {
     "name": "#%%\n"
    }
   }
  },
  {
   "cell_type": "code",
   "execution_count": 19,
   "outputs": [],
   "source": [
    "settings = tsfresh.feature_extraction.settings.EfficientFCParameters()"
   ],
   "metadata": {
    "collapsed": false,
    "pycharm": {
     "name": "#%%\n"
    }
   }
  },
  {
   "cell_type": "code",
   "execution_count": 20,
   "outputs": [
    {
     "name": "stderr",
     "output_type": "stream",
     "text": [
      "Feature Extraction: 100%|██████████| 10/10 [04:31<00:00, 27.12s/it]\n"
     ]
    }
   ],
   "source": [
    "extracted_features = tsfresh.extract_features(X, column_sort='TimeStamp_sec', column_id='id', default_fc_parameters=settings)"
   ],
   "metadata": {
    "collapsed": false,
    "pycharm": {
     "name": "#%%\n"
    }
   }
  },
  {
   "cell_type": "code",
   "execution_count": 21,
   "outputs": [
    {
     "data": {
      "text/plain": "   FMX__variance_larger_than_standard_deviation  FMX__has_duplicate_max  \\\n1                                           0.0                     0.0   \n2                                           0.0                     1.0   \n3                                           0.0                     1.0   \n4                                           0.0                     1.0   \n5                                           0.0                     1.0   \n\n   FMX__has_duplicate_min  FMX__has_duplicate  FMX__sum_values  \\\n1                     1.0                 1.0          594.610   \n2                     1.0                 1.0          600.119   \n3                     1.0                 1.0          580.441   \n4                     1.0                 1.0          762.231   \n5                     0.0                 1.0          589.421   \n\n   FMX__abs_energy  FMX__mean_abs_change  FMX__mean_change  \\\n1       392.525460              0.000393         -0.000024   \n2       399.859511              0.000433         -0.000044   \n3       374.072781              0.000484         -0.000029   \n4       645.009181              0.000381         -0.000026   \n5       385.611861              0.000332          0.000017   \n\n   FMX__mean_second_derivative_central  FMX__median  ...  \\\n1                         1.668521e-06        0.661  ...   \n2                         0.000000e+00        0.667  ...   \n3                        -5.561735e-07        0.643  ...   \n4                        -1.112347e-06        0.848  ...   \n5                         0.000000e+00        0.655  ...   \n\n   TMZ__fourier_entropy__bins_5  TMZ__fourier_entropy__bins_10  \\\n1                      0.170467                       0.249958   \n2                      0.228465                       0.382629   \n3                      0.235155                       0.339942   \n4                      0.090729                       0.090729   \n5                      0.346333                       0.465406   \n\n   TMZ__fourier_entropy__bins_100  \\\n1                        0.620602   \n2                        0.886176   \n3                        0.691312   \n4                        0.523421   \n5                        0.996480   \n\n   TMZ__permutation_entropy__dimension_3__tau_1  \\\n1                                      1.371588   \n2                                      1.317787   \n3                                      1.409429   \n4                                      1.375399   \n5                                      1.321429   \n\n   TMZ__permutation_entropy__dimension_4__tau_1  \\\n1                                      2.146117   \n2                                      2.063640   \n3                                      2.237123   \n4                                      2.188237   \n5                                      2.013405   \n\n   TMZ__permutation_entropy__dimension_5__tau_1  \\\n1                                      2.940803   \n2                                      2.838046   \n3                                      3.090561   \n4                                      3.025499   \n5                                      2.718388   \n\n   TMZ__permutation_entropy__dimension_6__tau_1  \\\n1                                      3.707134   \n2                                      3.611423   \n3                                      3.928044   \n4                                      3.862329   \n5                                      3.407454   \n\n   TMZ__permutation_entropy__dimension_7__tau_1  \\\n1                                      4.381382   \n2                                      4.321921   \n3                                      4.640799   \n4                                      4.636355   \n5                                      4.044901   \n\n   TMZ__query_similarity_count__query_None__threshold_0.0  \\\n1                                                NaN        \n2                                                NaN        \n3                                                NaN        \n4                                                NaN        \n5                                                NaN        \n\n   TMZ__mean_n_absolute_max__number_of_maxima_7  \n1                                      4.381000  \n2                                      4.375286  \n3                                      4.386000  \n4                                      4.248714  \n5                                      4.188000  \n\n[5 rows x 6993 columns]",
      "text/html": "<div>\n<style scoped>\n    .dataframe tbody tr th:only-of-type {\n        vertical-align: middle;\n    }\n\n    .dataframe tbody tr th {\n        vertical-align: top;\n    }\n\n    .dataframe thead th {\n        text-align: right;\n    }\n</style>\n<table border=\"1\" class=\"dataframe\">\n  <thead>\n    <tr style=\"text-align: right;\">\n      <th></th>\n      <th>FMX__variance_larger_than_standard_deviation</th>\n      <th>FMX__has_duplicate_max</th>\n      <th>FMX__has_duplicate_min</th>\n      <th>FMX__has_duplicate</th>\n      <th>FMX__sum_values</th>\n      <th>FMX__abs_energy</th>\n      <th>FMX__mean_abs_change</th>\n      <th>FMX__mean_change</th>\n      <th>FMX__mean_second_derivative_central</th>\n      <th>FMX__median</th>\n      <th>...</th>\n      <th>TMZ__fourier_entropy__bins_5</th>\n      <th>TMZ__fourier_entropy__bins_10</th>\n      <th>TMZ__fourier_entropy__bins_100</th>\n      <th>TMZ__permutation_entropy__dimension_3__tau_1</th>\n      <th>TMZ__permutation_entropy__dimension_4__tau_1</th>\n      <th>TMZ__permutation_entropy__dimension_5__tau_1</th>\n      <th>TMZ__permutation_entropy__dimension_6__tau_1</th>\n      <th>TMZ__permutation_entropy__dimension_7__tau_1</th>\n      <th>TMZ__query_similarity_count__query_None__threshold_0.0</th>\n      <th>TMZ__mean_n_absolute_max__number_of_maxima_7</th>\n    </tr>\n  </thead>\n  <tbody>\n    <tr>\n      <th>1</th>\n      <td>0.0</td>\n      <td>0.0</td>\n      <td>1.0</td>\n      <td>1.0</td>\n      <td>594.610</td>\n      <td>392.525460</td>\n      <td>0.000393</td>\n      <td>-0.000024</td>\n      <td>1.668521e-06</td>\n      <td>0.661</td>\n      <td>...</td>\n      <td>0.170467</td>\n      <td>0.249958</td>\n      <td>0.620602</td>\n      <td>1.371588</td>\n      <td>2.146117</td>\n      <td>2.940803</td>\n      <td>3.707134</td>\n      <td>4.381382</td>\n      <td>NaN</td>\n      <td>4.381000</td>\n    </tr>\n    <tr>\n      <th>2</th>\n      <td>0.0</td>\n      <td>1.0</td>\n      <td>1.0</td>\n      <td>1.0</td>\n      <td>600.119</td>\n      <td>399.859511</td>\n      <td>0.000433</td>\n      <td>-0.000044</td>\n      <td>0.000000e+00</td>\n      <td>0.667</td>\n      <td>...</td>\n      <td>0.228465</td>\n      <td>0.382629</td>\n      <td>0.886176</td>\n      <td>1.317787</td>\n      <td>2.063640</td>\n      <td>2.838046</td>\n      <td>3.611423</td>\n      <td>4.321921</td>\n      <td>NaN</td>\n      <td>4.375286</td>\n    </tr>\n    <tr>\n      <th>3</th>\n      <td>0.0</td>\n      <td>1.0</td>\n      <td>1.0</td>\n      <td>1.0</td>\n      <td>580.441</td>\n      <td>374.072781</td>\n      <td>0.000484</td>\n      <td>-0.000029</td>\n      <td>-5.561735e-07</td>\n      <td>0.643</td>\n      <td>...</td>\n      <td>0.235155</td>\n      <td>0.339942</td>\n      <td>0.691312</td>\n      <td>1.409429</td>\n      <td>2.237123</td>\n      <td>3.090561</td>\n      <td>3.928044</td>\n      <td>4.640799</td>\n      <td>NaN</td>\n      <td>4.386000</td>\n    </tr>\n    <tr>\n      <th>4</th>\n      <td>0.0</td>\n      <td>1.0</td>\n      <td>1.0</td>\n      <td>1.0</td>\n      <td>762.231</td>\n      <td>645.009181</td>\n      <td>0.000381</td>\n      <td>-0.000026</td>\n      <td>-1.112347e-06</td>\n      <td>0.848</td>\n      <td>...</td>\n      <td>0.090729</td>\n      <td>0.090729</td>\n      <td>0.523421</td>\n      <td>1.375399</td>\n      <td>2.188237</td>\n      <td>3.025499</td>\n      <td>3.862329</td>\n      <td>4.636355</td>\n      <td>NaN</td>\n      <td>4.248714</td>\n    </tr>\n    <tr>\n      <th>5</th>\n      <td>0.0</td>\n      <td>1.0</td>\n      <td>0.0</td>\n      <td>1.0</td>\n      <td>589.421</td>\n      <td>385.611861</td>\n      <td>0.000332</td>\n      <td>0.000017</td>\n      <td>0.000000e+00</td>\n      <td>0.655</td>\n      <td>...</td>\n      <td>0.346333</td>\n      <td>0.465406</td>\n      <td>0.996480</td>\n      <td>1.321429</td>\n      <td>2.013405</td>\n      <td>2.718388</td>\n      <td>3.407454</td>\n      <td>4.044901</td>\n      <td>NaN</td>\n      <td>4.188000</td>\n    </tr>\n  </tbody>\n</table>\n<p>5 rows × 6993 columns</p>\n</div>"
     },
     "execution_count": 21,
     "metadata": {},
     "output_type": "execute_result"
    }
   ],
   "source": [
    "extracted_features.head()"
   ],
   "metadata": {
    "collapsed": false,
    "pycharm": {
     "name": "#%%\n"
    }
   }
  },
  {
   "cell_type": "code",
   "execution_count": null,
   "outputs": [],
   "source": [
    "y = pd.Series(y['BreathingType'])"
   ],
   "metadata": {
    "collapsed": false,
    "pycharm": {
     "name": "#%%\n",
     "is_executing": true
    }
   }
  },
  {
   "cell_type": "code",
   "execution_count": 23,
   "outputs": [
    {
     "data": {
      "text/plain": "id\n1    0\n2    1\n3    2\n4    0\n5    1\nName: BreathingType, dtype: int64"
     },
     "execution_count": 23,
     "metadata": {},
     "output_type": "execute_result"
    }
   ],
   "source": [
    "y.head()"
   ],
   "metadata": {
    "collapsed": false,
    "pycharm": {
     "name": "#%%\n"
    }
   }
  },
  {
   "cell_type": "code",
   "execution_count": 24,
   "outputs": [
    {
     "name": "stderr",
     "output_type": "stream",
     "text": [
      "C:\\Users\\admin\\PycharmProjects\\TimeSeriesLibraries\\venv\\lib\\site-packages\\tsfresh\\utilities\\dataframe_functions.py:198: RuntimeWarning: The columns ['FMX__query_similarity_count__query_None__threshold_0.0'\n",
      " 'FMY__query_similarity_count__query_None__threshold_0.0'\n",
      " 'FMZ__query_similarity_count__query_None__threshold_0.0'\n",
      " 'SMX__query_similarity_count__query_None__threshold_0.0'\n",
      " 'SMY__friedrich_coefficients__coeff_0__m_3__r_30'\n",
      " 'SMY__friedrich_coefficients__coeff_1__m_3__r_30'\n",
      " 'SMY__friedrich_coefficients__coeff_2__m_3__r_30'\n",
      " 'SMY__friedrich_coefficients__coeff_3__m_3__r_30'\n",
      " 'SMY__max_langevin_fixed_point__m_3__r_30'\n",
      " 'SMY__query_similarity_count__query_None__threshold_0.0'\n",
      " 'SMZ__query_similarity_count__query_None__threshold_0.0'\n",
      " 'TMX__query_similarity_count__query_None__threshold_0.0'\n",
      " 'TMY__query_similarity_count__query_None__threshold_0.0'\n",
      " 'TMZ__query_similarity_count__query_None__threshold_0.0'] did not have any finite values. Filling with zeros.\n",
      "  warnings.warn(\n"
     ]
    }
   ],
   "source": [
    "from tsfresh import select_features\n",
    "from tsfresh.utilities.dataframe_functions import impute\n",
    "\n",
    "impute(extracted_features)\n",
    "features_filtered = select_features(extracted_features, y, multiclass=True)"
   ],
   "metadata": {
    "collapsed": false,
    "pycharm": {
     "name": "#%%\n"
    }
   }
  },
  {
   "cell_type": "code",
   "execution_count": 25,
   "outputs": [
    {
     "data": {
      "text/plain": "   FMY__agg_autocorrelation__f_agg_\"var\"__maxlag_40  \\\n1                                          0.203342   \n2                                          0.368654   \n3                                          0.368037   \n4                                          0.029265   \n5                                          0.254175   \n\n   FMY__agg_linear_trend__attr_\"intercept\"__chunk_len_50__f_agg_\"var\"  \\\n1                                           0.000013                    \n2                                           0.000055                    \n3                                           0.000052                    \n4                                           0.000003                    \n5                                           0.000007                    \n\n   FMY__partial_autocorrelation__lag_3  FMY__fourier_entropy__bins_10  \\\n1                            -0.222898                       0.136002   \n2                            -0.325654                       0.136002   \n3                            -0.381678                       0.136002   \n4                            -0.126742                       0.280179   \n5                            -0.265776                       0.170467   \n\n   FMY__agg_linear_trend__attr_\"stderr\"__chunk_len_10__f_agg_\"mean\"  \\\n1                                           0.000012                  \n2                                           0.000031                  \n3                                           0.000035                  \n4                                           0.000009                  \n5                                           0.000010                  \n\n   FMY__linear_trend__attr_\"stderr\"  \\\n1                      4.290971e-07   \n2                      1.024434e-06   \n3                      1.141785e-06   \n4                      2.894390e-07   \n5                      3.465600e-07   \n\n   FMY__agg_linear_trend__attr_\"stderr\"__chunk_len_5__f_agg_\"mean\"  \\\n1                                           0.000005                 \n2                                           0.000011                 \n3                                           0.000013                 \n4                                           0.000003                 \n5                                           0.000004                 \n\n   FMY__agg_linear_trend__attr_\"stderr\"__chunk_len_5__f_agg_\"max\"  \\\n1                                           0.000005                \n2                                           0.000011                \n3                                           0.000013                \n4                                           0.000003                \n5                                           0.000004                \n\n   FMY__agg_linear_trend__attr_\"stderr\"__chunk_len_5__f_agg_\"min\"  \\\n1                                           0.000005                \n2                                           0.000011                \n3                                           0.000013                \n4                                           0.000003                \n5                                           0.000004                \n\n   FMY__agg_linear_trend__attr_\"stderr\"__chunk_len_10__f_agg_\"max\"  ...  \\\n1                                           0.000013                ...   \n2                                           0.000032                ...   \n3                                           0.000034                ...   \n4                                           0.000009                ...   \n5                                           0.000011                ...   \n\n   TMX__agg_linear_trend__attr_\"intercept\"__chunk_len_5__f_agg_\"var\"  \\\n1                                       1.293342e-06                   \n2                                       3.231085e-07                   \n3                                       1.314077e-06                   \n4                                       7.638346e-07                   \n5                                       2.256864e-07                   \n\n   TMX__agg_linear_trend__attr_\"stderr\"__chunk_len_10__f_agg_\"max\"  \\\n1                                           0.000045                 \n2                                           0.000028                 \n3                                           0.000055                 \n4                                           0.000036                 \n5                                           0.000014                 \n\n   TMX__agg_linear_trend__attr_\"stderr\"__chunk_len_10__f_agg_\"var\"  \\\n1                                       2.114180e-08                 \n2                                       8.509713e-09                 \n3                                       2.155637e-08                 \n4                                       1.435572e-08                 \n5                                       2.989264e-09                 \n\n   TMX__change_quantiles__f_agg_\"mean\"__isabs_True__qh_1.0__ql_0.8  \\\n1                                           0.000635                 \n2                                           0.000358                 \n3                                           0.000715                 \n4                                           0.000398                 \n5                                           0.000254                 \n\n   TMX__agg_linear_trend__attr_\"stderr\"__chunk_len_5__f_agg_\"var\"  \\\n1                                       2.229450e-09                \n2                                       7.471823e-10                \n3                                       2.006410e-09                \n4                                       1.644779e-09                \n5                                       3.413762e-10                \n\n   TMX__change_quantiles__f_agg_\"var\"__isabs_False__qh_1.0__ql_0.8  \\\n1                                       9.175544e-07                 \n2                                       3.678488e-07                 \n3                                       1.060953e-06                 \n4                                       4.077468e-07                 \n5                                       2.613493e-07                 \n\n   TMX__change_quantiles__f_agg_\"var\"__isabs_True__qh_1.0__ql_0.8  \\\n1                                       5.300205e-07                \n2                                       2.400601e-07                \n3                                       5.501077e-07                \n4                                       2.497918e-07                \n5                                       1.969553e-07                \n\n   TMX__ar_coefficient__coeff_3__k_10  \\\n1                           -0.069700   \n2                           -0.005454   \n3                            0.016064   \n4                           -0.130670   \n5                            0.093239   \n\n   TMX__agg_linear_trend__attr_\"stderr\"__chunk_len_50__f_agg_\"var\"  \\\n1                                       1.498184e-06                 \n2                                       7.830371e-07                 \n3                                       2.354984e-06                 \n4                                       7.360300e-07                 \n5                                       1.301934e-07                 \n\n   TMX__ar_coefficient__coeff_1__k_10  \n1                            1.075671  \n2                            0.936582  \n3                            0.937611  \n4                            1.090171  \n5                            0.831451  \n\n[5 rows x 220 columns]",
      "text/html": "<div>\n<style scoped>\n    .dataframe tbody tr th:only-of-type {\n        vertical-align: middle;\n    }\n\n    .dataframe tbody tr th {\n        vertical-align: top;\n    }\n\n    .dataframe thead th {\n        text-align: right;\n    }\n</style>\n<table border=\"1\" class=\"dataframe\">\n  <thead>\n    <tr style=\"text-align: right;\">\n      <th></th>\n      <th>FMY__agg_autocorrelation__f_agg_\"var\"__maxlag_40</th>\n      <th>FMY__agg_linear_trend__attr_\"intercept\"__chunk_len_50__f_agg_\"var\"</th>\n      <th>FMY__partial_autocorrelation__lag_3</th>\n      <th>FMY__fourier_entropy__bins_10</th>\n      <th>FMY__agg_linear_trend__attr_\"stderr\"__chunk_len_10__f_agg_\"mean\"</th>\n      <th>FMY__linear_trend__attr_\"stderr\"</th>\n      <th>FMY__agg_linear_trend__attr_\"stderr\"__chunk_len_5__f_agg_\"mean\"</th>\n      <th>FMY__agg_linear_trend__attr_\"stderr\"__chunk_len_5__f_agg_\"max\"</th>\n      <th>FMY__agg_linear_trend__attr_\"stderr\"__chunk_len_5__f_agg_\"min\"</th>\n      <th>FMY__agg_linear_trend__attr_\"stderr\"__chunk_len_10__f_agg_\"max\"</th>\n      <th>...</th>\n      <th>TMX__agg_linear_trend__attr_\"intercept\"__chunk_len_5__f_agg_\"var\"</th>\n      <th>TMX__agg_linear_trend__attr_\"stderr\"__chunk_len_10__f_agg_\"max\"</th>\n      <th>TMX__agg_linear_trend__attr_\"stderr\"__chunk_len_10__f_agg_\"var\"</th>\n      <th>TMX__change_quantiles__f_agg_\"mean\"__isabs_True__qh_1.0__ql_0.8</th>\n      <th>TMX__agg_linear_trend__attr_\"stderr\"__chunk_len_5__f_agg_\"var\"</th>\n      <th>TMX__change_quantiles__f_agg_\"var\"__isabs_False__qh_1.0__ql_0.8</th>\n      <th>TMX__change_quantiles__f_agg_\"var\"__isabs_True__qh_1.0__ql_0.8</th>\n      <th>TMX__ar_coefficient__coeff_3__k_10</th>\n      <th>TMX__agg_linear_trend__attr_\"stderr\"__chunk_len_50__f_agg_\"var\"</th>\n      <th>TMX__ar_coefficient__coeff_1__k_10</th>\n    </tr>\n  </thead>\n  <tbody>\n    <tr>\n      <th>1</th>\n      <td>0.203342</td>\n      <td>0.000013</td>\n      <td>-0.222898</td>\n      <td>0.136002</td>\n      <td>0.000012</td>\n      <td>4.290971e-07</td>\n      <td>0.000005</td>\n      <td>0.000005</td>\n      <td>0.000005</td>\n      <td>0.000013</td>\n      <td>...</td>\n      <td>1.293342e-06</td>\n      <td>0.000045</td>\n      <td>2.114180e-08</td>\n      <td>0.000635</td>\n      <td>2.229450e-09</td>\n      <td>9.175544e-07</td>\n      <td>5.300205e-07</td>\n      <td>-0.069700</td>\n      <td>1.498184e-06</td>\n      <td>1.075671</td>\n    </tr>\n    <tr>\n      <th>2</th>\n      <td>0.368654</td>\n      <td>0.000055</td>\n      <td>-0.325654</td>\n      <td>0.136002</td>\n      <td>0.000031</td>\n      <td>1.024434e-06</td>\n      <td>0.000011</td>\n      <td>0.000011</td>\n      <td>0.000011</td>\n      <td>0.000032</td>\n      <td>...</td>\n      <td>3.231085e-07</td>\n      <td>0.000028</td>\n      <td>8.509713e-09</td>\n      <td>0.000358</td>\n      <td>7.471823e-10</td>\n      <td>3.678488e-07</td>\n      <td>2.400601e-07</td>\n      <td>-0.005454</td>\n      <td>7.830371e-07</td>\n      <td>0.936582</td>\n    </tr>\n    <tr>\n      <th>3</th>\n      <td>0.368037</td>\n      <td>0.000052</td>\n      <td>-0.381678</td>\n      <td>0.136002</td>\n      <td>0.000035</td>\n      <td>1.141785e-06</td>\n      <td>0.000013</td>\n      <td>0.000013</td>\n      <td>0.000013</td>\n      <td>0.000034</td>\n      <td>...</td>\n      <td>1.314077e-06</td>\n      <td>0.000055</td>\n      <td>2.155637e-08</td>\n      <td>0.000715</td>\n      <td>2.006410e-09</td>\n      <td>1.060953e-06</td>\n      <td>5.501077e-07</td>\n      <td>0.016064</td>\n      <td>2.354984e-06</td>\n      <td>0.937611</td>\n    </tr>\n    <tr>\n      <th>4</th>\n      <td>0.029265</td>\n      <td>0.000003</td>\n      <td>-0.126742</td>\n      <td>0.280179</td>\n      <td>0.000009</td>\n      <td>2.894390e-07</td>\n      <td>0.000003</td>\n      <td>0.000003</td>\n      <td>0.000003</td>\n      <td>0.000009</td>\n      <td>...</td>\n      <td>7.638346e-07</td>\n      <td>0.000036</td>\n      <td>1.435572e-08</td>\n      <td>0.000398</td>\n      <td>1.644779e-09</td>\n      <td>4.077468e-07</td>\n      <td>2.497918e-07</td>\n      <td>-0.130670</td>\n      <td>7.360300e-07</td>\n      <td>1.090171</td>\n    </tr>\n    <tr>\n      <th>5</th>\n      <td>0.254175</td>\n      <td>0.000007</td>\n      <td>-0.265776</td>\n      <td>0.170467</td>\n      <td>0.000010</td>\n      <td>3.465600e-07</td>\n      <td>0.000004</td>\n      <td>0.000004</td>\n      <td>0.000004</td>\n      <td>0.000011</td>\n      <td>...</td>\n      <td>2.256864e-07</td>\n      <td>0.000014</td>\n      <td>2.989264e-09</td>\n      <td>0.000254</td>\n      <td>3.413762e-10</td>\n      <td>2.613493e-07</td>\n      <td>1.969553e-07</td>\n      <td>0.093239</td>\n      <td>1.301934e-07</td>\n      <td>0.831451</td>\n    </tr>\n  </tbody>\n</table>\n<p>5 rows × 220 columns</p>\n</div>"
     },
     "execution_count": 25,
     "metadata": {},
     "output_type": "execute_result"
    }
   ],
   "source": [
    "features_filtered.head()"
   ],
   "metadata": {
    "collapsed": false,
    "pycharm": {
     "name": "#%%\n"
    }
   }
  },
  {
   "cell_type": "code",
   "execution_count": 26,
   "outputs": [],
   "source": [
    "features_filtered.to_csv('features_filtered.csv')"
   ],
   "metadata": {
    "collapsed": false,
    "pycharm": {
     "name": "#%%\n"
    }
   }
  },
  {
   "cell_type": "code",
   "execution_count": 30,
   "outputs": [],
   "source": [
    "new_features = features_filtered.reset_index()"
   ],
   "metadata": {
    "collapsed": false,
    "pycharm": {
     "name": "#%%\n"
    }
   }
  },
  {
   "cell_type": "markdown",
   "source": [
    "<h3>Добавление новых признаков в датасет</h3>"
   ],
   "metadata": {
    "collapsed": false,
    "pycharm": {
     "name": "#%% md\n"
    }
   }
  },
  {
   "cell_type": "code",
   "execution_count": 31,
   "outputs": [
    {
     "data": {
      "text/plain": "   ID Date_Of_Birth Sex Had_Covid Begin_Of_Covid End_Of_Covid Lung_Damage  \\\n0   1    04.07.2003   M        No     00.00.0000   00.00.0000          No   \n1   1    04.07.2003   M        No     00.00.0000   00.00.0000          No   \n2   1    04.07.2003   M        No     00.00.0000   00.00.0000          No   \n3   1    04.07.2003   M        No     00.00.0000   00.00.0000          No   \n4   1    04.07.2003   M        No     00.00.0000   00.00.0000          No   \n\n   Damage_Percent Breathing_Type  Frequency  ...  Sin_Period23  \\\n0       -0.207005        грудное  -0.144237  ...     -0.178712   \n1       -0.207005        грудное  -0.144237  ...     -0.183415   \n2       -0.207005        грудное  -0.144237  ...     -0.177844   \n3       -0.207005        грудное  -0.144237  ...     -0.182131   \n4       -0.207005        грудное  -0.144237  ...     -0.191648   \n\n  Sin_Amp23/Sin_Amp13  Sin_Amp12/Sin_Amp13  Sin_Amp12/Sin_Amp23  \\\n0            0.002273            -0.001832            -0.032392   \n1            0.002486            -0.001808            -0.029759   \n2            0.002607            -0.001792            -0.030606   \n3            0.002219            -0.002349            -0.030553   \n4            0.003473            -0.001519            -0.031048   \n\n   Sin_Omega23/Sin_Omega13  Sin_Omega12/Sin_Omega13  Sin_Omega12/Sin_Omega23  \\\n0                -0.156378                -0.155622                -0.156309   \n1                -0.151883                -0.154821                -0.159698   \n2                -0.157144                -0.156177                -0.155971   \n3                -0.152623                -0.155988                -0.160060   \n4                -0.165326                -0.156451                -0.137226   \n\n   (Sin_Offset23/Sin_Offset13)^2  (Sin_Offset12/Sin_Offset13)^2  \\\n0                      -0.088206                      -0.063808   \n1                      -0.088211                      -0.063809   \n2                      -0.088215                      -0.063811   \n3                      -0.088219                      -0.063815   \n4                      -0.088204                      -0.063811   \n\n   (Sin_Offset12/Sin_Offset23)^2  \n0                      -0.059907  \n1                      -0.059906  \n2                      -0.059905  \n3                      -0.059905  \n4                      -0.059908  \n\n[5 rows x 42 columns]",
      "text/html": "<div>\n<style scoped>\n    .dataframe tbody tr th:only-of-type {\n        vertical-align: middle;\n    }\n\n    .dataframe tbody tr th {\n        vertical-align: top;\n    }\n\n    .dataframe thead th {\n        text-align: right;\n    }\n</style>\n<table border=\"1\" class=\"dataframe\">\n  <thead>\n    <tr style=\"text-align: right;\">\n      <th></th>\n      <th>ID</th>\n      <th>Date_Of_Birth</th>\n      <th>Sex</th>\n      <th>Had_Covid</th>\n      <th>Begin_Of_Covid</th>\n      <th>End_Of_Covid</th>\n      <th>Lung_Damage</th>\n      <th>Damage_Percent</th>\n      <th>Breathing_Type</th>\n      <th>Frequency</th>\n      <th>...</th>\n      <th>Sin_Period23</th>\n      <th>Sin_Amp23/Sin_Amp13</th>\n      <th>Sin_Amp12/Sin_Amp13</th>\n      <th>Sin_Amp12/Sin_Amp23</th>\n      <th>Sin_Omega23/Sin_Omega13</th>\n      <th>Sin_Omega12/Sin_Omega13</th>\n      <th>Sin_Omega12/Sin_Omega23</th>\n      <th>(Sin_Offset23/Sin_Offset13)^2</th>\n      <th>(Sin_Offset12/Sin_Offset13)^2</th>\n      <th>(Sin_Offset12/Sin_Offset23)^2</th>\n    </tr>\n  </thead>\n  <tbody>\n    <tr>\n      <th>0</th>\n      <td>1</td>\n      <td>04.07.2003</td>\n      <td>M</td>\n      <td>No</td>\n      <td>00.00.0000</td>\n      <td>00.00.0000</td>\n      <td>No</td>\n      <td>-0.207005</td>\n      <td>грудное</td>\n      <td>-0.144237</td>\n      <td>...</td>\n      <td>-0.178712</td>\n      <td>0.002273</td>\n      <td>-0.001832</td>\n      <td>-0.032392</td>\n      <td>-0.156378</td>\n      <td>-0.155622</td>\n      <td>-0.156309</td>\n      <td>-0.088206</td>\n      <td>-0.063808</td>\n      <td>-0.059907</td>\n    </tr>\n    <tr>\n      <th>1</th>\n      <td>1</td>\n      <td>04.07.2003</td>\n      <td>M</td>\n      <td>No</td>\n      <td>00.00.0000</td>\n      <td>00.00.0000</td>\n      <td>No</td>\n      <td>-0.207005</td>\n      <td>грудное</td>\n      <td>-0.144237</td>\n      <td>...</td>\n      <td>-0.183415</td>\n      <td>0.002486</td>\n      <td>-0.001808</td>\n      <td>-0.029759</td>\n      <td>-0.151883</td>\n      <td>-0.154821</td>\n      <td>-0.159698</td>\n      <td>-0.088211</td>\n      <td>-0.063809</td>\n      <td>-0.059906</td>\n    </tr>\n    <tr>\n      <th>2</th>\n      <td>1</td>\n      <td>04.07.2003</td>\n      <td>M</td>\n      <td>No</td>\n      <td>00.00.0000</td>\n      <td>00.00.0000</td>\n      <td>No</td>\n      <td>-0.207005</td>\n      <td>грудное</td>\n      <td>-0.144237</td>\n      <td>...</td>\n      <td>-0.177844</td>\n      <td>0.002607</td>\n      <td>-0.001792</td>\n      <td>-0.030606</td>\n      <td>-0.157144</td>\n      <td>-0.156177</td>\n      <td>-0.155971</td>\n      <td>-0.088215</td>\n      <td>-0.063811</td>\n      <td>-0.059905</td>\n    </tr>\n    <tr>\n      <th>3</th>\n      <td>1</td>\n      <td>04.07.2003</td>\n      <td>M</td>\n      <td>No</td>\n      <td>00.00.0000</td>\n      <td>00.00.0000</td>\n      <td>No</td>\n      <td>-0.207005</td>\n      <td>грудное</td>\n      <td>-0.144237</td>\n      <td>...</td>\n      <td>-0.182131</td>\n      <td>0.002219</td>\n      <td>-0.002349</td>\n      <td>-0.030553</td>\n      <td>-0.152623</td>\n      <td>-0.155988</td>\n      <td>-0.160060</td>\n      <td>-0.088219</td>\n      <td>-0.063815</td>\n      <td>-0.059905</td>\n    </tr>\n    <tr>\n      <th>4</th>\n      <td>1</td>\n      <td>04.07.2003</td>\n      <td>M</td>\n      <td>No</td>\n      <td>00.00.0000</td>\n      <td>00.00.0000</td>\n      <td>No</td>\n      <td>-0.207005</td>\n      <td>грудное</td>\n      <td>-0.144237</td>\n      <td>...</td>\n      <td>-0.191648</td>\n      <td>0.003473</td>\n      <td>-0.001519</td>\n      <td>-0.031048</td>\n      <td>-0.165326</td>\n      <td>-0.156451</td>\n      <td>-0.137226</td>\n      <td>-0.088204</td>\n      <td>-0.063811</td>\n      <td>-0.059908</td>\n    </tr>\n  </tbody>\n</table>\n<p>5 rows × 42 columns</p>\n</div>"
     },
     "execution_count": 31,
     "metadata": {},
     "output_type": "execute_result"
    }
   ],
   "source": [
    "#загрузка датасета\n",
    "data = pd.read_csv('breathes.csv')\n",
    "data = data.drop(columns=['Unnamed: 0'])\n",
    "data.head()"
   ],
   "metadata": {
    "collapsed": false,
    "pycharm": {
     "name": "#%%\n"
    }
   }
  },
  {
   "cell_type": "code",
   "execution_count": null,
   "outputs": [],
   "source": [
    "#добавление новых признаков в датасет\n",
    "i = 0\n",
    "new_features_cols = new_features.columns\n",
    "for id in range(1,87):\n",
    "    for col in new_features_cols:\n",
    "        data.loc[(data['Breathing_Type'] == 'грудное') & (data['ID'] == id), col]= new_features.loc[i][col]\n",
    "    i += 1\n",
    "    for col in new_features_cols:\n",
    "        data.loc[(data['Breathing_Type'] == 'брюшное') & (data['ID'] == id), col] = new_features.loc[i][col]\n",
    "    i += 1\n",
    "    for col in new_features_cols:\n",
    "        data.loc[(data['Breathing_Type'] == 'смешанное') & (data['ID'] == id), col] = new_features.loc[i][col]\n",
    "    i += 1"
   ],
   "metadata": {
    "collapsed": false,
    "pycharm": {
     "name": "#%%\n",
     "is_executing": true
    }
   }
  },
  {
   "cell_type": "code",
   "execution_count": null,
   "outputs": [],
   "source": [
    "data.head(15)"
   ],
   "metadata": {
    "collapsed": false,
    "pycharm": {
     "name": "#%%\n",
     "is_executing": true
    }
   }
  },
  {
   "cell_type": "markdown",
   "source": [
    "<h3>Подготовка датасета для тестирования</h3>"
   ],
   "metadata": {
    "collapsed": false,
    "pycharm": {
     "name": "#%% md\n"
    }
   }
  },
  {
   "cell_type": "code",
   "execution_count": 35,
   "outputs": [],
   "source": [
    "#отбрасывание ненужных столбцов\n",
    "categorical_cols = ['Sex', 'Had_Covid', 'Lung_Damage', 'DominatorFreq']\n",
    "drop_columns = ['Date_Of_Birth', 'Begin_Of_Covid', 'End_Of_Covid'] + categorical_cols\n",
    "df = data.drop(columns=drop_columns)\n",
    "#целевой признак\n",
    "y = df['Breathing_Type']\n",
    "#определение численных признаков\n",
    "non_numerical_cols = ['ID', 'Breathing_Type']\n",
    "X = df.drop(columns=non_numerical_cols)\n",
    "#трансформация категориальных признаков\n",
    "le = LabelEncoder()\n",
    "y = le.fit_transform(y)"
   ],
   "metadata": {
    "collapsed": false,
    "pycharm": {
     "name": "#%%\n"
    }
   }
  },
  {
   "cell_type": "code",
   "execution_count": 36,
   "outputs": [],
   "source": [
    "#разделение на обучающую(70%) и тестовую (30%) выборки\n",
    "X_train, X_test, y_train, y_test = train_test_split(X, y, test_size=0.3, random_state=42)"
   ],
   "metadata": {
    "collapsed": false,
    "pycharm": {
     "name": "#%%\n"
    }
   }
  },
  {
   "cell_type": "code",
   "execution_count": 37,
   "outputs": [],
   "source": [
    "from sklearn.metrics import recall_score, accuracy_score\n",
    "from sklearn.metrics import f1_score\n",
    "from sklearn.metrics import precision_score\n",
    "from sklearn.metrics import classification_report\n",
    "#расчет метрик по тесовой выборке\n",
    "def calculate_metrics(y_test, y_pred):\n",
    "    accuracy = accuracy_score(y_test, y_pred)\n",
    "    recall = recall_score(y_test, y_pred, average='weighted')\n",
    "    precision = precision_score(y_test, y_pred, average='weighted')\n",
    "    f1 = f1_score(y_test, y_pred, average='weighted')\n",
    "    print(\"Accuracy: \", accuracy)\n",
    "    print(\"Recall: \", recall)\n",
    "    print(\"Precision: \", precision)\n",
    "    print(\"F1-score: \", f1)\n",
    "    report = classification_report(y_test, y_pred)\n",
    "    print(report)\n",
    "\n",
    "#расчет знамости признаков\n",
    "def calc_feature_importances(model, X_df):\n",
    "    importance = model.feature_importances_\n",
    "    feature_importance = pd.DataFrame({'Feature': X_df.columns, 'Importance': importance})\n",
    "    feature_importance = feature_importance.sort_values('Importance', ascending=False)\n",
    "    return feature_importance"
   ],
   "metadata": {
    "collapsed": false,
    "pycharm": {
     "name": "#%%\n"
    }
   }
  },
  {
   "cell_type": "markdown",
   "source": [
    "<h2>Тестирование новых признаков</h2>"
   ],
   "metadata": {
    "collapsed": false,
    "pycharm": {
     "name": "#%% md\n"
    }
   }
  },
  {
   "cell_type": "markdown",
   "source": [
    "<h3>Generic Univariate Select (Mutual Info)</h3>"
   ],
   "metadata": {
    "collapsed": false,
    "pycharm": {
     "name": "#%% md\n"
    }
   }
  },
  {
   "cell_type": "code",
   "execution_count": 69,
   "outputs": [],
   "source": [
    "from sklearn.feature_selection import GenericUnivariateSelect, mutual_info_classif\n",
    "\n",
    "selector = GenericUnivariateSelect(mutual_info_classif, mode='k_best', param=50)"
   ],
   "metadata": {
    "collapsed": false,
    "pycharm": {
     "name": "#%%\n"
    }
   }
  },
  {
   "cell_type": "code",
   "execution_count": 70,
   "outputs": [],
   "source": [
    "X_new = selector.fit_transform(X, y)"
   ],
   "metadata": {
    "collapsed": false,
    "pycharm": {
     "name": "#%%\n"
    }
   }
  },
  {
   "cell_type": "code",
   "execution_count": 71,
   "outputs": [
    {
     "data": {
      "text/plain": "array([False, False, False, False, False, False, False, False, False,\n       False, False, False, False, False, False, False, False, False,\n       False, False, False, False, False, False, False, False, False,\n       False, False, False, False, False, False, False,  True,  True,\n        True, False, False,  True,  True,  True, False,  True, False,\n        True, False,  True, False, False, False, False, False, False,\n        True, False,  True,  True, False, False,  True, False,  True,\n        True,  True,  True, False, False,  True, False, False, False,\n       False,  True,  True,  True, False, False, False, False, False,\n       False, False,  True,  True, False, False,  True, False, False,\n       False, False, False,  True,  True, False,  True,  True,  True,\n       False, False, False, False, False, False, False, False, False,\n       False, False,  True, False, False,  True, False, False, False,\n       False, False, False, False,  True, False, False, False, False,\n        True,  True, False, False, False, False, False,  True, False,\n       False, False, False, False, False, False, False, False, False,\n       False, False, False, False, False, False, False, False, False,\n       False, False, False, False,  True, False, False, False, False,\n       False,  True,  True, False, False, False, False, False, False,\n        True,  True, False, False, False, False, False, False, False,\n       False,  True, False, False, False,  True, False,  True, False,\n       False, False, False, False, False, False, False, False, False,\n       False,  True, False, False, False, False, False,  True, False,\n       False, False,  True,  True, False, False, False, False, False,\n       False, False, False, False, False, False, False, False, False,\n       False, False, False, False, False, False, False, False, False,\n       False, False, False, False, False, False, False, False, False,\n        True, False,  True, False, False, False, False, False, False,\n       False,  True])"
     },
     "execution_count": 71,
     "metadata": {},
     "output_type": "execute_result"
    }
   ],
   "source": [
    "selector.get_feature_names_out()\n",
    "selector.get_support()"
   ],
   "metadata": {
    "collapsed": false,
    "pycharm": {
     "name": "#%%\n"
    }
   }
  },
  {
   "cell_type": "code",
   "execution_count": 72,
   "outputs": [
    {
     "data": {
      "text/plain": "                                               Feature    Scores  Support\n47   FMY__agg_linear_trend__attr_\"intercept\"__chunk...  1.096773     True\n243        FMZ__fft_coefficient__attr_\"real\"__coeff_37  1.092985     True\n210  FMX__agg_linear_trend__attr_\"stderr\"__chunk_le...  1.091748     True\n39                    FMY__linear_trend__attr_\"stderr\"  1.091177     True\n121                   FMY__spkt_welch_density__coeff_2  1.090960     True\n..                                                 ...       ...      ...\n18                                           Sin_Amp23  0.013608    False\n0                                       Damage_Percent  0.010196    False\n3                                   DominatorFreqPower  0.008057    False\n20                                         Sin_Phase23  0.000000    False\n14                                         Sin_Phase13  0.000000    False\n\n[254 rows x 3 columns]",
      "text/html": "<div>\n<style scoped>\n    .dataframe tbody tr th:only-of-type {\n        vertical-align: middle;\n    }\n\n    .dataframe tbody tr th {\n        vertical-align: top;\n    }\n\n    .dataframe thead th {\n        text-align: right;\n    }\n</style>\n<table border=\"1\" class=\"dataframe\">\n  <thead>\n    <tr style=\"text-align: right;\">\n      <th></th>\n      <th>Feature</th>\n      <th>Scores</th>\n      <th>Support</th>\n    </tr>\n  </thead>\n  <tbody>\n    <tr>\n      <th>47</th>\n      <td>FMY__agg_linear_trend__attr_\"intercept\"__chunk...</td>\n      <td>1.096773</td>\n      <td>True</td>\n    </tr>\n    <tr>\n      <th>243</th>\n      <td>FMZ__fft_coefficient__attr_\"real\"__coeff_37</td>\n      <td>1.092985</td>\n      <td>True</td>\n    </tr>\n    <tr>\n      <th>210</th>\n      <td>FMX__agg_linear_trend__attr_\"stderr\"__chunk_le...</td>\n      <td>1.091748</td>\n      <td>True</td>\n    </tr>\n    <tr>\n      <th>39</th>\n      <td>FMY__linear_trend__attr_\"stderr\"</td>\n      <td>1.091177</td>\n      <td>True</td>\n    </tr>\n    <tr>\n      <th>121</th>\n      <td>FMY__spkt_welch_density__coeff_2</td>\n      <td>1.090960</td>\n      <td>True</td>\n    </tr>\n    <tr>\n      <th>...</th>\n      <td>...</td>\n      <td>...</td>\n      <td>...</td>\n    </tr>\n    <tr>\n      <th>18</th>\n      <td>Sin_Amp23</td>\n      <td>0.013608</td>\n      <td>False</td>\n    </tr>\n    <tr>\n      <th>0</th>\n      <td>Damage_Percent</td>\n      <td>0.010196</td>\n      <td>False</td>\n    </tr>\n    <tr>\n      <th>3</th>\n      <td>DominatorFreqPower</td>\n      <td>0.008057</td>\n      <td>False</td>\n    </tr>\n    <tr>\n      <th>20</th>\n      <td>Sin_Phase23</td>\n      <td>0.000000</td>\n      <td>False</td>\n    </tr>\n    <tr>\n      <th>14</th>\n      <td>Sin_Phase13</td>\n      <td>0.000000</td>\n      <td>False</td>\n    </tr>\n  </tbody>\n</table>\n<p>254 rows × 3 columns</p>\n</div>"
     },
     "execution_count": 72,
     "metadata": {},
     "output_type": "execute_result"
    }
   ],
   "source": [
    "importance = selector.scores_\n",
    "feature_importance = pd.DataFrame({'Feature': X.columns, 'Scores': importance, 'Support': selector.get_support()})\n",
    "feature_importance = feature_importance.sort_values('Scores', ascending=False)\n",
    "feature_importance"
   ],
   "metadata": {
    "collapsed": false,
    "pycharm": {
     "name": "#%%\n"
    }
   }
  },
  {
   "cell_type": "code",
   "execution_count": 59,
   "outputs": [],
   "source": [
    "feature_importance.to_excel('mutual_features.xlsx')"
   ],
   "metadata": {
    "collapsed": false,
    "pycharm": {
     "name": "#%%\n"
    }
   }
  },
  {
   "cell_type": "markdown",
   "source": [
    "<h3>Generic Univariate Select (F-Test)</h3>"
   ],
   "metadata": {
    "collapsed": false,
    "pycharm": {
     "name": "#%% md\n"
    }
   }
  },
  {
   "cell_type": "code",
   "execution_count": 79,
   "outputs": [],
   "source": [
    "from sklearn.feature_selection import f_classif\n",
    "\n",
    "selector = GenericUnivariateSelect(f_classif, mode='k_best', param=50)"
   ],
   "metadata": {
    "collapsed": false,
    "pycharm": {
     "name": "#%%\n"
    }
   }
  },
  {
   "cell_type": "code",
   "execution_count": 80,
   "outputs": [],
   "source": [
    "X_new = selector.fit_transform(X, y)"
   ],
   "metadata": {
    "collapsed": false,
    "pycharm": {
     "name": "#%%\n"
    }
   }
  },
  {
   "cell_type": "code",
   "execution_count": 81,
   "outputs": [
    {
     "data": {
      "text/plain": "                                               Feature      Scores\n34    FMY__agg_autocorrelation__f_agg_\"var\"__maxlag_40  206.868797\n36                 FMY__partial_autocorrelation__lag_3  186.130765\n37                       FMY__fourier_entropy__bins_10  166.267675\n46                      FMY__fourier_entropy__bins_100  163.495489\n41   FMY__agg_linear_trend__attr_\"stderr\"__chunk_le...  147.095832\n..                                                 ...         ...\n23                                        Sin_Period23    0.221363\n0                                       Damage_Percent    0.164475\n30                       (Sin_Offset23/Sin_Offset13)^2    0.139079\n16                                        Sin_Offset13    0.136538\n182                   SMZ__linear_trend__attr_\"pvalue\"    0.043785\n\n[254 rows x 2 columns]",
      "text/html": "<div>\n<style scoped>\n    .dataframe tbody tr th:only-of-type {\n        vertical-align: middle;\n    }\n\n    .dataframe tbody tr th {\n        vertical-align: top;\n    }\n\n    .dataframe thead th {\n        text-align: right;\n    }\n</style>\n<table border=\"1\" class=\"dataframe\">\n  <thead>\n    <tr style=\"text-align: right;\">\n      <th></th>\n      <th>Feature</th>\n      <th>Scores</th>\n    </tr>\n  </thead>\n  <tbody>\n    <tr>\n      <th>34</th>\n      <td>FMY__agg_autocorrelation__f_agg_\"var\"__maxlag_40</td>\n      <td>206.868797</td>\n    </tr>\n    <tr>\n      <th>36</th>\n      <td>FMY__partial_autocorrelation__lag_3</td>\n      <td>186.130765</td>\n    </tr>\n    <tr>\n      <th>37</th>\n      <td>FMY__fourier_entropy__bins_10</td>\n      <td>166.267675</td>\n    </tr>\n    <tr>\n      <th>46</th>\n      <td>FMY__fourier_entropy__bins_100</td>\n      <td>163.495489</td>\n    </tr>\n    <tr>\n      <th>41</th>\n      <td>FMY__agg_linear_trend__attr_\"stderr\"__chunk_le...</td>\n      <td>147.095832</td>\n    </tr>\n    <tr>\n      <th>...</th>\n      <td>...</td>\n      <td>...</td>\n    </tr>\n    <tr>\n      <th>23</th>\n      <td>Sin_Period23</td>\n      <td>0.221363</td>\n    </tr>\n    <tr>\n      <th>0</th>\n      <td>Damage_Percent</td>\n      <td>0.164475</td>\n    </tr>\n    <tr>\n      <th>30</th>\n      <td>(Sin_Offset23/Sin_Offset13)^2</td>\n      <td>0.139079</td>\n    </tr>\n    <tr>\n      <th>16</th>\n      <td>Sin_Offset13</td>\n      <td>0.136538</td>\n    </tr>\n    <tr>\n      <th>182</th>\n      <td>SMZ__linear_trend__attr_\"pvalue\"</td>\n      <td>0.043785</td>\n    </tr>\n  </tbody>\n</table>\n<p>254 rows × 2 columns</p>\n</div>"
     },
     "execution_count": 81,
     "metadata": {},
     "output_type": "execute_result"
    }
   ],
   "source": [
    "importance = selector.scores_\n",
    "feature_importance = pd.DataFrame({'Feature': X.columns, 'Scores': importance})\n",
    "feature_importance = feature_importance.sort_values('Scores', ascending=False)\n",
    "feature_importance"
   ],
   "metadata": {
    "collapsed": false,
    "pycharm": {
     "name": "#%%\n"
    }
   }
  },
  {
   "cell_type": "code",
   "execution_count": 55,
   "outputs": [],
   "source": [
    "feature_importance.to_excel('ftest_features.xlsx')"
   ],
   "metadata": {
    "collapsed": false,
    "pycharm": {
     "name": "#%%\n"
    }
   }
  },
  {
   "cell_type": "markdown",
   "source": [
    "<h3>RandomForest</h3>"
   ],
   "metadata": {
    "collapsed": false,
    "pycharm": {
     "name": "#%% md\n"
    }
   }
  },
  {
   "cell_type": "code",
   "execution_count": 82,
   "outputs": [],
   "source": [
    "from sklearn.ensemble import RandomForestClassifier\n",
    "\n",
    "model_rf = RandomForestClassifier()"
   ],
   "metadata": {
    "collapsed": false,
    "pycharm": {
     "name": "#%%\n"
    }
   }
  },
  {
   "cell_type": "code",
   "execution_count": 83,
   "outputs": [],
   "source": [
    "#разделение на обучающую(70%) и тестовую (30%) выборки\n",
    "X_train, X_test, y_train, y_test = train_test_split(X_new, y, test_size=0.3, random_state=42)"
   ],
   "metadata": {
    "collapsed": false,
    "pycharm": {
     "name": "#%%\n"
    }
   }
  },
  {
   "cell_type": "code",
   "execution_count": 84,
   "outputs": [
    {
     "name": "stdout",
     "output_type": "stream",
     "text": [
      "Accuracy:  0.9905437352245863\n",
      "Recall:  0.9905437352245863\n",
      "Precision:  0.9906042795368738\n",
      "F1-score:  0.9905428945182585\n",
      "              precision    recall  f1-score   support\n",
      "\n",
      "           0       0.99      0.98      0.99       149\n",
      "           1       1.00      1.00      1.00       123\n",
      "           2       0.98      0.99      0.99       151\n",
      "\n",
      "    accuracy                           0.99       423\n",
      "   macro avg       0.99      0.99      0.99       423\n",
      "weighted avg       0.99      0.99      0.99       423\n",
      "\n"
     ]
    }
   ],
   "source": [
    "details = model_rf.fit(X_train, y_train)\n",
    "y_pred = model_rf.predict(X_test)\n",
    "calculate_metrics(y_test, y_pred)"
   ],
   "metadata": {
    "collapsed": false,
    "pycharm": {
     "name": "#%%\n"
    }
   }
  },
  {
   "cell_type": "code",
   "execution_count": 85,
   "outputs": [
    {
     "data": {
      "text/plain": "array([0.0402665 , 0.04113919, 0.04700932, 0.03105758, 0.02463717,\n       0.0014214 , 0.02064368, 0.01051424, 0.01010471, 0.01903452,\n       0.02179238, 0.00366105, 0.03282354, 0.02536244, 0.02341634,\n       0.0154767 , 0.01847713, 0.02478652, 0.00143219, 0.00104913,\n       0.02456719, 0.00043256, 0.02817114, 0.01849144, 0.02723226,\n       0.02223125, 0.01831052, 0.00045465, 0.03682821, 0.01178156,\n       0.00031401, 0.00146025, 0.02464305, 0.01701067, 0.03250895,\n       0.02028943, 0.03510181, 0.0244807 , 0.01947358, 0.00059465,\n       0.01618317, 0.0187426 , 0.01645794, 0.01767952, 0.01803394,\n       0.01712506, 0.03108176, 0.02084425, 0.02186015, 0.04350801])"
     },
     "execution_count": 85,
     "metadata": {},
     "output_type": "execute_result"
    }
   ],
   "source": [
    "model_rf.feature_importances_"
   ],
   "metadata": {
    "collapsed": false,
    "pycharm": {
     "name": "#%%\n"
    }
   }
  },
  {
   "cell_type": "code",
   "execution_count": 86,
   "outputs": [
    {
     "data": {
      "text/plain": "                                              Feature  Importance\n2                 FMY__partial_autocorrelation__lag_3    0.047009\n49         TMX__fft_coefficient__attr_\"abs\"__coeff_33    0.043508\n1   FMY__agg_linear_trend__attr_\"intercept\"__chunk...    0.041139\n0    FMY__agg_autocorrelation__f_agg_\"var\"__maxlag_40    0.040266\n28         FMY__fft_coefficient__attr_\"abs\"__coeff_13    0.036828\n36  FMY__change_quantiles__f_agg_\"mean\"__isabs_Tru...    0.035102\n12                     FMY__fourier_entropy__bins_100    0.032824\n34                FMY__partial_autocorrelation__lag_2    0.032509\n46  FMY__agg_autocorrelation__f_agg_\"median\"__maxl...    0.031082\n3                       FMY__fourier_entropy__bins_10    0.031058\n22         FMY__fft_coefficient__attr_\"abs\"__coeff_12    0.028171\n24  FMY__agg_autocorrelation__f_agg_\"mean\"__maxlag_40    0.027232\n13  FMY__change_quantiles__f_agg_\"mean\"__isabs_Tru...    0.025362\n17  FMY__augmented_dickey_fuller__attr_\"teststat\"_...    0.024787\n32  FMY__change_quantiles__f_agg_\"mean\"__isabs_Tru...    0.024643\n4   FMY__agg_linear_trend__attr_\"stderr\"__chunk_le...    0.024637\n20               FMY__lempel_ziv_complexity__bins_100    0.024567\n37                     FMY__sum_of_reoccurring_values    0.024481\n14  FMY__change_quantiles__f_agg_\"mean\"__isabs_Tru...    0.023416\n25  FMY__change_quantiles__f_agg_\"mean\"__isabs_Tru...    0.022231\n48  FMY__change_quantiles__f_agg_\"mean\"__isabs_Tru...    0.021860\n10  FMY__agg_linear_trend__attr_\"stderr\"__chunk_le...    0.021792\n47  FMY__change_quantiles__f_agg_\"mean\"__isabs_Tru...    0.020844\n6   FMY__agg_linear_trend__attr_\"stderr\"__chunk_le...    0.020644\n35  FMY__change_quantiles__f_agg_\"mean\"__isabs_Tru...    0.020289\n38  FMY__change_quantiles__f_agg_\"mean\"__isabs_Tru...    0.019474\n9   FMY__agg_linear_trend__attr_\"stderr\"__chunk_le...    0.019035\n41  FMY__change_quantiles__f_agg_\"mean\"__isabs_Tru...    0.018743\n23  FMY__change_quantiles__f_agg_\"mean\"__isabs_Tru...    0.018491\n16                       FMY__fourier_entropy__bins_5    0.018477\n26                            FMY__standard_deviation    0.018311\n44                FMY__partial_autocorrelation__lag_1    0.018034\n43                        FMY__cid_ce__normalize_True    0.017680\n45                        FMY__autocorrelation__lag_1    0.017125\n33      FMY__ratio_value_number_to_time_series_length    0.017011\n42                       FMY__absolute_sum_of_changes    0.016458\n40                               FMY__mean_abs_change    0.016183\n15  FMY__change_quantiles__f_agg_\"mean\"__isabs_Tru...    0.015477\n29                       FMY__fourier_entropy__bins_3    0.011782\n7   FMY__agg_linear_trend__attr_\"stderr\"__chunk_le...    0.010514\n8   FMY__agg_linear_trend__attr_\"stderr\"__chunk_le...    0.010105\n11  FMY__agg_linear_trend__attr_\"stderr\"__chunk_le...    0.003661\n31  FMY__change_quantiles__f_agg_\"var\"__isabs_Fals...    0.001460\n18  FMY__change_quantiles__f_agg_\"var\"__isabs_Fals...    0.001432\n5                    FMY__linear_trend__attr_\"stderr\"    0.001421\n19  FMY__change_quantiles__f_agg_\"var\"__isabs_Fals...    0.001049\n39  FMY__change_quantiles__f_agg_\"var\"__isabs_Fals...    0.000595\n27  FMY__change_quantiles__f_agg_\"var\"__isabs_True...    0.000455\n21  FMY__change_quantiles__f_agg_\"var\"__isabs_True...    0.000433\n30  FMY__change_quantiles__f_agg_\"var\"__isabs_True...    0.000314",
      "text/html": "<div>\n<style scoped>\n    .dataframe tbody tr th:only-of-type {\n        vertical-align: middle;\n    }\n\n    .dataframe tbody tr th {\n        vertical-align: top;\n    }\n\n    .dataframe thead th {\n        text-align: right;\n    }\n</style>\n<table border=\"1\" class=\"dataframe\">\n  <thead>\n    <tr style=\"text-align: right;\">\n      <th></th>\n      <th>Feature</th>\n      <th>Importance</th>\n    </tr>\n  </thead>\n  <tbody>\n    <tr>\n      <th>2</th>\n      <td>FMY__partial_autocorrelation__lag_3</td>\n      <td>0.047009</td>\n    </tr>\n    <tr>\n      <th>49</th>\n      <td>TMX__fft_coefficient__attr_\"abs\"__coeff_33</td>\n      <td>0.043508</td>\n    </tr>\n    <tr>\n      <th>1</th>\n      <td>FMY__agg_linear_trend__attr_\"intercept\"__chunk...</td>\n      <td>0.041139</td>\n    </tr>\n    <tr>\n      <th>0</th>\n      <td>FMY__agg_autocorrelation__f_agg_\"var\"__maxlag_40</td>\n      <td>0.040266</td>\n    </tr>\n    <tr>\n      <th>28</th>\n      <td>FMY__fft_coefficient__attr_\"abs\"__coeff_13</td>\n      <td>0.036828</td>\n    </tr>\n    <tr>\n      <th>36</th>\n      <td>FMY__change_quantiles__f_agg_\"mean\"__isabs_Tru...</td>\n      <td>0.035102</td>\n    </tr>\n    <tr>\n      <th>12</th>\n      <td>FMY__fourier_entropy__bins_100</td>\n      <td>0.032824</td>\n    </tr>\n    <tr>\n      <th>34</th>\n      <td>FMY__partial_autocorrelation__lag_2</td>\n      <td>0.032509</td>\n    </tr>\n    <tr>\n      <th>46</th>\n      <td>FMY__agg_autocorrelation__f_agg_\"median\"__maxl...</td>\n      <td>0.031082</td>\n    </tr>\n    <tr>\n      <th>3</th>\n      <td>FMY__fourier_entropy__bins_10</td>\n      <td>0.031058</td>\n    </tr>\n    <tr>\n      <th>22</th>\n      <td>FMY__fft_coefficient__attr_\"abs\"__coeff_12</td>\n      <td>0.028171</td>\n    </tr>\n    <tr>\n      <th>24</th>\n      <td>FMY__agg_autocorrelation__f_agg_\"mean\"__maxlag_40</td>\n      <td>0.027232</td>\n    </tr>\n    <tr>\n      <th>13</th>\n      <td>FMY__change_quantiles__f_agg_\"mean\"__isabs_Tru...</td>\n      <td>0.025362</td>\n    </tr>\n    <tr>\n      <th>17</th>\n      <td>FMY__augmented_dickey_fuller__attr_\"teststat\"_...</td>\n      <td>0.024787</td>\n    </tr>\n    <tr>\n      <th>32</th>\n      <td>FMY__change_quantiles__f_agg_\"mean\"__isabs_Tru...</td>\n      <td>0.024643</td>\n    </tr>\n    <tr>\n      <th>4</th>\n      <td>FMY__agg_linear_trend__attr_\"stderr\"__chunk_le...</td>\n      <td>0.024637</td>\n    </tr>\n    <tr>\n      <th>20</th>\n      <td>FMY__lempel_ziv_complexity__bins_100</td>\n      <td>0.024567</td>\n    </tr>\n    <tr>\n      <th>37</th>\n      <td>FMY__sum_of_reoccurring_values</td>\n      <td>0.024481</td>\n    </tr>\n    <tr>\n      <th>14</th>\n      <td>FMY__change_quantiles__f_agg_\"mean\"__isabs_Tru...</td>\n      <td>0.023416</td>\n    </tr>\n    <tr>\n      <th>25</th>\n      <td>FMY__change_quantiles__f_agg_\"mean\"__isabs_Tru...</td>\n      <td>0.022231</td>\n    </tr>\n    <tr>\n      <th>48</th>\n      <td>FMY__change_quantiles__f_agg_\"mean\"__isabs_Tru...</td>\n      <td>0.021860</td>\n    </tr>\n    <tr>\n      <th>10</th>\n      <td>FMY__agg_linear_trend__attr_\"stderr\"__chunk_le...</td>\n      <td>0.021792</td>\n    </tr>\n    <tr>\n      <th>47</th>\n      <td>FMY__change_quantiles__f_agg_\"mean\"__isabs_Tru...</td>\n      <td>0.020844</td>\n    </tr>\n    <tr>\n      <th>6</th>\n      <td>FMY__agg_linear_trend__attr_\"stderr\"__chunk_le...</td>\n      <td>0.020644</td>\n    </tr>\n    <tr>\n      <th>35</th>\n      <td>FMY__change_quantiles__f_agg_\"mean\"__isabs_Tru...</td>\n      <td>0.020289</td>\n    </tr>\n    <tr>\n      <th>38</th>\n      <td>FMY__change_quantiles__f_agg_\"mean\"__isabs_Tru...</td>\n      <td>0.019474</td>\n    </tr>\n    <tr>\n      <th>9</th>\n      <td>FMY__agg_linear_trend__attr_\"stderr\"__chunk_le...</td>\n      <td>0.019035</td>\n    </tr>\n    <tr>\n      <th>41</th>\n      <td>FMY__change_quantiles__f_agg_\"mean\"__isabs_Tru...</td>\n      <td>0.018743</td>\n    </tr>\n    <tr>\n      <th>23</th>\n      <td>FMY__change_quantiles__f_agg_\"mean\"__isabs_Tru...</td>\n      <td>0.018491</td>\n    </tr>\n    <tr>\n      <th>16</th>\n      <td>FMY__fourier_entropy__bins_5</td>\n      <td>0.018477</td>\n    </tr>\n    <tr>\n      <th>26</th>\n      <td>FMY__standard_deviation</td>\n      <td>0.018311</td>\n    </tr>\n    <tr>\n      <th>44</th>\n      <td>FMY__partial_autocorrelation__lag_1</td>\n      <td>0.018034</td>\n    </tr>\n    <tr>\n      <th>43</th>\n      <td>FMY__cid_ce__normalize_True</td>\n      <td>0.017680</td>\n    </tr>\n    <tr>\n      <th>45</th>\n      <td>FMY__autocorrelation__lag_1</td>\n      <td>0.017125</td>\n    </tr>\n    <tr>\n      <th>33</th>\n      <td>FMY__ratio_value_number_to_time_series_length</td>\n      <td>0.017011</td>\n    </tr>\n    <tr>\n      <th>42</th>\n      <td>FMY__absolute_sum_of_changes</td>\n      <td>0.016458</td>\n    </tr>\n    <tr>\n      <th>40</th>\n      <td>FMY__mean_abs_change</td>\n      <td>0.016183</td>\n    </tr>\n    <tr>\n      <th>15</th>\n      <td>FMY__change_quantiles__f_agg_\"mean\"__isabs_Tru...</td>\n      <td>0.015477</td>\n    </tr>\n    <tr>\n      <th>29</th>\n      <td>FMY__fourier_entropy__bins_3</td>\n      <td>0.011782</td>\n    </tr>\n    <tr>\n      <th>7</th>\n      <td>FMY__agg_linear_trend__attr_\"stderr\"__chunk_le...</td>\n      <td>0.010514</td>\n    </tr>\n    <tr>\n      <th>8</th>\n      <td>FMY__agg_linear_trend__attr_\"stderr\"__chunk_le...</td>\n      <td>0.010105</td>\n    </tr>\n    <tr>\n      <th>11</th>\n      <td>FMY__agg_linear_trend__attr_\"stderr\"__chunk_le...</td>\n      <td>0.003661</td>\n    </tr>\n    <tr>\n      <th>31</th>\n      <td>FMY__change_quantiles__f_agg_\"var\"__isabs_Fals...</td>\n      <td>0.001460</td>\n    </tr>\n    <tr>\n      <th>18</th>\n      <td>FMY__change_quantiles__f_agg_\"var\"__isabs_Fals...</td>\n      <td>0.001432</td>\n    </tr>\n    <tr>\n      <th>5</th>\n      <td>FMY__linear_trend__attr_\"stderr\"</td>\n      <td>0.001421</td>\n    </tr>\n    <tr>\n      <th>19</th>\n      <td>FMY__change_quantiles__f_agg_\"var\"__isabs_Fals...</td>\n      <td>0.001049</td>\n    </tr>\n    <tr>\n      <th>39</th>\n      <td>FMY__change_quantiles__f_agg_\"var\"__isabs_Fals...</td>\n      <td>0.000595</td>\n    </tr>\n    <tr>\n      <th>27</th>\n      <td>FMY__change_quantiles__f_agg_\"var\"__isabs_True...</td>\n      <td>0.000455</td>\n    </tr>\n    <tr>\n      <th>21</th>\n      <td>FMY__change_quantiles__f_agg_\"var\"__isabs_True...</td>\n      <td>0.000433</td>\n    </tr>\n    <tr>\n      <th>30</th>\n      <td>FMY__change_quantiles__f_agg_\"var\"__isabs_True...</td>\n      <td>0.000314</td>\n    </tr>\n  </tbody>\n</table>\n</div>"
     },
     "execution_count": 86,
     "metadata": {},
     "output_type": "execute_result"
    }
   ],
   "source": [
    "importance = model_rf.feature_importances_\n",
    "feature_importance = pd.DataFrame({'Feature': selector.get_feature_names_out(), 'Importance': importance})\n",
    "feature_importance = feature_importance.sort_values('Importance', ascending=False)\n",
    "feature_importance"
   ],
   "metadata": {
    "collapsed": false,
    "pycharm": {
     "name": "#%%\n"
    }
   }
  },
  {
   "cell_type": "code",
   "execution_count": 87,
   "outputs": [],
   "source": [
    "feature_importance.to_excel('rf_ftest_features.xlsx')"
   ],
   "metadata": {
    "collapsed": false,
    "pycharm": {
     "name": "#%%\n"
    }
   }
  },
  {
   "cell_type": "code",
   "execution_count": null,
   "outputs": [],
   "source": [],
   "metadata": {
    "collapsed": false,
    "pycharm": {
     "name": "#%%\n"
    }
   }
  }
 ],
 "metadata": {
  "kernelspec": {
   "display_name": "Python 3",
   "language": "python",
   "name": "python3"
  },
  "language_info": {
   "codemirror_mode": {
    "name": "ipython",
    "version": 2
   },
   "file_extension": ".py",
   "mimetype": "text/x-python",
   "name": "python",
   "nbconvert_exporter": "python",
   "pygments_lexer": "ipython2",
   "version": "2.7.6"
  }
 },
 "nbformat": 4,
 "nbformat_minor": 0
}