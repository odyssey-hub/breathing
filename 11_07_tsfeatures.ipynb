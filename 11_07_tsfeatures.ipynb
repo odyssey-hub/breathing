{
 "cells": [
  {
   "cell_type": "code",
   "execution_count": 4,
   "outputs": [],
   "source": [
    "import pandas as pd\n",
    "import numpy as np\n",
    "from sklearn.model_selection import train_test_split\n",
    "from sklearn.preprocessing import  LabelEncoder"
   ],
   "metadata": {
    "collapsed": false,
    "pycharm": {
     "name": "#%%\n"
    }
   }
  },
  {
   "cell_type": "markdown",
   "source": [
    "<h3>Загрузка и предобработка датасета</h3>"
   ],
   "metadata": {
    "collapsed": false,
    "pycharm": {
     "name": "#%% md\n"
    }
   },
   "outputs": [
    {
     "ename": "SyntaxError",
     "evalue": "invalid syntax (331856314.py, line 1)",
     "output_type": "error",
     "traceback": [
      "\u001B[1;36m  Cell \u001B[1;32mIn[1], line 1\u001B[1;36m\u001B[0m\n\u001B[1;33m    <h3>Загрузка и предобработка датасета</h3>\u001B[0m\n\u001B[1;37m    ^\u001B[0m\n\u001B[1;31mSyntaxError\u001B[0m\u001B[1;31m:\u001B[0m invalid syntax\n"
     ]
    }
   ],
   "execution_count": 1
  },
  {
   "cell_type": "code",
   "execution_count": 49,
   "outputs": [
    {
     "data": {
      "text/plain": "   id  BreathingType  TimeStamp_sec  FirstMarkerXCoord  FirstMarkerYCoord  \\\n0   1              0       0.058895              0.689             -1.453   \n1   1              0       0.111889              0.687             -1.452   \n2   1              0       0.158371              0.687             -1.451   \n3   1              0       0.262516              0.685             -1.450   \n4   1              0       0.295620              0.684             -1.449   \n\n   FirstMarkerZCoord  SecondMarkerXCoord  SecondMarkerYCoord  \\\n0              4.417               0.881              -1.544   \n1              4.418               0.881              -1.544   \n2              4.419               0.881              -1.544   \n3              4.420               0.882              -1.544   \n4              4.420               0.883              -1.544   \n\n   SecondMarkerZCoord  ThirdMarkerXCoord  ThirdMarkerYCoord  ThirdMarkerZCoord  \n0               4.547              0.718             -1.607              4.369  \n1               4.547              0.715             -1.607              4.371  \n2               4.545              0.714             -1.607              4.371  \n3               4.541              0.711             -1.608              4.373  \n4               4.540              0.709             -1.607              4.370  ",
      "text/html": "<div>\n<style scoped>\n    .dataframe tbody tr th:only-of-type {\n        vertical-align: middle;\n    }\n\n    .dataframe tbody tr th {\n        vertical-align: top;\n    }\n\n    .dataframe thead th {\n        text-align: right;\n    }\n</style>\n<table border=\"1\" class=\"dataframe\">\n  <thead>\n    <tr style=\"text-align: right;\">\n      <th></th>\n      <th>id</th>\n      <th>BreathingType</th>\n      <th>TimeStamp_sec</th>\n      <th>FirstMarkerXCoord</th>\n      <th>FirstMarkerYCoord</th>\n      <th>FirstMarkerZCoord</th>\n      <th>SecondMarkerXCoord</th>\n      <th>SecondMarkerYCoord</th>\n      <th>SecondMarkerZCoord</th>\n      <th>ThirdMarkerXCoord</th>\n      <th>ThirdMarkerYCoord</th>\n      <th>ThirdMarkerZCoord</th>\n    </tr>\n  </thead>\n  <tbody>\n    <tr>\n      <th>0</th>\n      <td>1</td>\n      <td>0</td>\n      <td>0.058895</td>\n      <td>0.689</td>\n      <td>-1.453</td>\n      <td>4.417</td>\n      <td>0.881</td>\n      <td>-1.544</td>\n      <td>4.547</td>\n      <td>0.718</td>\n      <td>-1.607</td>\n      <td>4.369</td>\n    </tr>\n    <tr>\n      <th>1</th>\n      <td>1</td>\n      <td>0</td>\n      <td>0.111889</td>\n      <td>0.687</td>\n      <td>-1.452</td>\n      <td>4.418</td>\n      <td>0.881</td>\n      <td>-1.544</td>\n      <td>4.547</td>\n      <td>0.715</td>\n      <td>-1.607</td>\n      <td>4.371</td>\n    </tr>\n    <tr>\n      <th>2</th>\n      <td>1</td>\n      <td>0</td>\n      <td>0.158371</td>\n      <td>0.687</td>\n      <td>-1.451</td>\n      <td>4.419</td>\n      <td>0.881</td>\n      <td>-1.544</td>\n      <td>4.545</td>\n      <td>0.714</td>\n      <td>-1.607</td>\n      <td>4.371</td>\n    </tr>\n    <tr>\n      <th>3</th>\n      <td>1</td>\n      <td>0</td>\n      <td>0.262516</td>\n      <td>0.685</td>\n      <td>-1.450</td>\n      <td>4.420</td>\n      <td>0.882</td>\n      <td>-1.544</td>\n      <td>4.541</td>\n      <td>0.711</td>\n      <td>-1.608</td>\n      <td>4.373</td>\n    </tr>\n    <tr>\n      <th>4</th>\n      <td>1</td>\n      <td>0</td>\n      <td>0.295620</td>\n      <td>0.684</td>\n      <td>-1.449</td>\n      <td>4.420</td>\n      <td>0.883</td>\n      <td>-1.544</td>\n      <td>4.540</td>\n      <td>0.709</td>\n      <td>-1.607</td>\n      <td>4.370</td>\n    </tr>\n  </tbody>\n</table>\n</div>"
     },
     "execution_count": 49,
     "metadata": {},
     "output_type": "execute_result"
    }
   ],
   "source": [
    "#загрузка датасета\n",
    "df = pd.read_csv('coords_data_numerated.csv')\n",
    "df = df.drop(columns=['Unnamed: 0', 'GSR'])\n",
    "df.head()"
   ],
   "metadata": {
    "collapsed": false,
    "pycharm": {
     "name": "#%%\n"
    }
   }
  },
  {
   "cell_type": "code",
   "execution_count": 105,
   "outputs": [
    {
     "data": {
      "text/plain": "         id  TimeStamp_sec  FirstMarkerXCoord  FirstMarkerYCoord  \\\n230921  258       59.76925              1.063             -1.649   \n230922  258       59.80188              1.062             -1.648   \n230923  258       59.90696              1.062             -1.648   \n230924  258       59.92954              1.063             -1.647   \n230925  258       59.99477              1.063             -1.647   \n\n        FirstMarkerZCoord  SecondMarkerXCoord  SecondMarkerYCoord  \\\n230921              3.843               1.093              -1.839   \n230922              3.842               1.094              -1.841   \n230923              3.842               1.093              -1.841   \n230924              3.842               1.094              -1.841   \n230925              3.842               1.094              -1.841   \n\n        SecondMarkerZCoord  ThirdMarkerXCoord  ThirdMarkerYCoord  \\\n230921               3.624              1.030             -1.867   \n230922               3.625              1.030             -1.867   \n230923               3.624              1.030             -1.868   \n230924               3.624              1.029             -1.868   \n230925               3.623              1.030             -1.868   \n\n        ThirdMarkerZCoord  \n230921              3.859  \n230922              3.857  \n230923              3.855  \n230924              3.853  \n230925              3.853  ",
      "text/html": "<div>\n<style scoped>\n    .dataframe tbody tr th:only-of-type {\n        vertical-align: middle;\n    }\n\n    .dataframe tbody tr th {\n        vertical-align: top;\n    }\n\n    .dataframe thead th {\n        text-align: right;\n    }\n</style>\n<table border=\"1\" class=\"dataframe\">\n  <thead>\n    <tr style=\"text-align: right;\">\n      <th></th>\n      <th>id</th>\n      <th>TimeStamp_sec</th>\n      <th>FirstMarkerXCoord</th>\n      <th>FirstMarkerYCoord</th>\n      <th>FirstMarkerZCoord</th>\n      <th>SecondMarkerXCoord</th>\n      <th>SecondMarkerYCoord</th>\n      <th>SecondMarkerZCoord</th>\n      <th>ThirdMarkerXCoord</th>\n      <th>ThirdMarkerYCoord</th>\n      <th>ThirdMarkerZCoord</th>\n    </tr>\n  </thead>\n  <tbody>\n    <tr>\n      <th>230921</th>\n      <td>258</td>\n      <td>59.76925</td>\n      <td>1.063</td>\n      <td>-1.649</td>\n      <td>3.843</td>\n      <td>1.093</td>\n      <td>-1.839</td>\n      <td>3.624</td>\n      <td>1.030</td>\n      <td>-1.867</td>\n      <td>3.859</td>\n    </tr>\n    <tr>\n      <th>230922</th>\n      <td>258</td>\n      <td>59.80188</td>\n      <td>1.062</td>\n      <td>-1.648</td>\n      <td>3.842</td>\n      <td>1.094</td>\n      <td>-1.841</td>\n      <td>3.625</td>\n      <td>1.030</td>\n      <td>-1.867</td>\n      <td>3.857</td>\n    </tr>\n    <tr>\n      <th>230923</th>\n      <td>258</td>\n      <td>59.90696</td>\n      <td>1.062</td>\n      <td>-1.648</td>\n      <td>3.842</td>\n      <td>1.093</td>\n      <td>-1.841</td>\n      <td>3.624</td>\n      <td>1.030</td>\n      <td>-1.868</td>\n      <td>3.855</td>\n    </tr>\n    <tr>\n      <th>230924</th>\n      <td>258</td>\n      <td>59.92954</td>\n      <td>1.063</td>\n      <td>-1.647</td>\n      <td>3.842</td>\n      <td>1.094</td>\n      <td>-1.841</td>\n      <td>3.624</td>\n      <td>1.029</td>\n      <td>-1.868</td>\n      <td>3.853</td>\n    </tr>\n    <tr>\n      <th>230925</th>\n      <td>258</td>\n      <td>59.99477</td>\n      <td>1.063</td>\n      <td>-1.647</td>\n      <td>3.842</td>\n      <td>1.094</td>\n      <td>-1.841</td>\n      <td>3.623</td>\n      <td>1.030</td>\n      <td>-1.868</td>\n      <td>3.853</td>\n    </tr>\n  </tbody>\n</table>\n</div>"
     },
     "execution_count": 105,
     "metadata": {},
     "output_type": "execute_result"
    }
   ],
   "source": [
    "#Определение выходного признака и входных признаков\n",
    "y = df['BreathingType']\n",
    "X = df.drop(columns=['BreathingType'])\n",
    "X.tail()"
   ],
   "metadata": {
    "collapsed": false,
    "pycharm": {
     "name": "#%%\n"
    }
   }
  },
  {
   "cell_type": "code",
   "execution_count": 106,
   "outputs": [
    {
     "data": {
      "text/plain": "   id  TimeStamp_sec    FMX    FMY    FMZ    SMX    SMY    SMZ    TMX    TMY  \\\n0   1       0.058895  0.689 -1.453  4.417  0.881 -1.544  4.547  0.718 -1.607   \n1   1       0.111889  0.687 -1.452  4.418  0.881 -1.544  4.547  0.715 -1.607   \n2   1       0.158371  0.687 -1.451  4.419  0.881 -1.544  4.545  0.714 -1.607   \n3   1       0.262516  0.685 -1.450  4.420  0.882 -1.544  4.541  0.711 -1.608   \n4   1       0.295620  0.684 -1.449  4.420  0.883 -1.544  4.540  0.709 -1.607   \n\n     TMZ  \n0  4.369  \n1  4.371  \n2  4.371  \n3  4.373  \n4  4.370  ",
      "text/html": "<div>\n<style scoped>\n    .dataframe tbody tr th:only-of-type {\n        vertical-align: middle;\n    }\n\n    .dataframe tbody tr th {\n        vertical-align: top;\n    }\n\n    .dataframe thead th {\n        text-align: right;\n    }\n</style>\n<table border=\"1\" class=\"dataframe\">\n  <thead>\n    <tr style=\"text-align: right;\">\n      <th></th>\n      <th>id</th>\n      <th>TimeStamp_sec</th>\n      <th>FMX</th>\n      <th>FMY</th>\n      <th>FMZ</th>\n      <th>SMX</th>\n      <th>SMY</th>\n      <th>SMZ</th>\n      <th>TMX</th>\n      <th>TMY</th>\n      <th>TMZ</th>\n    </tr>\n  </thead>\n  <tbody>\n    <tr>\n      <th>0</th>\n      <td>1</td>\n      <td>0.058895</td>\n      <td>0.689</td>\n      <td>-1.453</td>\n      <td>4.417</td>\n      <td>0.881</td>\n      <td>-1.544</td>\n      <td>4.547</td>\n      <td>0.718</td>\n      <td>-1.607</td>\n      <td>4.369</td>\n    </tr>\n    <tr>\n      <th>1</th>\n      <td>1</td>\n      <td>0.111889</td>\n      <td>0.687</td>\n      <td>-1.452</td>\n      <td>4.418</td>\n      <td>0.881</td>\n      <td>-1.544</td>\n      <td>4.547</td>\n      <td>0.715</td>\n      <td>-1.607</td>\n      <td>4.371</td>\n    </tr>\n    <tr>\n      <th>2</th>\n      <td>1</td>\n      <td>0.158371</td>\n      <td>0.687</td>\n      <td>-1.451</td>\n      <td>4.419</td>\n      <td>0.881</td>\n      <td>-1.544</td>\n      <td>4.545</td>\n      <td>0.714</td>\n      <td>-1.607</td>\n      <td>4.371</td>\n    </tr>\n    <tr>\n      <th>3</th>\n      <td>1</td>\n      <td>0.262516</td>\n      <td>0.685</td>\n      <td>-1.450</td>\n      <td>4.420</td>\n      <td>0.882</td>\n      <td>-1.544</td>\n      <td>4.541</td>\n      <td>0.711</td>\n      <td>-1.608</td>\n      <td>4.373</td>\n    </tr>\n    <tr>\n      <th>4</th>\n      <td>1</td>\n      <td>0.295620</td>\n      <td>0.684</td>\n      <td>-1.449</td>\n      <td>4.420</td>\n      <td>0.883</td>\n      <td>-1.544</td>\n      <td>4.540</td>\n      <td>0.709</td>\n      <td>-1.607</td>\n      <td>4.370</td>\n    </tr>\n  </tbody>\n</table>\n</div>"
     },
     "execution_count": 106,
     "metadata": {},
     "output_type": "execute_result"
    }
   ],
   "source": [
    "#переименование столбцов\n",
    "dict_renames = {\n",
    "    'FirstMarkerXCoord' : 'FMX',\n",
    "    'FirstMarkerYCoord' : 'FMY',\n",
    "    'FirstMarkerZCoord' : 'FMZ',\n",
    "    'SecondMarkerXCoord' :  'SMX',\n",
    "    'SecondMarkerYCoord' : 'SMY',\n",
    "    'SecondMarkerZCoord' : 'SMZ',\n",
    "    'ThirdMarkerXCoord' : 'TMX',\n",
    "    'ThirdMarkerYCoord' : 'TMY',\n",
    "    'ThirdMarkerZCoord' : 'TMZ'\n",
    "}\n",
    "X = X.rename(columns=dict_renames)\n",
    "X.head()"
   ],
   "metadata": {
    "collapsed": false,
    "pycharm": {
     "name": "#%%\n"
    }
   }
  },
  {
   "cell_type": "markdown",
   "source": [
    "<h3>Вычисление скользящего среднего и процентных изменений</h3>"
   ],
   "metadata": {
    "collapsed": false,
    "pycharm": {
     "name": "#%% md\n"
    }
   }
  },
  {
   "cell_type": "code",
   "execution_count": 107,
   "outputs": [],
   "source": [
    "numeric_cols = X.drop(columns=['id', 'TimeStamp_sec'])\n",
    "X2 = X.iloc[0:0]"
   ],
   "metadata": {
    "collapsed": false,
    "pycharm": {
     "name": "#%%\n"
    }
   }
  },
  {
   "cell_type": "code",
   "execution_count": 108,
   "outputs": [],
   "source": [
    "for i in range(1, 259):\n",
    "    X_id = X[X['id'] == i].reset_index(drop=True)\n",
    "    for col in numeric_cols:\n",
    "        X_id[col+'_roll10'] = X_id[col].rolling(10).mean()\n",
    "        X_id[col+'_pct10'] = X_id[col].pct_change(periods=10)\n",
    "        X_id = X_id[10:]\n",
    "        X_id = X_id.reset_index(drop=True)\n",
    "    X2 =  pd.concat([X2, X_id], axis=0, ignore_index=True)"
   ],
   "metadata": {
    "collapsed": false,
    "pycharm": {
     "name": "#%%\n"
    }
   }
  },
  {
   "cell_type": "code",
   "execution_count": 112,
   "outputs": [],
   "source": [
    "X = X2"
   ],
   "metadata": {
    "collapsed": false,
    "pycharm": {
     "name": "#%%\n"
    }
   }
  },
  {
   "cell_type": "code",
   "execution_count": 44,
   "outputs": [],
   "source": [
    "# dimensions = ['X', 'Y', 'Z']\n",
    "# markers = ['F', 'S', 'T']\n",
    "# for dimension in dimensions:\n",
    "#     markers_dimension = ['FM'+dimension, 'SM'+dimension, 'TM'+dimension]\n",
    "#     X['Mean_'+dimension] = X[markers_dimension].mean(axis=1)\n",
    "#     X['Median_'+dimension] = X[markers_dimension].median(axis=1)\n",
    "#     X['Std_'+dimension] = X[markers_dimension].std(axis=1)\n",
    "# for marker in markers:\n",
    "#     markers_dimension = [marker+'MX', marker+'MY', marker+'MZ']\n",
    "#     X['Mean_'+ marker] = X[markers_dimension].mean(axis=1)\n",
    "#     X['Median_'+ marker] = X[markers_dimension].median(axis=1)\n",
    "#     X['Std_'+marker] = X[markers_dimension].std(axis=1)"
   ],
   "metadata": {
    "collapsed": false,
    "pycharm": {
     "name": "#%%\n"
    }
   }
  },
  {
   "cell_type": "markdown",
   "source": [
    "<h3>Извлечение признаков с помощью библиотеки TSFresh</h3>"
   ],
   "metadata": {
    "collapsed": false,
    "pycharm": {
     "name": "#%% md\n"
    }
   }
  },
  {
   "cell_type": "code",
   "execution_count": 114,
   "outputs": [],
   "source": [
    "import tsfresh"
   ],
   "metadata": {
    "collapsed": false,
    "pycharm": {
     "name": "#%%\n"
    }
   }
  },
  {
   "cell_type": "code",
   "execution_count": 115,
   "outputs": [],
   "source": [
    "settings = tsfresh.feature_extraction.settings.EfficientFCParameters()"
   ],
   "metadata": {
    "collapsed": false,
    "pycharm": {
     "name": "#%%\n"
    }
   }
  },
  {
   "cell_type": "code",
   "execution_count": 116,
   "outputs": [
    {
     "name": "stderr",
     "output_type": "stream",
     "text": [
      "Feature Extraction: 100%|██████████| 10/10 [11:48<00:00, 70.82s/it]\n"
     ]
    }
   ],
   "source": [
    "extracted_features = tsfresh.extract_features(X, column_sort='TimeStamp_sec', column_id='id', default_fc_parameters=settings)"
   ],
   "metadata": {
    "collapsed": false,
    "pycharm": {
     "name": "#%%\n"
    }
   }
  },
  {
   "cell_type": "code",
   "execution_count": 117,
   "outputs": [
    {
     "data": {
      "text/plain": "   FMX__variance_larger_than_standard_deviation  FMX__has_duplicate_max  \\\n1                                           0.0                     1.0   \n2                                           0.0                     1.0   \n3                                           0.0                     1.0   \n4                                           0.0                     1.0   \n5                                           0.0                     1.0   \n\n   FMX__has_duplicate_min  FMX__has_duplicate  FMX__sum_values  \\\n1                     1.0                 1.0          533.914   \n2                     1.0                 1.0          539.094   \n3                     1.0                 1.0          521.739   \n4                     1.0                 1.0          685.134   \n5                     0.0                 1.0          530.909   \n\n   FMX__abs_energy  FMX__mean_abs_change  FMX__mean_change  \\\n1       351.588992              0.000381         -0.000014   \n2       358.479264              0.000426         -0.000033   \n3       335.775751              0.000448         -0.000023   \n4       578.958376              0.000374         -0.000009   \n5       347.569343              0.000332          0.000016   \n\n   FMX__mean_second_derivative_central  FMX__median  ...  \\\n1                         6.180470e-07        0.659  ...   \n2                         6.180470e-07        0.665  ...   \n3                         1.236094e-06        0.641  ...   \n4                        -1.236094e-06        0.846  ...   \n5                         0.000000e+00        0.655  ...   \n\n   TMZ_pct10__fourier_entropy__bins_5  TMZ_pct10__fourier_entropy__bins_10  \\\n1                            0.125256                             0.215617   \n2                            0.322457                             0.630170   \n3                            0.399212                             0.573560   \n4                            0.490805                             0.632796   \n5                            0.344487                             0.495238   \n\n   TMZ_pct10__fourier_entropy__bins_100  \\\n1                              0.686484   \n2                              0.974107   \n3                              0.930168   \n4                              1.141056   \n5                              0.878044   \n\n   TMZ_pct10__permutation_entropy__dimension_3__tau_1  \\\n1                                           1.542045    \n2                                           1.470789    \n3                                           1.591937    \n4                                           1.537968    \n5                                           1.433540    \n\n   TMZ_pct10__permutation_entropy__dimension_4__tau_1  \\\n1                                           2.451639    \n2                                           2.323384    \n3                                           2.545629    \n4                                           2.486872    \n5                                           2.236041    \n\n   TMZ_pct10__permutation_entropy__dimension_5__tau_1  \\\n1                                           3.367814    \n2                                           3.196418    \n3                                           3.553269    \n4                                           3.476458    \n5                                           3.027934    \n\n   TMZ_pct10__permutation_entropy__dimension_6__tau_1  \\\n1                                           4.161336    \n2                                           4.019150    \n3                                           4.481202    \n4                                           4.351371    \n5                                           3.753428    \n\n   TMZ_pct10__permutation_entropy__dimension_7__tau_1  \\\n1                                           4.787248    \n2                                           4.755507    \n3                                           5.222057    \n4                                           5.035845    \n5                                           4.378067    \n\n   TMZ_pct10__query_similarity_count__query_None__threshold_0.0  \\\n1                                                NaN              \n2                                                NaN              \n3                                                NaN              \n4                                                NaN              \n5                                                NaN              \n\n   TMZ_pct10__mean_n_absolute_max__number_of_maxima_7  \n1                                           0.004761   \n2                                           0.004329   \n3                                           0.005091   \n4                                           0.006211   \n5                                           0.004787   \n\n[5 rows x 20979 columns]",
      "text/html": "<div>\n<style scoped>\n    .dataframe tbody tr th:only-of-type {\n        vertical-align: middle;\n    }\n\n    .dataframe tbody tr th {\n        vertical-align: top;\n    }\n\n    .dataframe thead th {\n        text-align: right;\n    }\n</style>\n<table border=\"1\" class=\"dataframe\">\n  <thead>\n    <tr style=\"text-align: right;\">\n      <th></th>\n      <th>FMX__variance_larger_than_standard_deviation</th>\n      <th>FMX__has_duplicate_max</th>\n      <th>FMX__has_duplicate_min</th>\n      <th>FMX__has_duplicate</th>\n      <th>FMX__sum_values</th>\n      <th>FMX__abs_energy</th>\n      <th>FMX__mean_abs_change</th>\n      <th>FMX__mean_change</th>\n      <th>FMX__mean_second_derivative_central</th>\n      <th>FMX__median</th>\n      <th>...</th>\n      <th>TMZ_pct10__fourier_entropy__bins_5</th>\n      <th>TMZ_pct10__fourier_entropy__bins_10</th>\n      <th>TMZ_pct10__fourier_entropy__bins_100</th>\n      <th>TMZ_pct10__permutation_entropy__dimension_3__tau_1</th>\n      <th>TMZ_pct10__permutation_entropy__dimension_4__tau_1</th>\n      <th>TMZ_pct10__permutation_entropy__dimension_5__tau_1</th>\n      <th>TMZ_pct10__permutation_entropy__dimension_6__tau_1</th>\n      <th>TMZ_pct10__permutation_entropy__dimension_7__tau_1</th>\n      <th>TMZ_pct10__query_similarity_count__query_None__threshold_0.0</th>\n      <th>TMZ_pct10__mean_n_absolute_max__number_of_maxima_7</th>\n    </tr>\n  </thead>\n  <tbody>\n    <tr>\n      <th>1</th>\n      <td>0.0</td>\n      <td>1.0</td>\n      <td>1.0</td>\n      <td>1.0</td>\n      <td>533.914</td>\n      <td>351.588992</td>\n      <td>0.000381</td>\n      <td>-0.000014</td>\n      <td>6.180470e-07</td>\n      <td>0.659</td>\n      <td>...</td>\n      <td>0.125256</td>\n      <td>0.215617</td>\n      <td>0.686484</td>\n      <td>1.542045</td>\n      <td>2.451639</td>\n      <td>3.367814</td>\n      <td>4.161336</td>\n      <td>4.787248</td>\n      <td>NaN</td>\n      <td>0.004761</td>\n    </tr>\n    <tr>\n      <th>2</th>\n      <td>0.0</td>\n      <td>1.0</td>\n      <td>1.0</td>\n      <td>1.0</td>\n      <td>539.094</td>\n      <td>358.479264</td>\n      <td>0.000426</td>\n      <td>-0.000033</td>\n      <td>6.180470e-07</td>\n      <td>0.665</td>\n      <td>...</td>\n      <td>0.322457</td>\n      <td>0.630170</td>\n      <td>0.974107</td>\n      <td>1.470789</td>\n      <td>2.323384</td>\n      <td>3.196418</td>\n      <td>4.019150</td>\n      <td>4.755507</td>\n      <td>NaN</td>\n      <td>0.004329</td>\n    </tr>\n    <tr>\n      <th>3</th>\n      <td>0.0</td>\n      <td>1.0</td>\n      <td>1.0</td>\n      <td>1.0</td>\n      <td>521.739</td>\n      <td>335.775751</td>\n      <td>0.000448</td>\n      <td>-0.000023</td>\n      <td>1.236094e-06</td>\n      <td>0.641</td>\n      <td>...</td>\n      <td>0.399212</td>\n      <td>0.573560</td>\n      <td>0.930168</td>\n      <td>1.591937</td>\n      <td>2.545629</td>\n      <td>3.553269</td>\n      <td>4.481202</td>\n      <td>5.222057</td>\n      <td>NaN</td>\n      <td>0.005091</td>\n    </tr>\n    <tr>\n      <th>4</th>\n      <td>0.0</td>\n      <td>1.0</td>\n      <td>1.0</td>\n      <td>1.0</td>\n      <td>685.134</td>\n      <td>578.958376</td>\n      <td>0.000374</td>\n      <td>-0.000009</td>\n      <td>-1.236094e-06</td>\n      <td>0.846</td>\n      <td>...</td>\n      <td>0.490805</td>\n      <td>0.632796</td>\n      <td>1.141056</td>\n      <td>1.537968</td>\n      <td>2.486872</td>\n      <td>3.476458</td>\n      <td>4.351371</td>\n      <td>5.035845</td>\n      <td>NaN</td>\n      <td>0.006211</td>\n    </tr>\n    <tr>\n      <th>5</th>\n      <td>0.0</td>\n      <td>1.0</td>\n      <td>0.0</td>\n      <td>1.0</td>\n      <td>530.909</td>\n      <td>347.569343</td>\n      <td>0.000332</td>\n      <td>0.000016</td>\n      <td>0.000000e+00</td>\n      <td>0.655</td>\n      <td>...</td>\n      <td>0.344487</td>\n      <td>0.495238</td>\n      <td>0.878044</td>\n      <td>1.433540</td>\n      <td>2.236041</td>\n      <td>3.027934</td>\n      <td>3.753428</td>\n      <td>4.378067</td>\n      <td>NaN</td>\n      <td>0.004787</td>\n    </tr>\n  </tbody>\n</table>\n<p>5 rows × 20979 columns</p>\n</div>"
     },
     "execution_count": 117,
     "metadata": {},
     "output_type": "execute_result"
    }
   ],
   "source": [
    "extracted_features.head()"
   ],
   "metadata": {
    "collapsed": false,
    "pycharm": {
     "name": "#%%\n"
    }
   }
  },
  {
   "cell_type": "code",
   "execution_count": 118,
   "outputs": [],
   "source": [
    "extracted_features.to_csv('tsfresh_features.csv')"
   ],
   "metadata": {
    "collapsed": false,
    "pycharm": {
     "name": "#%%\n"
    }
   }
  },
  {
   "cell_type": "code",
   "execution_count": 119,
   "outputs": [],
   "source": [
    "unique_pairs = df[['id', 'BreathingType']].drop_duplicates()\n",
    "unique_pairs = unique_pairs.reset_index(drop=True)\n",
    "y = unique_pairs\n",
    "y.index = y['id']\n",
    "y = y.drop(columns=['id'])\n",
    "y = pd.Series(y['BreathingType'])"
   ],
   "metadata": {
    "collapsed": false,
    "pycharm": {
     "name": "#%%\n"
    }
   }
  },
  {
   "cell_type": "code",
   "execution_count": 120,
   "outputs": [],
   "source": [
    "from tsfresh import select_features\n",
    "from tsfresh.utilities.dataframe_functions import impute\n",
    "\n",
    "impute(extracted_features)\n",
    "features_filtered = select_features(extracted_features, y, multiclass=True)"
   ],
   "metadata": {
    "collapsed": false,
    "pycharm": {
     "name": "#%%\n"
    }
   }
  },
  {
   "cell_type": "code",
   "execution_count": 121,
   "outputs": [
    {
     "data": {
      "text/plain": "   FMY_pct10__cid_ce__normalize_True  FMY_pct10__autocorrelation__lag_2  \\\n1                           7.929089                           0.897468   \n2                           5.210834                           0.961339   \n3                           4.936017                           0.967068   \n4                          11.238435                           0.836489   \n5                           8.159707                           0.918191   \n\n   FMY_pct10__autocorrelation__lag_3  FMY_pct10__autocorrelation__lag_1  \\\n1                           0.811114                           0.961261   \n2                           0.932359                           0.983997   \n3                           0.938197                           0.985714   \n4                           0.731767                           0.923085   \n5                           0.859821                           0.958863   \n\n   FMY_pct10__partial_autocorrelation__lag_1  \\\n1                                   0.961261   \n2                                   0.983997   \n3                                   0.985714   \n4                                   0.923085   \n5                                   0.958863   \n\n   FMY_pct10__autocorrelation__lag_4  FMY_pct10__autocorrelation__lag_5  \\\n1                           0.707574                           0.594240   \n2                           0.896756                           0.854553   \n3                           0.904869                           0.865883   \n4                           0.609539                           0.473813   \n5                           0.798942                           0.727118   \n\n   FMY_pct10__number_crossing_m__m_0  \\\n1                               53.0   \n2                               24.0   \n3                               28.0   \n4                               88.0   \n5                               41.0   \n\n   FMY__agg_autocorrelation__f_agg_\"var\"__maxlag_40  \\\n1                                          0.204120   \n2                                          0.389174   \n3                                          0.366811   \n4                                          0.028676   \n5                                          0.296572   \n\n   FMY_roll10__change_quantiles__f_agg_\"mean\"__isabs_True__qh_0.8__ql_0.4  \\\n1                                           0.000337                        \n2                                           0.000663                        \n3                                           0.000722                        \n4                                           0.000156                        \n5                                           0.000261                        \n\n   ...  \\\n1  ...   \n2  ...   \n3  ...   \n4  ...   \n5  ...   \n\n   TMX_roll10__agg_linear_trend__attr_\"stderr\"__chunk_len_10__f_agg_\"max\"  \\\n1                                           0.000048                        \n2                                           0.000033                        \n3                                           0.000062                        \n4                                           0.000042                        \n5                                           0.000016                        \n\n   TMX_roll10__percentage_of_reoccurring_datapoints_to_all_datapoints  \\\n1                                           0.737361                    \n2                                           0.665845                    \n3                                           0.647349                    \n4                                           0.748459                    \n5                                           0.933416                    \n\n   TMX__fft_coefficient__attr_\"abs\"__coeff_11  \\\n1                                    0.087958   \n2                                    0.791528   \n3                                    1.321335   \n4                                    0.620764   \n5                                    0.305494   \n\n   TMX__agg_linear_trend__attr_\"stderr\"__chunk_len_5__f_agg_\"var\"  \\\n1                                       2.018261e-09                \n2                                       9.124840e-10                \n3                                       2.242614e-09                \n4                                       1.674959e-09                \n5                                       3.748917e-10                \n\n   TMX_pct10__fft_aggregated__aggtype_\"variance\"  \\\n1                                    9147.330154   \n2                                   10588.796222   \n3                                    9165.694375   \n4                                   10021.011067   \n5                                   11911.045566   \n\n   TMX_roll10__fft_coefficient__attr_\"abs\"__coeff_11  \\\n1                                           0.086731   \n2                                           0.789134   \n3                                           1.264288   \n4                                           0.554382   \n5                                           0.313686   \n\n   TMX_pct10__fft_aggregated__aggtype_\"kurtosis\"  \\\n1                                       6.574683   \n2                                       5.692524   \n3                                       6.902022   \n4                                       5.986077   \n5                                       4.989529   \n\n   TMX__ratio_value_number_to_time_series_length  \\\n1                                       0.062885   \n2                                       0.060419   \n3                                       0.077682   \n4                                       0.057953   \n5                                       0.023428   \n\n   TMX_pct10__number_peaks__n_50  TMX__ar_coefficient__coeff_1__k_10  \n1                            3.0                            1.066948  \n2                            6.0                            0.951410  \n3                            7.0                            0.928660  \n4                            6.0                            1.069200  \n5                            4.0                            0.824402  \n\n[5 rows x 454 columns]",
      "text/html": "<div>\n<style scoped>\n    .dataframe tbody tr th:only-of-type {\n        vertical-align: middle;\n    }\n\n    .dataframe tbody tr th {\n        vertical-align: top;\n    }\n\n    .dataframe thead th {\n        text-align: right;\n    }\n</style>\n<table border=\"1\" class=\"dataframe\">\n  <thead>\n    <tr style=\"text-align: right;\">\n      <th></th>\n      <th>FMY_pct10__cid_ce__normalize_True</th>\n      <th>FMY_pct10__autocorrelation__lag_2</th>\n      <th>FMY_pct10__autocorrelation__lag_3</th>\n      <th>FMY_pct10__autocorrelation__lag_1</th>\n      <th>FMY_pct10__partial_autocorrelation__lag_1</th>\n      <th>FMY_pct10__autocorrelation__lag_4</th>\n      <th>FMY_pct10__autocorrelation__lag_5</th>\n      <th>FMY_pct10__number_crossing_m__m_0</th>\n      <th>FMY__agg_autocorrelation__f_agg_\"var\"__maxlag_40</th>\n      <th>FMY_roll10__change_quantiles__f_agg_\"mean\"__isabs_True__qh_0.8__ql_0.4</th>\n      <th>...</th>\n      <th>TMX_roll10__agg_linear_trend__attr_\"stderr\"__chunk_len_10__f_agg_\"max\"</th>\n      <th>TMX_roll10__percentage_of_reoccurring_datapoints_to_all_datapoints</th>\n      <th>TMX__fft_coefficient__attr_\"abs\"__coeff_11</th>\n      <th>TMX__agg_linear_trend__attr_\"stderr\"__chunk_len_5__f_agg_\"var\"</th>\n      <th>TMX_pct10__fft_aggregated__aggtype_\"variance\"</th>\n      <th>TMX_roll10__fft_coefficient__attr_\"abs\"__coeff_11</th>\n      <th>TMX_pct10__fft_aggregated__aggtype_\"kurtosis\"</th>\n      <th>TMX__ratio_value_number_to_time_series_length</th>\n      <th>TMX_pct10__number_peaks__n_50</th>\n      <th>TMX__ar_coefficient__coeff_1__k_10</th>\n    </tr>\n  </thead>\n  <tbody>\n    <tr>\n      <th>1</th>\n      <td>7.929089</td>\n      <td>0.897468</td>\n      <td>0.811114</td>\n      <td>0.961261</td>\n      <td>0.961261</td>\n      <td>0.707574</td>\n      <td>0.594240</td>\n      <td>53.0</td>\n      <td>0.204120</td>\n      <td>0.000337</td>\n      <td>...</td>\n      <td>0.000048</td>\n      <td>0.737361</td>\n      <td>0.087958</td>\n      <td>2.018261e-09</td>\n      <td>9147.330154</td>\n      <td>0.086731</td>\n      <td>6.574683</td>\n      <td>0.062885</td>\n      <td>3.0</td>\n      <td>1.066948</td>\n    </tr>\n    <tr>\n      <th>2</th>\n      <td>5.210834</td>\n      <td>0.961339</td>\n      <td>0.932359</td>\n      <td>0.983997</td>\n      <td>0.983997</td>\n      <td>0.896756</td>\n      <td>0.854553</td>\n      <td>24.0</td>\n      <td>0.389174</td>\n      <td>0.000663</td>\n      <td>...</td>\n      <td>0.000033</td>\n      <td>0.665845</td>\n      <td>0.791528</td>\n      <td>9.124840e-10</td>\n      <td>10588.796222</td>\n      <td>0.789134</td>\n      <td>5.692524</td>\n      <td>0.060419</td>\n      <td>6.0</td>\n      <td>0.951410</td>\n    </tr>\n    <tr>\n      <th>3</th>\n      <td>4.936017</td>\n      <td>0.967068</td>\n      <td>0.938197</td>\n      <td>0.985714</td>\n      <td>0.985714</td>\n      <td>0.904869</td>\n      <td>0.865883</td>\n      <td>28.0</td>\n      <td>0.366811</td>\n      <td>0.000722</td>\n      <td>...</td>\n      <td>0.000062</td>\n      <td>0.647349</td>\n      <td>1.321335</td>\n      <td>2.242614e-09</td>\n      <td>9165.694375</td>\n      <td>1.264288</td>\n      <td>6.902022</td>\n      <td>0.077682</td>\n      <td>7.0</td>\n      <td>0.928660</td>\n    </tr>\n    <tr>\n      <th>4</th>\n      <td>11.238435</td>\n      <td>0.836489</td>\n      <td>0.731767</td>\n      <td>0.923085</td>\n      <td>0.923085</td>\n      <td>0.609539</td>\n      <td>0.473813</td>\n      <td>88.0</td>\n      <td>0.028676</td>\n      <td>0.000156</td>\n      <td>...</td>\n      <td>0.000042</td>\n      <td>0.748459</td>\n      <td>0.620764</td>\n      <td>1.674959e-09</td>\n      <td>10021.011067</td>\n      <td>0.554382</td>\n      <td>5.986077</td>\n      <td>0.057953</td>\n      <td>6.0</td>\n      <td>1.069200</td>\n    </tr>\n    <tr>\n      <th>5</th>\n      <td>8.159707</td>\n      <td>0.918191</td>\n      <td>0.859821</td>\n      <td>0.958863</td>\n      <td>0.958863</td>\n      <td>0.798942</td>\n      <td>0.727118</td>\n      <td>41.0</td>\n      <td>0.296572</td>\n      <td>0.000261</td>\n      <td>...</td>\n      <td>0.000016</td>\n      <td>0.933416</td>\n      <td>0.305494</td>\n      <td>3.748917e-10</td>\n      <td>11911.045566</td>\n      <td>0.313686</td>\n      <td>4.989529</td>\n      <td>0.023428</td>\n      <td>4.0</td>\n      <td>0.824402</td>\n    </tr>\n  </tbody>\n</table>\n<p>5 rows × 454 columns</p>\n</div>"
     },
     "execution_count": 121,
     "metadata": {},
     "output_type": "execute_result"
    }
   ],
   "source": [
    "features_filtered.head()"
   ],
   "metadata": {
    "collapsed": false,
    "pycharm": {
     "name": "#%%\n"
    }
   }
  },
  {
   "cell_type": "code",
   "execution_count": 122,
   "outputs": [],
   "source": [
    "features_filtered.to_csv('filtered_features.csv')"
   ],
   "metadata": {
    "collapsed": false,
    "pycharm": {
     "name": "#%%\n"
    }
   }
  },
  {
   "cell_type": "code",
   "execution_count": 123,
   "outputs": [],
   "source": [
    "new_features = features_filtered"
   ],
   "metadata": {
    "collapsed": false,
    "pycharm": {
     "name": "#%%\n"
    }
   }
  },
  {
   "cell_type": "markdown",
   "source": [
    "<h3>Добавление новых признаков в датасет</h3>"
   ],
   "metadata": {
    "collapsed": false,
    "pycharm": {
     "name": "#%% md\n"
    }
   }
  },
  {
   "cell_type": "code",
   "execution_count": 124,
   "outputs": [
    {
     "data": {
      "text/plain": "   ID Date_Of_Birth Sex Had_Covid Begin_Of_Covid End_Of_Covid Lung_Damage  \\\n0   1    04.07.2003   M        No     00.00.0000   00.00.0000          No   \n1   1    04.07.2003   M        No     00.00.0000   00.00.0000          No   \n2   1    04.07.2003   M        No     00.00.0000   00.00.0000          No   \n3   2    07.09.2001   M        No     00.00.0000   00.00.0000          No   \n4   2    07.09.2001   M        No     00.00.0000   00.00.0000          No   \n\n   Damage_Percent Breathing_Type  Frequency  ...  Sin_Period23  \\\n0       -0.207005        грудное  -0.144237  ...     -0.178712   \n1       -0.207005        брюшное  -0.464100  ...     -0.189949   \n2       -0.207005      смешанное  -1.423688  ...     -0.176731   \n3       -0.207005        грудное  -0.464100  ...     -0.188340   \n4       -0.207005        брюшное  -0.464100  ...     -0.183617   \n\n  Sin_Amp23/Sin_Amp13  Sin_Amp12/Sin_Amp13  Sin_Amp12/Sin_Amp23  \\\n0            0.002273            -0.001832            -0.032392   \n1            0.004160            -0.001251            -0.031075   \n2            0.002901            -0.001624            -0.030850   \n3            0.001370            -0.003038            -0.030842   \n4            0.009269            -0.003303            -0.031408   \n\n   Sin_Omega23/Sin_Omega13  Sin_Omega12/Sin_Omega13  Sin_Omega12/Sin_Omega23  \\\n0                -0.156378                -0.155622                -0.156309   \n1                -0.157239                -0.156233                -0.155913   \n2                -0.156010                -0.154825                -0.155960   \n3                -0.150565                -0.157859                -0.162806   \n4                -0.166810                -0.156948                -0.130142   \n\n   (Sin_Offset23/Sin_Offset13)^2  (Sin_Offset12/Sin_Offset13)^2  \\\n0                      -0.088206                      -0.063808   \n1                      -0.088137                      -0.063796   \n2                      -0.088171                      -0.063814   \n3                      -0.088344                      -0.063916   \n4                      -0.088307                      -0.063910   \n\n   (Sin_Offset12/Sin_Offset23)^2  \n0                      -0.059907  \n1                      -0.059920  \n2                      -0.059919  \n3                      -0.059910  \n4                      -0.059921  \n\n[5 rows x 42 columns]",
      "text/html": "<div>\n<style scoped>\n    .dataframe tbody tr th:only-of-type {\n        vertical-align: middle;\n    }\n\n    .dataframe tbody tr th {\n        vertical-align: top;\n    }\n\n    .dataframe thead th {\n        text-align: right;\n    }\n</style>\n<table border=\"1\" class=\"dataframe\">\n  <thead>\n    <tr style=\"text-align: right;\">\n      <th></th>\n      <th>ID</th>\n      <th>Date_Of_Birth</th>\n      <th>Sex</th>\n      <th>Had_Covid</th>\n      <th>Begin_Of_Covid</th>\n      <th>End_Of_Covid</th>\n      <th>Lung_Damage</th>\n      <th>Damage_Percent</th>\n      <th>Breathing_Type</th>\n      <th>Frequency</th>\n      <th>...</th>\n      <th>Sin_Period23</th>\n      <th>Sin_Amp23/Sin_Amp13</th>\n      <th>Sin_Amp12/Sin_Amp13</th>\n      <th>Sin_Amp12/Sin_Amp23</th>\n      <th>Sin_Omega23/Sin_Omega13</th>\n      <th>Sin_Omega12/Sin_Omega13</th>\n      <th>Sin_Omega12/Sin_Omega23</th>\n      <th>(Sin_Offset23/Sin_Offset13)^2</th>\n      <th>(Sin_Offset12/Sin_Offset13)^2</th>\n      <th>(Sin_Offset12/Sin_Offset23)^2</th>\n    </tr>\n  </thead>\n  <tbody>\n    <tr>\n      <th>0</th>\n      <td>1</td>\n      <td>04.07.2003</td>\n      <td>M</td>\n      <td>No</td>\n      <td>00.00.0000</td>\n      <td>00.00.0000</td>\n      <td>No</td>\n      <td>-0.207005</td>\n      <td>грудное</td>\n      <td>-0.144237</td>\n      <td>...</td>\n      <td>-0.178712</td>\n      <td>0.002273</td>\n      <td>-0.001832</td>\n      <td>-0.032392</td>\n      <td>-0.156378</td>\n      <td>-0.155622</td>\n      <td>-0.156309</td>\n      <td>-0.088206</td>\n      <td>-0.063808</td>\n      <td>-0.059907</td>\n    </tr>\n    <tr>\n      <th>1</th>\n      <td>1</td>\n      <td>04.07.2003</td>\n      <td>M</td>\n      <td>No</td>\n      <td>00.00.0000</td>\n      <td>00.00.0000</td>\n      <td>No</td>\n      <td>-0.207005</td>\n      <td>брюшное</td>\n      <td>-0.464100</td>\n      <td>...</td>\n      <td>-0.189949</td>\n      <td>0.004160</td>\n      <td>-0.001251</td>\n      <td>-0.031075</td>\n      <td>-0.157239</td>\n      <td>-0.156233</td>\n      <td>-0.155913</td>\n      <td>-0.088137</td>\n      <td>-0.063796</td>\n      <td>-0.059920</td>\n    </tr>\n    <tr>\n      <th>2</th>\n      <td>1</td>\n      <td>04.07.2003</td>\n      <td>M</td>\n      <td>No</td>\n      <td>00.00.0000</td>\n      <td>00.00.0000</td>\n      <td>No</td>\n      <td>-0.207005</td>\n      <td>смешанное</td>\n      <td>-1.423688</td>\n      <td>...</td>\n      <td>-0.176731</td>\n      <td>0.002901</td>\n      <td>-0.001624</td>\n      <td>-0.030850</td>\n      <td>-0.156010</td>\n      <td>-0.154825</td>\n      <td>-0.155960</td>\n      <td>-0.088171</td>\n      <td>-0.063814</td>\n      <td>-0.059919</td>\n    </tr>\n    <tr>\n      <th>3</th>\n      <td>2</td>\n      <td>07.09.2001</td>\n      <td>M</td>\n      <td>No</td>\n      <td>00.00.0000</td>\n      <td>00.00.0000</td>\n      <td>No</td>\n      <td>-0.207005</td>\n      <td>грудное</td>\n      <td>-0.464100</td>\n      <td>...</td>\n      <td>-0.188340</td>\n      <td>0.001370</td>\n      <td>-0.003038</td>\n      <td>-0.030842</td>\n      <td>-0.150565</td>\n      <td>-0.157859</td>\n      <td>-0.162806</td>\n      <td>-0.088344</td>\n      <td>-0.063916</td>\n      <td>-0.059910</td>\n    </tr>\n    <tr>\n      <th>4</th>\n      <td>2</td>\n      <td>07.09.2001</td>\n      <td>M</td>\n      <td>No</td>\n      <td>00.00.0000</td>\n      <td>00.00.0000</td>\n      <td>No</td>\n      <td>-0.207005</td>\n      <td>брюшное</td>\n      <td>-0.464100</td>\n      <td>...</td>\n      <td>-0.183617</td>\n      <td>0.009269</td>\n      <td>-0.003303</td>\n      <td>-0.031408</td>\n      <td>-0.166810</td>\n      <td>-0.156948</td>\n      <td>-0.130142</td>\n      <td>-0.088307</td>\n      <td>-0.063910</td>\n      <td>-0.059921</td>\n    </tr>\n  </tbody>\n</table>\n<p>5 rows × 42 columns</p>\n</div>"
     },
     "execution_count": 124,
     "metadata": {},
     "output_type": "execute_result"
    }
   ],
   "source": [
    "#загрузка датасета\n",
    "data = pd.read_csv('breathes.csv')\n",
    "data = data.drop(columns=['Unnamed: 0'])\n",
    "data.head()"
   ],
   "metadata": {
    "collapsed": false,
    "pycharm": {
     "name": "#%%\n"
    }
   }
  },
  {
   "cell_type": "code",
   "execution_count": 126,
   "outputs": [],
   "source": [
    "new_features = new_features.reset_index(drop=True)"
   ],
   "metadata": {
    "collapsed": false,
    "pycharm": {
     "name": "#%%\n"
    }
   }
  },
  {
   "cell_type": "code",
   "execution_count": 127,
   "outputs": [],
   "source": [
    "#добавление новых признаков в датасет\n",
    "i = 0\n",
    "new_features_cols = new_features.columns\n",
    "for id in range(1,87):\n",
    "    for col in new_features_cols:\n",
    "        data.loc[(data['Breathing_Type'] == 'грудное') & (data['ID'] == id), col] = new_features.loc[i][col]\n",
    "    i += 1\n",
    "    for col in new_features_cols:\n",
    "        data.loc[(data['Breathing_Type'] == 'брюшное') & (data['ID'] == id), col] = new_features.loc[i][col]\n",
    "    i += 1\n",
    "    for col in new_features_cols:\n",
    "        data.loc[(data['Breathing_Type'] == 'смешанное') & (data['ID'] == id), col] = new_features.loc[i][col]\n",
    "    i += 1"
   ],
   "metadata": {
    "collapsed": false,
    "pycharm": {
     "name": "#%%\n"
    }
   }
  },
  {
   "cell_type": "code",
   "execution_count": null,
   "outputs": [],
   "source": [
    "data.head(15)"
   ],
   "metadata": {
    "collapsed": false,
    "pycharm": {
     "name": "#%%\n",
     "is_executing": true
    }
   }
  },
  {
   "cell_type": "markdown",
   "source": [
    "<h3>Подготовка датасета для тестирования</h3>"
   ],
   "metadata": {
    "collapsed": false,
    "pycharm": {
     "name": "#%% md\n"
    }
   }
  },
  {
   "cell_type": "code",
   "execution_count": 129,
   "outputs": [],
   "source": [
    "#отбрасывание ненужных столбцов\n",
    "categorical_cols = ['Sex', 'Had_Covid', 'Lung_Damage', 'DominatorFreq']\n",
    "drop_columns = ['Date_Of_Birth', 'Begin_Of_Covid', 'End_Of_Covid'] + categorical_cols\n",
    "df = data.drop(columns=drop_columns)\n",
    "#целевой признак\n",
    "y = df['Breathing_Type']\n",
    "#определение численных признаков\n",
    "non_numerical_cols = ['ID', 'Breathing_Type']\n",
    "X = df.drop(columns=non_numerical_cols)\n",
    "#трансформация категориальных признаков\n",
    "le = LabelEncoder()\n",
    "y = le.fit_transform(y)"
   ],
   "metadata": {
    "collapsed": false,
    "pycharm": {
     "name": "#%%\n"
    }
   }
  },
  {
   "cell_type": "code",
   "execution_count": 130,
   "outputs": [],
   "source": [
    "#разделение на обучающую(70%) и тестовую (30%) выборки\n",
    "X_train, X_test, y_train, y_test = train_test_split(X, y, test_size=0.3, random_state=42)"
   ],
   "metadata": {
    "collapsed": false,
    "pycharm": {
     "name": "#%%\n"
    }
   }
  },
  {
   "cell_type": "code",
   "execution_count": 131,
   "outputs": [],
   "source": [
    "from sklearn.metrics import recall_score, accuracy_score\n",
    "from sklearn.metrics import f1_score\n",
    "from sklearn.metrics import precision_score\n",
    "from sklearn.metrics import classification_report\n",
    "#расчет метрик по тесовой выборке\n",
    "def calculate_metrics(y_test, y_pred):\n",
    "    accuracy = accuracy_score(y_test, y_pred)\n",
    "    recall = recall_score(y_test, y_pred, average='weighted')\n",
    "    precision = precision_score(y_test, y_pred, average='weighted')\n",
    "    f1 = f1_score(y_test, y_pred, average='weighted')\n",
    "    print(\"Accuracy: \", accuracy)\n",
    "    print(\"Recall: \", recall)\n",
    "    print(\"Precision: \", precision)\n",
    "    print(\"F1-score: \", f1)\n",
    "    report = classification_report(y_test, y_pred)\n",
    "    print(report)\n",
    "\n",
    "#расчет знамости признаков\n",
    "def calc_feature_importances(model, X_df):\n",
    "    importance = model.feature_importances_\n",
    "    feature_importance = pd.DataFrame({'Feature': X_df.columns, 'Importance': importance})\n",
    "    feature_importance = feature_importance.sort_values('Importance', ascending=False)\n",
    "    return feature_importance"
   ],
   "metadata": {
    "collapsed": false,
    "pycharm": {
     "name": "#%%\n"
    }
   }
  },
  {
   "cell_type": "markdown",
   "source": [
    "<h3>Тестирование новых признаков</h3>"
   ],
   "metadata": {
    "collapsed": false,
    "pycharm": {
     "name": "#%% md\n"
    }
   }
  },
  {
   "cell_type": "markdown",
   "source": [
    "<h3>Метод взаимной информации</h3>"
   ],
   "metadata": {
    "collapsed": false,
    "pycharm": {
     "name": "#%% md\n"
    }
   }
  },
  {
   "cell_type": "code",
   "execution_count": 137,
   "outputs": [],
   "source": [
    "from sklearn.feature_selection import GenericUnivariateSelect, mutual_info_classif\n",
    "\n",
    "selector = GenericUnivariateSelect(mutual_info_classif, mode='k_best', param=100)"
   ],
   "metadata": {
    "collapsed": false,
    "pycharm": {
     "name": "#%%\n"
    }
   }
  },
  {
   "cell_type": "code",
   "execution_count": 138,
   "outputs": [],
   "source": [
    "X_new = selector.fit_transform(X, y)"
   ],
   "metadata": {
    "collapsed": false,
    "pycharm": {
     "name": "#%%\n"
    }
   }
  },
  {
   "cell_type": "code",
   "execution_count": 141,
   "outputs": [
    {
     "data": {
      "text/plain": "                                               Feature    Scores  Support\n0                                       Damage_Percent  0.008568    False\n1                                            Frequency  0.032083    False\n2                                            Amplitude  0.000000    False\n3                                   DominatorFreqPower  0.012409    False\n4                                            D_1_2_Avg  0.000000    False\n..                                                 ...       ...      ...\n482  TMX_roll10__fft_coefficient__attr_\"abs\"__coeff_11  0.046076    False\n483      TMX_pct10__fft_aggregated__aggtype_\"kurtosis\"  0.125607     True\n484      TMX__ratio_value_number_to_time_series_length  0.019252    False\n485                      TMX_pct10__number_peaks__n_50  0.098753    False\n486                 TMX__ar_coefficient__coeff_1__k_10  0.021575    False\n\n[487 rows x 3 columns]",
      "text/html": "<div>\n<style scoped>\n    .dataframe tbody tr th:only-of-type {\n        vertical-align: middle;\n    }\n\n    .dataframe tbody tr th {\n        vertical-align: top;\n    }\n\n    .dataframe thead th {\n        text-align: right;\n    }\n</style>\n<table border=\"1\" class=\"dataframe\">\n  <thead>\n    <tr style=\"text-align: right;\">\n      <th></th>\n      <th>Feature</th>\n      <th>Scores</th>\n      <th>Support</th>\n    </tr>\n  </thead>\n  <tbody>\n    <tr>\n      <th>0</th>\n      <td>Damage_Percent</td>\n      <td>0.008568</td>\n      <td>False</td>\n    </tr>\n    <tr>\n      <th>1</th>\n      <td>Frequency</td>\n      <td>0.032083</td>\n      <td>False</td>\n    </tr>\n    <tr>\n      <th>2</th>\n      <td>Amplitude</td>\n      <td>0.000000</td>\n      <td>False</td>\n    </tr>\n    <tr>\n      <th>3</th>\n      <td>DominatorFreqPower</td>\n      <td>0.012409</td>\n      <td>False</td>\n    </tr>\n    <tr>\n      <th>4</th>\n      <td>D_1_2_Avg</td>\n      <td>0.000000</td>\n      <td>False</td>\n    </tr>\n    <tr>\n      <th>...</th>\n      <td>...</td>\n      <td>...</td>\n      <td>...</td>\n    </tr>\n    <tr>\n      <th>482</th>\n      <td>TMX_roll10__fft_coefficient__attr_\"abs\"__coeff_11</td>\n      <td>0.046076</td>\n      <td>False</td>\n    </tr>\n    <tr>\n      <th>483</th>\n      <td>TMX_pct10__fft_aggregated__aggtype_\"kurtosis\"</td>\n      <td>0.125607</td>\n      <td>True</td>\n    </tr>\n    <tr>\n      <th>484</th>\n      <td>TMX__ratio_value_number_to_time_series_length</td>\n      <td>0.019252</td>\n      <td>False</td>\n    </tr>\n    <tr>\n      <th>485</th>\n      <td>TMX_pct10__number_peaks__n_50</td>\n      <td>0.098753</td>\n      <td>False</td>\n    </tr>\n    <tr>\n      <th>486</th>\n      <td>TMX__ar_coefficient__coeff_1__k_10</td>\n      <td>0.021575</td>\n      <td>False</td>\n    </tr>\n  </tbody>\n</table>\n<p>487 rows × 3 columns</p>\n</div>"
     },
     "execution_count": 141,
     "metadata": {},
     "output_type": "execute_result"
    }
   ],
   "source": [
    "importance = selector.scores_\n",
    "feature_importance = pd.DataFrame({'Feature': X.columns, 'Scores': importance, 'Support': selector.get_support()})\n",
    "#feature_importance = feature_importance.sort_values('Scores', ascending=False)\n",
    "feature_importance"
   ],
   "metadata": {
    "collapsed": false,
    "pycharm": {
     "name": "#%%\n"
    }
   }
  },
  {
   "cell_type": "code",
   "execution_count": 140,
   "outputs": [],
   "source": [
    "feature_importance.to_excel('mutual_features.xlsx')"
   ],
   "metadata": {
    "collapsed": false,
    "pycharm": {
     "name": "#%%\n"
    }
   }
  },
  {
   "cell_type": "code",
   "execution_count": 142,
   "outputs": [
    {
     "data": {
      "text/plain": "   Sin_Amp12  Sin_Amp12/Sin_Amp23  Sin_Omega12/Sin_Omega23  \\\n0  -0.034874            -0.032392                -0.156309   \n1  -0.034173            -0.031075                -0.155913   \n2  -0.035428            -0.030850                -0.155960   \n3  -0.034864            -0.030842                -0.162806   \n4  -0.034066            -0.031408                -0.130142   \n\n   FMY_pct10__autocorrelation__lag_2  FMY_pct10__autocorrelation__lag_3  \\\n0                           0.897468                           0.811114   \n1                           0.961339                           0.932359   \n2                           0.967068                           0.938197   \n3                           0.836489                           0.731767   \n4                           0.918191                           0.859821   \n\n   FMY_pct10__autocorrelation__lag_1  \\\n0                           0.961261   \n1                           0.983997   \n2                           0.985714   \n3                           0.923085   \n4                           0.958863   \n\n   FMY_pct10__partial_autocorrelation__lag_1  \\\n0                                   0.961261   \n1                                   0.983997   \n2                                   0.985714   \n3                                   0.923085   \n4                                   0.958863   \n\n   FMY_pct10__autocorrelation__lag_5  FMY_pct10__number_crossing_m__m_0  \\\n0                           0.594240                               53.0   \n1                           0.854553                               24.0   \n2                           0.865883                               28.0   \n3                           0.473813                               88.0   \n4                           0.727118                               41.0   \n\n   FMY__agg_autocorrelation__f_agg_\"var\"__maxlag_40  ...  \\\n0                                          0.204120  ...   \n1                                          0.389174  ...   \n2                                          0.366811  ...   \n3                                          0.028676  ...   \n4                                          0.296572  ...   \n\n   TMX_pct10__value_count__value_0  \\\n0                             45.0   \n1                             97.0   \n2                             32.0   \n3                             71.0   \n4                            151.0   \n\n   TMX_roll10__change_quantiles__f_agg_\"var\"__isabs_False__qh_0.8__ql_0.4  \\\n0                                       3.310975e-07                        \n1                                       1.557985e-07                        \n2                                       4.236342e-07                        \n3                                       2.611751e-07                        \n4                                       3.761506e-08                        \n\n   TMX_roll10__permutation_entropy__dimension_6__tau_1  \\\n0                                           1.590413     \n1                                           1.876354     \n2                                           1.311306     \n3                                           1.811917     \n4                                           1.988304     \n\n   TMX_pct10__change_quantiles__f_agg_\"mean\"__isabs_True__qh_0.6__ql_0.4  \\\n0                                           0.000844                       \n1                                           0.000427                       \n2                                           0.000961                       \n3                                           0.000490                       \n4                                           0.000095                       \n\n   TMX__change_quantiles__f_agg_\"var\"__isabs_True__qh_0.8__ql_0.4  \\\n0                                       3.760028e-07                \n1                                       2.714978e-07                \n2                                       3.970554e-07                \n3                                       3.441144e-07                \n4                                       1.464196e-07                \n\n   TMX_roll10__change_quantiles__f_agg_\"var\"__isabs_True__qh_1.0__ql_0.2  \\\n0                                       9.603530e-08                       \n1                                       6.670627e-08                       \n2                                       1.110013e-07                       \n3                                       7.876251e-08                       \n4                                       1.646271e-08                       \n\n   TMX__agg_linear_trend__attr_\"intercept\"__chunk_len_50__f_agg_\"var\"  \\\n0                                           0.000018                    \n1                                           0.000021                    \n2                                           0.000060                    \n3                                           0.000013                    \n4                                           0.000004                    \n\n   TMX__change_quantiles__f_agg_\"var\"__isabs_False__qh_1.0__ql_0.6  \\\n0                                       7.585877e-07                 \n1                                       3.516994e-07                 \n2                                       9.251612e-07                 \n3                                       4.776465e-07                 \n4                                       2.359826e-07                 \n\n   TMX_roll10__agg_linear_trend__attr_\"stderr\"__chunk_len_50__f_agg_\"var\"  \\\n0                                       1.012730e-06                        \n1                                       1.222577e-06                        \n2                                       2.764313e-06                        \n3                                       1.183360e-06                        \n4                                       1.193597e-07                        \n\n   TMX_pct10__fft_aggregated__aggtype_\"kurtosis\"  \n0                                       6.574683  \n1                                       5.692524  \n2                                       6.902022  \n3                                       5.986077  \n4                                       4.989529  \n\n[5 rows x 100 columns]",
      "text/html": "<div>\n<style scoped>\n    .dataframe tbody tr th:only-of-type {\n        vertical-align: middle;\n    }\n\n    .dataframe tbody tr th {\n        vertical-align: top;\n    }\n\n    .dataframe thead th {\n        text-align: right;\n    }\n</style>\n<table border=\"1\" class=\"dataframe\">\n  <thead>\n    <tr style=\"text-align: right;\">\n      <th></th>\n      <th>Sin_Amp12</th>\n      <th>Sin_Amp12/Sin_Amp23</th>\n      <th>Sin_Omega12/Sin_Omega23</th>\n      <th>FMY_pct10__autocorrelation__lag_2</th>\n      <th>FMY_pct10__autocorrelation__lag_3</th>\n      <th>FMY_pct10__autocorrelation__lag_1</th>\n      <th>FMY_pct10__partial_autocorrelation__lag_1</th>\n      <th>FMY_pct10__autocorrelation__lag_5</th>\n      <th>FMY_pct10__number_crossing_m__m_0</th>\n      <th>FMY__agg_autocorrelation__f_agg_\"var\"__maxlag_40</th>\n      <th>...</th>\n      <th>TMX_pct10__value_count__value_0</th>\n      <th>TMX_roll10__change_quantiles__f_agg_\"var\"__isabs_False__qh_0.8__ql_0.4</th>\n      <th>TMX_roll10__permutation_entropy__dimension_6__tau_1</th>\n      <th>TMX_pct10__change_quantiles__f_agg_\"mean\"__isabs_True__qh_0.6__ql_0.4</th>\n      <th>TMX__change_quantiles__f_agg_\"var\"__isabs_True__qh_0.8__ql_0.4</th>\n      <th>TMX_roll10__change_quantiles__f_agg_\"var\"__isabs_True__qh_1.0__ql_0.2</th>\n      <th>TMX__agg_linear_trend__attr_\"intercept\"__chunk_len_50__f_agg_\"var\"</th>\n      <th>TMX__change_quantiles__f_agg_\"var\"__isabs_False__qh_1.0__ql_0.6</th>\n      <th>TMX_roll10__agg_linear_trend__attr_\"stderr\"__chunk_len_50__f_agg_\"var\"</th>\n      <th>TMX_pct10__fft_aggregated__aggtype_\"kurtosis\"</th>\n    </tr>\n  </thead>\n  <tbody>\n    <tr>\n      <th>0</th>\n      <td>-0.034874</td>\n      <td>-0.032392</td>\n      <td>-0.156309</td>\n      <td>0.897468</td>\n      <td>0.811114</td>\n      <td>0.961261</td>\n      <td>0.961261</td>\n      <td>0.594240</td>\n      <td>53.0</td>\n      <td>0.204120</td>\n      <td>...</td>\n      <td>45.0</td>\n      <td>3.310975e-07</td>\n      <td>1.590413</td>\n      <td>0.000844</td>\n      <td>3.760028e-07</td>\n      <td>9.603530e-08</td>\n      <td>0.000018</td>\n      <td>7.585877e-07</td>\n      <td>1.012730e-06</td>\n      <td>6.574683</td>\n    </tr>\n    <tr>\n      <th>1</th>\n      <td>-0.034173</td>\n      <td>-0.031075</td>\n      <td>-0.155913</td>\n      <td>0.961339</td>\n      <td>0.932359</td>\n      <td>0.983997</td>\n      <td>0.983997</td>\n      <td>0.854553</td>\n      <td>24.0</td>\n      <td>0.389174</td>\n      <td>...</td>\n      <td>97.0</td>\n      <td>1.557985e-07</td>\n      <td>1.876354</td>\n      <td>0.000427</td>\n      <td>2.714978e-07</td>\n      <td>6.670627e-08</td>\n      <td>0.000021</td>\n      <td>3.516994e-07</td>\n      <td>1.222577e-06</td>\n      <td>5.692524</td>\n    </tr>\n    <tr>\n      <th>2</th>\n      <td>-0.035428</td>\n      <td>-0.030850</td>\n      <td>-0.155960</td>\n      <td>0.967068</td>\n      <td>0.938197</td>\n      <td>0.985714</td>\n      <td>0.985714</td>\n      <td>0.865883</td>\n      <td>28.0</td>\n      <td>0.366811</td>\n      <td>...</td>\n      <td>32.0</td>\n      <td>4.236342e-07</td>\n      <td>1.311306</td>\n      <td>0.000961</td>\n      <td>3.970554e-07</td>\n      <td>1.110013e-07</td>\n      <td>0.000060</td>\n      <td>9.251612e-07</td>\n      <td>2.764313e-06</td>\n      <td>6.902022</td>\n    </tr>\n    <tr>\n      <th>3</th>\n      <td>-0.034864</td>\n      <td>-0.030842</td>\n      <td>-0.162806</td>\n      <td>0.836489</td>\n      <td>0.731767</td>\n      <td>0.923085</td>\n      <td>0.923085</td>\n      <td>0.473813</td>\n      <td>88.0</td>\n      <td>0.028676</td>\n      <td>...</td>\n      <td>71.0</td>\n      <td>2.611751e-07</td>\n      <td>1.811917</td>\n      <td>0.000490</td>\n      <td>3.441144e-07</td>\n      <td>7.876251e-08</td>\n      <td>0.000013</td>\n      <td>4.776465e-07</td>\n      <td>1.183360e-06</td>\n      <td>5.986077</td>\n    </tr>\n    <tr>\n      <th>4</th>\n      <td>-0.034066</td>\n      <td>-0.031408</td>\n      <td>-0.130142</td>\n      <td>0.918191</td>\n      <td>0.859821</td>\n      <td>0.958863</td>\n      <td>0.958863</td>\n      <td>0.727118</td>\n      <td>41.0</td>\n      <td>0.296572</td>\n      <td>...</td>\n      <td>151.0</td>\n      <td>3.761506e-08</td>\n      <td>1.988304</td>\n      <td>0.000095</td>\n      <td>1.464196e-07</td>\n      <td>1.646271e-08</td>\n      <td>0.000004</td>\n      <td>2.359826e-07</td>\n      <td>1.193597e-07</td>\n      <td>4.989529</td>\n    </tr>\n  </tbody>\n</table>\n<p>5 rows × 100 columns</p>\n</div>"
     },
     "execution_count": 142,
     "metadata": {},
     "output_type": "execute_result"
    }
   ],
   "source": [
    "bad_features = feature_importance[feature_importance['Support'] == False]\n",
    "drop_columns = list(bad_features['Feature'])\n",
    "drop_columns\n",
    "X2 = X.drop(columns=drop_columns)\n",
    "X2.head()"
   ],
   "metadata": {
    "collapsed": false,
    "pycharm": {
     "name": "#%%\n"
    }
   }
  },
  {
   "cell_type": "code",
   "execution_count": 143,
   "outputs": [],
   "source": [
    "#разделение на обучающую(70%) и тестовую (30%) выборки\n",
    "X_train, X_test, y_train, y_test = train_test_split(X2, y, test_size=0.3, random_state=42)"
   ],
   "metadata": {
    "collapsed": false,
    "pycharm": {
     "name": "#%%\n"
    }
   }
  },
  {
   "cell_type": "markdown",
   "source": [
    "<h3>Регуляризация Лассо</h3>"
   ],
   "metadata": {
    "collapsed": false,
    "pycharm": {
     "name": "#%% md\n"
    }
   }
  },
  {
   "cell_type": "code",
   "execution_count": 162,
   "outputs": [],
   "source": [
    "from sklearn.linear_model import LogisticRegression\n",
    "from sklearn.feature_selection import SelectFromModel\n",
    "\n",
    "# Устанавливаем наш параметр регуляризации C=1\n",
    "logistic = LogisticRegression(C=1, penalty=\"l1\", solver='liblinear', random_state=7).fit(X, y)\n",
    "\n",
    "# Где X, y - входные и выходные данные соответственно.\n",
    "model = SelectFromModel(logistic, prefit=True, max_features=30)\n"
   ],
   "metadata": {
    "collapsed": false,
    "pycharm": {
     "name": "#%%\n"
    }
   }
  },
  {
   "cell_type": "code",
   "execution_count": 167,
   "outputs": [
    {
     "data": {
      "text/plain": "                                               Feature  Support\n1                                            Frequency     True\n2                                            Amplitude     True\n3                                   DominatorFreqPower     True\n4                                            D_1_2_Avg     True\n6                                            Sin_Amp12     True\n9                                          Sin_Omega12     True\n10                                        Sin_Offset12     True\n11                                        Sin_Period12     True\n20                                         Sin_Phase23     True\n23                                        Sin_Period23     True\n24                                 Sin_Amp23/Sin_Amp13     True\n26                                 Sin_Amp12/Sin_Amp23     True\n33                   FMY_pct10__cid_ce__normalize_True     True\n130  FMY_roll10__fft_coefficient__attr_\"abs\"__coeff_11     True\n142  FMY_roll10__augmented_dickey_fuller__attr_\"tes...     True\n160                                FMY_pct10__kurtosis     True\n222         FMY_pct10__large_standard_deviation__r_0.2     True\n225                FMY__partial_autocorrelation__lag_4     True\n226                             FMY__number_peaks__n_3     True\n276                            FMY__number_peaks__n_10     True\n282  TMX_pct10__augmented_dickey_fuller__attr_\"test...     True\n284                     FMY_roll10__number_peaks__n_50     True\n291         TMX_pct10__large_standard_deviation__r_0.2     True\n353  FMY__agg_linear_trend__attr_\"rvalue\"__chunk_le...     True\n357                  TMX_pct10__cid_ce__normalize_True     True\n402                TMX__partial_autocorrelation__lag_2     True\n436                FMX__partial_autocorrelation__lag_2     True\n467         TMX__fft_coefficient__attr_\"abs\"__coeff_13     True\n483      TMX_pct10__fft_aggregated__aggtype_\"kurtosis\"     True\n485                      TMX_pct10__number_peaks__n_50     True",
      "text/html": "<div>\n<style scoped>\n    .dataframe tbody tr th:only-of-type {\n        vertical-align: middle;\n    }\n\n    .dataframe tbody tr th {\n        vertical-align: top;\n    }\n\n    .dataframe thead th {\n        text-align: right;\n    }\n</style>\n<table border=\"1\" class=\"dataframe\">\n  <thead>\n    <tr style=\"text-align: right;\">\n      <th></th>\n      <th>Feature</th>\n      <th>Support</th>\n    </tr>\n  </thead>\n  <tbody>\n    <tr>\n      <th>1</th>\n      <td>Frequency</td>\n      <td>True</td>\n    </tr>\n    <tr>\n      <th>2</th>\n      <td>Amplitude</td>\n      <td>True</td>\n    </tr>\n    <tr>\n      <th>3</th>\n      <td>DominatorFreqPower</td>\n      <td>True</td>\n    </tr>\n    <tr>\n      <th>4</th>\n      <td>D_1_2_Avg</td>\n      <td>True</td>\n    </tr>\n    <tr>\n      <th>6</th>\n      <td>Sin_Amp12</td>\n      <td>True</td>\n    </tr>\n    <tr>\n      <th>9</th>\n      <td>Sin_Omega12</td>\n      <td>True</td>\n    </tr>\n    <tr>\n      <th>10</th>\n      <td>Sin_Offset12</td>\n      <td>True</td>\n    </tr>\n    <tr>\n      <th>11</th>\n      <td>Sin_Period12</td>\n      <td>True</td>\n    </tr>\n    <tr>\n      <th>20</th>\n      <td>Sin_Phase23</td>\n      <td>True</td>\n    </tr>\n    <tr>\n      <th>23</th>\n      <td>Sin_Period23</td>\n      <td>True</td>\n    </tr>\n    <tr>\n      <th>24</th>\n      <td>Sin_Amp23/Sin_Amp13</td>\n      <td>True</td>\n    </tr>\n    <tr>\n      <th>26</th>\n      <td>Sin_Amp12/Sin_Amp23</td>\n      <td>True</td>\n    </tr>\n    <tr>\n      <th>33</th>\n      <td>FMY_pct10__cid_ce__normalize_True</td>\n      <td>True</td>\n    </tr>\n    <tr>\n      <th>130</th>\n      <td>FMY_roll10__fft_coefficient__attr_\"abs\"__coeff_11</td>\n      <td>True</td>\n    </tr>\n    <tr>\n      <th>142</th>\n      <td>FMY_roll10__augmented_dickey_fuller__attr_\"tes...</td>\n      <td>True</td>\n    </tr>\n    <tr>\n      <th>160</th>\n      <td>FMY_pct10__kurtosis</td>\n      <td>True</td>\n    </tr>\n    <tr>\n      <th>222</th>\n      <td>FMY_pct10__large_standard_deviation__r_0.2</td>\n      <td>True</td>\n    </tr>\n    <tr>\n      <th>225</th>\n      <td>FMY__partial_autocorrelation__lag_4</td>\n      <td>True</td>\n    </tr>\n    <tr>\n      <th>226</th>\n      <td>FMY__number_peaks__n_3</td>\n      <td>True</td>\n    </tr>\n    <tr>\n      <th>276</th>\n      <td>FMY__number_peaks__n_10</td>\n      <td>True</td>\n    </tr>\n    <tr>\n      <th>282</th>\n      <td>TMX_pct10__augmented_dickey_fuller__attr_\"test...</td>\n      <td>True</td>\n    </tr>\n    <tr>\n      <th>284</th>\n      <td>FMY_roll10__number_peaks__n_50</td>\n      <td>True</td>\n    </tr>\n    <tr>\n      <th>291</th>\n      <td>TMX_pct10__large_standard_deviation__r_0.2</td>\n      <td>True</td>\n    </tr>\n    <tr>\n      <th>353</th>\n      <td>FMY__agg_linear_trend__attr_\"rvalue\"__chunk_le...</td>\n      <td>True</td>\n    </tr>\n    <tr>\n      <th>357</th>\n      <td>TMX_pct10__cid_ce__normalize_True</td>\n      <td>True</td>\n    </tr>\n    <tr>\n      <th>402</th>\n      <td>TMX__partial_autocorrelation__lag_2</td>\n      <td>True</td>\n    </tr>\n    <tr>\n      <th>436</th>\n      <td>FMX__partial_autocorrelation__lag_2</td>\n      <td>True</td>\n    </tr>\n    <tr>\n      <th>467</th>\n      <td>TMX__fft_coefficient__attr_\"abs\"__coeff_13</td>\n      <td>True</td>\n    </tr>\n    <tr>\n      <th>483</th>\n      <td>TMX_pct10__fft_aggregated__aggtype_\"kurtosis\"</td>\n      <td>True</td>\n    </tr>\n    <tr>\n      <th>485</th>\n      <td>TMX_pct10__number_peaks__n_50</td>\n      <td>True</td>\n    </tr>\n  </tbody>\n</table>\n</div>"
     },
     "execution_count": 167,
     "metadata": {},
     "output_type": "execute_result"
    }
   ],
   "source": [
    "feature_importance = pd.DataFrame({'Feature': X.columns, 'Support': model.get_support()})\n",
    "feature_importance = feature_importance[feature_importance['Support'] == True]\n",
    "feature_importance"
   ],
   "metadata": {
    "collapsed": false,
    "pycharm": {
     "name": "#%%\n"
    }
   }
  },
  {
   "cell_type": "code",
   "execution_count": 169,
   "outputs": [],
   "source": [
    "feature_importance.to_excel('lasso_features.xlsx')"
   ],
   "metadata": {
    "collapsed": false,
    "pycharm": {
     "name": "#%%\n"
    }
   }
  },
  {
   "cell_type": "markdown",
   "source": [
    "<h3>Рекурсивный отбор признаков</h3>"
   ],
   "metadata": {
    "collapsed": false,
    "pycharm": {
     "name": "#%% md\n"
    }
   }
  },
  {
   "cell_type": "code",
   "execution_count": 145,
   "outputs": [],
   "source": [
    "from sklearn.linear_model import LogisticRegression\n",
    "from sklearn.feature_selection import RFE\n",
    "\n",
    "lr = LogisticRegression(class_weight = 'balanced', solver = 'lbfgs', random_state=42, n_jobs=-1)\n",
    "\n",
    "rfe = RFE(lr, n_features_to_select=30)\n",
    "rfe.fit(X_train, y_train)\n",
    "# X_train, y_train - входные и выходные данные с обучающей выборки соответственно.\n",
    "y_pred = rfe.predict(X_train)"
   ],
   "metadata": {
    "collapsed": false,
    "pycharm": {
     "name": "#%%\n"
    }
   }
  },
  {
   "cell_type": "code",
   "execution_count": 151,
   "outputs": [
    {
     "data": {
      "text/plain": "                                              Feature  Rank\n0                                           Sin_Amp12     1\n25                    FMY_pct10__value_count__value_0     1\n37                FMY_roll10__absolute_sum_of_changes     1\n45  TMX_pct10__agg_autocorrelation__f_agg_\"var\"__m...     1\n51             TMX_pct10__binned_entropy__max_bins_10     1\n..                                                ...   ...\n85  FMY__change_quantiles__f_agg_\"var\"__isabs_True...    67\n66  FMY_roll10__change_quantiles__f_agg_\"var\"__isa...    68\n68  FMY_roll10__change_quantiles__f_agg_\"var\"__isa...    69\n69  FMY_roll10__change_quantiles__f_agg_\"var\"__isa...    70\n58  FMY_roll10__agg_linear_trend__attr_\"stderr\"__c...    71\n\n[100 rows x 2 columns]",
      "text/html": "<div>\n<style scoped>\n    .dataframe tbody tr th:only-of-type {\n        vertical-align: middle;\n    }\n\n    .dataframe tbody tr th {\n        vertical-align: top;\n    }\n\n    .dataframe thead th {\n        text-align: right;\n    }\n</style>\n<table border=\"1\" class=\"dataframe\">\n  <thead>\n    <tr style=\"text-align: right;\">\n      <th></th>\n      <th>Feature</th>\n      <th>Rank</th>\n    </tr>\n  </thead>\n  <tbody>\n    <tr>\n      <th>0</th>\n      <td>Sin_Amp12</td>\n      <td>1</td>\n    </tr>\n    <tr>\n      <th>25</th>\n      <td>FMY_pct10__value_count__value_0</td>\n      <td>1</td>\n    </tr>\n    <tr>\n      <th>37</th>\n      <td>FMY_roll10__absolute_sum_of_changes</td>\n      <td>1</td>\n    </tr>\n    <tr>\n      <th>45</th>\n      <td>TMX_pct10__agg_autocorrelation__f_agg_\"var\"__m...</td>\n      <td>1</td>\n    </tr>\n    <tr>\n      <th>51</th>\n      <td>TMX_pct10__binned_entropy__max_bins_10</td>\n      <td>1</td>\n    </tr>\n    <tr>\n      <th>...</th>\n      <td>...</td>\n      <td>...</td>\n    </tr>\n    <tr>\n      <th>85</th>\n      <td>FMY__change_quantiles__f_agg_\"var\"__isabs_True...</td>\n      <td>67</td>\n    </tr>\n    <tr>\n      <th>66</th>\n      <td>FMY_roll10__change_quantiles__f_agg_\"var\"__isa...</td>\n      <td>68</td>\n    </tr>\n    <tr>\n      <th>68</th>\n      <td>FMY_roll10__change_quantiles__f_agg_\"var\"__isa...</td>\n      <td>69</td>\n    </tr>\n    <tr>\n      <th>69</th>\n      <td>FMY_roll10__change_quantiles__f_agg_\"var\"__isa...</td>\n      <td>70</td>\n    </tr>\n    <tr>\n      <th>58</th>\n      <td>FMY_roll10__agg_linear_trend__attr_\"stderr\"__c...</td>\n      <td>71</td>\n    </tr>\n  </tbody>\n</table>\n<p>100 rows × 2 columns</p>\n</div>"
     },
     "execution_count": 151,
     "metadata": {},
     "output_type": "execute_result"
    }
   ],
   "source": [
    "importance = rfe.ranking_\n",
    "feature_importance = pd.DataFrame({'Feature': X2.columns, 'Rank': importance})\n",
    "feature_importance = feature_importance.sort_values('Rank', ascending=True)\n",
    "feature_importance"
   ],
   "metadata": {
    "collapsed": false,
    "pycharm": {
     "name": "#%%\n"
    }
   }
  },
  {
   "cell_type": "code",
   "execution_count": 155,
   "outputs": [],
   "source": [
    "feature_importance.to_excel('rfe_features.xlsx')"
   ],
   "metadata": {
    "collapsed": false,
    "pycharm": {
     "name": "#%%\n"
    }
   }
  },
  {
   "cell_type": "markdown",
   "source": [
    "<h3>XGBoost</h3>"
   ],
   "metadata": {
    "collapsed": false,
    "pycharm": {
     "name": "#%% md\n"
    }
   }
  },
  {
   "cell_type": "code",
   "execution_count": 152,
   "outputs": [
    {
     "name": "stdout",
     "output_type": "stream",
     "text": [
      "Accuracy:  0.631578947368421\n",
      "Recall:  0.631578947368421\n",
      "Precision:  0.637844611528822\n",
      "F1-score:  0.6314298998951807\n",
      "              precision    recall  f1-score   support\n",
      "\n",
      "           0       0.67      0.57      0.62        28\n",
      "           1       0.67      0.64      0.65        25\n",
      "           2       0.57      0.70      0.63        23\n",
      "\n",
      "    accuracy                           0.63        76\n",
      "   macro avg       0.63      0.64      0.63        76\n",
      "weighted avg       0.64      0.63      0.63        76\n",
      "\n"
     ]
    }
   ],
   "source": [
    "import xgboost as xgb\n",
    "model_xgb = xgb.XGBClassifier()\n",
    "details = model_xgb.fit(X_train, y_train)\n",
    "y_pred = model_xgb.predict(X_test)\n",
    "calculate_metrics(y_test, y_pred)"
   ],
   "metadata": {
    "collapsed": false,
    "pycharm": {
     "name": "#%%\n"
    }
   }
  },
  {
   "cell_type": "code",
   "execution_count": 154,
   "outputs": [
    {
     "data": {
      "text/plain": "                                              Feature  Importance\n4                   FMY_pct10__autocorrelation__lag_3    0.088306\n22  FMY_roll10__agg_linear_trend__attr_\"stderr\"__c...    0.053286\n21  FMY_roll10__agg_linear_trend__attr_\"stderr\"__c...    0.048859\n58  FMY_roll10__agg_linear_trend__attr_\"stderr\"__c...    0.035944\n75                 TMX_pct10__fourier_entropy__bins_3    0.030525\n..                                                ...         ...\n35  FMY_roll10__change_quantiles__f_agg_\"mean\"__is...    0.000000\n78  FMY_pct10__range_count__max_0__min_-1000000000...    0.000000\n6           FMY_pct10__partial_autocorrelation__lag_1    0.000000\n37                FMY_roll10__absolute_sum_of_changes    0.000000\n41  FMY_roll10__change_quantiles__f_agg_\"var\"__isa...    0.000000\n\n[100 rows x 2 columns]",
      "text/html": "<div>\n<style scoped>\n    .dataframe tbody tr th:only-of-type {\n        vertical-align: middle;\n    }\n\n    .dataframe tbody tr th {\n        vertical-align: top;\n    }\n\n    .dataframe thead th {\n        text-align: right;\n    }\n</style>\n<table border=\"1\" class=\"dataframe\">\n  <thead>\n    <tr style=\"text-align: right;\">\n      <th></th>\n      <th>Feature</th>\n      <th>Importance</th>\n    </tr>\n  </thead>\n  <tbody>\n    <tr>\n      <th>4</th>\n      <td>FMY_pct10__autocorrelation__lag_3</td>\n      <td>0.088306</td>\n    </tr>\n    <tr>\n      <th>22</th>\n      <td>FMY_roll10__agg_linear_trend__attr_\"stderr\"__c...</td>\n      <td>0.053286</td>\n    </tr>\n    <tr>\n      <th>21</th>\n      <td>FMY_roll10__agg_linear_trend__attr_\"stderr\"__c...</td>\n      <td>0.048859</td>\n    </tr>\n    <tr>\n      <th>58</th>\n      <td>FMY_roll10__agg_linear_trend__attr_\"stderr\"__c...</td>\n      <td>0.035944</td>\n    </tr>\n    <tr>\n      <th>75</th>\n      <td>TMX_pct10__fourier_entropy__bins_3</td>\n      <td>0.030525</td>\n    </tr>\n    <tr>\n      <th>...</th>\n      <td>...</td>\n      <td>...</td>\n    </tr>\n    <tr>\n      <th>35</th>\n      <td>FMY_roll10__change_quantiles__f_agg_\"mean\"__is...</td>\n      <td>0.000000</td>\n    </tr>\n    <tr>\n      <th>78</th>\n      <td>FMY_pct10__range_count__max_0__min_-1000000000...</td>\n      <td>0.000000</td>\n    </tr>\n    <tr>\n      <th>6</th>\n      <td>FMY_pct10__partial_autocorrelation__lag_1</td>\n      <td>0.000000</td>\n    </tr>\n    <tr>\n      <th>37</th>\n      <td>FMY_roll10__absolute_sum_of_changes</td>\n      <td>0.000000</td>\n    </tr>\n    <tr>\n      <th>41</th>\n      <td>FMY_roll10__change_quantiles__f_agg_\"var\"__isa...</td>\n      <td>0.000000</td>\n    </tr>\n  </tbody>\n</table>\n<p>100 rows × 2 columns</p>\n</div>"
     },
     "execution_count": 154,
     "metadata": {},
     "output_type": "execute_result"
    }
   ],
   "source": [
    "feature_importances = calc_feature_importances(model_xgb, X2)\n",
    "feature_importances"
   ],
   "metadata": {
    "collapsed": false,
    "pycharm": {
     "name": "#%%\n"
    }
   }
  },
  {
   "cell_type": "code",
   "execution_count": 136,
   "outputs": [],
   "source": [
    "feature_importances.to_excel('xgboost_features.xlsx')"
   ],
   "metadata": {
    "collapsed": false,
    "pycharm": {
     "name": "#%%\n"
    }
   }
  },
  {
   "cell_type": "code",
   "execution_count": null,
   "outputs": [],
   "source": [],
   "metadata": {
    "collapsed": false,
    "pycharm": {
     "name": "#%%\n"
    }
   }
  }
 ],
 "metadata": {
  "kernelspec": {
   "display_name": "Python 3",
   "language": "python",
   "name": "python3"
  },
  "language_info": {
   "codemirror_mode": {
    "name": "ipython",
    "version": 2
   },
   "file_extension": ".py",
   "mimetype": "text/x-python",
   "name": "python",
   "nbconvert_exporter": "python",
   "pygments_lexer": "ipython2",
   "version": "2.7.6"
  }
 },
 "nbformat": 4,
 "nbformat_minor": 0
}