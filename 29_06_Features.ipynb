{
 "cells": [
  {
   "cell_type": "code",
   "execution_count": 7,
   "outputs": [],
   "source": [
    "import pandas as pd\n",
    "from sklearn.preprocessing import LabelEncoder\n",
    "import numpy as np\n",
    "from sklearn.model_selection import train_test_split"
   ],
   "metadata": {
    "collapsed": false,
    "pycharm": {
     "name": "#%%\n"
    }
   }
  },
  {
   "cell_type": "code",
   "execution_count": 8,
   "outputs": [],
   "source": [
    "from sklearn.metrics import recall_score\n",
    "from sklearn.metrics import f1_score\n",
    "from sklearn.metrics import precision_score\n",
    "from sklearn.metrics import classification_report\n",
    "from sklearn.metrics import accuracy_score\n",
    "from sklearn.metrics import roc_auc_score\n",
    "from sklearn.metrics import average_precision_score"
   ],
   "metadata": {
    "collapsed": false,
    "pycharm": {
     "name": "#%%\n"
    }
   }
  },
  {
   "cell_type": "code",
   "execution_count": 45,
   "outputs": [
    {
     "data": {
      "text/plain": "   ID Sex Had_Covid Lung_Damage  Damage_Percent Breathing_Type  Frequency  \\\n0   1   M        No          No       -0.207005        грудное  -0.144237   \n1   1   M        No          No       -0.207005        грудное  -0.144237   \n2   1   M        No          No       -0.207005        грудное  -0.144237   \n3   1   M        No          No       -0.207005        грудное  -0.144237   \n4   1   M        No          No       -0.207005        грудное  -0.144237   \n\n   Amplitude DominatorFreq  DominatorFreqPower  ...  Sin_Period23  \\\n0   0.147009         D_2_3            0.145303  ...     -0.178712   \n1   0.147009         D_1_2            0.005050  ...     -0.183415   \n2   0.147009         D_1_2           -0.002082  ...     -0.177844   \n3   0.147009         D_1_3            2.362165  ...     -0.182131   \n4   0.147009         D_1_3            2.536107  ...     -0.191648   \n\n   Sin_Amp23/Sin_Amp13  Sin_Amp12/Sin_Amp13  Sin_Amp12/Sin_Amp23  \\\n0             0.002273            -0.001832            -0.032392   \n1             0.002486            -0.001808            -0.029759   \n2             0.002607            -0.001792            -0.030606   \n3             0.002219            -0.002349            -0.030553   \n4             0.003473            -0.001519            -0.031048   \n\n   Sin_Omega23/Sin_Omega13  Sin_Omega12/Sin_Omega13  Sin_Omega12/Sin_Omega23  \\\n0                -0.156378                -0.155622                -0.156309   \n1                -0.151883                -0.154821                -0.159698   \n2                -0.157144                -0.156177                -0.155971   \n3                -0.152623                -0.155988                -0.160060   \n4                -0.165326                -0.156451                -0.137226   \n\n   (Sin_Offset23/Sin_Offset13)^2  (Sin_Offset12/Sin_Offset13)^2  \\\n0                      -0.088206                      -0.063808   \n1                      -0.088211                      -0.063809   \n2                      -0.088215                      -0.063811   \n3                      -0.088219                      -0.063815   \n4                      -0.088204                      -0.063811   \n\n   (Sin_Offset12/Sin_Offset23)^2  \n0                      -0.059907  \n1                      -0.059906  \n2                      -0.059905  \n3                      -0.059905  \n4                      -0.059908  \n\n[5 rows x 39 columns]",
      "text/html": "<div>\n<style scoped>\n    .dataframe tbody tr th:only-of-type {\n        vertical-align: middle;\n    }\n\n    .dataframe tbody tr th {\n        vertical-align: top;\n    }\n\n    .dataframe thead th {\n        text-align: right;\n    }\n</style>\n<table border=\"1\" class=\"dataframe\">\n  <thead>\n    <tr style=\"text-align: right;\">\n      <th></th>\n      <th>ID</th>\n      <th>Sex</th>\n      <th>Had_Covid</th>\n      <th>Lung_Damage</th>\n      <th>Damage_Percent</th>\n      <th>Breathing_Type</th>\n      <th>Frequency</th>\n      <th>Amplitude</th>\n      <th>DominatorFreq</th>\n      <th>DominatorFreqPower</th>\n      <th>...</th>\n      <th>Sin_Period23</th>\n      <th>Sin_Amp23/Sin_Amp13</th>\n      <th>Sin_Amp12/Sin_Amp13</th>\n      <th>Sin_Amp12/Sin_Amp23</th>\n      <th>Sin_Omega23/Sin_Omega13</th>\n      <th>Sin_Omega12/Sin_Omega13</th>\n      <th>Sin_Omega12/Sin_Omega23</th>\n      <th>(Sin_Offset23/Sin_Offset13)^2</th>\n      <th>(Sin_Offset12/Sin_Offset13)^2</th>\n      <th>(Sin_Offset12/Sin_Offset23)^2</th>\n    </tr>\n  </thead>\n  <tbody>\n    <tr>\n      <th>0</th>\n      <td>1</td>\n      <td>M</td>\n      <td>No</td>\n      <td>No</td>\n      <td>-0.207005</td>\n      <td>грудное</td>\n      <td>-0.144237</td>\n      <td>0.147009</td>\n      <td>D_2_3</td>\n      <td>0.145303</td>\n      <td>...</td>\n      <td>-0.178712</td>\n      <td>0.002273</td>\n      <td>-0.001832</td>\n      <td>-0.032392</td>\n      <td>-0.156378</td>\n      <td>-0.155622</td>\n      <td>-0.156309</td>\n      <td>-0.088206</td>\n      <td>-0.063808</td>\n      <td>-0.059907</td>\n    </tr>\n    <tr>\n      <th>1</th>\n      <td>1</td>\n      <td>M</td>\n      <td>No</td>\n      <td>No</td>\n      <td>-0.207005</td>\n      <td>грудное</td>\n      <td>-0.144237</td>\n      <td>0.147009</td>\n      <td>D_1_2</td>\n      <td>0.005050</td>\n      <td>...</td>\n      <td>-0.183415</td>\n      <td>0.002486</td>\n      <td>-0.001808</td>\n      <td>-0.029759</td>\n      <td>-0.151883</td>\n      <td>-0.154821</td>\n      <td>-0.159698</td>\n      <td>-0.088211</td>\n      <td>-0.063809</td>\n      <td>-0.059906</td>\n    </tr>\n    <tr>\n      <th>2</th>\n      <td>1</td>\n      <td>M</td>\n      <td>No</td>\n      <td>No</td>\n      <td>-0.207005</td>\n      <td>грудное</td>\n      <td>-0.144237</td>\n      <td>0.147009</td>\n      <td>D_1_2</td>\n      <td>-0.002082</td>\n      <td>...</td>\n      <td>-0.177844</td>\n      <td>0.002607</td>\n      <td>-0.001792</td>\n      <td>-0.030606</td>\n      <td>-0.157144</td>\n      <td>-0.156177</td>\n      <td>-0.155971</td>\n      <td>-0.088215</td>\n      <td>-0.063811</td>\n      <td>-0.059905</td>\n    </tr>\n    <tr>\n      <th>3</th>\n      <td>1</td>\n      <td>M</td>\n      <td>No</td>\n      <td>No</td>\n      <td>-0.207005</td>\n      <td>грудное</td>\n      <td>-0.144237</td>\n      <td>0.147009</td>\n      <td>D_1_3</td>\n      <td>2.362165</td>\n      <td>...</td>\n      <td>-0.182131</td>\n      <td>0.002219</td>\n      <td>-0.002349</td>\n      <td>-0.030553</td>\n      <td>-0.152623</td>\n      <td>-0.155988</td>\n      <td>-0.160060</td>\n      <td>-0.088219</td>\n      <td>-0.063815</td>\n      <td>-0.059905</td>\n    </tr>\n    <tr>\n      <th>4</th>\n      <td>1</td>\n      <td>M</td>\n      <td>No</td>\n      <td>No</td>\n      <td>-0.207005</td>\n      <td>грудное</td>\n      <td>-0.144237</td>\n      <td>0.147009</td>\n      <td>D_1_3</td>\n      <td>2.536107</td>\n      <td>...</td>\n      <td>-0.191648</td>\n      <td>0.003473</td>\n      <td>-0.001519</td>\n      <td>-0.031048</td>\n      <td>-0.165326</td>\n      <td>-0.156451</td>\n      <td>-0.137226</td>\n      <td>-0.088204</td>\n      <td>-0.063811</td>\n      <td>-0.059908</td>\n    </tr>\n  </tbody>\n</table>\n<p>5 rows × 39 columns</p>\n</div>"
     },
     "execution_count": 45,
     "metadata": {},
     "output_type": "execute_result"
    }
   ],
   "source": [
    "#загрузка датасета\n",
    "df = pd.read_csv(\"breathes.csv\")\n",
    "df = df.drop(columns=['Unnamed: 0', 'Date_Of_Birth', 'Begin_Of_Covid', 'End_Of_Covid'])\n",
    "df.head()"
   ],
   "metadata": {
    "collapsed": false,
    "pycharm": {
     "name": "#%%\n"
    }
   }
  },
  {
   "cell_type": "code",
   "execution_count": 46,
   "outputs": [],
   "source": [
    "#целевой признак\n",
    "y = df['Breathing_Type']\n",
    "#категориальные переменные\n",
    "categorical_cols = ['Sex', 'Had_Covid', 'Lung_Damage', 'DominatorFreq']\n",
    "X_categorical = df[categorical_cols]\n",
    "#численные переменные\n",
    "non_numerical_cols = categorical_cols + ['ID', 'Breathing_Type']\n",
    "X_numeric = df.drop(columns=non_numerical_cols)"
   ],
   "metadata": {
    "collapsed": false,
    "pycharm": {
     "name": "#%%\n"
    }
   }
  },
  {
   "cell_type": "code",
   "execution_count": 47,
   "outputs": [],
   "source": [
    "X_numeric_calc = X_numeric\n",
    "X_numeric['Min'] = np.min(X_numeric_calc, axis=1)\n",
    "X_numeric['Max'] = np.max(X_numeric_calc, axis=1)\n",
    "X_numeric['Std'] = np.std(X_numeric_calc, axis=1)\n",
    "X_numeric['Median'] = np.median(X_numeric_calc, axis=1)\n",
    "X_numeric['Mean'] = np.mean(X_numeric_calc, axis=1)\n",
    "X_numeric['Var'] = np.var(X_numeric_calc, axis=1)\n",
    "X_numeric['Sum'] = np.sum(X_numeric_calc, axis=1)"
   ],
   "metadata": {
    "collapsed": false,
    "pycharm": {
     "name": "#%%\n"
    }
   }
  },
  {
   "cell_type": "code",
   "execution_count": 48,
   "outputs": [
    {
     "name": "stderr",
     "output_type": "stream",
     "text": [
      "C:\\Users\\admin\\AppData\\Local\\Temp\\ipykernel_8628\\1127557591.py:4: SettingWithCopyWarning: \n",
      "A value is trying to be set on a copy of a slice from a DataFrame.\n",
      "Try using .loc[row_indexer,col_indexer] = value instead\n",
      "\n",
      "See the caveats in the documentation: https://pandas.pydata.org/pandas-docs/stable/user_guide/indexing.html#returning-a-view-versus-a-copy\n",
      "  X_categorical[col]= le.fit_transform(X_categorical[col])\n",
      "C:\\Users\\admin\\AppData\\Local\\Temp\\ipykernel_8628\\1127557591.py:4: SettingWithCopyWarning: \n",
      "A value is trying to be set on a copy of a slice from a DataFrame.\n",
      "Try using .loc[row_indexer,col_indexer] = value instead\n",
      "\n",
      "See the caveats in the documentation: https://pandas.pydata.org/pandas-docs/stable/user_guide/indexing.html#returning-a-view-versus-a-copy\n",
      "  X_categorical[col]= le.fit_transform(X_categorical[col])\n",
      "C:\\Users\\admin\\AppData\\Local\\Temp\\ipykernel_8628\\1127557591.py:4: SettingWithCopyWarning: \n",
      "A value is trying to be set on a copy of a slice from a DataFrame.\n",
      "Try using .loc[row_indexer,col_indexer] = value instead\n",
      "\n",
      "See the caveats in the documentation: https://pandas.pydata.org/pandas-docs/stable/user_guide/indexing.html#returning-a-view-versus-a-copy\n",
      "  X_categorical[col]= le.fit_transform(X_categorical[col])\n",
      "C:\\Users\\admin\\AppData\\Local\\Temp\\ipykernel_8628\\1127557591.py:4: SettingWithCopyWarning: \n",
      "A value is trying to be set on a copy of a slice from a DataFrame.\n",
      "Try using .loc[row_indexer,col_indexer] = value instead\n",
      "\n",
      "See the caveats in the documentation: https://pandas.pydata.org/pandas-docs/stable/user_guide/indexing.html#returning-a-view-versus-a-copy\n",
      "  X_categorical[col]= le.fit_transform(X_categorical[col])\n"
     ]
    }
   ],
   "source": [
    "#трансформация категориальных переменных\n",
    "le = LabelEncoder()\n",
    "for col in X_categorical.columns:\n",
    "    X_categorical[col]= le.fit_transform(X_categorical[col])\n",
    "le = LabelEncoder()\n",
    "y = le.fit_transform(y)"
   ],
   "metadata": {
    "collapsed": false,
    "pycharm": {
     "name": "#%%\n"
    }
   }
  },
  {
   "cell_type": "code",
   "execution_count": 49,
   "outputs": [],
   "source": [
    "#все входные признаки\n",
    "X = np.concatenate((X_numeric, X_categorical), axis=1)\n",
    "X_df = pd.concat([X_numeric, X_categorical], axis=1)"
   ],
   "metadata": {
    "collapsed": false,
    "pycharm": {
     "name": "#%%\n"
    }
   }
  },
  {
   "cell_type": "code",
   "execution_count": 50,
   "outputs": [],
   "source": [
    "#разбиение на выборки\n",
    "X_train_numeric, X_test_numeric, X_train_categorical, X_test_categorical, y_train, y_test = train_test_split(X_numeric, X_categorical, y, test_size=0.2, random_state=42)\n",
    "#обучающая и тестовые выборки\n",
    "X_train = np.concatenate((X_train_numeric, X_train_categorical), axis=1)\n",
    "X_test = np.concatenate((X_test_numeric, X_test_categorical), axis=1)"
   ],
   "metadata": {
    "collapsed": false,
    "pycharm": {
     "name": "#%%\n"
    }
   }
  },
  {
   "cell_type": "code",
   "execution_count": 51,
   "outputs": [],
   "source": [
    "#расчет метрик по тесовой выборке\n",
    "def calculate_metrics(y_test, y_pred):\n",
    "    accuracy = accuracy_score(y_test, y_pred)\n",
    "    recall = recall_score(y_test, y_pred, average='weighted')\n",
    "    precision = precision_score(y_test, y_pred, average='weighted')\n",
    "    f1 = f1_score(y_test, y_pred, average='weighted')\n",
    "    print(\"Accuracy: \", accuracy)\n",
    "    print(\"Recall: \", recall)\n",
    "    print(\"Precision: \", precision)\n",
    "    print(\"F1-score: \", f1)\n",
    "    report = classification_report(y_test, y_pred)\n",
    "    print(report)"
   ],
   "metadata": {
    "collapsed": false,
    "pycharm": {
     "name": "#%%\n"
    }
   }
  },
  {
   "cell_type": "code",
   "execution_count": 52,
   "outputs": [],
   "source": [
    "#расчет знамости признаков\n",
    "def calc_feature_importances(model, X_df):\n",
    "    importance = model.feature_importances_\n",
    "    feature_importance = pd.DataFrame({'Feature': X_df.columns, 'Importance': importance})\n",
    "    feature_importance = feature_importance.sort_values('Importance', ascending=False)\n",
    "    return feature_importance"
   ],
   "metadata": {
    "collapsed": false,
    "pycharm": {
     "name": "#%%\n"
    }
   }
  },
  {
   "cell_type": "markdown",
   "source": [
    "<h3>Testing</h3>"
   ],
   "metadata": {
    "collapsed": false,
    "pycharm": {
     "name": "#%% md\n"
    }
   }
  },
  {
   "cell_type": "code",
   "execution_count": 53,
   "outputs": [],
   "source": [
    "import xgboost as xgb"
   ],
   "metadata": {
    "collapsed": false,
    "pycharm": {
     "name": "#%%\n"
    }
   }
  },
  {
   "cell_type": "code",
   "execution_count": 54,
   "outputs": [],
   "source": [
    "model_xgb = xgb.XGBClassifier()"
   ],
   "metadata": {
    "collapsed": false,
    "pycharm": {
     "name": "#%%\n"
    }
   }
  },
  {
   "cell_type": "code",
   "execution_count": 55,
   "outputs": [],
   "source": [
    "res = model_xgb.fit(X_train, y_train)"
   ],
   "metadata": {
    "collapsed": false,
    "pycharm": {
     "name": "#%%\n"
    }
   }
  },
  {
   "cell_type": "code",
   "execution_count": 56,
   "outputs": [],
   "source": [
    "y_pred = model_xgb.predict(X_test)"
   ],
   "metadata": {
    "collapsed": false,
    "pycharm": {
     "name": "#%%\n"
    }
   }
  },
  {
   "cell_type": "code",
   "execution_count": 57,
   "outputs": [
    {
     "name": "stdout",
     "output_type": "stream",
     "text": [
      "Accuracy:  0.8404255319148937\n",
      "Recall:  0.8404255319148937\n",
      "Precision:  0.8410303520607064\n",
      "F1-score:  0.8399090396919352\n",
      "              precision    recall  f1-score   support\n",
      "\n",
      "           0       0.85      0.78      0.81        95\n",
      "           1       0.82      0.87      0.84        77\n",
      "           2       0.85      0.87      0.86       110\n",
      "\n",
      "    accuracy                           0.84       282\n",
      "   macro avg       0.84      0.84      0.84       282\n",
      "weighted avg       0.84      0.84      0.84       282\n",
      "\n"
     ]
    }
   ],
   "source": [
    "calculate_metrics(y_test, y_pred)"
   ],
   "metadata": {
    "collapsed": false,
    "pycharm": {
     "name": "#%%\n"
    }
   }
  },
  {
   "cell_type": "code",
   "execution_count": 58,
   "outputs": [
    {
     "data": {
      "text/plain": "                          Feature  Importance\n26            Sin_Amp12/Sin_Amp23    0.062389\n23                   Sin_Period23    0.050756\n41                      Had_Covid    0.042089\n0                  Damage_Percent    0.035972\n2                       Amplitude    0.033972\n1                       Frequency    0.033959\n19                     Sin_Freq23    0.033805\n12                      Sin_Amp13    0.032527\n29        Sin_Omega12/Sin_Omega23    0.031487\n6                       Sin_Amp12    0.028890\n36                         Median    0.028069\n7                      Sin_Freq12    0.027864\n32  (Sin_Offset12/Sin_Offset23)^2    0.027090\n35                            Std    0.025763\n5                       D_2_3_Avg    0.025622\n11                   Sin_Period12    0.025198\n16                   Sin_Offset13    0.024633\n28        Sin_Omega12/Sin_Omega13    0.024597\n25            Sin_Amp12/Sin_Amp13    0.023539\n22                   Sin_Offset23    0.023358\n31  (Sin_Offset12/Sin_Offset13)^2    0.022736\n30  (Sin_Offset23/Sin_Offset13)^2    0.022332\n33                            Min    0.022325\n4                       D_1_2_Avg    0.021450\n8                     Sin_Phase12    0.021312\n10                   Sin_Offset12    0.020927\n20                    Sin_Phase23    0.020678\n40                            Sex    0.020203\n24            Sin_Amp23/Sin_Amp13    0.019777\n18                      Sin_Amp23    0.019069\n34                            Max    0.018612\n13                     Sin_Freq13    0.018580\n14                    Sin_Phase13    0.018298\n27        Sin_Omega23/Sin_Omega13    0.017371\n37                           Mean    0.015861\n43                  DominatorFreq    0.015429\n3              DominatorFreqPower    0.012272\n17                   Sin_Period13    0.011089\n38                            Var    0.010556\n39                            Sum    0.009544\n21                    Sin_Omega23    0.000000\n15                    Sin_Omega13    0.000000\n42                    Lung_Damage    0.000000\n9                     Sin_Omega12    0.000000",
      "text/html": "<div>\n<style scoped>\n    .dataframe tbody tr th:only-of-type {\n        vertical-align: middle;\n    }\n\n    .dataframe tbody tr th {\n        vertical-align: top;\n    }\n\n    .dataframe thead th {\n        text-align: right;\n    }\n</style>\n<table border=\"1\" class=\"dataframe\">\n  <thead>\n    <tr style=\"text-align: right;\">\n      <th></th>\n      <th>Feature</th>\n      <th>Importance</th>\n    </tr>\n  </thead>\n  <tbody>\n    <tr>\n      <th>26</th>\n      <td>Sin_Amp12/Sin_Amp23</td>\n      <td>0.062389</td>\n    </tr>\n    <tr>\n      <th>23</th>\n      <td>Sin_Period23</td>\n      <td>0.050756</td>\n    </tr>\n    <tr>\n      <th>41</th>\n      <td>Had_Covid</td>\n      <td>0.042089</td>\n    </tr>\n    <tr>\n      <th>0</th>\n      <td>Damage_Percent</td>\n      <td>0.035972</td>\n    </tr>\n    <tr>\n      <th>2</th>\n      <td>Amplitude</td>\n      <td>0.033972</td>\n    </tr>\n    <tr>\n      <th>1</th>\n      <td>Frequency</td>\n      <td>0.033959</td>\n    </tr>\n    <tr>\n      <th>19</th>\n      <td>Sin_Freq23</td>\n      <td>0.033805</td>\n    </tr>\n    <tr>\n      <th>12</th>\n      <td>Sin_Amp13</td>\n      <td>0.032527</td>\n    </tr>\n    <tr>\n      <th>29</th>\n      <td>Sin_Omega12/Sin_Omega23</td>\n      <td>0.031487</td>\n    </tr>\n    <tr>\n      <th>6</th>\n      <td>Sin_Amp12</td>\n      <td>0.028890</td>\n    </tr>\n    <tr>\n      <th>36</th>\n      <td>Median</td>\n      <td>0.028069</td>\n    </tr>\n    <tr>\n      <th>7</th>\n      <td>Sin_Freq12</td>\n      <td>0.027864</td>\n    </tr>\n    <tr>\n      <th>32</th>\n      <td>(Sin_Offset12/Sin_Offset23)^2</td>\n      <td>0.027090</td>\n    </tr>\n    <tr>\n      <th>35</th>\n      <td>Std</td>\n      <td>0.025763</td>\n    </tr>\n    <tr>\n      <th>5</th>\n      <td>D_2_3_Avg</td>\n      <td>0.025622</td>\n    </tr>\n    <tr>\n      <th>11</th>\n      <td>Sin_Period12</td>\n      <td>0.025198</td>\n    </tr>\n    <tr>\n      <th>16</th>\n      <td>Sin_Offset13</td>\n      <td>0.024633</td>\n    </tr>\n    <tr>\n      <th>28</th>\n      <td>Sin_Omega12/Sin_Omega13</td>\n      <td>0.024597</td>\n    </tr>\n    <tr>\n      <th>25</th>\n      <td>Sin_Amp12/Sin_Amp13</td>\n      <td>0.023539</td>\n    </tr>\n    <tr>\n      <th>22</th>\n      <td>Sin_Offset23</td>\n      <td>0.023358</td>\n    </tr>\n    <tr>\n      <th>31</th>\n      <td>(Sin_Offset12/Sin_Offset13)^2</td>\n      <td>0.022736</td>\n    </tr>\n    <tr>\n      <th>30</th>\n      <td>(Sin_Offset23/Sin_Offset13)^2</td>\n      <td>0.022332</td>\n    </tr>\n    <tr>\n      <th>33</th>\n      <td>Min</td>\n      <td>0.022325</td>\n    </tr>\n    <tr>\n      <th>4</th>\n      <td>D_1_2_Avg</td>\n      <td>0.021450</td>\n    </tr>\n    <tr>\n      <th>8</th>\n      <td>Sin_Phase12</td>\n      <td>0.021312</td>\n    </tr>\n    <tr>\n      <th>10</th>\n      <td>Sin_Offset12</td>\n      <td>0.020927</td>\n    </tr>\n    <tr>\n      <th>20</th>\n      <td>Sin_Phase23</td>\n      <td>0.020678</td>\n    </tr>\n    <tr>\n      <th>40</th>\n      <td>Sex</td>\n      <td>0.020203</td>\n    </tr>\n    <tr>\n      <th>24</th>\n      <td>Sin_Amp23/Sin_Amp13</td>\n      <td>0.019777</td>\n    </tr>\n    <tr>\n      <th>18</th>\n      <td>Sin_Amp23</td>\n      <td>0.019069</td>\n    </tr>\n    <tr>\n      <th>34</th>\n      <td>Max</td>\n      <td>0.018612</td>\n    </tr>\n    <tr>\n      <th>13</th>\n      <td>Sin_Freq13</td>\n      <td>0.018580</td>\n    </tr>\n    <tr>\n      <th>14</th>\n      <td>Sin_Phase13</td>\n      <td>0.018298</td>\n    </tr>\n    <tr>\n      <th>27</th>\n      <td>Sin_Omega23/Sin_Omega13</td>\n      <td>0.017371</td>\n    </tr>\n    <tr>\n      <th>37</th>\n      <td>Mean</td>\n      <td>0.015861</td>\n    </tr>\n    <tr>\n      <th>43</th>\n      <td>DominatorFreq</td>\n      <td>0.015429</td>\n    </tr>\n    <tr>\n      <th>3</th>\n      <td>DominatorFreqPower</td>\n      <td>0.012272</td>\n    </tr>\n    <tr>\n      <th>17</th>\n      <td>Sin_Period13</td>\n      <td>0.011089</td>\n    </tr>\n    <tr>\n      <th>38</th>\n      <td>Var</td>\n      <td>0.010556</td>\n    </tr>\n    <tr>\n      <th>39</th>\n      <td>Sum</td>\n      <td>0.009544</td>\n    </tr>\n    <tr>\n      <th>21</th>\n      <td>Sin_Omega23</td>\n      <td>0.000000</td>\n    </tr>\n    <tr>\n      <th>15</th>\n      <td>Sin_Omega13</td>\n      <td>0.000000</td>\n    </tr>\n    <tr>\n      <th>42</th>\n      <td>Lung_Damage</td>\n      <td>0.000000</td>\n    </tr>\n    <tr>\n      <th>9</th>\n      <td>Sin_Omega12</td>\n      <td>0.000000</td>\n    </tr>\n  </tbody>\n</table>\n</div>"
     },
     "execution_count": 58,
     "metadata": {},
     "output_type": "execute_result"
    }
   ],
   "source": [
    "feature_importances = calc_feature_importances(model_xgb, X_df)\n",
    "feature_importances"
   ],
   "metadata": {
    "collapsed": false,
    "pycharm": {
     "name": "#%%\n"
    }
   }
  },
  {
   "cell_type": "markdown",
   "source": [],
   "metadata": {
    "collapsed": false,
    "pycharm": {
     "name": "#%% md\n"
    }
   }
  }
 ],
 "metadata": {
  "kernelspec": {
   "display_name": "Python 3",
   "language": "python",
   "name": "python3"
  },
  "language_info": {
   "codemirror_mode": {
    "name": "ipython",
    "version": 2
   },
   "file_extension": ".py",
   "mimetype": "text/x-python",
   "name": "python",
   "nbconvert_exporter": "python",
   "pygments_lexer": "ipython2",
   "version": "2.7.6"
  }
 },
 "nbformat": 4,
 "nbformat_minor": 0
}